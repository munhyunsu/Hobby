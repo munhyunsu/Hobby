{
 "cells": [
  {
   "cell_type": "markdown",
   "metadata": {},
   "source": [
    "## Train GPT on addition\n",
    "\n",
    "Train a GPT model on a dedicated addition dataset to see if a Transformer can learn to add."
   ]
  },
  {
   "cell_type": "code",
   "execution_count": 1,
   "metadata": {},
   "outputs": [],
   "source": [
    "# set up logging\n",
    "import logging\n",
    "logging.basicConfig(\n",
    "        format=\"%(asctime)s - %(levelname)s - %(name)s -   %(message)s\",\n",
    "        datefmt=\"%m/%d/%Y %H:%M:%S\",\n",
    "        level=logging.INFO,\n",
    ")"
   ]
  },
  {
   "cell_type": "code",
   "execution_count": 2,
   "metadata": {},
   "outputs": [],
   "source": [
    "# make deterministic\n",
    "from mingpt.utils import set_seed\n",
    "set_seed(42)"
   ]
  },
  {
   "cell_type": "code",
   "execution_count": 3,
   "metadata": {},
   "outputs": [],
   "source": [
    "import numpy as np\n",
    "import torch\n",
    "import torch.nn as nn\n",
    "from torch.nn import functional as F"
   ]
  },
  {
   "cell_type": "code",
   "execution_count": 4,
   "metadata": {},
   "outputs": [],
   "source": [
    "from torch.utils.data import Dataset\n",
    "\n",
    "class AdditionDataset(Dataset):\n",
    "    \"\"\"\n",
    "    Returns addition problems of up to some number of digits in the inputs. Recall\n",
    "    that all GPT cares about are sequences of integers, and completing them according to\n",
    "    patterns in the data. Therefore, we have to somehow encode addition problems\n",
    "    as a sequence of integers.\n",
    "    \n",
    "    The sum of two n-digit numbers gives a third up to (n+1)-digit number. So our\n",
    "    encoding will simply be the n-digit first number, n-digit second number, \n",
    "    and (n+1)-digit result, all simply concatenated together. Because each addition\n",
    "    problem is so structured, there is no need to bother the model with encoding\n",
    "    +, =, or other tokens. Each possible sequence has the same length, and simply\n",
    "    contains the raw digits of the addition problem.\n",
    "    \n",
    "    As a few examples, the 2-digit problems:\n",
    "    - 85 + 50 = 135 becomes the sequence [8, 5, 5, 0, 1, 3, 5]\n",
    "    - 6 + 39 = 45 becomes the sequence [0, 6, 3, 9, 0, 4, 5]\n",
    "    etc.\n",
    "    \n",
    "    We will also only train GPT on the final (n+1)-digits because the first\n",
    "    two n-digits are always assumed to be given. So when we give GPT an exam later,\n",
    "    we will e.g. feed it the sequence [0, 6, 3, 9], which encodes that we'd like\n",
    "    to add 6 + 39, and hope that the model completes the integer sequence with [0, 4, 5]\n",
    "    in 3 sequential steps.\n",
    "    \n",
    "    fun exercise: does it help if the result is asked to be produced in reverse order?\n",
    "    \"\"\"\n",
    "\n",
    "    def __init__(self, ndigit, split):\n",
    "        self.split = split # train/test\n",
    "        self.ndigit = ndigit\n",
    "        self.vocab_size = 10 # 10 possible digits 0..9\n",
    "        # +1 due to potential carry overflow, but then -1 because very last digit doesn't plug back\n",
    "        self.block_size = ndigit + ndigit + ndigit + 1 - 1\n",
    "        \n",
    "        # split up all addition problems into either training data or test data\n",
    "        num = (10**self.ndigit)**2 # total number of possible combinations\n",
    "        r = np.random.RandomState(1337) # make deterministic\n",
    "        perm = r.permutation(num)\n",
    "        num_test = min(int(num*0.2), 1000) # 20% of the whole dataset, or only up to 1000\n",
    "        self.ixes = perm[:num_test] if split == 'test' else perm[num_test:]\n",
    "\n",
    "    def __len__(self):\n",
    "        return self.ixes.size\n",
    "\n",
    "    def __getitem__(self, idx):\n",
    "        # given a problem index idx, first recover the associated a + b\n",
    "        idx = self.ixes[idx]\n",
    "        nd = 10**self.ndigit\n",
    "        a = idx // nd\n",
    "        b = idx %  nd\n",
    "        c = a + b\n",
    "        render = f'%0{self.ndigit}d%0{self.ndigit}d%0{self.ndigit+1}d' % (a,b,c) # e.g. 03+25=28 becomes \"0325028\" \n",
    "        dix = [int(s) for s in render] # convert each character to its token index\n",
    "        # x will be input to GPT and y will be the associated expected outputs\n",
    "        x = torch.tensor(dix[:-1], dtype=torch.long)\n",
    "        y = torch.tensor(dix[1:], dtype=torch.long) # predict the next token in the sequence\n",
    "        y[:self.ndigit*2-1] = -100 # we will only train in the output locations. -100 will mask loss to zero\n",
    "        return x, y\n"
   ]
  },
  {
   "cell_type": "code",
   "execution_count": 5,
   "metadata": {},
   "outputs": [],
   "source": [
    "# create a dataset for e.g. 2-digit addition\n",
    "ndigit = 2\n",
    "train_dataset = AdditionDataset(ndigit=ndigit, split='train')\n",
    "test_dataset = AdditionDataset(ndigit=ndigit, split='test')"
   ]
  },
  {
   "cell_type": "code",
   "execution_count": 6,
   "metadata": {},
   "outputs": [
    {
     "data": {
      "text/plain": [
       "(tensor([4, 7, 1, 7, 0, 6]), tensor([-100, -100, -100,    0,    6,    4]))"
      ]
     },
     "execution_count": 6,
     "metadata": {},
     "output_type": "execute_result"
    }
   ],
   "source": [
    "train_dataset[0] # sample a training instance just to see what one raw example looks like"
   ]
  },
  {
   "cell_type": "code",
   "execution_count": 7,
   "metadata": {},
   "outputs": [
    {
     "name": "stderr",
     "output_type": "stream",
     "text": [
      "02/16/2021 10:32:38 - INFO - mingpt.model -   number of parameters: 4.001280e+05\n"
     ]
    }
   ],
   "source": [
    "from mingpt.model import GPT, GPTConfig, GPT1Config\n",
    "\n",
    "# initialize a baby GPT model\n",
    "mconf = GPTConfig(train_dataset.vocab_size, train_dataset.block_size, \n",
    "                  n_layer=2, n_head=4, n_embd=128)\n",
    "model = GPT(mconf)"
   ]
  },
  {
   "cell_type": "code",
   "execution_count": 8,
   "metadata": {},
   "outputs": [
    {
     "name": "stderr",
     "output_type": "stream",
     "text": [
      "epoch 1 iter 17: train loss 1.74917. lr 5.994512e-04: 100%|██████████| 18/18 [00:01<00:00, 11.51it/s]\n",
      "02/16/2021 10:32:40 - INFO - mingpt.trainer -   test loss: 1.694017\n",
      "epoch 2 iter 17: train loss 1.55061. lr 5.977197e-04: 100%|██████████| 18/18 [00:01<00:00,  9.27it/s]\n",
      "02/16/2021 10:32:43 - INFO - mingpt.trainer -   test loss: 1.487833\n",
      "epoch 3 iter 17: train loss 1.34686. lr 5.948114e-04: 100%|██████████| 18/18 [00:01<00:00, 11.54it/s]\n",
      "02/16/2021 10:32:44 - INFO - mingpt.trainer -   test loss: 1.275224\n",
      "epoch 4 iter 17: train loss 1.21897. lr 5.907379e-04: 100%|██████████| 18/18 [00:01<00:00, 11.02it/s]\n",
      "02/16/2021 10:32:46 - INFO - mingpt.trainer -   test loss: 1.184610\n",
      "epoch 5 iter 17: train loss 1.17778. lr 5.855153e-04: 100%|██████████| 18/18 [00:01<00:00,  9.97it/s]\n",
      "02/16/2021 10:32:48 - INFO - mingpt.trainer -   test loss: 1.104097\n",
      "epoch 6 iter 17: train loss 1.12381. lr 5.791641e-04: 100%|██████████| 18/18 [00:01<00:00,  9.06it/s]\n",
      "02/16/2021 10:32:50 - INFO - mingpt.trainer -   test loss: 1.057804\n",
      "epoch 7 iter 17: train loss 1.05904. lr 5.717095e-04: 100%|██████████| 18/18 [00:01<00:00, 10.56it/s]\n",
      "02/16/2021 10:32:52 - INFO - mingpt.trainer -   test loss: 1.027569\n",
      "epoch 8 iter 17: train loss 1.04027. lr 5.631810e-04: 100%|██████████| 18/18 [00:01<00:00, 10.14it/s]\n",
      "02/16/2021 10:32:54 - INFO - mingpt.trainer -   test loss: 0.981819\n",
      "epoch 9 iter 17: train loss 0.69691. lr 5.536122e-04: 100%|██████████| 18/18 [00:01<00:00, 10.70it/s]\n",
      "02/16/2021 10:32:56 - INFO - mingpt.trainer -   test loss: 0.542796\n",
      "epoch 10 iter 17: train loss 0.55920. lr 5.430411e-04: 100%|██████████| 18/18 [00:01<00:00, 10.64it/s]\n",
      "02/16/2021 10:32:58 - INFO - mingpt.trainer -   test loss: 0.393381\n",
      "epoch 11 iter 17: train loss 0.50688. lr 5.315093e-04: 100%|██████████| 18/18 [00:01<00:00, 10.04it/s]\n",
      "02/16/2021 10:33:00 - INFO - mingpt.trainer -   test loss: 0.316610\n",
      "epoch 12 iter 17: train loss 0.40791. lr 5.190624e-04: 100%|██████████| 18/18 [00:01<00:00,  9.79it/s]\n",
      "02/16/2021 10:33:02 - INFO - mingpt.trainer -   test loss: 0.258538\n",
      "epoch 13 iter 17: train loss 0.41358. lr 5.057497e-04: 100%|██████████| 18/18 [00:01<00:00, 11.88it/s]\n",
      "02/16/2021 10:33:03 - INFO - mingpt.trainer -   test loss: 0.217249\n",
      "epoch 14 iter 17: train loss 0.33631. lr 4.916238e-04: 100%|██████████| 18/18 [00:01<00:00, 11.17it/s]\n",
      "02/16/2021 10:33:05 - INFO - mingpt.trainer -   test loss: 0.169504\n",
      "epoch 15 iter 17: train loss 0.25574. lr 4.767405e-04: 100%|██████████| 18/18 [00:01<00:00, 10.13it/s]\n",
      "02/16/2021 10:33:07 - INFO - mingpt.trainer -   test loss: 0.143782\n",
      "epoch 16 iter 17: train loss 0.27208. lr 4.611586e-04: 100%|██████████| 18/18 [00:02<00:00,  8.06it/s]\n",
      "02/16/2021 10:33:09 - INFO - mingpt.trainer -   test loss: 0.099375\n",
      "epoch 17 iter 17: train loss 0.23742. lr 4.449397e-04: 100%|██████████| 18/18 [00:02<00:00,  8.86it/s]\n",
      "02/16/2021 10:33:12 - INFO - mingpt.trainer -   test loss: 0.072847\n",
      "epoch 18 iter 17: train loss 0.19924. lr 4.281479e-04: 100%|██████████| 18/18 [00:01<00:00,  9.05it/s]\n",
      "02/16/2021 10:33:14 - INFO - mingpt.trainer -   test loss: 0.063385\n",
      "epoch 19 iter 17: train loss 0.17608. lr 4.108497e-04: 100%|██████████| 18/18 [00:02<00:00,  8.57it/s]\n",
      "02/16/2021 10:33:16 - INFO - mingpt.trainer -   test loss: 0.054148\n",
      "epoch 20 iter 17: train loss 0.16148. lr 3.931133e-04: 100%|██████████| 18/18 [00:01<00:00,  9.26it/s]\n",
      "02/16/2021 10:33:18 - INFO - mingpt.trainer -   test loss: 0.038903\n",
      "epoch 21 iter 17: train loss 0.17037. lr 3.750088e-04: 100%|██████████| 18/18 [00:02<00:00,  8.12it/s]\n",
      "02/16/2021 10:33:21 - INFO - mingpt.trainer -   test loss: 0.033435\n",
      "epoch 22 iter 17: train loss 0.12830. lr 3.566079e-04: 100%|██████████| 18/18 [00:01<00:00,  9.30it/s]\n",
      "02/16/2021 10:33:23 - INFO - mingpt.trainer -   test loss: 0.032418\n",
      "epoch 23 iter 17: train loss 0.13795. lr 3.379832e-04: 100%|██████████| 18/18 [00:02<00:00,  8.72it/s]\n",
      "02/16/2021 10:33:25 - INFO - mingpt.trainer -   test loss: 0.026087\n",
      "epoch 24 iter 17: train loss 0.13338. lr 3.192084e-04: 100%|██████████| 18/18 [00:01<00:00,  9.74it/s]\n",
      "02/16/2021 10:33:27 - INFO - mingpt.trainer -   test loss: 0.021406\n",
      "epoch 25 iter 17: train loss 0.13858. lr 3.003577e-04: 100%|██████████| 18/18 [00:01<00:00,  9.10it/s]\n",
      "02/16/2021 10:33:29 - INFO - mingpt.trainer -   test loss: 0.016993\n",
      "epoch 26 iter 17: train loss 0.10047. lr 2.815056e-04: 100%|██████████| 18/18 [00:02<00:00,  8.91it/s]\n",
      "02/16/2021 10:33:31 - INFO - mingpt.trainer -   test loss: 0.015504\n",
      "epoch 27 iter 17: train loss 0.09325. lr 2.627266e-04: 100%|██████████| 18/18 [00:02<00:00,  8.79it/s]\n",
      "02/16/2021 10:33:33 - INFO - mingpt.trainer -   test loss: 0.013461\n",
      "epoch 28 iter 17: train loss 0.09609. lr 2.440948e-04: 100%|██████████| 18/18 [00:01<00:00,  9.09it/s]\n",
      "02/16/2021 10:33:36 - INFO - mingpt.trainer -   test loss: 0.012939\n",
      "epoch 29 iter 17: train loss 0.10103. lr 2.256841e-04: 100%|██████████| 18/18 [00:01<00:00,  9.35it/s]\n",
      "02/16/2021 10:33:38 - INFO - mingpt.trainer -   test loss: 0.010740\n",
      "epoch 30 iter 17: train loss 0.09106. lr 2.075671e-04: 100%|██████████| 18/18 [00:01<00:00,  9.07it/s]\n",
      "02/16/2021 10:33:40 - INFO - mingpt.trainer -   test loss: 0.010483\n",
      "epoch 31 iter 17: train loss 0.09517. lr 1.898155e-04: 100%|██████████| 18/18 [00:01<00:00,  9.49it/s]\n",
      "02/16/2021 10:33:42 - INFO - mingpt.trainer -   test loss: 0.009621\n",
      "epoch 32 iter 17: train loss 0.08138. lr 1.724993e-04: 100%|██████████| 18/18 [00:01<00:00,  9.13it/s]\n",
      "02/16/2021 10:33:44 - INFO - mingpt.trainer -   test loss: 0.008365\n",
      "epoch 33 iter 17: train loss 0.09646. lr 1.556871e-04: 100%|██████████| 18/18 [00:01<00:00,  9.28it/s]\n",
      "02/16/2021 10:33:46 - INFO - mingpt.trainer -   test loss: 0.007601\n",
      "epoch 34 iter 17: train loss 0.08447. lr 1.394453e-04: 100%|██████████| 18/18 [00:02<00:00,  8.79it/s]\n",
      "02/16/2021 10:33:49 - INFO - mingpt.trainer -   test loss: 0.005830\n",
      "epoch 35 iter 17: train loss 0.06794. lr 1.238381e-04: 100%|██████████| 18/18 [00:02<00:00,  7.33it/s]\n",
      "02/16/2021 10:33:51 - INFO - mingpt.trainer -   test loss: 0.006002\n",
      "epoch 36 iter 17: train loss 0.07079. lr 1.089272e-04: 100%|██████████| 18/18 [00:01<00:00,  9.07it/s]\n",
      "02/16/2021 10:33:53 - INFO - mingpt.trainer -   test loss: 0.005871\n",
      "epoch 37 iter 17: train loss 0.07064. lr 9.477150e-05: 100%|██████████| 18/18 [00:02<00:00,  8.75it/s]\n",
      "02/16/2021 10:33:56 - INFO - mingpt.trainer -   test loss: 0.006269\n",
      "epoch 38 iter 17: train loss 0.06910. lr 8.142699e-05: 100%|██████████| 18/18 [00:01<00:00,  9.27it/s]\n",
      "02/16/2021 10:33:58 - INFO - mingpt.trainer -   test loss: 0.004860\n",
      "epoch 39 iter 17: train loss 0.06131. lr 6.894639e-05: 100%|██████████| 18/18 [00:01<00:00,  9.33it/s]\n",
      "02/16/2021 10:34:00 - INFO - mingpt.trainer -   test loss: 0.004718\n",
      "epoch 40 iter 17: train loss 0.05032. lr 6.000000e-05: 100%|██████████| 18/18 [00:02<00:00,  8.52it/s]\n",
      "02/16/2021 10:34:02 - INFO - mingpt.trainer -   test loss: 0.004689\n",
      "epoch 41 iter 17: train loss 0.06120. lr 6.000000e-05: 100%|██████████| 18/18 [00:02<00:00,  8.48it/s]\n",
      "02/16/2021 10:34:04 - INFO - mingpt.trainer -   test loss: 0.004528\n",
      "epoch 42 iter 17: train loss 0.06422. lr 6.000000e-05: 100%|██████████| 18/18 [00:01<00:00,  9.02it/s]\n",
      "02/16/2021 10:34:07 - INFO - mingpt.trainer -   test loss: 0.004054\n",
      "epoch 43 iter 17: train loss 0.06597. lr 6.000000e-05: 100%|██████████| 18/18 [00:02<00:00,  8.95it/s]\n",
      "02/16/2021 10:34:09 - INFO - mingpt.trainer -   test loss: 0.004298\n",
      "epoch 44 iter 17: train loss 0.05267. lr 6.000000e-05: 100%|██████████| 18/18 [00:02<00:00,  8.30it/s]\n",
      "02/16/2021 10:34:11 - INFO - mingpt.trainer -   test loss: 0.004145\n",
      "epoch 45 iter 17: train loss 0.06387. lr 6.000000e-05: 100%|██████████| 18/18 [00:02<00:00,  8.25it/s]\n",
      "02/16/2021 10:34:14 - INFO - mingpt.trainer -   test loss: 0.003830\n",
      "epoch 46 iter 17: train loss 0.05155. lr 6.000000e-05: 100%|██████████| 18/18 [00:02<00:00,  7.13it/s]\n",
      "02/16/2021 10:34:16 - INFO - mingpt.trainer -   test loss: 0.003821\n",
      "epoch 47 iter 17: train loss 0.05738. lr 6.000000e-05: 100%|██████████| 18/18 [00:02<00:00,  8.26it/s]\n",
      "02/16/2021 10:34:19 - INFO - mingpt.trainer -   test loss: 0.003503\n",
      "epoch 48 iter 17: train loss 0.06550. lr 6.000000e-05: 100%|██████████| 18/18 [00:02<00:00,  7.45it/s]\n",
      "02/16/2021 10:34:21 - INFO - mingpt.trainer -   test loss: 0.003676\n",
      "epoch 49 iter 17: train loss 0.04527. lr 6.000000e-05: 100%|██████████| 18/18 [00:02<00:00,  7.63it/s]\n",
      "02/16/2021 10:34:24 - INFO - mingpt.trainer -   test loss: 0.003506\n",
      "epoch 50 iter 17: train loss 0.05656. lr 6.000000e-05: 100%|██████████| 18/18 [00:02<00:00,  7.77it/s]\n",
      "02/16/2021 10:34:26 - INFO - mingpt.trainer -   test loss: 0.003422\n"
     ]
    }
   ],
   "source": [
    "from mingpt.trainer import Trainer, TrainerConfig\n",
    "\n",
    "# initialize a trainer instance and kick off training\n",
    "tconf = TrainerConfig(max_epochs=50, batch_size=512, learning_rate=6e-4,\n",
    "                      lr_decay=True, warmup_tokens=1024, final_tokens=50*len(train_dataset)*(ndigit+1),\n",
    "                      num_workers=4)\n",
    "trainer = Trainer(model, train_dataset, test_dataset, tconf)\n",
    "trainer.train()"
   ]
  },
  {
   "cell_type": "code",
   "execution_count": 9,
   "metadata": {},
   "outputs": [],
   "source": [
    "# now let's give the trained model an addition exam\n",
    "from torch.utils.data.dataloader import DataLoader\n",
    "from mingpt.utils import sample\n",
    "\n",
    "def give_exam(dataset, batch_size=32, max_batches=-1):\n",
    "    \n",
    "    results = []\n",
    "    loader = DataLoader(dataset, batch_size=batch_size)\n",
    "    for b, (x, y) in enumerate(loader):\n",
    "        x = x.to(trainer.device)\n",
    "        d1d2 = x[:, :ndigit*2]\n",
    "        d1d2d3 = sample(model, d1d2, ndigit+1)\n",
    "        d3 = d1d2d3[:, -(ndigit+1):]\n",
    "        factors = torch.tensor([[10**i for i in range(ndigit+1)][::-1]]).to(trainer.device)\n",
    "        # decode the integers from individual digits\n",
    "        d1i = (d1d2[:,:ndigit] * factors[:,1:]).sum(1)\n",
    "        d2i = (d1d2[:,ndigit:ndigit*2] * factors[:,1:]).sum(1)\n",
    "        d3i_pred = (d3 * factors).sum(1)\n",
    "        d3i_gt = d1i + d2i\n",
    "        correct = (d3i_pred == d3i_gt).cpu() # Software 1.0 vs. Software 2.0 fight RIGHT on this line, lol\n",
    "        for i in range(x.size(0)):\n",
    "            results.append(int(correct[i]))\n",
    "            judge = 'YEP!!!' if correct[i] else 'NOPE'\n",
    "            if not correct[i]:\n",
    "                print(\"GPT claims that %03d + %03d = %03d (gt is %03d; %s)\" \n",
    "                      % (d1i[i], d2i[i], d3i_pred[i], d3i_gt[i], judge))\n",
    "        \n",
    "        if max_batches >= 0 and b+1 >= max_batches:\n",
    "            break\n",
    "\n",
    "    print(\"final score: %d/%d = %.2f%% correct\" % (np.sum(results), len(results), 100*np.mean(results)))"
   ]
  },
  {
   "cell_type": "code",
   "execution_count": 10,
   "metadata": {
    "scrolled": true
   },
   "outputs": [
    {
     "name": "stdout",
     "output_type": "stream",
     "text": [
      "GPT claims that 009 + 091 = 090 (gt is 100; NOPE)\n",
      "final score: 8999/9000 = 99.99% correct\n"
     ]
    }
   ],
   "source": [
    "# training set: how well did we memorize?\n",
    "give_exam(train_dataset, batch_size=1024, max_batches=10)"
   ]
  },
  {
   "cell_type": "code",
   "execution_count": 11,
   "metadata": {},
   "outputs": [
    {
     "name": "stdout",
     "output_type": "stream",
     "text": [
      "final score: 1000/1000 = 100.00% correct\n"
     ]
    }
   ],
   "source": [
    "# test set: how well did we generalize?\n",
    "give_exam(test_dataset, batch_size=1024, max_batches=-1)"
   ]
  },
  {
   "cell_type": "code",
   "execution_count": null,
   "metadata": {},
   "outputs": [],
   "source": [
    "# well that's amusing... our model learned everything except 55 + 45"
   ]
  }
 ],
 "metadata": {
  "kernelspec": {
   "display_name": "PRML2021",
   "language": "python",
   "name": "prml2021"
  },
  "language_info": {
   "codemirror_mode": {
    "name": "ipython",
    "version": 3
   },
   "file_extension": ".py",
   "mimetype": "text/x-python",
   "name": "python",
   "nbconvert_exporter": "python",
   "pygments_lexer": "ipython3",
   "version": "3.9.1"
  }
 },
 "nbformat": 4,
 "nbformat_minor": 4
}
