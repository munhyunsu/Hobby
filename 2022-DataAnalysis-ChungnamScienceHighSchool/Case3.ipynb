{
 "cells": [
  {
   "cell_type": "markdown",
   "id": "b325eff5-801a-457c-b806-31052f8aaed8",
   "metadata": {},
   "source": [
    "# 충남과학고등학교 데이터분석 특강 (3H / 6H)\n",
    "## 예제로 배우는 데이터 분석\n",
    "### 초급: 3H, 중급: 6H (초중급 3H 동일)"
   ]
  },
  {
   "cell_type": "markdown",
   "id": "54f9bb50-a066-4033-979f-89e2fd61d332",
   "metadata": {},
   "source": [
    "## Case 3: 시각화를 통한 데이터 분석\n",
    "### Question: 주간 평균 기온 분석, 공주시 고등학교 학생 수 분석\n",
    "##### [기상청](https://www.weather.go.kr/w/obs-climate/land/past-obs/obs-by-day.do) - 관측기후 - 육상 - 과거관측\n",
    "##### [한국교육학술정보원 학교알리미 학교정보](https://www.data.go.kr/data/15014351/fileData.do)"
   ]
  },
  {
   "cell_type": "markdown",
   "id": "37768e1b-5640-401f-86e7-55b6392626c1",
   "metadata": {},
   "source": [
    "### Step 1. Question - 평균 기온 데이터 시각화"
   ]
  },
  {
   "cell_type": "markdown",
   "id": "3b4f4897-c81b-41e5-96ab-a6603885c262",
   "metadata": {},
   "source": [
    "#### 도구 불러오기"
   ]
  },
  {
   "cell_type": "code",
   "execution_count": null,
   "id": "7ac8b841-96a2-48c3-85ee-7dba9110c0f7",
   "metadata": {},
   "outputs": [],
   "source": [
    "import matplotlib as mpl\n",
    "import matplotlib.pyplot as plt\n",
    "%matplotlib inline"
   ]
  },
  {
   "cell_type": "markdown",
   "id": "79ed2638-af55-4281-a773-6afa81e25ec6",
   "metadata": {},
   "source": [
    "#### 2022. 07. 01. ~ 10. 평균 기온 데이터"
   ]
  },
  {
   "cell_type": "code",
   "execution_count": null,
   "id": "2530576e-0353-41fd-bbdb-4030f5f21b69",
   "metadata": {},
   "outputs": [],
   "source": [
    "temperature = [26.6, 28.8, 29.3, 29.3, 29.2, 29.5, 28.2, 25.8, 26.9, 29.2]\n",
    "temperature"
   ]
  },
  {
   "cell_type": "markdown",
   "id": "8eb98ec9-f17a-4ba0-8525-7883f4dd8b4e",
   "metadata": {},
   "source": [
    "#### 시각화 데이터 준비"
   ]
  },
  {
   "cell_type": "code",
   "execution_count": null,
   "id": "87f25ec9-ff7f-4ce1-9699-15f24eeeaea0",
   "metadata": {},
   "outputs": [],
   "source": [
    "x = list(range(0, len(temperature)))\n",
    "x"
   ]
  },
  {
   "cell_type": "code",
   "execution_count": null,
   "id": "0be20d41-fe7e-4c40-8ec0-91b500342b40",
   "metadata": {},
   "outputs": [],
   "source": [
    "y = temperature\n",
    "y"
   ]
  },
  {
   "cell_type": "code",
   "execution_count": null,
   "id": "535e4c34-c0b8-41c5-822e-d07aba4e1619",
   "metadata": {},
   "outputs": [],
   "source": [
    "xlab = ['2022-07-01', '2022-07-02', '2022-07-03', '2022-07-04', '2022-07-05', \n",
    "        '2022-07-06', '2022-07-07', '2022-07-08', '2022-07-09', '2022-07-10']\n",
    "xlab"
   ]
  },
  {
   "cell_type": "markdown",
   "id": "1fbfa352-91ce-45d5-a6d9-8ea697d26703",
   "metadata": {},
   "source": [
    "#### 시각화"
   ]
  },
  {
   "cell_type": "code",
   "execution_count": null,
   "id": "3490bd71-29ec-43f8-8c02-2727df3a004d",
   "metadata": {},
   "outputs": [],
   "source": [
    "fig = plt.figure(figsize=(8, 6))\n",
    "ax = fig.add_subplot()\n",
    "ax.plot(x, y)\n",
    "ax.set_xticks(x, xlab, rotation=-30)\n",
    "ax.tick_params(axis='both', labelsize='large')\n",
    "ax.set_xlabel('Date', fontsize='large')\n",
    "ax.set_ylabel('Temperature', fontsize='large')\n",
    "ax.set_title('Daily Temperature', fontsize='x-large')"
   ]
  },
  {
   "cell_type": "markdown",
   "id": "89da812b-faf7-4b9c-a1e7-05aa03754500",
   "metadata": {},
   "source": [
    "### Step 2. Question - 공주시 고등학교 학생 수 비교 시각화"
   ]
  },
  {
   "cell_type": "markdown",
   "id": "c2f1d4ba-e9ea-442d-b09a-0425b649c13c",
   "metadata": {},
   "source": [
    "#### 도구 불러오기"
   ]
  },
  {
   "cell_type": "code",
   "execution_count": null,
   "id": "83a28c6c-3157-4d21-9a57-689935034925",
   "metadata": {},
   "outputs": [],
   "source": [
    "import statistics\n",
    "\n",
    "import matplotlib as mpl\n",
    "import matplotlib.pyplot as plt\n",
    "%matplotlib inline"
   ]
  },
  {
   "cell_type": "markdown",
   "id": "0d5b5f68-e5a3-4556-bd9c-e2727a99689d",
   "metadata": {},
   "source": [
    "#### 공주시 고등학교 학생 수"
   ]
  },
  {
   "cell_type": "code",
   "execution_count": null,
   "id": "a301300b-5963-4fb1-9d8b-2dc297e74026",
   "metadata": {},
   "outputs": [],
   "source": [
    "student = {'Year 1': [167, 148, 156, 64, 86, 145, 122, 69, 77, 130],\n",
    "           'Year 2': [167, 142, 163, 62, 66, 129, 114, 77, 72, 127],\n",
    "           'Year 3': [166, 146, 161, 74, 96, 149, 130, 60, 47, 130],\n",
    "           'Special': [5, 0, 4, 0, 25, 2, 0, 0, 0, 0]}\n",
    "student"
   ]
  },
  {
   "cell_type": "markdown",
   "id": "1a960a20-0734-4980-9972-d619a7a2a279",
   "metadata": {},
   "source": [
    "#### 시각화 데이터 준비"
   ]
  },
  {
   "cell_type": "code",
   "execution_count": null,
   "id": "44fb4fe2-5b19-4dc9-a259-d09cecdf2225",
   "metadata": {},
   "outputs": [],
   "source": [
    "xlab = []\n",
    "y = []\n",
    "print('공주시 고등학교 1~3학년 및 특수학급 학생 수 평균')\n",
    "for key, value in student.items():\n",
    "    print(f'{key}: {statistics.mean(value)}')\n",
    "    xlab.append(key)\n",
    "    y.append(statistics.mean(value))\n",
    "x = list(range(len(xlab)))\n",
    "color = ['blue', 'green', 'yellow', 'brown']\n",
    "print(f'x: {x}')\n",
    "print(f'xlab: {xlab}')\n",
    "print(f'color: {color}')\n",
    "print(f'y: {y}')"
   ]
  },
  {
   "cell_type": "markdown",
   "id": "a5eff276-05c2-409c-be61-788084c7351a",
   "metadata": {},
   "source": [
    "#### 시각화"
   ]
  },
  {
   "cell_type": "code",
   "execution_count": null,
   "id": "42f91137-e96d-4f4f-9502-5c4ecd9f5aa9",
   "metadata": {},
   "outputs": [],
   "source": [
    "fig = plt.figure(figsize=(8, 6))\n",
    "ax = fig.add_subplot()\n",
    "ax.bar(x, y, color=color, tick_label=xlab)\n",
    "ax.tick_params(axis='both', labelsize='large')\n",
    "ax.set_title('Average number of students per grade level', fontsize='x-large')"
   ]
  }
 ],
 "metadata": {
  "kernelspec": {
   "display_name": "Python 3 (ipykernel)",
   "language": "python",
   "name": "python3"
  },
  "language_info": {
   "codemirror_mode": {
    "name": "ipython",
    "version": 3
   },
   "file_extension": ".py",
   "mimetype": "text/x-python",
   "name": "python",
   "nbconvert_exporter": "python",
   "pygments_lexer": "ipython3",
   "version": "3.10.8"
  }
 },
 "nbformat": 4,
 "nbformat_minor": 5
}
