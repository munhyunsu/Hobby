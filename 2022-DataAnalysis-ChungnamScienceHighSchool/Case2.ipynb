{
 "cells": [
  {
   "cell_type": "markdown",
   "id": "b325eff5-801a-457c-b806-31052f8aaed8",
   "metadata": {},
   "source": [
    "# 충남과학고등학교 데이터분석 특강 (3H / 6H)\n",
    "## 예제로 배우는 데이터 분석\n",
    "### 초급: 3H, 중급: 6H (초중급 3H 동일)"
   ]
  },
  {
   "cell_type": "markdown",
   "id": "54f9bb50-a066-4033-979f-89e2fd61d332",
   "metadata": {},
   "source": [
    "## Case 2: 데이터 분석을 위한 Python 3 자료 구조\n",
    "### Question: 공주시 고등학교 학생 수 분석\n",
    "##### [한국교육학술정보원 학교알리미 학교정보](https://www.data.go.kr/data/15014351/fileData.do)"
   ]
  },
  {
   "cell_type": "markdown",
   "id": "3b9d63a6-d65d-4166-992d-ee80e41d8ebf",
   "metadata": {},
   "source": [
    "### Step 1. Question - 공주시 고등학교 1학년 학생 수 분석 using 리스트 (List) "
   ]
  },
  {
   "cell_type": "markdown",
   "id": "d81cf259-e6fa-4ef8-9585-ae3d1acb22b5",
   "metadata": {},
   "source": [
    "#### 공주시 고등학교 학교별 1학년 학생 수"
   ]
  },
  {
   "cell_type": "code",
   "execution_count": null,
   "id": "5911ffb9-9dd7-4976-be61-11ea8f12fd06",
   "metadata": {},
   "outputs": [],
   "source": [
    "student1 = [167, 148, 156, 64, 86, 145, 122, 69, 77, 130]\n",
    "print(student1)"
   ]
  },
  {
   "cell_type": "markdown",
   "id": "c3f848e4-0102-4a85-8a7d-ceac4e75677b",
   "metadata": {},
   "source": [
    "#### 리스트 만들기"
   ]
  },
  {
   "cell_type": "code",
   "execution_count": null,
   "id": "d8c5fc16-aa89-4e4b-b463-1b30e13961b9",
   "metadata": {},
   "outputs": [],
   "source": [
    "data = []\n",
    "data.append(167)\n",
    "data.append(148)\n",
    "data.append(156)\n",
    "print(data)"
   ]
  },
  {
   "cell_type": "markdown",
   "id": "d785f0c1-23cd-463d-a23a-9249a642391d",
   "metadata": {},
   "source": [
    "#### 리스트 합치기"
   ]
  },
  {
   "cell_type": "code",
   "execution_count": null,
   "id": "52b646ba-d46a-4538-a11a-e160960247b0",
   "metadata": {},
   "outputs": [],
   "source": [
    "data1 = []\n",
    "data1.append(167)\n",
    "data1.append(148)\n",
    "data1.append(156)\n",
    "print(f'데이터1 {data1}')\n",
    "data2 = []\n",
    "data2.append(64)\n",
    "data2.append(86)\n",
    "data2.append(145)\n",
    "print(f'데이터2 {data2}')\n",
    "data = data1 + data2\n",
    "print(f'데이터 {data}')"
   ]
  },
  {
   "cell_type": "markdown",
   "id": "cadd9c61-d3c7-476b-b77e-6d9f8684135f",
   "metadata": {},
   "source": [
    "#### 리스트 참조하기"
   ]
  },
  {
   "cell_type": "code",
   "execution_count": null,
   "id": "3f7db7ef-1556-4e60-bc0c-ec71806e0991",
   "metadata": {},
   "outputs": [],
   "source": [
    "data3 = []\n",
    "data3.append(122)\n",
    "data3.append(69)\n",
    "data3.append(77)\n",
    "data3.append(130)\n",
    "print(data3[2])"
   ]
  },
  {
   "cell_type": "markdown",
   "id": "fced3b03-93ba-4100-94d5-4a4ba136523f",
   "metadata": {},
   "source": [
    "#### 리스트 순환문으로 참조하기: 순서가 있는 자료형!"
   ]
  },
  {
   "cell_type": "code",
   "execution_count": null,
   "id": "b58f85c0-5296-4916-bbc3-a56cc49d290f",
   "metadata": {},
   "outputs": [],
   "source": [
    "for student in student1:\n",
    "    print(student)"
   ]
  },
  {
   "cell_type": "markdown",
   "id": "b4087e4f-69fc-43ea-a56f-6f1034d1c0ec",
   "metadata": {},
   "source": [
    "#### 도구 불러오기"
   ]
  },
  {
   "cell_type": "code",
   "execution_count": null,
   "id": "1e2c9501-4f23-4e29-ae1a-2c0a2824a470",
   "metadata": {},
   "outputs": [],
   "source": [
    "import statistics"
   ]
  },
  {
   "cell_type": "markdown",
   "id": "e1e8b625-e6f9-41af-b74b-83628cc5d2ff",
   "metadata": {},
   "source": [
    "#### 1학년 학생 수 평균"
   ]
  },
  {
   "cell_type": "code",
   "execution_count": null,
   "id": "20b0435c-aa43-410f-9174-4e1986e9b355",
   "metadata": {},
   "outputs": [],
   "source": [
    "print(f'공주시 고등학교 1학년 학생 수 평균: {statistics.mean(student1)}')"
   ]
  },
  {
   "cell_type": "markdown",
   "id": "ec2681ab-6c3e-41ff-a5bf-47e89e5e4b6c",
   "metadata": {},
   "source": [
    "#### 1학년 학생 수 표준편차"
   ]
  },
  {
   "cell_type": "code",
   "execution_count": null,
   "id": "6ba01730-6c7e-4467-b360-768b097ed7dc",
   "metadata": {},
   "outputs": [],
   "source": [
    "print(f'공주시 고등학교 1학년 학생 수 표준편차: {statistics.stdev(student1)}')"
   ]
  },
  {
   "cell_type": "markdown",
   "id": "fa7abc98-587e-478d-8422-5f7910ffd1d9",
   "metadata": {},
   "source": [
    "#### 1학년 학생 수 최대, 최소"
   ]
  },
  {
   "cell_type": "code",
   "execution_count": null,
   "id": "b6cc8eb8-0e59-4c3c-93e2-7949ba5f1498",
   "metadata": {},
   "outputs": [],
   "source": [
    "print(f'공주시 고등학교 1학년 학생 수 최대: {max(student1)}, 최소: {min(student1)}')"
   ]
  },
  {
   "cell_type": "markdown",
   "id": "5037c7bc-f20b-460b-b2b0-1c60ea1eb2ff",
   "metadata": {},
   "source": [
    "### Step 2. Question - 공주시 고등학교 1학년 학생 수 분석 using 딕셔너리 (Dictionary)"
   ]
  },
  {
   "cell_type": "markdown",
   "id": "0d5b5f68-e5a3-4556-bd9c-e2727a99689d",
   "metadata": {},
   "source": [
    "#### 공주시 고등학교 학생 수"
   ]
  },
  {
   "cell_type": "code",
   "execution_count": null,
   "id": "a301300b-5963-4fb1-9d8b-2dc297e74026",
   "metadata": {},
   "outputs": [],
   "source": [
    "student = {'1학년': [167, 148, 156, 64, 86, 145, 122, 69, 77, 130],\n",
    "           '2학년': [167, 142, 163, 62, 66, 129, 114, 77, 72, 127],\n",
    "           '3학년': [166, 146, 161, 74, 96, 149, 130, 60, 47, 130],\n",
    "           '특수': [5, 0, 4, 0, 25, 2, 0, 0, 0, 0]}\n",
    "student"
   ]
  },
  {
   "cell_type": "markdown",
   "id": "48dad4c1-9d56-47be-bb01-c6c1ca85219c",
   "metadata": {},
   "source": [
    "#### 딕셔너리 참조하기"
   ]
  },
  {
   "cell_type": "code",
   "execution_count": null,
   "id": "302f4b60-8421-49e3-99dc-ac7d70cfd517",
   "metadata": {},
   "outputs": [],
   "source": [
    "print(f'3학년 학생 수 리스트: {student[\"3학년\"]}')"
   ]
  },
  {
   "cell_type": "markdown",
   "id": "a9535816-f7f1-4115-8d00-96ab1acf07e9",
   "metadata": {},
   "source": [
    "#### 딕셔너리 순환문"
   ]
  },
  {
   "cell_type": "code",
   "execution_count": null,
   "id": "2542848a-b35e-4636-83ca-77861243a817",
   "metadata": {},
   "outputs": [],
   "source": [
    "print('공주시 고등학교 1~3학년 및 특수학급 학생 수')\n",
    "for key, value in student.items():\n",
    "    print(f'{key}: {value}')"
   ]
  },
  {
   "cell_type": "markdown",
   "id": "1b5a38cf-13df-42a6-8957-29c809b1cd1c",
   "metadata": {},
   "source": [
    "#### 공주시 고등학교 학년별 평균"
   ]
  },
  {
   "cell_type": "code",
   "execution_count": null,
   "id": "5234d880-9152-44e1-bb10-9ac137bedd12",
   "metadata": {},
   "outputs": [],
   "source": [
    "print('공주시 고등학교 1~3학년 및 특수학급 학생 수 평균')\n",
    "for key, value in student.items():\n",
    "    print(f'{key}: {statistics.mean(value)}')"
   ]
  },
  {
   "cell_type": "markdown",
   "id": "db549b37-3155-4e87-ad6c-08760ea2e7b4",
   "metadata": {},
   "source": [
    "#### 공주시 고등학교 학년별 표준편차"
   ]
  },
  {
   "cell_type": "code",
   "execution_count": null,
   "id": "7999a9a0-0249-4fe7-9222-73743f5704cb",
   "metadata": {},
   "outputs": [],
   "source": [
    "print('공주시 고등학교 1~3학년 및 특수학급 학생 수 표준편차')\n",
    "for key, value in student.items():\n",
    "    print(f'{key}: {statistics.stdev(value)}')"
   ]
  },
  {
   "cell_type": "markdown",
   "id": "db0932d1-2843-4138-b0a4-66940788c950",
   "metadata": {},
   "source": [
    "#### 공주시 고등학교 학년별 최대, 최소"
   ]
  },
  {
   "cell_type": "code",
   "execution_count": null,
   "id": "3ada7f29-1a4b-4827-a6ab-2c5e4e3230cf",
   "metadata": {},
   "outputs": [],
   "source": [
    "print('공주시 고등학교 1~3학년 및 특수학급 학생 수 평균')\n",
    "for key, value in student.items():\n",
    "    print(f'{key}: 최대: {max(value)}, 최소: {min(value)}')"
   ]
  }
 ],
 "metadata": {
  "kernelspec": {
   "display_name": "Python 3 (ipykernel)",
   "language": "python",
   "name": "python3"
  },
  "language_info": {
   "codemirror_mode": {
    "name": "ipython",
    "version": 3
   },
   "file_extension": ".py",
   "mimetype": "text/x-python",
   "name": "python",
   "nbconvert_exporter": "python",
   "pygments_lexer": "ipython3",
   "version": "3.10.8"
  }
 },
 "nbformat": 4,
 "nbformat_minor": 5
}
