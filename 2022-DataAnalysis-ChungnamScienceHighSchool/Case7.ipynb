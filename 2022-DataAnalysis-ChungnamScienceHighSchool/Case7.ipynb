{
 "cells": [
  {
   "cell_type": "markdown",
   "id": "43752b7a-7812-4c5f-83ea-ad56f94699a0",
   "metadata": {},
   "source": [
    "# 충남과학고등학교 데이터분석 특강 (3H / 6H)\n",
    "## 예제로 배우는 데이터 분석\n",
    "### 초급: 3H, 중급: 6H (초중급 3H 동일)"
   ]
  },
  {
   "cell_type": "markdown",
   "id": "41b31170-bba9-4500-ac97-1d6c47e6a8d2",
   "metadata": {},
   "source": [
    "## Case 6: 대전광역시 공공자전거 타슈 데이터 분석 - 공개 데이터 분석\n",
    "### Question: 타슈 이용 경로 및 정류장 분석\n",
    "##### 데이터출처1: [공공데이터포털](https://www.data.go.kr/data/15062798/fileData.do)\n",
    "##### 데이터출처2: [대전광역시시설관리공단](https://www.djsiseol.or.kr/portal/sub050201.asp)\n",
    "##### 원시 데이터 전처리 완료 후 진행: pickle (.pkl)"
   ]
  },
  {
   "cell_type": "markdown",
   "id": "0e4a5f96",
   "metadata": {},
   "source": [
    "### Step 1. Question - 전처리 데이터 불러오기 및 datetime 데이터 다루기"
   ]
  },
  {
   "cell_type": "markdown",
   "id": "09d86bfb-10ea-48f8-bebf-a735b94598f9",
   "metadata": {},
   "source": [
    "#### 도구 불러오기"
   ]
  },
  {
   "cell_type": "code",
   "execution_count": null,
   "id": "dfff3d67",
   "metadata": {},
   "outputs": [],
   "source": [
    "import datetime\n",
    "\n",
    "import numpy as np\n",
    "import pandas as pd\n",
    "import matplotlib as mpl\n",
    "import matplotlib.pyplot as plt\n",
    "%matplotlib inline"
   ]
  },
  {
   "cell_type": "markdown",
   "id": "b1cf7c3b-7fee-4a39-a07f-a1df5c58e100",
   "metadata": {},
   "source": [
    "#### 타슈 대여 이력 데이터 불러오기 및 datetime 자료형 처리"
   ]
  },
  {
   "cell_type": "code",
   "execution_count": null,
   "id": "df96b273",
   "metadata": {},
   "outputs": [],
   "source": [
    "df_rent = pd.read_pickle('datasets/tashu/tashu_dataset-rental_history.pkl')\n",
    "df_rent['대여일시'] = pd.to_datetime(df_rent['대여일시'], format='%Y%m%d%H%M%S')\n",
    "df_rent['반납일시'] = pd.to_datetime(df_rent['반납일시'], format='%Y%m%d%H%M%S')\n",
    "df_rent"
   ]
  },
  {
   "cell_type": "markdown",
   "id": "235665bc-5ffe-42fe-82a0-1adf7a08d06b",
   "metadata": {},
   "source": [
    "#### 자료형 확인"
   ]
  },
  {
   "cell_type": "code",
   "execution_count": null,
   "id": "51602f50",
   "metadata": {},
   "outputs": [],
   "source": [
    "df_rent.dtypes"
   ]
  },
  {
   "cell_type": "markdown",
   "id": "d7cefa9d-6c9c-41c5-a2f8-86d1a46e4284",
   "metadata": {},
   "source": [
    "#### 타슈 정류장 데이터 불러오기"
   ]
  },
  {
   "cell_type": "code",
   "execution_count": null,
   "id": "35f982b9",
   "metadata": {},
   "outputs": [],
   "source": [
    "df_station = pd.read_pickle('datasets/tashu/tashu_dataset-station_information.pkl')\n",
    "df_station"
   ]
  },
  {
   "cell_type": "markdown",
   "id": "9613ec3e-9533-4709-9f25-df3f34bea23b",
   "metadata": {},
   "source": [
    "#### 자료형 확인"
   ]
  },
  {
   "cell_type": "code",
   "execution_count": null,
   "id": "a5deae83",
   "metadata": {},
   "outputs": [],
   "source": [
    "df_station.dtypes"
   ]
  },
  {
   "cell_type": "markdown",
   "id": "0a0ebb55",
   "metadata": {},
   "source": [
    "### Step 2. Question - 언제 가장 많이 빌릴까?"
   ]
  },
  {
   "cell_type": "code",
   "execution_count": null,
   "id": "ac31a937",
   "metadata": {},
   "outputs": [],
   "source": [
    "rent_index = pd.DatetimeIndex(df_rent['대여일시'])\n",
    "rent_index"
   ]
  },
  {
   "cell_type": "markdown",
   "id": "ec165ed1-d27c-4d2d-8504-f33f5eb9dc21",
   "metadata": {},
   "source": [
    "#### .groupby 활용 시간 기준 계산"
   ]
  },
  {
   "cell_type": "code",
   "execution_count": null,
   "id": "7869f829",
   "metadata": {},
   "outputs": [],
   "source": [
    "hourly_df_rent = df_rent['대여일시'].groupby(by=rent_index.hour)\n",
    "hourly_df_rent"
   ]
  },
  {
   "cell_type": "code",
   "execution_count": null,
   "id": "9e43454a-a888-477b-af73-33c6aa3032ba",
   "metadata": {},
   "outputs": [],
   "source": [
    "hourly_df_rent.count().index"
   ]
  },
  {
   "cell_type": "code",
   "execution_count": null,
   "id": "23eabc42-1aa9-4928-ac18-481e54e593a3",
   "metadata": {},
   "outputs": [],
   "source": [
    "hourly_df_rent.count()"
   ]
  },
  {
   "cell_type": "markdown",
   "id": "a02cf282-3d4f-4c72-bd71-65edf082f9f2",
   "metadata": {},
   "source": [
    "#### 그래프 데이터 준비"
   ]
  },
  {
   "cell_type": "code",
   "execution_count": null,
   "id": "f2744b00-d5a9-45e0-85b1-daa531f02129",
   "metadata": {},
   "outputs": [],
   "source": [
    "x = hourly_df_rent.count().index\n",
    "y = hourly_df_rent.count()"
   ]
  },
  {
   "cell_type": "markdown",
   "id": "e81d74af-a584-4fe2-8d61-1c24f9be37df",
   "metadata": {},
   "source": [
    "#### 그래프 그리기"
   ]
  },
  {
   "cell_type": "code",
   "execution_count": null,
   "id": "7cc29d60-478d-4dc0-a15e-25b51da8143d",
   "metadata": {},
   "outputs": [],
   "source": [
    "fig = plt.figure(figsize=(8, 6))\n",
    "ax = fig.add_subplot()\n",
    "ax.plot(x, y)\n",
    "ax.tick_params(axis='both', labelsize='large')\n",
    "ax.set_xlabel('Hours', fontsize='large')\n",
    "ax.set_ylabel('Number of rent', fontsize='large')\n",
    "ax.set_title('Hourly rent count', fontsize='x-large')"
   ]
  },
  {
   "cell_type": "markdown",
   "id": "73756bd1-5a06-4afa-90c4-ae4aca4381ea",
   "metadata": {},
   "source": [
    "#### 조건 분석으로 확인"
   ]
  },
  {
   "cell_type": "code",
   "execution_count": null,
   "id": "d02cc5c3-cd9c-461e-af1a-f164e879ed5c",
   "metadata": {},
   "outputs": [],
   "source": [
    "max(hourly_df_rent.count())"
   ]
  },
  {
   "cell_type": "code",
   "execution_count": null,
   "id": "ec80c2c8-50e5-4203-ac39-3d19187101d9",
   "metadata": {},
   "outputs": [],
   "source": [
    "hourly_df_rent.count() == max(hourly_df_rent.count())"
   ]
  },
  {
   "cell_type": "code",
   "execution_count": null,
   "id": "74b76c3c-3829-41e8-90dc-ce432522c582",
   "metadata": {},
   "outputs": [],
   "source": [
    "hourly_df_rent.count().index[hourly_df_rent.count() == max(hourly_df_rent.count())]"
   ]
  },
  {
   "cell_type": "code",
   "execution_count": null,
   "id": "381ffabc",
   "metadata": {},
   "outputs": [],
   "source": [
    "print((f'가장 많이 대여하는 시간: '\n",
    "       f'{hourly_df_rent.count().index[hourly_df_rent.count() == max(hourly_df_rent.count())][0]}'))"
   ]
  },
  {
   "cell_type": "markdown",
   "id": "e19e01e7-ee61-4e73-bd3e-5cb483233973",
   "metadata": {},
   "source": [
    "### Step 3. Question - 언제 가장 많이 대여했을까?"
   ]
  },
  {
   "cell_type": "markdown",
   "id": "29bd0926-6a10-41a3-b9fc-bbdc4499ca73",
   "metadata": {},
   "source": [
    "#### groupby 활용 그루핑\n",
    "##### [Pandas DatetimeIndex strftime](https://pandas.pydata.org/docs/reference/api/pandas.DatetimeIndex.strftime.html)\n",
    "##### [python 3 strftime format](https://docs.python.org/3/library/datetime.html#strftime-and-strptime-format-codes)"
   ]
  },
  {
   "cell_type": "code",
   "execution_count": null,
   "id": "652be252-af18-4a18-810e-c6e171a7ed9a",
   "metadata": {},
   "outputs": [],
   "source": [
    "daily_df_rent = df_rent['대여일시'].groupby(by=rent_index.strftime('%Y-%m-%d'))\n",
    "daily_df_rent"
   ]
  },
  {
   "cell_type": "code",
   "execution_count": null,
   "id": "d3193f63-5fe0-4b40-b1ce-876e3e7bf8e5",
   "metadata": {},
   "outputs": [],
   "source": [
    "daily_df_rent.count().index"
   ]
  },
  {
   "cell_type": "code",
   "execution_count": null,
   "id": "f22c8a65-5701-4a26-b8d5-b7d1809f709b",
   "metadata": {},
   "outputs": [],
   "source": [
    "daily_df_rent.count()"
   ]
  },
  {
   "cell_type": "markdown",
   "id": "e2b0c2c2-7706-483a-a077-c01f05ba40ed",
   "metadata": {},
   "source": [
    "#### 그래프 데이터 준비"
   ]
  },
  {
   "cell_type": "code",
   "execution_count": null,
   "id": "815619f6-2e87-4164-9b7d-7c5e6d716b5b",
   "metadata": {},
   "outputs": [],
   "source": [
    "x = daily_df_rent.count().index\n",
    "y = daily_df_rent.count()"
   ]
  },
  {
   "cell_type": "markdown",
   "id": "2139497b-35fa-4988-93ea-1a36f45d951c",
   "metadata": {},
   "source": [
    "#### 그래프 그리기"
   ]
  },
  {
   "cell_type": "code",
   "execution_count": null,
   "id": "9b3dcb79-c8b1-4f14-9b1d-0d78b34689ca",
   "metadata": {},
   "outputs": [],
   "source": [
    "fig = plt.figure(figsize=(8, 6))\n",
    "ax = fig.add_subplot()\n",
    "ax.plot(x, y)\n",
    "ax.tick_params(axis='both', labelsize='large')\n",
    "ax.set_xlabel('Date', fontsize='large')\n",
    "ax.set_ylabel('Number of rent', fontsize='large')\n",
    "ax.set_title('Rent count', fontsize='x-large')"
   ]
  },
  {
   "cell_type": "markdown",
   "id": "b1edffed-fa99-46f4-95ec-d37360502d2d",
   "metadata": {},
   "source": [
    "#### 조건문으로 분석"
   ]
  },
  {
   "cell_type": "code",
   "execution_count": null,
   "id": "c82a2903-d4a5-4874-9ab7-a27d92f70f88",
   "metadata": {},
   "outputs": [],
   "source": [
    "max(daily_df_rent.count())"
   ]
  },
  {
   "cell_type": "code",
   "execution_count": null,
   "id": "a4c2fc7b-a477-474b-9c46-18af75dcc4a1",
   "metadata": {},
   "outputs": [],
   "source": [
    "daily_df_rent.count() == max(daily_df_rent.count())"
   ]
  },
  {
   "cell_type": "code",
   "execution_count": null,
   "id": "a791ce50",
   "metadata": {},
   "outputs": [],
   "source": [
    "print((f'가장 많이 대여한 날: '\n",
    "       f'{daily_df_rent.count().index[daily_df_rent.count() == max(daily_df_rent.count())][0]}'))"
   ]
  },
  {
   "cell_type": "markdown",
   "id": "ee25a16c-f2a5-4724-a45e-169d2d47d552",
   "metadata": {},
   "source": [
    "### Step 4. Question - 몇년 몇월에 가장 많이 대여했을까?"
   ]
  },
  {
   "cell_type": "markdown",
   "id": "5bb59753-866f-429b-a781-e434f81193ec",
   "metadata": {},
   "source": [
    "#### groupby 활용 그루핑"
   ]
  },
  {
   "cell_type": "code",
   "execution_count": null,
   "id": "9b59a215-19ea-4444-afcb-0bcea64cbb78",
   "metadata": {},
   "outputs": [],
   "source": [
    "monthly_df_rent = df_rent['대여일시'].groupby(by=rent_index.strftime('%Y-%m'))\n",
    "monthly_df_rent"
   ]
  },
  {
   "cell_type": "code",
   "execution_count": null,
   "id": "06ec3233-16d2-4b13-9b89-8ebb040ef81b",
   "metadata": {},
   "outputs": [],
   "source": [
    "monthly_df_rent.count().index"
   ]
  },
  {
   "cell_type": "code",
   "execution_count": null,
   "id": "eb37a732-7382-4ab8-814c-3df9f61f847e",
   "metadata": {},
   "outputs": [],
   "source": [
    "monthly_df_rent.count()"
   ]
  },
  {
   "cell_type": "markdown",
   "id": "7371f036-8e2d-4aa7-9e4a-4e57e897cadc",
   "metadata": {},
   "source": [
    "#### 그래프 데이터 준비"
   ]
  },
  {
   "cell_type": "code",
   "execution_count": null,
   "id": "8d430b4e-2f64-4a05-a9eb-d5e9fd9f8c99",
   "metadata": {},
   "outputs": [],
   "source": [
    "x = monthly_df_rent.count().index\n",
    "y = monthly_df_rent.count()"
   ]
  },
  {
   "cell_type": "markdown",
   "id": "67552f96-076f-4738-b2d8-da21a91d3f80",
   "metadata": {},
   "source": [
    "#### 그래프 그리기"
   ]
  },
  {
   "cell_type": "code",
   "execution_count": null,
   "id": "12b0d41e-72ee-4e4b-9496-278e8777ca34",
   "metadata": {},
   "outputs": [],
   "source": [
    "fig = plt.figure(figsize=(8, 6))\n",
    "ax = fig.add_subplot()\n",
    "ax.plot(x, y)\n",
    "ax.tick_params(axis='both', labelsize='large')\n",
    "ax.set_xlabel('Date', fontsize='large')\n",
    "ax.set_ylabel('Number of rent', fontsize='large')\n",
    "ax.set_title('Rent count', fontsize='x-large')"
   ]
  },
  {
   "cell_type": "markdown",
   "id": "ef5d5c03-8f1b-4ce1-bc0c-0a6594841426",
   "metadata": {},
   "source": [
    "#### 조건문으로 분석"
   ]
  },
  {
   "cell_type": "code",
   "execution_count": null,
   "id": "75cde4e9-9ecd-495d-b8a8-3a5a4283d96f",
   "metadata": {},
   "outputs": [],
   "source": [
    "max(monthly_df_rent.count())"
   ]
  },
  {
   "cell_type": "code",
   "execution_count": null,
   "id": "bfbdda95-a8c2-4164-819b-c064962f37cf",
   "metadata": {},
   "outputs": [],
   "source": [
    "monthly_df_rent.count() == max(monthly_df_rent.count())"
   ]
  },
  {
   "cell_type": "code",
   "execution_count": null,
   "id": "e909f24e-5d92-4691-b163-de094b9a3cc1",
   "metadata": {},
   "outputs": [],
   "source": [
    "print((f'가장 많이 대여한 날: '\n",
    "       f'{monthly_df_rent.count().index[monthly_df_rent.count() == max(monthly_df_rent.count())][0]}'))"
   ]
  },
  {
   "cell_type": "markdown",
   "id": "9c8a1a60-06f3-40f3-9853-9f8e97cb2bb4",
   "metadata": {},
   "source": [
    "### Step 5. Question - 가장 많이 대여한 요일은?"
   ]
  },
  {
   "cell_type": "markdown",
   "id": "08d4da94-1093-48bd-9eee-6919df9dd90a",
   "metadata": {},
   "source": [
    "#### groupby 활용 그루핑"
   ]
  },
  {
   "cell_type": "code",
   "execution_count": null,
   "id": "24290c42-ea13-44ba-9ba4-fb51f8bea6d3",
   "metadata": {},
   "outputs": [],
   "source": [
    "weekly_df_rent = df_rent['대여일시'].groupby(by=rent_index.strftime('%w'))\n",
    "weekly_df_rent"
   ]
  },
  {
   "cell_type": "code",
   "execution_count": null,
   "id": "e28bb735-507a-4950-9095-a51001432802",
   "metadata": {},
   "outputs": [],
   "source": [
    "weekly_df_rent.count().index"
   ]
  },
  {
   "cell_type": "code",
   "execution_count": null,
   "id": "71d247ad-a3b1-4e9f-aa60-f9294ad40a41",
   "metadata": {},
   "outputs": [],
   "source": [
    "weekly_df_rent.count()"
   ]
  },
  {
   "cell_type": "markdown",
   "id": "fafa86e7-763a-46bc-a5c8-f15cd6ff27c5",
   "metadata": {},
   "source": [
    "#### 그래프 데이터 준비"
   ]
  },
  {
   "cell_type": "code",
   "execution_count": null,
   "id": "e1efa768",
   "metadata": {},
   "outputs": [],
   "source": [
    "x = weekly_df_rent.count().index\n",
    "y = weekly_df_rent.count()\n",
    "labels = {0: 'Monday', 1: 'Tuesday', 2: 'Wednesday', 3: 'Thursday', 4: 'Friday', 5: 'Saturday', 6: 'Sunday'}\n",
    "colors = ['r', 'g', 'b', 'k', 'y', 'm', 'c']"
   ]
  },
  {
   "cell_type": "markdown",
   "id": "76225f3e-5168-407b-ac50-9b287af2df10",
   "metadata": {},
   "source": [
    "#### 그래프 그리기"
   ]
  },
  {
   "cell_type": "code",
   "execution_count": null,
   "id": "7374cf55-0f58-429d-b02d-6b1eb3a0fd0c",
   "metadata": {},
   "outputs": [],
   "source": [
    "fig = plt.figure(figsize=(8, 6))\n",
    "ax = fig.add_subplot()\n",
    "ax.bar(x, y, color=colors, tick_label=list(labels.values()))\n",
    "ax.tick_params(axis='both', labelsize='large')\n",
    "ax.set_xlabel('Date', fontsize='large')\n",
    "ax.set_ylabel('Number of rent', fontsize='large')\n",
    "ax.set_title('Rent count', fontsize='x-large')"
   ]
  },
  {
   "cell_type": "markdown",
   "id": "c081a43e-082d-4ba3-9c0d-8bc9b86f5eec",
   "metadata": {},
   "source": [
    "#### 조건문으로 분석"
   ]
  },
  {
   "cell_type": "code",
   "execution_count": null,
   "id": "6a6d9d17-7e27-47bc-a697-cc8033f970fe",
   "metadata": {},
   "outputs": [],
   "source": [
    "max(weekly_df_rent.count())"
   ]
  },
  {
   "cell_type": "code",
   "execution_count": null,
   "id": "55156b5b-8e9c-4783-a9ca-4c107a3063db",
   "metadata": {},
   "outputs": [],
   "source": [
    "weekly_df_rent.count() == max(weekly_df_rent.count())"
   ]
  },
  {
   "cell_type": "code",
   "execution_count": null,
   "id": "56f095d6",
   "metadata": {},
   "outputs": [],
   "source": [
    "print((f'가장 많이 대여한 날: '\n",
    "       f'{weekly_df_rent.count().index[weekly_df_rent.count() == max(weekly_df_rent.count())][0]}'))"
   ]
  },
  {
   "cell_type": "markdown",
   "id": "b9affff8-fd19-4e64-98f0-f7378b48e935",
   "metadata": {},
   "source": [
    "### Step 6. Question - 어디서 가장 많이 빌리는가?"
   ]
  },
  {
   "cell_type": "markdown",
   "id": "6a89f900",
   "metadata": {},
   "source": [
    "#### 대여 정류장으로 groupby"
   ]
  },
  {
   "cell_type": "code",
   "execution_count": null,
   "id": "ecce9942-a304-41b9-b68c-2e7d0aab491d",
   "metadata": {},
   "outputs": [],
   "source": [
    "station_df_rent = df_rent['대여스테이션'].groupby(by=df_rent['대여스테이션'])\n",
    "station_df_rent"
   ]
  },
  {
   "cell_type": "code",
   "execution_count": null,
   "id": "0dbc7501-6919-498f-9ac2-099c5b857571",
   "metadata": {},
   "outputs": [],
   "source": [
    "station_df_rent.count()"
   ]
  },
  {
   "cell_type": "markdown",
   "id": "431150a8-66bd-4491-9d0a-c57819435a9e",
   "metadata": {},
   "source": [
    "#### 대여 정류장 정렬"
   ]
  },
  {
   "cell_type": "code",
   "execution_count": null,
   "id": "93bc6125-62b5-44be-ae87-94274d96a5e2",
   "metadata": {},
   "outputs": [],
   "source": [
    "sorted_rent_station = station_df_rent.count().sort_values(ascending=False)\n",
    "sorted_rent_station"
   ]
  },
  {
   "cell_type": "markdown",
   "id": "3e602729-60ae-4770-adf0-a45a4cbcb814",
   "metadata": {},
   "source": [
    "#### 정류장 정보 필터링"
   ]
  },
  {
   "cell_type": "code",
   "execution_count": null,
   "id": "a0ff1f4b-d069-424e-922d-89c0cfe81d0f",
   "metadata": {},
   "outputs": [],
   "source": [
    "df_station[df_station.index == sorted_rent_station.index[0]]"
   ]
  },
  {
   "cell_type": "markdown",
   "id": "4d01e26f-c203-406e-9a91-878c7e0ad593",
   "metadata": {},
   "source": [
    "### Step 7. Question - 이동 목적으로 이용하는가?"
   ]
  },
  {
   "cell_type": "markdown",
   "id": "b8c57f05-0067-48ba-a401-e9d8e1f9331c",
   "metadata": {},
   "source": [
    "#### 이동 목적 대여량"
   ]
  },
  {
   "cell_type": "code",
   "execution_count": null,
   "id": "4286fc7c-b5bf-4596-b0a0-6f2fce10df19",
   "metadata": {},
   "outputs": [],
   "source": [
    "diff_rent = df_rent[df_rent['대여스테이션'] != df_rent['반납스테이션']]\n",
    "diff_rent"
   ]
  },
  {
   "cell_type": "markdown",
   "id": "ed5c51d3-6d4b-497e-936b-1d87fb4893e5",
   "metadata": {},
   "source": [
    "#### 여가 목적 대여량"
   ]
  },
  {
   "cell_type": "code",
   "execution_count": null,
   "id": "07b5b119-9716-43b9-8305-fb32a81fe67a",
   "metadata": {},
   "outputs": [],
   "source": [
    "same_rent = df_rent[df_rent['대여스테이션'] == df_rent['반납스테이션']]\n",
    "same_rent"
   ]
  },
  {
   "cell_type": "markdown",
   "id": "e623915c-1b41-43f8-9fcf-04007785c5d2",
   "metadata": {},
   "source": [
    "#### 이동 목적 대여 최대 정류장"
   ]
  },
  {
   "cell_type": "code",
   "execution_count": null,
   "id": "3d314496",
   "metadata": {},
   "outputs": [],
   "source": [
    "t = diff_rent['대여스테이션'].groupby(by=diff_rent['대여스테이션'])\n",
    "sorted_t = t.count().sort_values(ascending=False)\n",
    "sorted_t"
   ]
  },
  {
   "cell_type": "markdown",
   "id": "67454cee-bf59-45c3-9055-da929f06ae5e",
   "metadata": {},
   "source": [
    "#### 이동 목적 대여 최대 정류장 정보"
   ]
  },
  {
   "cell_type": "code",
   "execution_count": null,
   "id": "d361db7b",
   "metadata": {},
   "outputs": [],
   "source": [
    "df_station[df_station.index == sorted_t.index[0]]"
   ]
  },
  {
   "cell_type": "markdown",
   "id": "27b11545-097a-4188-9cd0-a4322f0ea161",
   "metadata": {},
   "source": [
    "#### 여가 목적 대여 최대 정류장"
   ]
  },
  {
   "cell_type": "code",
   "execution_count": null,
   "id": "77eb9187",
   "metadata": {},
   "outputs": [],
   "source": [
    "t = same_rent['대여스테이션'].groupby(by=same_rent['대여스테이션'])\n",
    "sorted_t = t.count().sort_values(ascending=False)\n",
    "sorted_t"
   ]
  },
  {
   "cell_type": "markdown",
   "id": "cd91a313-4b8e-47ac-95a3-30e5c49dc838",
   "metadata": {},
   "source": [
    "### Step 8. Question - 정류장 기준 가장 많이 이용하는 경로는?"
   ]
  },
  {
   "cell_type": "markdown",
   "id": "d7976189-432c-4e65-882c-ea98964d2d60",
   "metadata": {},
   "source": [
    "#### groupby 를 순차적으로 적용"
   ]
  },
  {
   "cell_type": "code",
   "execution_count": null,
   "id": "0e4b1bec",
   "metadata": {},
   "outputs": [],
   "source": [
    "df = df_rent['대여일시'].groupby(by=[df_rent['대여스테이션'], df_rent['반납스테이션']])\n",
    "df.count()"
   ]
  },
  {
   "cell_type": "markdown",
   "id": "7cb5d0c2-3e4c-42c0-b36f-5889e8d39b24",
   "metadata": {},
   "source": [
    "#### 조건문으로 빠르게 확인!"
   ]
  },
  {
   "cell_type": "code",
   "execution_count": null,
   "id": "3d44b24a",
   "metadata": {},
   "outputs": [],
   "source": [
    "df.count().index[df.count() == max(df.count())]"
   ]
  },
  {
   "cell_type": "markdown",
   "id": "5eb15d62-1dcb-4142-8606-3ca52a39d33b",
   "metadata": {},
   "source": [
    "#### 이동 목적 데이터에서만 확인"
   ]
  },
  {
   "cell_type": "code",
   "execution_count": null,
   "id": "cb061042",
   "metadata": {},
   "outputs": [],
   "source": [
    "df = diff_rent['대여일시'].groupby(by=[diff_rent['대여스테이션'], diff_rent['반납스테이션']])\n",
    "df.count()"
   ]
  },
  {
   "cell_type": "markdown",
   "id": "c17d29e7-53f6-4a2c-bbb2-c4f8ab741113",
   "metadata": {},
   "source": [
    "#### 조건문으로 결과 확인"
   ]
  },
  {
   "cell_type": "code",
   "execution_count": null,
   "id": "aa8dbcbc",
   "metadata": {},
   "outputs": [],
   "source": [
    "df.count().index[df.count() == max(df.count())]"
   ]
  },
  {
   "cell_type": "markdown",
   "id": "87fc6a86",
   "metadata": {},
   "source": [
    "### Step 9. Question - 이동 거리 분석"
   ]
  },
  {
   "cell_type": "markdown",
   "id": "0ddaaeda-73f3-4d85-8d32-e0e0d9b39893",
   "metadata": {},
   "source": [
    "#### groupby 처리"
   ]
  },
  {
   "cell_type": "code",
   "execution_count": null,
   "id": "a617378a",
   "metadata": {},
   "outputs": [],
   "source": [
    "df = df_rent.groupby(by=[df_rent['대여스테이션'], df_rent['반납스테이션']])\n",
    "df = df.mean()\n",
    "df"
   ]
  },
  {
   "cell_type": "markdown",
   "id": "bf634512-addd-4c64-a2bf-66830ef84e36",
   "metadata": {},
   "source": [
    "#### 회원 구분 (1 or 0) 은 불필요한 열"
   ]
  },
  {
   "cell_type": "code",
   "execution_count": null,
   "id": "97c916ce",
   "metadata": {},
   "outputs": [],
   "source": [
    "df.drop(columns='회원구분', inplace=True)\n",
    "df"
   ]
  },
  {
   "cell_type": "markdown",
   "id": "1b5d808d-19c2-44e6-a0b1-928fec3c80bc",
   "metadata": {},
   "source": [
    "#### 조건문으로 확인"
   ]
  },
  {
   "cell_type": "code",
   "execution_count": null,
   "id": "a059ccfa",
   "metadata": {},
   "outputs": [],
   "source": [
    "print((f'평균적으로 가장 멀리 이동한 대여-반납 경로: '\n",
    "       f'{df.index[df[\"이동거리\"] == max(df[\"이동거리\"])][0]}'))"
   ]
  },
  {
   "cell_type": "markdown",
   "id": "8b48189c-df66-4837-93d6-a1b006f580c3",
   "metadata": {},
   "source": [
    "#### isin 으로 빠르게 정보 필터링"
   ]
  },
  {
   "cell_type": "code",
   "execution_count": null,
   "id": "66a56046",
   "metadata": {},
   "outputs": [],
   "source": [
    "df_station[df_station.index.isin(df.index[df[\"이동거리\"] == max(df[\"이동거리\"])][0])]"
   ]
  },
  {
   "cell_type": "code",
   "execution_count": null,
   "id": "7360110c",
   "metadata": {},
   "outputs": [],
   "source": []
  }
 ],
 "metadata": {
  "kernelspec": {
   "display_name": "Python 3 (ipykernel)",
   "language": "python",
   "name": "python3"
  },
  "language_info": {
   "codemirror_mode": {
    "name": "ipython",
    "version": 3
   },
   "file_extension": ".py",
   "mimetype": "text/x-python",
   "name": "python",
   "nbconvert_exporter": "python",
   "pygments_lexer": "ipython3",
   "version": "3.10.8"
  }
 },
 "nbformat": 4,
 "nbformat_minor": 5
}
