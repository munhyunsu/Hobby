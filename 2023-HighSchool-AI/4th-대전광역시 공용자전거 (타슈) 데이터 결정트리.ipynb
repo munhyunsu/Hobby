{
 "cells": [
  {
   "cell_type": "markdown",
   "id": "d34f8b7f-a732-40cc-8fc8-66370eeb6ede",
   "metadata": {},
   "source": [
    "# 4차시: 대전광역시공용자전거(타슈)데이터 결정트리\n",
    "\n",
    "## 2023. 06. 07. 14:10 ~ 16:00 (50분×2)\n",
    "1. 결정트리 기초 이론 (Decision Tree)\n",
    "1. Fisher's Iris data set\n",
    "1. Iris decision tree\n",
    "1. 대전광역시 타슈 결정트리\n",
    "\n",
    "### 참고자료\n",
    "- [파이썬 3 표준 문서](https://docs.python.org/3/index.html)\n",
    "- [대전광역시 시설관리공단](https://www.djsiseol.or.kr/)\n",
    "- [공공데이터포털](https://www.data.go.kr/)\n",
    "- [기상청 기상자료개발포털](https://data.kma.go.kr/)\n",
    "- [Scikit learn Decision Tree](https://scikit-learn.org/stable/modules/tree.html)"
   ]
  },
  {
   "cell_type": "code",
   "execution_count": null,
   "id": "3561612f-3a71-4d68-9554-f3d7b128c530",
   "metadata": {},
   "outputs": [],
   "source": [
    "import datetime\n",
    "\n",
    "import numpy as np\n",
    "import pandas as pd\n",
    "from pandas.plotting import scatter_matrix\n",
    "from sklearn.datasets import load_iris\n",
    "from sklearn import tree\n",
    "from sklearn.model_selection import train_test_split\n",
    "\n",
    "import matplotlib as mpl\n",
    "import matplotlib.pyplot as plt\n",
    "%matplotlib inline"
   ]
  },
  {
   "cell_type": "markdown",
   "id": "6b922abe-8c53-46a5-86f1-ec9214d056df",
   "metadata": {},
   "source": [
    "### Iris data decision tree"
   ]
  },
  {
   "cell_type": "code",
   "execution_count": null,
   "id": "8563150d-3db3-4709-abeb-b395b9c82f55",
   "metadata": {},
   "outputs": [],
   "source": [
    "iris = load_iris()\n",
    "print(iris.DESCR)"
   ]
  },
  {
   "cell_type": "code",
   "execution_count": null,
   "id": "9e990b12-c6f7-49e9-9d27-d14558646f94",
   "metadata": {},
   "outputs": [],
   "source": [
    "df = pd.DataFrame(iris.data, columns=iris.feature_names)\n",
    "df"
   ]
  },
  {
   "cell_type": "code",
   "execution_count": null,
   "id": "967c29e7-dad9-4527-8e0e-ee2885ff0893",
   "metadata": {},
   "outputs": [],
   "source": [
    "sy = pd.Series(iris.target, dtype='category')\n",
    "sy = sy.cat.rename_categories(iris.target_names)\n",
    "df['species'] = sy\n",
    "df"
   ]
  },
  {
   "cell_type": "code",
   "execution_count": null,
   "id": "4ea52989-649f-4fc1-bfcf-af11c8daf113",
   "metadata": {},
   "outputs": [],
   "source": [
    "scatter_matrix(df[iris.feature_names],\n",
    "               c=iris.target,\n",
    "               alpha=0.5, \n",
    "               figsize=(7, 7),)"
   ]
  },
  {
   "cell_type": "code",
   "execution_count": null,
   "id": "91d8b3cf-6481-43bf-acc6-ebb73eec3126",
   "metadata": {},
   "outputs": [],
   "source": [
    "X = df[iris.feature_names]\n",
    "y = df['species']"
   ]
  },
  {
   "cell_type": "code",
   "execution_count": null,
   "id": "32f486f4-348a-42d9-ac56-597508c945fc",
   "metadata": {},
   "outputs": [],
   "source": [
    "clf = tree.DecisionTreeClassifier()\n",
    "clf = clf.fit(X, y)"
   ]
  },
  {
   "cell_type": "code",
   "execution_count": null,
   "id": "e93832fe-0053-4b19-840b-37f85fad6330",
   "metadata": {},
   "outputs": [],
   "source": [
    "fig = plt.figure(figsize=(16, 12))\n",
    "ax = fig.add_subplot()\n",
    "_ = tree.plot_tree(clf, \n",
    "                   class_names=iris.target_names,\n",
    "                   feature_names=iris.feature_names, \n",
    "                   max_depth=None, filled=True, ax=ax, fontsize='medium')"
   ]
  },
  {
   "cell_type": "code",
   "execution_count": null,
   "id": "24b793f7-490e-42d2-8534-814cd4d7d857",
   "metadata": {},
   "outputs": [],
   "source": [
    "print(tree.export_text(clf, feature_names=iris.feature_names))"
   ]
  },
  {
   "cell_type": "markdown",
   "id": "47ccfe5c-69f6-46f6-acdc-59584ba948d3",
   "metadata": {},
   "source": [
    "### 타슈 데이터셋 결정트리"
   ]
  },
  {
   "cell_type": "code",
   "execution_count": null,
   "id": "d4dd3176-0996-4422-93d5-7797e49c89ce",
   "metadata": {},
   "outputs": [],
   "source": [
    "### pickle 파일을 코드와 같은 위치에 둘 것!\n",
    "### Colab 환경이라면 pkl 파일을 업로드할 것! (`.../content/`)\n",
    "df_rent = pd.read_pickle('tashu_dataset-rental_history_2021.pkl')\n",
    "df_rent['대여일시'] = pd.to_datetime(df_rent['대여일시'], format='%Y%m%d%H%M%S')\n",
    "df_rent['반납일시'] = pd.to_datetime(df_rent['반납일시'], format='%Y%m%d%H%M%S')\n",
    "df_rent"
   ]
  },
  {
   "cell_type": "code",
   "execution_count": null,
   "id": "3ce7beb8-d110-4b06-80fb-d329ed16aeb5",
   "metadata": {},
   "outputs": [],
   "source": [
    "df_station = pd.read_pickle('tashu_dataset-station_information.pkl')\n",
    "df_station"
   ]
  }
 ],
 "metadata": {
  "kernelspec": {
   "display_name": "Python 3 (ipykernel)",
   "language": "python",
   "name": "python3"
  },
  "language_info": {
   "codemirror_mode": {
    "name": "ipython",
    "version": 3
   },
   "file_extension": ".py",
   "mimetype": "text/x-python",
   "name": "python",
   "nbconvert_exporter": "python",
   "pygments_lexer": "ipython3",
   "version": "3.10.9"
  }
 },
 "nbformat": 4,
 "nbformat_minor": 5
}
