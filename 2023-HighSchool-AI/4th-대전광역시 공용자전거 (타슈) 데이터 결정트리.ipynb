{
 "cells": [
  {
   "cell_type": "markdown",
   "id": "d34f8b7f-a732-40cc-8fc8-66370eeb6ede",
   "metadata": {},
   "source": [
    "# 4차시: 대전광역시공용자전거(타슈)데이터 결정트리\n",
    "\n",
    "## 2023. 06. 07. 14:10 ~ 16:00 (50분×2)\n",
    "1. 결정트리 기초 이론 (Decision Tree)\n",
    "1. Fisher's Iris data set\n",
    "1. Iris decision tree\n",
    "1. 대전광역시 타슈 결정트리\n",
    "\n",
    "### 참고자료\n",
    "- [파이썬 3 표준 문서](https://docs.python.org/3/index.html)\n",
    "- [대전광역시 시설관리공단](https://www.djsiseol.or.kr/)\n",
    "- [공공데이터포털](https://www.data.go.kr/)\n",
    "- [기상청 기상자료개발포털](https://data.kma.go.kr/)\n",
    "- [Scikit learn Decision Tree](https://scikit-learn.org/stable/modules/tree.html)"
   ]
  },
  {
   "cell_type": "code",
   "execution_count": null,
   "id": "3561612f-3a71-4d68-9554-f3d7b128c530",
   "metadata": {},
   "outputs": [],
   "source": [
    "import datetime\n",
    "\n",
    "import numpy as np\n",
    "import pandas as pd\n",
    "from pandas.plotting import scatter_matrix\n",
    "from sklearn.datasets import load_iris\n",
    "from sklearn import tree\n",
    "from sklearn.model_selection import train_test_split\n",
    "\n",
    "import matplotlib as mpl\n",
    "import matplotlib.pyplot as plt\n",
    "%matplotlib inline"
   ]
  },
  {
   "cell_type": "markdown",
   "id": "6b922abe-8c53-46a5-86f1-ec9214d056df",
   "metadata": {},
   "source": [
    "### Iris data decision tree"
   ]
  },
  {
   "cell_type": "code",
   "execution_count": null,
   "id": "8563150d-3db3-4709-abeb-b395b9c82f55",
   "metadata": {},
   "outputs": [],
   "source": [
    "iris = load_iris()\n",
    "print(iris.DESCR)"
   ]
  },
  {
   "cell_type": "code",
   "execution_count": null,
   "id": "9e990b12-c6f7-49e9-9d27-d14558646f94",
   "metadata": {},
   "outputs": [],
   "source": [
    "df = pd.DataFrame(iris.data, columns=iris.feature_names)\n",
    "df"
   ]
  },
  {
   "cell_type": "code",
   "execution_count": null,
   "id": "967c29e7-dad9-4527-8e0e-ee2885ff0893",
   "metadata": {},
   "outputs": [],
   "source": [
    "sy = pd.Series(iris.target, dtype='category')\n",
    "sy = sy.cat.rename_categories(iris.target_names)\n",
    "df['species'] = sy\n",
    "df"
   ]
  },
  {
   "cell_type": "code",
   "execution_count": null,
   "id": "4ea52989-649f-4fc1-bfcf-af11c8daf113",
   "metadata": {},
   "outputs": [],
   "source": [
    "scatter_matrix(df[iris.feature_names],\n",
    "               c=iris.target,\n",
    "               alpha=0.5, \n",
    "               figsize=(7, 7),)"
   ]
  },
  {
   "cell_type": "code",
   "execution_count": null,
   "id": "91d8b3cf-6481-43bf-acc6-ebb73eec3126",
   "metadata": {},
   "outputs": [],
   "source": [
    "X = df[iris.feature_names]\n",
    "y = df['species']"
   ]
  },
  {
   "cell_type": "code",
   "execution_count": null,
   "id": "32f486f4-348a-42d9-ac56-597508c945fc",
   "metadata": {},
   "outputs": [],
   "source": [
    "clf = tree.DecisionTreeClassifier()\n",
    "clf = clf.fit(X, y)"
   ]
  },
  {
   "cell_type": "code",
   "execution_count": null,
   "id": "e93832fe-0053-4b19-840b-37f85fad6330",
   "metadata": {},
   "outputs": [],
   "source": [
    "fig = plt.figure(figsize=(16, 12))\n",
    "ax = fig.add_subplot()\n",
    "_ = tree.plot_tree(clf, \n",
    "                   class_names=iris.target_names,\n",
    "                   feature_names=iris.feature_names, \n",
    "                   max_depth=None, filled=True, ax=ax, fontsize='medium')"
   ]
  },
  {
   "cell_type": "code",
   "execution_count": null,
   "id": "24b793f7-490e-42d2-8534-814cd4d7d857",
   "metadata": {},
   "outputs": [],
   "source": [
    "print(tree.export_text(clf, feature_names=iris.feature_names))"
   ]
  },
  {
   "cell_type": "markdown",
   "id": "47ccfe5c-69f6-46f6-acdc-59584ba948d3",
   "metadata": {},
   "source": [
    "### 타슈 데이터셋 결정트리"
   ]
  },
  {
   "cell_type": "code",
   "execution_count": null,
   "id": "d4dd3176-0996-4422-93d5-7797e49c89ce",
   "metadata": {},
   "outputs": [],
   "source": [
    "### pickle 파일을 코드와 같은 위치에 둘 것!\n",
    "### Colab 환경이라면 pkl 파일을 업로드할 것! (`.../content/`)\n",
    "df_rent = pd.read_pickle('tashu_dataset-rental_history_2021.pkl')\n",
    "df_rent['대여일시'] = pd.to_datetime(df_rent['대여일시'], format='%Y%m%d%H%M%S')\n",
    "df_rent['반납일시'] = pd.to_datetime(df_rent['반납일시'], format='%Y%m%d%H%M%S')\n",
    "df_rent"
   ]
  },
  {
   "cell_type": "code",
   "execution_count": null,
   "id": "3ce7beb8-d110-4b06-80fb-d329ed16aeb5",
   "metadata": {},
   "outputs": [],
   "source": [
    "df_station = pd.read_pickle('tashu_dataset-station_information.pkl')\n",
    "df_station"
   ]
  },
  {
   "cell_type": "code",
   "execution_count": null,
   "id": "aaacbe0e-a8be-471d-b615-1b0c1f9d0fe0",
   "metadata": {},
   "outputs": [],
   "source": [
    "df = df_rent\n",
    "df_rent_by_station_count = df['반납스테이션'].groupby(by=df['대여스테이션']).count()\n",
    "df_rent_by_station_count"
   ]
  },
  {
   "cell_type": "code",
   "execution_count": null,
   "id": "b8721920-e1bb-4027-851c-34c1dec7f79f",
   "metadata": {},
   "outputs": [],
   "source": [
    "df_return_count = df.loc[df['대여스테이션'] == df['반납스테이션']]['반납스테이션'].groupby(by=df['대여스테이션']).count()\n",
    "df_return_count"
   ]
  },
  {
   "cell_type": "code",
   "execution_count": null,
   "id": "611610e6-cd1d-4b8e-89c9-1c93eae06283",
   "metadata": {},
   "outputs": [],
   "source": [
    "df_return_ratio = df_return_count / df_rent_by_station_count\n",
    "df_return_ratio"
   ]
  },
  {
   "cell_type": "code",
   "execution_count": null,
   "id": "24029079-5077-4748-a7e2-738f51387b03",
   "metadata": {},
   "outputs": [],
   "source": [
    "fig = plt.figure(figsize= (8, 6))\n",
    "ax = fig.add_subplot()\n",
    "ax.bar(df_return_ratio.index, df_return_ratio)\n",
    "ax.set_title('Return ratio by station', fontsize='x-large')\n",
    "ax.set_xlabel('Station number', fontsize='large')\n",
    "ax.set_ylabel('Return ratio', fontsize='large')\n",
    "ax.set_ylim((0, 1))"
   ]
  },
  {
   "cell_type": "code",
   "execution_count": null,
   "id": "1a5cab47-dc2a-402c-8484-078837de7078",
   "metadata": {},
   "outputs": [],
   "source": [
    "print_max = 30\n",
    "count = 0\n",
    "for index, row in df_return_ratio.sort_values(ascending=False).items():\n",
    "    station_name = df_station[df_station.index == index]['대여소명'].values[0]\n",
    "    print(f'정류장 번호: {index}, 정류장 이름: {station_name}, 반납 비율: {row}')\n",
    "    count += 1\n",
    "    if count > print_max:\n",
    "        break"
   ]
  },
  {
   "cell_type": "code",
   "execution_count": null,
   "id": "f02687cb-0174-4e37-8e30-2191feb52f7a",
   "metadata": {},
   "outputs": [],
   "source": [
    "fig = plt.figure(figsize= (8, 6))\n",
    "ax = fig.add_subplot()\n",
    "ax.hist(df_return_ratio)\n",
    "ax.set_title('Return ratio histogram', fontsize='x-large')\n",
    "ax.set_xlabel('Return ratio', fontsize='large')\n",
    "ax.set_ylabel('Count', fontsize='large')"
   ]
  },
  {
   "cell_type": "code",
   "execution_count": null,
   "id": "bc63f921-cffa-4827-b541-44331bb82614",
   "metadata": {},
   "outputs": [],
   "source": [
    "df_feature = pd.DataFrame()\n",
    "df_feature['대여스테이션'] = df['대여스테이션']\n",
    "df_feature['대여시'] = df['대여일시'].dt.hour\n",
    "df_feature['대여요일'] = df['대여일시'].dt.dayofweek\n",
    "df_feature['귀환'] = df['대여스테이션'] == df['반납스테이션']\n",
    "df_feature"
   ]
  },
  {
   "cell_type": "code",
   "execution_count": null,
   "id": "265ff71a-1481-442a-84d1-535f8720e4a8",
   "metadata": {},
   "outputs": [],
   "source": [
    "features = ['대여스테이션', '대여시', '대여요일']\n",
    "X = df_feature[features]\n",
    "y = df_feature['귀환']"
   ]
  },
  {
   "cell_type": "code",
   "execution_count": null,
   "id": "ebbd2bb8-db6b-4663-b6eb-18047552dce4",
   "metadata": {},
   "outputs": [],
   "source": [
    "test_size = 0.2\n",
    "X_train, X_test, y_train, y_test = train_test_split(X, y, test_size=test_size)\n",
    "print(f'학습에 사용할 피처 크기: {X_train.shape}')\n",
    "print(f'예측에 사용할 피처 크기: {X_test.shape}')"
   ]
  },
  {
   "cell_type": "code",
   "execution_count": null,
   "id": "15a518ab-3967-4e60-8e9b-1252ff1dd8da",
   "metadata": {},
   "outputs": [],
   "source": [
    "clf = tree.DecisionTreeClassifier()\n",
    "clf.fit(X_train, y_train)"
   ]
  },
  {
   "cell_type": "code",
   "execution_count": null,
   "id": "96df8dc2-fa01-4c46-b97f-6d159cc26297",
   "metadata": {},
   "outputs": [],
   "source": [
    "print(f'학습 정확도: {clf.score(X_train, y_train)}') \n",
    "print(f'예측 정확도: {clf.score(X_test, y_test)}') "
   ]
  },
  {
   "cell_type": "code",
   "execution_count": null,
   "id": "111e7e08-e217-413b-941c-11e864f51824",
   "metadata": {},
   "outputs": [],
   "source": [
    "for name, importance in zip (features, clf.feature_importances_):\n",
    "    print(f'{name} = {importance}')"
   ]
  },
  {
   "cell_type": "code",
   "execution_count": null,
   "id": "fd60787c-498f-4481-8303-4eb667cb058a",
   "metadata": {},
   "outputs": [],
   "source": [
    "fig = plt.figure(figsize=(16, 12))\n",
    "ax = fig.add_subplot()\n",
    "_ = tree.plot_tree(clf, \n",
    "                   feature_names=['RentStation', 'RentHour', 'RentWeekday'],\n",
    "                   max_depth=10, filled=True, ax=ax, fontsize='medium')"
   ]
  },
  {
   "cell_type": "code",
   "execution_count": null,
   "id": "5c7c9d93-638a-4048-97bb-766ee6467883",
   "metadata": {},
   "outputs": [],
   "source": [
    "clf = tree.DecisionTreeClassifier(max_depth=5)\n",
    "clf.fit(X_train, y_train)"
   ]
  },
  {
   "cell_type": "code",
   "execution_count": null,
   "id": "1a4352e0-e1d6-4837-ae56-357b260f52e8",
   "metadata": {},
   "outputs": [],
   "source": [
    "print(f'학습 평균 정확도: {clf.score(X_train, y_train)}') \n",
    "print(f'예측 평균 정확도: {clf.score(X_test, y_test)}') "
   ]
  },
  {
   "cell_type": "code",
   "execution_count": null,
   "id": "0abed9d0-7fe7-4832-9241-9e1ea1ff225d",
   "metadata": {},
   "outputs": [],
   "source": [
    "for name, importance in zip (features, clf.feature_importances_):\n",
    "    print(f'{name} = {importance}')"
   ]
  },
  {
   "cell_type": "code",
   "execution_count": null,
   "id": "bba7a92a-8b10-46f8-a34a-9d2ac61109ab",
   "metadata": {},
   "outputs": [],
   "source": [
    "fig = plt.figure(figsize=(16, 12))\n",
    "ax = fig.add_subplot()\n",
    "_ = tree.plot_tree(clf, \n",
    "                   feature_names=['RentStation', 'RentHour', 'RentWeekday'],\n",
    "                   max_depth=None, filled=True, ax=ax, fontsize='medium')"
   ]
  }
 ],
 "metadata": {
  "kernelspec": {
   "display_name": "Python 3 (ipykernel)",
   "language": "python",
   "name": "python3"
  },
  "language_info": {
   "codemirror_mode": {
    "name": "ipython",
    "version": 3
   },
   "file_extension": ".py",
   "mimetype": "text/x-python",
   "name": "python",
   "nbconvert_exporter": "python",
   "pygments_lexer": "ipython3",
   "version": "3.10.12"
  }
 },
 "nbformat": 4,
 "nbformat_minor": 5
}
