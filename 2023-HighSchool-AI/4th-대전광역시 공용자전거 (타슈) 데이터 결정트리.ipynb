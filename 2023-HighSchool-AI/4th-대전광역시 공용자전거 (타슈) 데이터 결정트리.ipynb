{
 "cells": [
  {
   "cell_type": "markdown",
   "id": "d34f8b7f-a732-40cc-8fc8-66370eeb6ede",
   "metadata": {},
   "source": [
    "# 4차시: 대전광역시공용자전거(타슈)데이터 결정트리\n",
    "\n",
    "## 2023. 06. 07. 14:10 ~ 16:00 (50분×2)\n",
    "1. 결정트리 기초 이론 (Decision Tree)\n",
    "1. Fisher's Iris data set\n",
    "1. Iris decision tree\n",
    "1. 대전광역시 타슈 결정트리\n",
    "\n",
    "### 참고자료\n",
    "- [파이썬 3 표준 문서](https://docs.python.org/3/index.html)\n",
    "- [대전광역시 시설관리공단](https://www.djsiseol.or.kr/)\n",
    "- [공공데이터포털](https://www.data.go.kr/)\n",
    "- [기상청 기상자료개발포털](https://data.kma.go.kr/)\n",
    "- [Scikit learn Decision Tree](https://scikit-learn.org/stable/modules/tree.html)"
   ]
  },
  {
   "cell_type": "code",
   "execution_count": null,
   "id": "3561612f-3a71-4d68-9554-f3d7b128c530",
   "metadata": {},
   "outputs": [],
   "source": []
  }
 ],
 "metadata": {
  "kernelspec": {
   "display_name": "Python 3 (ipykernel)",
   "language": "python",
   "name": "python3"
  },
  "language_info": {
   "codemirror_mode": {
    "name": "ipython",
    "version": 3
   },
   "file_extension": ".py",
   "mimetype": "text/x-python",
   "name": "python",
   "nbconvert_exporter": "python",
   "pygments_lexer": "ipython3",
   "version": "3.10.9"
  }
 },
 "nbformat": 4,
 "nbformat_minor": 5
}
