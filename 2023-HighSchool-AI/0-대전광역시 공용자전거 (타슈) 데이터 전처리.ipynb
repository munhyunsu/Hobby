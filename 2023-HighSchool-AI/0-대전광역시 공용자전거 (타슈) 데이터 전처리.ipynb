{
 "cells": [
  {
   "cell_type": "markdown",
   "id": "cdd5c926-2472-453c-b9ed-f3077e893189",
   "metadata": {},
   "source": [
    "# 수업 준비: 대전광역시공용자전거(타슈)데이터 결정트리\n",
    "\n",
    "### 참고자료\n",
    "- [대전광역시 시설관리공단](https://www.djsiseol.or.kr/)\n",
    "- [공공데이터포털](https://www.data.go.kr/)\n",
    "- [기상청 기상자료개발포털](https://data.kma.go.kr/)"
   ]
  },
  {
   "cell_type": "code",
   "execution_count": null,
   "id": "a5d6d112-153e-4c0e-950a-c3feb6b65417",
   "metadata": {},
   "outputs": [],
   "source": [
    "import numpy as np\n",
    "import pandas as pd"
   ]
  },
  {
   "cell_type": "markdown",
   "id": "0e8ea8c5-fe36-4eb3-9f74-d00a425a58f9",
   "metadata": {},
   "source": [
    "# Rental history"
   ]
  },
  {
   "cell_type": "code",
   "execution_count": null,
   "id": "1967346d-4fb7-43ad-8947-3c596ebcb5a0",
   "metadata": {},
   "outputs": [],
   "source": [
    "data_path = ['rawdata/2016.csv',\n",
    "             'rawdata/2017.csv',\n",
    "             'rawdata/2018.csv',\n",
    "             'rawdata/2019.csv',\n",
    "             'rawdata/2020.csv',\n",
    "             'rawdata/2021.csv',\n",
    "             # 'rawdata/2022.csv',\n",
    "            ]"
   ]
  },
  {
   "cell_type": "code",
   "execution_count": null,
   "id": "2f98a7ba-e4b9-4841-a2d6-586228994a75",
   "metadata": {},
   "outputs": [],
   "source": [
    "df = pd.DataFrame()\n",
    "for path in data_path:\n",
    "    tdf = pd.read_csv(path)\n",
    "    df = pd.concat([df, tdf], ignore_index=True)\n",
    "df = df.drop(df[df.isnull().any(axis=1)].index)\n",
    "df = df.drop(df[(df['대여스테이션'] == 0) | (df['반납스테이션'] == 0)].index)\n",
    "df"
   ]
  },
  {
   "cell_type": "code",
   "execution_count": null,
   "id": "40e187b8-5ef7-494f-ba4a-14821450dd3d",
   "metadata": {},
   "outputs": [],
   "source": [
    "df = df.astype({'대여스테이션': 'int16', '대여일시': 'str', \n",
    "                '반납스테이션': 'int16', '반납일시': 'str', \n",
    "                '이동거리': 'float32', '회원구분': 'int8'})"
   ]
  },
  {
   "cell_type": "code",
   "execution_count": null,
   "id": "899b635f-9c50-4a1b-8ee3-abbd54c3f703",
   "metadata": {},
   "outputs": [],
   "source": [
    "df['대여일시'] = df['대여일시'].replace('\\.\\d+', '', regex=True)\n",
    "df['반납일시'] = df['반납일시'].replace('\\.\\d+', '', regex=True)"
   ]
  },
  {
   "cell_type": "code",
   "execution_count": null,
   "id": "1ee7af62-f3bf-417a-9d30-43478f7736a2",
   "metadata": {},
   "outputs": [],
   "source": [
    "df.to_pickle('tashu_dataset-rental_history.pkl')"
   ]
  },
  {
   "cell_type": "markdown",
   "id": "cfe72e7e-0e66-4f79-bee7-f39527f2f3dc",
   "metadata": {},
   "source": [
    "# Station information"
   ]
  },
  {
   "cell_type": "code",
   "execution_count": null,
   "id": "8ecbdc5d-c001-4dc5-9162-1f3930206572",
   "metadata": {},
   "outputs": [],
   "source": [
    "path = 'rawdata/loc_20230101.csv'"
   ]
  },
  {
   "cell_type": "code",
   "execution_count": null,
   "id": "df8183fd-2d16-42fe-9117-734b9c8b902c",
   "metadata": {},
   "outputs": [],
   "source": [
    "df = pd.read_csv(path, index_col='번호')\n",
    "df"
   ]
  },
  {
   "cell_type": "code",
   "execution_count": null,
   "id": "0b27bf7d-b68f-443f-be63-c199769d0db2",
   "metadata": {},
   "outputs": [],
   "source": [
    "df = df.astype({'구분': 'str', \n",
    "                '대여소명': 'str', \n",
    "                '구': 'str', \n",
    "                '동': 'str', \n",
    "                '위도': 'float32', \n",
    "                '경도': 'float32'})\n",
    "df"
   ]
  },
  {
   "cell_type": "code",
   "execution_count": null,
   "id": "8215c942-59e2-4aee-aacf-928ce11a325c",
   "metadata": {},
   "outputs": [],
   "source": [
    "df.to_pickle('tashu_dataset-station_information.pkl')"
   ]
  },
  {
   "cell_type": "markdown",
   "id": "471ff7ae-9675-47c1-aaf1-16090a3e6f0a",
   "metadata": {},
   "source": [
    "# Weather information"
   ]
  },
  {
   "cell_type": "code",
   "execution_count": null,
   "id": "59ba13b9-89f9-43cc-bf2d-2f2f3ea82f18",
   "metadata": {},
   "outputs": [],
   "source": [
    "data_path = ['rawdata/weather_20230101.csv'\n",
    "            ]"
   ]
  },
  {
   "cell_type": "code",
   "execution_count": null,
   "id": "1243e563-ad74-4b57-ad7a-82906b1cfb74",
   "metadata": {},
   "outputs": [],
   "source": [
    "df = pd.DataFrame()\n",
    "for path in data_path:\n",
    "    tdf = pd.read_csv(path)\n",
    "    df = pd.concat([df, tdf], ignore_index=True)\n",
    "df.fillna(0, inplace=True)\n",
    "df"
   ]
  },
  {
   "cell_type": "code",
   "execution_count": null,
   "id": "2b25c911-748f-43ac-82fc-439717f5d58f",
   "metadata": {},
   "outputs": [],
   "source": [
    "df = df.astype({'지점': 'int16', '지점명': 'str', '일시': 'str', \n",
    "                '평균기온(°C)': 'float32', '일강수량(mm)': 'float32'})\n",
    "df"
   ]
  },
  {
   "cell_type": "code",
   "execution_count": null,
   "id": "d7aff99c-2c7b-42e5-bef4-cbae1c60aef4",
   "metadata": {},
   "outputs": [],
   "source": [
    "df.to_pickle('weather.pkl')"
   ]
  }
 ],
 "metadata": {
  "kernelspec": {
   "display_name": "Python 3 (ipykernel)",
   "language": "python",
   "name": "python3"
  },
  "language_info": {
   "codemirror_mode": {
    "name": "ipython",
    "version": 3
   },
   "file_extension": ".py",
   "mimetype": "text/x-python",
   "name": "python",
   "nbconvert_exporter": "python",
   "pygments_lexer": "ipython3",
   "version": "3.10.12"
  }
 },
 "nbformat": 4,
 "nbformat_minor": 5
}
