{
 "cells": [
  {
   "cell_type": "markdown",
   "id": "cdd5c926-2472-453c-b9ed-f3077e893189",
   "metadata": {},
   "source": [
    "# 수업 준비: 대전광역시공용자전거(타슈)데이터 결정트리\n",
    "\n",
    "### 참고자료\n",
    "- [대전광역시 시설관리공단](https://www.djsiseol.or.kr/)\n",
    "- [공공데이터포털](https://www.data.go.kr/)\n",
    "- [기상청 기상자료개발포털](https://data.kma.go.kr/)"
   ]
  },
  {
   "cell_type": "code",
   "execution_count": null,
   "id": "a5d6d112-153e-4c0e-950a-c3feb6b65417",
   "metadata": {},
   "outputs": [],
   "source": [
    "import numpy as np\n",
    "import pandas as pd"
   ]
  },
  {
   "cell_type": "markdown",
   "id": "0e8ea8c5-fe36-4eb3-9f74-d00a425a58f9",
   "metadata": {},
   "source": [
    "# Rental history"
   ]
  },
  {
   "cell_type": "code",
   "execution_count": null,
   "id": "1967346d-4fb7-43ad-8947-3c596ebcb5a0",
   "metadata": {},
   "outputs": [],
   "source": [
    "data_path = ['rawdata/2016.csv',\n",
    "             'rawdata/2017.csv',\n",
    "             'rawdata/2018.csv',\n",
    "             'rawdata/2019.csv',\n",
    "             'rawdata/2020.csv',\n",
    "             'rawdata/2021.csv',\n",
    "             # 'rawdata/2022.csv',\n",
    "            ]"
   ]
  },
  {
   "cell_type": "code",
   "execution_count": null,
   "id": "2f98a7ba-e4b9-4841-a2d6-586228994a75",
   "metadata": {},
   "outputs": [],
   "source": [
    "df = pd.DataFrame()\n",
    "for path in data_path:\n",
    "    tdf = pd.read_csv(path)\n",
    "    df = pd.concat([df, tdf], ignore_index=True)\n",
    "df = df.drop(df[df.isnull().any(axis=1)].index)\n",
    "df = df.drop(df[(df['대여스테이션'] == 0) | (df['반납스테이션'] == 0)].index)\n",
    "df"
   ]
  },
  {
   "cell_type": "code",
   "execution_count": null,
   "id": "40e187b8-5ef7-494f-ba4a-14821450dd3d",
   "metadata": {},
   "outputs": [],
   "source": [
    "df = df.astype({'대여스테이션': 'int16', '대여일시': 'str', \n",
    "                '반납스테이션': 'int16', '반납일시': 'str', \n",
    "                '이동거리': 'float32', '회원구분': 'int8'})"
   ]
  },
  {
   "cell_type": "code",
   "execution_count": null,
   "id": "899b635f-9c50-4a1b-8ee3-abbd54c3f703",
   "metadata": {},
   "outputs": [],
   "source": [
    "df['대여일시'] = df['대여일시'].replace('\\.\\d+', '', regex=True)\n",
    "df['반납일시'] = df['반납일시'].replace('\\.\\d+', '', regex=True)"
   ]
  },
  {
   "cell_type": "code",
   "execution_count": null,
   "id": "9abd8d3c-38e3-47ab-a90c-09a34337bb2f",
   "metadata": {},
   "outputs": [],
   "source": [
    "df"
   ]
  }
 ],
 "metadata": {
  "kernelspec": {
   "display_name": "Python 3 (ipykernel)",
   "language": "python",
   "name": "python3"
  },
  "language_info": {
   "codemirror_mode": {
    "name": "ipython",
    "version": 3
   },
   "file_extension": ".py",
   "mimetype": "text/x-python",
   "name": "python",
   "nbconvert_exporter": "python",
   "pygments_lexer": "ipython3",
   "version": "3.10.9"
  }
 },
 "nbformat": 4,
 "nbformat_minor": 5
}
