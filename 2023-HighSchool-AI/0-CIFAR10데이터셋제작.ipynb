{
 "cells": [
  {
   "cell_type": "markdown",
   "id": "049a29eb-12d7-423f-9d8a-da49a58fdd64",
   "metadata": {},
   "source": [
    "# 수업 준비: CIFAR10 데이터셋 제작\n",
    "\n",
    "## 텐서플로우 전이학습 (보조)\n",
    "\n",
    "### 참고자료\n",
    "- [파이썬 3 표준 문서](https://docs.python.org/3/index.html)\n",
    "- [텐서플로우 이미지 분류](https://www.tensorflow.org/tutorials/keras/classification)\n",
    "- [텐서플로우 전이학습](https://www.tensorflow.org/tutorials/images/transfer_learning_with_hub)"
   ]
  },
  {
   "cell_type": "code",
   "execution_count": null,
   "id": "74d059a7-53f2-4617-a010-7d8d9ddb86cc",
   "metadata": {},
   "outputs": [],
   "source": [
    "import os\n",
    "\n",
    "import tensorflow as tf\n",
    "import PIL.Image as Image"
   ]
  },
  {
   "cell_type": "code",
   "execution_count": null,
   "id": "c8121571-655a-4bbc-b88b-df2dbbc785f8",
   "metadata": {},
   "outputs": [],
   "source": [
    "(train_images, train_labels), (test_images, test_labels) = tf.keras.datasets.cifar10.load_data()"
   ]
  },
  {
   "cell_type": "code",
   "execution_count": null,
   "id": "c281936f-798e-486e-9b07-448b2669add7",
   "metadata": {},
   "outputs": [],
   "source": [
    "len(train_images)"
   ]
  },
  {
   "cell_type": "code",
   "execution_count": null,
   "id": "0dc423c0-259b-40d9-b162-a9ebdf310b0c",
   "metadata": {},
   "outputs": [],
   "source": [
    "len(test_images)"
   ]
  },
  {
   "cell_type": "code",
   "execution_count": null,
   "id": "91477345-4b5f-4cf9-b2cb-d8efaa38f9f6",
   "metadata": {},
   "outputs": [],
   "source": [
    "# https://www.tensorflow.org/api_docs/python/tf/keras/datasets/cifar10/load_data\n",
    "labels = ['Airplane', 'Automobile', 'Bird', 'Cat', 'Deer', 'Dog', 'Frog', 'Horse', 'Ship', 'Truck']\n",
    "labels"
   ]
  },
  {
   "cell_type": "code",
   "execution_count": null,
   "id": "87e62729-26d5-4964-b64b-e5032fbf286d",
   "metadata": {},
   "outputs": [],
   "source": [
    "root = os.path.abspath(os.path.expanduser('dataset-cifar10'))\n",
    "root"
   ]
  },
  {
   "cell_type": "code",
   "execution_count": null,
   "id": "19e6d35c-a192-46e6-8910-ef8d8a023c6d",
   "metadata": {},
   "outputs": [],
   "source": [
    "counter = {}\n",
    "output = os.path.join(root, 'all')\n",
    "for image, label in zip(train_images, train_labels):\n",
    "    img = Image.fromarray(image)\n",
    "    label = labels[label[0]]\n",
    "    num = counter.get(label, 0)\n",
    "    os.makedirs(os.path.join(output, label), exist_ok=True)\n",
    "    path = os.path.join(output, label, f'{num:04d}.jpg')\n",
    "    img.save(path)\n",
    "    counter[label] = num + 1\n",
    "for image, label in zip(test_images, test_labels):\n",
    "    img = Image.fromarray(image)\n",
    "    label = labels[label[0]]\n",
    "    num = counter.get(label, 0)\n",
    "    os.makedirs(os.path.join(output, label), exist_ok=True)\n",
    "    path = os.path.join(output, label, f'{num:04d}.jpg')\n",
    "    img.save(path)\n",
    "    counter[label] = num + 1"
   ]
  },
  {
   "cell_type": "code",
   "execution_count": null,
   "id": "f500e805-364e-46b3-baaf-44cb63f18f05",
   "metadata": {},
   "outputs": [],
   "source": [
    "counter = {}\n",
    "output = os.path.join(root, 'train')\n",
    "for image, label in zip(train_images, train_labels):\n",
    "    img = Image.fromarray(image)\n",
    "    label = labels[label[0]]\n",
    "    num = counter.get(label, 0)\n",
    "    os.makedirs(os.path.join(output, label), exist_ok=True)\n",
    "    path = os.path.join(output, label, f'{num:04d}.jpg')\n",
    "    img.save(path)\n",
    "    counter[label] = num + 1"
   ]
  },
  {
   "cell_type": "code",
   "execution_count": null,
   "id": "b9e977b1-477d-4e04-97bd-9fdd9afda41e",
   "metadata": {},
   "outputs": [],
   "source": [
    "counter = {}\n",
    "output = os.path.join(root, 'test')\n",
    "for image, label in zip(test_images, test_labels):\n",
    "    img = Image.fromarray(image)\n",
    "    label = labels[label[0]]\n",
    "    num = counter.get(label, 0)\n",
    "    os.makedirs(os.path.join(output, label), exist_ok=True)\n",
    "    path = os.path.join(output, label, f'{num:04d}.jpg')\n",
    "    img.save(path)\n",
    "    counter[label] = num + 1"
   ]
  },
  {
   "cell_type": "code",
   "execution_count": null,
   "id": "3cfe1134-1376-4f1c-b8f1-116fb5be22bd",
   "metadata": {},
   "outputs": [],
   "source": []
  }
 ],
 "metadata": {
  "kernelspec": {
   "display_name": "FLHub",
   "language": "python",
   "name": "flhub"
  },
  "language_info": {
   "codemirror_mode": {
    "name": "ipython",
    "version": 3
   },
   "file_extension": ".py",
   "mimetype": "text/x-python",
   "name": "python",
   "nbconvert_exporter": "python",
   "pygments_lexer": "ipython3",
   "version": "3.11.4"
  }
 },
 "nbformat": 4,
 "nbformat_minor": 5
}
