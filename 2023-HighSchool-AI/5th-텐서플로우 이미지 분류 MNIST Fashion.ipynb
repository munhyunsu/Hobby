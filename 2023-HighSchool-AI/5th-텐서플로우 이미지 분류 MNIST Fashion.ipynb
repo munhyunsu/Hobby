{
 "cells": [
  {
   "cell_type": "markdown",
   "id": "8e3ac375-555f-4331-a735-8cfbe18deb37",
   "metadata": {},
   "source": [
    "# 5차시: 텐서플로우 이미지 분류\n",
    "\n",
    "## 2023. 06. 21. 14:10 ~ 16:00 (50분×2)\n",
    "1. 딥러닝 기초\n",
    "1. MNIST Fashion 데이터 셋\n",
    "1. 텐서플로우 실습\n",
    "\n",
    "### 참고자료\n",
    "- [파이썬 3 표준 문서](https://docs.python.org/3/index.html)\n",
    "- [텐서플로우 이미지 분류](https://www.tensorflow.org/tutorials/keras/classification)"
   ]
  },
  {
   "cell_type": "code",
   "execution_count": null,
   "id": "bc6ad756-cd2d-48c5-afae-d4ed5079587f",
   "metadata": {},
   "outputs": [],
   "source": []
  }
 ],
 "metadata": {
  "kernelspec": {
   "display_name": "Python 3 (ipykernel)",
   "language": "python",
   "name": "python3"
  },
  "language_info": {
   "codemirror_mode": {
    "name": "ipython",
    "version": 3
   },
   "file_extension": ".py",
   "mimetype": "text/x-python",
   "name": "python",
   "nbconvert_exporter": "python",
   "pygments_lexer": "ipython3",
   "version": "3.10.9"
  }
 },
 "nbformat": 4,
 "nbformat_minor": 5
}
