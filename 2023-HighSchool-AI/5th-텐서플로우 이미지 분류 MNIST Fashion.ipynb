{
 "cells": [
  {
   "cell_type": "markdown",
   "id": "8e3ac375-555f-4331-a735-8cfbe18deb37",
   "metadata": {},
   "source": [
    "# 5차시: 텐서플로우 이미지 분류\n",
    "\n",
    "## 2023. 06. 21. 14:10 ~ 16:00 (50분×2)\n",
    "1. 딥러닝 기초\n",
    "1. MNIST Fashion 데이터 셋\n",
    "1. 텐서플로우 실습\n",
    "\n",
    "### 참고자료\n",
    "- [파이썬 3 표준 문서](https://docs.python.org/3/index.html)\n",
    "- [텐서플로우 이미지 분류](https://www.tensorflow.org/tutorials/keras/classification)"
   ]
  },
  {
   "cell_type": "markdown",
   "id": "836ff494-685e-4a61-969e-821670ce1658",
   "metadata": {},
   "source": [
    "### 1. 도구 불러오기 및 버전 확인"
   ]
  },
  {
   "cell_type": "code",
   "execution_count": null,
   "id": "376e63fd-5c66-4e99-934e-db79f50bdacf",
   "metadata": {},
   "outputs": [],
   "source": [
    "# 도구 준비\n",
    "import os\n",
    "import shutil\n",
    "\n",
    "import tensorflow as tf # 텐서플로우\n",
    "import matplotlib.pyplot as plt # 시각화 도구\n",
    "%matplotlib inline\n",
    "import numpy as np"
   ]
  },
  {
   "cell_type": "code",
   "execution_count": null,
   "id": "8d19a52a-132c-4ed7-ad8b-34dfa7497fca",
   "metadata": {},
   "outputs": [],
   "source": [
    "print(f'Tensorflow 버전을 확인합니다: {tf.__version__}')"
   ]
  },
  {
   "cell_type": "markdown",
   "id": "2df7a7fb-04da-458a-bcd2-188c269a8071",
   "metadata": {},
   "source": [
    "### 2. 학습 데이터 다운로드: MNIST Fashion"
   ]
  },
  {
   "cell_type": "code",
   "execution_count": null,
   "id": "e2e0dd40-7fda-4bd3-baa4-fa72af15568d",
   "metadata": {},
   "outputs": [],
   "source": [
    "# 데이터 다운로드\n",
    "# dataset_path = 'C:\\Users\\<your_username>\\.keras\\datasets' # Windows\n",
    "# dataset_path = os.path.abspath(os.path.expanduser('~/.keras/datasets/')) # Linux\n",
    "# if os.path.exists(dataset_path):\n",
    "#     shutil.rmtree(dataset_path)\n",
    "(_train_images, train_labels), (_test_images, test_labels) = tf.keras.datasets.fashion_mnist.load_data()"
   ]
  },
  {
   "cell_type": "code",
   "execution_count": null,
   "id": "05a2e8a3-7441-4d6a-b715-ffc04f299661",
   "metadata": {},
   "outputs": [],
   "source": [
    "print(f'학습에 사용할 이미지는 {len(_train_images)}개 입니다.')\n",
    "print(f'학습한 후 테스트(검증)에 사용할 이미지는 {len(_test_images)}개 입니다.')"
   ]
  },
  {
   "cell_type": "code",
   "execution_count": null,
   "id": "4eb8bc18-de06-4f04-a9a1-a77ecaeda80e",
   "metadata": {},
   "outputs": [],
   "source": [
    "# https://www.tensorflow.org/api_docs/python/tf/keras/datasets \n",
    "class_names = ['T-shirt/top', 'Trouser', 'Pullover', 'Dress', 'Coat',\n",
    "               'Sandal', 'Shirt', 'Sneaker', 'Bag', 'Ankle boot']\n",
    "print(f'데이터의 레이블은 {len(class_names)}개 이며, 데이터셋에 포함되어 있지 않으므로 설명서에서 확인해야 합니다.')\n",
    "print('레이블 번호와 레이블: ')\n",
    "for i in range(0, len(class_names)):\n",
    "    print(f'{i}: {class_names[i]}')"
   ]
  },
  {
   "cell_type": "markdown",
   "id": "c20ddec0-de01-44ac-ae3c-efafa10ac77f",
   "metadata": {},
   "source": [
    "### 3. 학습 데이터 살펴보기: 차원, 미리보기"
   ]
  },
  {
   "cell_type": "code",
   "execution_count": null,
   "id": "5265ed43-d76a-4837-a882-aaeed31b00ab",
   "metadata": {},
   "outputs": [],
   "source": [
    "print(f'학습 이미지 형태: {_train_images.shape}')\n",
    "print(f'학습 레이블 형태: {train_labels.shape}')"
   ]
  },
  {
   "cell_type": "code",
   "execution_count": null,
   "id": "6cc7ce08-02a3-4aa5-8bff-dc011a4b1e90",
   "metadata": {},
   "outputs": [],
   "source": [
    "print(f'테스트 이미지 형태: {_test_images.shape}')\n",
    "print(f'테스트 레이블 형태: {test_labels.shape}')"
   ]
  },
  {
   "cell_type": "code",
   "execution_count": null,
   "id": "711a247f-e484-4ac4-bd64-d4f1d883c7ca",
   "metadata": {},
   "outputs": [],
   "source": [
    "fig = plt.figure(figsize=(6, 6))\n",
    "ax = fig.add_subplot()\n",
    "axm = ax.imshow(_train_images[0])\n",
    "fig.colorbar(axm)\n",
    "fig.suptitle('Example of train image', fontsize=24)\n",
    "ax.set_title(f'Label: {class_names[train_labels[0]]}', fontsize=16)\n",
    "ax.grid(False)"
   ]
  }
 ],
 "metadata": {
  "kernelspec": {
   "display_name": "Python 3 (ipykernel)",
   "language": "python",
   "name": "python3"
  },
  "language_info": {
   "codemirror_mode": {
    "name": "ipython",
    "version": 3
   },
   "file_extension": ".py",
   "mimetype": "text/x-python",
   "name": "python",
   "nbconvert_exporter": "python",
   "pygments_lexer": "ipython3",
   "version": "3.10.9"
  }
 },
 "nbformat": 4,
 "nbformat_minor": 5
}
