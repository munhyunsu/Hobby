{
 "cells": [
  {
   "cell_type": "markdown",
   "id": "da55864f-d0d5-4f4e-9b23-b5c100858374",
   "metadata": {},
   "source": [
    "# 5차시: 피트니스 데이터 선형회귀 분석\n",
    "\n",
    "## 2023. 06. 21. 14:10 ~ 16:00 (50분×2)\n",
    "1. 선형회귀 기초 이론 (Linear regression)\n",
    "1. 당뇨 데이터셋\n",
    "1. 자동차 연비 데이터셋 (Auto MPG)\n",
    "\n",
    "### 참고자료\n",
    "- [파이썬 3 표준 문서](https://docs.python.org/3/index.html)\n",
    "- [Scikit learn Linear regression](https://scikit-learn.org/stable/auto_examples/linear_model/plot_ols.html)\n",
    "- [Diabetes dataset](https://www4.stat.ncsu.edu/~boos/var.select/diabetes.html)\n",
    "- [TensorFlow Linear regression](https://www.tensorflow.org/tutorials/keras/regression)"
   ]
  },
  {
   "cell_type": "markdown",
   "id": "a5945a6e-3357-4e79-b446-9f3e7f887130",
   "metadata": {},
   "source": [
    "### 당뇨병 (Diabetes) 데이터셋"
   ]
  },
  {
   "cell_type": "code",
   "execution_count": null,
   "id": "aa1de504-95b9-40fa-a927-e5d606a596a2",
   "metadata": {},
   "outputs": [],
   "source": [
    "import matplotlib.pyplot as plt\n",
    "%matplotlib inline\n",
    "import pandas as pd\n",
    "import numpy as np\n",
    "from pandas.plotting import scatter_matrix\n",
    "from sklearn import datasets, linear_model\n",
    "from sklearn.metrics import mean_squared_error, r2_score\n",
    "from sklearn.model_selection import train_test_split\n",
    "import tensorflow as tf"
   ]
  },
  {
   "cell_type": "code",
   "execution_count": null,
   "id": "39ebd275-2174-489e-ae4e-bd50cabac401",
   "metadata": {},
   "outputs": [],
   "source": [
    "diabetes = datasets.load_diabetes()\n",
    "print(diabetes.DESCR)"
   ]
  },
  {
   "cell_type": "code",
   "execution_count": null,
   "id": "4d33bd36-539f-4dc6-9665-c59f5746d790",
   "metadata": {},
   "outputs": [],
   "source": [
    "df = pd.DataFrame(diabetes.data, columns=diabetes.feature_names)\n",
    "df"
   ]
  },
  {
   "cell_type": "code",
   "execution_count": null,
   "id": "765febf3-0bfe-4da7-abb8-04cb516e56d2",
   "metadata": {},
   "outputs": [],
   "source": [
    "df['y'] = diabetes.target\n",
    "df"
   ]
  }
 ],
 "metadata": {
  "kernelspec": {
   "display_name": "Python 3 (ipykernel)",
   "language": "python",
   "name": "python3"
  },
  "language_info": {
   "codemirror_mode": {
    "name": "ipython",
    "version": 3
   },
   "file_extension": ".py",
   "mimetype": "text/x-python",
   "name": "python",
   "nbconvert_exporter": "python",
   "pygments_lexer": "ipython3",
   "version": "3.10.12"
  }
 },
 "nbformat": 4,
 "nbformat_minor": 5
}
