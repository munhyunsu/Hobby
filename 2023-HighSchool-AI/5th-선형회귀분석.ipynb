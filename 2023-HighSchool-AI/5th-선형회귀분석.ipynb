{
 "cells": [
  {
   "cell_type": "markdown",
   "id": "da55864f-d0d5-4f4e-9b23-b5c100858374",
   "metadata": {},
   "source": [
    "# 5차시: 피트니스 데이터 선형회귀 분석\n",
    "\n",
    "## 2023. 06. 21. 14:10 ~ 16:00 (50분×2)\n",
    "1. 선형회귀 기초 이론 (Linear regression)\n",
    "1. 당뇨 데이터셋\n",
    "1. 자동차 연비 데이터셋 (Auto MPG)\n",
    "\n",
    "### 참고자료\n",
    "- [파이썬 3 표준 문서](https://docs.python.org/3/index.html)\n",
    "- [Scikit learn Linear regression](https://scikit-learn.org/stable/auto_examples/linear_model/plot_ols.html)\n",
    "- [Diabetes dataset](https://www4.stat.ncsu.edu/~boos/var.select/diabetes.html)\n",
    "- [TensorFlow Linear regression](https://www.tensorflow.org/tutorials/keras/regression)"
   ]
  },
  {
   "cell_type": "markdown",
   "id": "a5945a6e-3357-4e79-b446-9f3e7f887130",
   "metadata": {},
   "source": [
    "### 당뇨병 (Diabetes) 데이터셋"
   ]
  },
  {
   "cell_type": "code",
   "execution_count": null,
   "id": "aa1de504-95b9-40fa-a927-e5d606a596a2",
   "metadata": {},
   "outputs": [],
   "source": [
    "import matplotlib.pyplot as plt\n",
    "%matplotlib inline\n",
    "import pandas as pd\n",
    "import numpy as np\n",
    "from pandas.plotting import scatter_matrix\n",
    "from sklearn import datasets, linear_model\n",
    "from sklearn.metrics import mean_squared_error, r2_score\n",
    "from sklearn.model_selection import train_test_split\n",
    "import tensorflow as tf"
   ]
  },
  {
   "cell_type": "code",
   "execution_count": null,
   "id": "39ebd275-2174-489e-ae4e-bd50cabac401",
   "metadata": {},
   "outputs": [],
   "source": [
    "diabetes = datasets.load_diabetes()\n",
    "print(diabetes.DESCR)"
   ]
  },
  {
   "cell_type": "code",
   "execution_count": null,
   "id": "4d33bd36-539f-4dc6-9665-c59f5746d790",
   "metadata": {},
   "outputs": [],
   "source": [
    "df = pd.DataFrame(diabetes.data, columns=diabetes.feature_names)\n",
    "df"
   ]
  },
  {
   "cell_type": "code",
   "execution_count": null,
   "id": "765febf3-0bfe-4da7-abb8-04cb516e56d2",
   "metadata": {},
   "outputs": [],
   "source": [
    "df['y'] = diabetes.target\n",
    "df"
   ]
  },
  {
   "cell_type": "code",
   "execution_count": null,
   "id": "96daedda-68f7-4f1c-8f15-0f389980548c",
   "metadata": {},
   "outputs": [],
   "source": [
    "scatter_matrix(df[df.columns],\n",
    "               c=df['y'],\n",
    "               alpha=0.5,\n",
    "               figsize=(7, 7),)\n",
    "print('') # Slient"
   ]
  },
  {
   "cell_type": "code",
   "execution_count": null,
   "id": "678d1e71-9795-48ba-a786-daf40fdfa87d",
   "metadata": {},
   "outputs": [],
   "source": [
    "features = ['age']\n",
    "#features = ['age', 'sex', 'bmi', 'bp', 's1', 's2', 's3', 's4', 's5', 's6']\n",
    "X = df[features]\n",
    "y = df['y']"
   ]
  },
  {
   "cell_type": "code",
   "execution_count": null,
   "id": "23012552-3ea0-4780-9f63-22b22bdcef4f",
   "metadata": {},
   "outputs": [],
   "source": [
    "test_size = 0.2\n",
    "X_train, X_test, y_train, y_test = train_test_split(X, y, test_size=test_size)\n",
    "print(f'학습에 사용할 피처 크기: {X_train.shape}')\n",
    "print(f'예측에 사용할 피처 크기: {X_test.shape}')"
   ]
  },
  {
   "cell_type": "code",
   "execution_count": null,
   "id": "0dd7acd1-1591-48b5-b488-00b479618e27",
   "metadata": {},
   "outputs": [],
   "source": [
    "regr = linear_model.LinearRegression()\n",
    "regr.fit(X_train, y_train)\n",
    "regr"
   ]
  },
  {
   "cell_type": "code",
   "execution_count": null,
   "id": "3f81a188-a921-4441-a755-f03b3dcb6c9f",
   "metadata": {},
   "outputs": [],
   "source": [
    "y_pred = regr.predict(X_test)\n",
    "\n",
    "print('Coefficients: \\n', regr.coef_)\n",
    "print('Mean squared error: %.2f' % mean_squared_error(y_test, y_pred))\n",
    "print('Coefficient of determination: %.2f' % r2_score(y_test, y_pred))"
   ]
  },
  {
   "cell_type": "code",
   "execution_count": null,
   "id": "10c8d586-37e9-4ee7-83c0-dda3cff7e2c5",
   "metadata": {},
   "outputs": [],
   "source": [
    "fig = plt.figure(figsize= (8, 6))\n",
    "ax = fig.add_subplot()\n",
    "ax.scatter(X_test, y_test, color='black')\n",
    "ax.plot(X_test, y_pred, color='blue', linewidth=3)\n",
    "\n",
    "ax.set_title(f'Diabetes progression by {features}', fontsize='x-large')\n",
    "ax.set_xlabel(f'{features}', fontsize='large')\n",
    "ax.set_ylabel('Diabetes progression', fontsize='large')"
   ]
  },
  {
   "cell_type": "code",
   "execution_count": null,
   "id": "63c4ccdc-8384-4627-a968-0b0b8fa98e42",
   "metadata": {},
   "outputs": [],
   "source": [
    "regr.coef_"
   ]
  },
  {
   "cell_type": "code",
   "execution_count": null,
   "id": "a78b12b6-8244-4cae-9ea5-47671c8edb41",
   "metadata": {},
   "outputs": [],
   "source": [
    "regr.intercept_"
   ]
  },
  {
   "cell_type": "markdown",
   "id": "2be2b892-8a2c-4a39-b13e-b9700596a2ea",
   "metadata": {},
   "source": [
    "### Auto MPG\n",
    "#### Multiple regression"
   ]
  },
  {
   "cell_type": "code",
   "execution_count": null,
   "id": "1bcc6150-e409-4db1-a964-f979916af4c8",
   "metadata": {},
   "outputs": [],
   "source": [
    "url = 'http://archive.ics.uci.edu/ml/machine-learning-databases/auto-mpg/auto-mpg.data'\n",
    "column_names = ['MPG', 'Cylinders', 'Displacement', 'Horsepower', 'Weight',\n",
    "                'Acceleration', 'Model Year', 'Origin']\n",
    "raw_dataset = pd.read_csv(url, names=column_names,\n",
    "                          na_values='?', comment='\\t',\n",
    "                          sep=' ', skipinitialspace=True)\n",
    "df = raw_dataset.copy()\n",
    "df.dropna(inplace=True)\n",
    "df.reset_index(drop=True, inplace=True)\n",
    "df"
   ]
  },
  {
   "cell_type": "code",
   "execution_count": null,
   "id": "a14b1003-98f1-477f-88d3-9553df791b43",
   "metadata": {},
   "outputs": [],
   "source": [
    "scatter_matrix(df[df.columns],\n",
    "               c=df['MPG'],\n",
    "               alpha=0.5,\n",
    "               figsize=(7, 7),)\n",
    "print('') # Slient"
   ]
  },
  {
   "cell_type": "code",
   "execution_count": null,
   "id": "38b4bc30-299e-453d-a50f-eb1ec4ee5600",
   "metadata": {},
   "outputs": [],
   "source": [
    "df['Origin'] = df['Origin'].map({1: 'USA', 2: 'Europe', 3: 'Japan'})\n",
    "df"
   ]
  },
  {
   "cell_type": "code",
   "execution_count": null,
   "id": "8c6440d9-0e0c-467e-bbb5-85936e60c245",
   "metadata": {},
   "outputs": [],
   "source": [
    "df = pd.get_dummies(df, columns=['Origin'], prefix='', prefix_sep='')\n",
    "df"
   ]
  },
  {
   "cell_type": "code",
   "execution_count": null,
   "id": "e9e9330f-a9d8-42f7-b78d-87e30e331779",
   "metadata": {},
   "outputs": [],
   "source": [
    "features = list(df.columns)\n",
    "features.remove('MPG')\n",
    "X = df[features]\n",
    "y = df['MPG']"
   ]
  },
  {
   "cell_type": "code",
   "execution_count": null,
   "id": "09963065-6002-4018-a07d-8bf7704b8b00",
   "metadata": {},
   "outputs": [],
   "source": [
    "test_size = 0.2\n",
    "X_train, X_test, y_train, y_test = train_test_split(X, y, test_size=test_size)\n",
    "print(f'학습에 사용할 피처 크기: {X_train.shape}')\n",
    "print(f'예측에 사용할 피처 크기: {X_test.shape}')"
   ]
  },
  {
   "cell_type": "code",
   "execution_count": null,
   "id": "4665a5b7-9cfc-4b7a-b222-5dbdc886af5e",
   "metadata": {},
   "outputs": [],
   "source": [
    "X_train.describe().transpose()"
   ]
  },
  {
   "cell_type": "code",
   "execution_count": null,
   "id": "bbe39868-9761-478f-8768-d05e16411c32",
   "metadata": {},
   "outputs": [],
   "source": [
    "feature_value = np.array(df[features])\n",
    "\n",
    "feature_normalizer = tf.keras.layers.Normalization(input_shape=[len(features),], axis=None)\n",
    "feature_normalizer.adapt(feature_value)"
   ]
  },
  {
   "cell_type": "code",
   "execution_count": null,
   "id": "87c2254e-e8ca-4d7e-88d5-7796ab6c06e9",
   "metadata": {},
   "outputs": [],
   "source": [
    "model = tf.keras.Sequential([\n",
    "    feature_normalizer,\n",
    "    tf.keras.layers.Dense(units=1)\n",
    "])\n",
    "\n",
    "model.summary()"
   ]
  },
  {
   "cell_type": "code",
   "execution_count": null,
   "id": "7ba89c14-8eb0-4c3a-9dee-5997124c8a18",
   "metadata": {},
   "outputs": [],
   "source": [
    "model.compile(\n",
    "    optimizer=tf.keras.optimizers.Adam(learning_rate=0.1),\n",
    "    loss='mean_absolute_error')"
   ]
  }
 ],
 "metadata": {
  "kernelspec": {
   "display_name": "Python 3 (ipykernel)",
   "language": "python",
   "name": "python3"
  },
  "language_info": {
   "codemirror_mode": {
    "name": "ipython",
    "version": 3
   },
   "file_extension": ".py",
   "mimetype": "text/x-python",
   "name": "python",
   "nbconvert_exporter": "python",
   "pygments_lexer": "ipython3",
   "version": "3.10.12"
  }
 },
 "nbformat": 4,
 "nbformat_minor": 5
}
