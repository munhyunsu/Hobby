{
 "cells": [
  {
   "cell_type": "markdown",
   "id": "da55864f-d0d5-4f4e-9b23-b5c100858374",
   "metadata": {},
   "source": [
    "# 5차시: 피트니스 데이터 선형회귀 분석\n",
    "\n",
    "## 2023. 06. 21. 14:10 ~ 16:00 (50분×2)\n",
    "1. 선형회귀 기초 이론 (Linear regression)\n",
    "1. 당뇨 데이터셋\n",
    "1. 자동차 연비 데이터셋 (Auto MPG)\n",
    "\n",
    "### 참고자료\n",
    "- [파이썬 3 표준 문서](https://docs.python.org/3/index.html)\n",
    "- [Scikit learn Linear regression](https://scikit-learn.org/stable/auto_examples/linear_model/plot_ols.html)\n",
    "- [Diabetes dataset](https://www4.stat.ncsu.edu/~boos/var.select/diabetes.html)\n",
    "- [TensorFlow Linear regression](https://www.tensorflow.org/tutorials/keras/regression)"
   ]
  },
  {
   "cell_type": "code",
   "execution_count": null,
   "id": "b3cdc6ab-f80b-4e13-8a81-dcb98235444e",
   "metadata": {},
   "outputs": [],
   "source": []
  }
 ],
 "metadata": {
  "kernelspec": {
   "display_name": "FLHub",
   "language": "python",
   "name": "flhub"
  },
  "language_info": {
   "codemirror_mode": {
    "name": "ipython",
    "version": 3
   },
   "file_extension": ".py",
   "mimetype": "text/x-python",
   "name": "python",
   "nbconvert_exporter": "python",
   "pygments_lexer": "ipython3",
   "version": "3.11.4"
  }
 },
 "nbformat": 4,
 "nbformat_minor": 5
}
