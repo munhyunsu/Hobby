{
 "cells": [
  {
   "cell_type": "markdown",
   "id": "cca9d912-79aa-48ea-98cd-c4a84d29f53a",
   "metadata": {},
   "source": [
    "# 6차시: 텐서플로우 전이학습\n",
    "\n",
    "## 2023. 08. 02. 14:10 ~ 16:00 (50분×2)\n",
    "1. 전이학습 기초\n",
    "1. CIFAR-10 데이터 셋\n",
    "1. 텐서플로우 실습\n",
    "\n",
    "### 참고자료\n",
    "- [파이썬 3 표준 문서](https://docs.python.org/3/index.html)\n",
    "- [텐서플로우 이미지 분류](https://www.tensorflow.org/tutorials/keras/classification)\n",
    "- [텐서플로우 전이학습](https://www.tensorflow.org/tutorials/images/transfer_learning_with_hub)"
   ]
  },
  {
   "cell_type": "markdown",
   "id": "45d8349a-3a75-4376-a458-6339102d7ee7",
   "metadata": {},
   "source": [
    "### 1. 도구 불러오기 및 버전 확인"
   ]
  },
  {
   "cell_type": "code",
   "execution_count": null,
   "id": "4eb16304-3531-4a48-ae67-80439cf4fbb5",
   "metadata": {},
   "outputs": [],
   "source": [
    "# 도구 준비\n",
    "import os\n",
    "import random\n",
    "\n",
    "import tensorflow as tf # 텐서플로우\n",
    "import tensorflow_hub as hub\n",
    "import matplotlib.pyplot as plt # 시각화 도구\n",
    "%matplotlib inline\n",
    "import numpy as np\n",
    "import PIL.Image as Image"
   ]
  },
  {
   "cell_type": "code",
   "execution_count": null,
   "id": "f52f5e48-1265-49a2-95bf-8d34c81f20a9",
   "metadata": {},
   "outputs": [],
   "source": [
    "print(f'Tensorflow 버전을 확인합니다: {tf.__version__}')"
   ]
  },
  {
   "cell_type": "markdown",
   "id": "52dc187e-3523-4726-8b11-adb2c89abfa3",
   "metadata": {},
   "source": [
    "### 2. 학습 데이터 불러오기"
   ]
  },
  {
   "cell_type": "code",
   "execution_count": null,
   "id": "be18dbdc-fa37-4ebd-a757-68b88a709cf0",
   "metadata": {},
   "outputs": [],
   "source": [
    "# prepare dataset\n",
    "dataset_root = os.path.abspath(os.path.expanduser('/tmp/dataset'))\n",
    "print(f'Dataset root: {dataset_root}')\n",
    "\n",
    "IMAGE_SHAPE = (128, 128) # 자신의 데이터 셋에 맞추어서 조정!\n",
    "image_generator = tf.keras.preprocessing.image.ImageDataGenerator(rescale=1/255,\n",
    "                                                                  validation_split=0.2)\n",
    "train_data = image_generator.flow_from_directory(dataset_root, target_size=IMAGE_SHAPE,\n",
    "                                                 subset='training')\n",
    "validation_data = image_generator.flow_from_directory(dataset_root, target_size=IMAGE_SHAPE,\n",
    "                                                 subset='validation')\n",
    "\n",
    "for image_batch, label_batch in validation_data:\n",
    "    print(f'Image batch shape: {image_batch.shape}')\n",
    "    print(f'Label batch shape: {label_batch.shape}')\n",
    "    break"
   ]
  },
  {
   "cell_type": "markdown",
   "id": "38c3faf1-792f-435c-b970-7883a311d5bc",
   "metadata": {},
   "source": [
    "### 3. 학습 데이터 살펴보기"
   ]
  },
  {
   "cell_type": "code",
   "execution_count": null,
   "id": "d0961306-84cb-4c2a-b668-26741aa2d8ae",
   "metadata": {},
   "outputs": [],
   "source": [
    "classifier_url = 'https://tfhub.dev/google/imagenet/inception_v3/classification/4'\n",
    "\n",
    "classifier = tf.keras.Sequential([\n",
    "    hub.KerasLayer(classifier_url, input_shape=IMAGE_SHAPE+(3,)) # Channel 3 RGB\n",
    "])\n",
    "\n",
    "labels_path = tf.keras.utils.get_file('ImageNetLabels.txt', \n",
    "                                      'https://storage.googleapis.com/download.tensorflow.org/data/ImageNetLabels.txt')\n",
    "imagenet_labels = np.array(open(labels_path).read().splitlines())"
   ]
  },
  {
   "cell_type": "code",
   "execution_count": null,
   "id": "c8f6e544-e0b3-46d3-b453-f83e685a7b50",
   "metadata": {},
   "outputs": [],
   "source": [
    "## using original ImangeNet classifier\n",
    "result_batch = classifier.predict(image_batch)\n",
    "print(f'Batch result shape: {result_batch.shape}')\n",
    "\n",
    "predicted_class_names = imagenet_labels[np.argmax(result_batch, axis=-1)]\n",
    "print(f'Batch predicted class names: {predicted_class_names}')\n",
    "\n",
    "fig = plt.figure(figsize=(10, 10.5))\n",
    "for n in range(30):\n",
    "    ax = fig.add_subplot(6, 5, n+1)\n",
    "    ax.imshow(image_batch[n])\n",
    "    ax.set_title(predicted_class_names[n])\n",
    "    ax.axis('off')\n",
    "_ = fig.suptitle('ImageNet predictions')"
   ]
  },
  {
   "cell_type": "markdown",
   "id": "e5bc2741-6a80-4945-a424-5e30067c168f",
   "metadata": {},
   "source": [
    "### 4. Convolution Neural Network"
   ]
  },
  {
   "cell_type": "code",
   "execution_count": null,
   "id": "00da70b8-b2f2-4619-94df-92a494aeacd8",
   "metadata": {},
   "outputs": [],
   "source": [
    "## Log class\n",
    "### https://www.tensorflow.org/api_docs/python/tf/keras/callbacks/Callback\n",
    "class CollectBatchStats(tf.keras.callbacks.Callback):\n",
    "    def __init__(self):\n",
    "        self.batch_losses = []\n",
    "        self.batch_val_losses = []\n",
    "        self.batch_acc = []\n",
    "        self.batch_val_acc = []\n",
    "    \n",
    "    def on_epoch_end(self, epoch, logs=None):\n",
    "        self.batch_losses.append(logs['loss'])\n",
    "        self.batch_acc.append(logs['accuracy'])\n",
    "        self.batch_val_losses.append(logs['val_loss'])\n",
    "        self.batch_val_acc.append(logs['val_accuracy'])\n",
    "        self.model.reset_metrics()"
   ]
  },
  {
   "cell_type": "code",
   "execution_count": null,
   "id": "28e2fc60-5666-445c-8230-312b8b8a5881",
   "metadata": {},
   "outputs": [],
   "source": [
    "cnn_model = tf.keras.Sequential([\n",
    "        tf.keras.layers.Conv2D(32, (3, 3), activation='relu', input_shape=image_batch.shape[1:]),\n",
    "        tf.keras.layers.MaxPooling2D((2, 2)),\n",
    "        tf.keras.layers.Conv2D(64, (3, 3), activation='relu'),\n",
    "        tf.keras.layers.MaxPooling2D((2, 2)),\n",
    "        tf.keras.layers.Conv2D(64, (3, 3), activation='relu'),\n",
    "        tf.keras.layers.Flatten(),\n",
    "        tf.keras.layers.Dense(64, activation='relu'),\n",
    "        tf.keras.layers.Dense(train_data.num_classes)])\n",
    "\n",
    "cnn_model.summary()"
   ]
  },
  {
   "cell_type": "markdown",
   "id": "bcb9f13e-2682-49a5-839f-06b902ff88c4",
   "metadata": {},
   "source": [
    "### 5. Train model"
   ]
  },
  {
   "cell_type": "code",
   "execution_count": null,
   "id": "4e645d80-314b-45b3-ba9f-a8bfaa8d9d40",
   "metadata": {},
   "outputs": [],
   "source": [
    "base_learning_rate = 0.001\n",
    "\n",
    "cnn_model.compile(optimizer=tf.keras.optimizers.Adam(learning_rate=base_learning_rate),\n",
    "                  loss=tf.keras.losses.CategoricalCrossentropy(from_logits=True),\n",
    "                  metrics=['accuracy'])"
   ]
  },
  {
   "cell_type": "code",
   "execution_count": null,
   "id": "f5e7ce23-a2f5-4e14-ba5d-5a157e26dc4e",
   "metadata": {},
   "outputs": [],
   "source": [
    "steps_per_epoch = np.ceil(train_data.samples/train_data.batch_size) # train all dataset per epoch\n",
    "epochs = 25*2\n",
    "cnn_callback = CollectBatchStats()\n",
    "\n",
    "cnn_history = cnn_model.fit(train_data,\n",
    "                            epochs=epochs,\n",
    "                            steps_per_epoch=steps_per_epoch,\n",
    "                            validation_data=validation_data,\n",
    "                            callbacks=[cnn_callback])"
   ]
  }
 ],
 "metadata": {
  "kernelspec": {
   "display_name": "Python 3 (ipykernel)",
   "language": "python",
   "name": "python3"
  },
  "language_info": {
   "codemirror_mode": {
    "name": "ipython",
    "version": 3
   },
   "file_extension": ".py",
   "mimetype": "text/x-python",
   "name": "python",
   "nbconvert_exporter": "python",
   "pygments_lexer": "ipython3",
   "version": "3.10.9"
  }
 },
 "nbformat": 4,
 "nbformat_minor": 5
}
