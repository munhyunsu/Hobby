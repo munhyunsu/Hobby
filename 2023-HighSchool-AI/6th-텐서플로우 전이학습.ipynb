{
 "cells": [
  {
   "cell_type": "markdown",
   "id": "cca9d912-79aa-48ea-98cd-c4a84d29f53a",
   "metadata": {},
   "source": [
    "# 6차시: 텐서플로우 전이학습\n",
    "\n",
    "## 2023. 08. 02. 14:10 ~ 16:00 (50분×2)\n",
    "1. 전이학습 기초\n",
    "1. CIFAR-10 데이터 셋\n",
    "1. 텐서플로우 실습\n",
    "\n",
    "### 참고자료\n",
    "- [파이썬 3 표준 문서](https://docs.python.org/3/index.html)\n",
    "- [텐서플로우 이미지 분류](https://www.tensorflow.org/tutorials/keras/classification)\n",
    "- [텐서플로우 전이학습](https://www.tensorflow.org/tutorials/images/transfer_learning_with_hub)"
   ]
  }
 ],
 "metadata": {
  "kernelspec": {
   "display_name": "Python 3 (ipykernel)",
   "language": "python",
   "name": "python3"
  },
  "language_info": {
   "codemirror_mode": {
    "name": "ipython",
    "version": 3
   },
   "file_extension": ".py",
   "mimetype": "text/x-python",
   "name": "python",
   "nbconvert_exporter": "python",
   "pygments_lexer": "ipython3",
   "version": "3.10.9"
  }
 },
 "nbformat": 4,
 "nbformat_minor": 5
}
