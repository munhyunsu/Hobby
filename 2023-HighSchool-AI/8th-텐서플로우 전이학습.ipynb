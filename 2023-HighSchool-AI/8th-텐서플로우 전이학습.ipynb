{
 "cells": [
  {
   "cell_type": "markdown",
   "id": "cca9d912-79aa-48ea-98cd-c4a84d29f53a",
   "metadata": {},
   "source": [
    "# 7차시: 텐서플로우 전이학습\n",
    "\n",
    "## 2023. 08. 16. 14:10 ~ 16:00 (50분×2)\n",
    "1. 전이학습 기초\n",
    "1. CIFAR-10 데이터 셋\n",
    "1. 텐서플로우 실습\n",
    "\n",
    "### 참고자료\n",
    "- [파이썬 3 표준 문서](https://docs.python.org/3/index.html)\n",
    "- [텐서플로우 이미지 분류](https://www.tensorflow.org/tutorials/keras/classification)\n",
    "- [텐서플로우 전이학습](https://www.tensorflow.org/tutorials/images/transfer_learning_with_hub)"
   ]
  },
  {
   "cell_type": "markdown",
   "id": "45d8349a-3a75-4376-a458-6339102d7ee7",
   "metadata": {},
   "source": [
    "### 1. 도구 불러오기 및 버전 확인"
   ]
  },
  {
   "cell_type": "code",
   "execution_count": null,
   "id": "4eb16304-3531-4a48-ae67-80439cf4fbb5",
   "metadata": {},
   "outputs": [],
   "source": [
    "# 도구 준비\n",
    "import os\n",
    "import random\n",
    "\n",
    "import tensorflow as tf # 텐서플로우\n",
    "import tensorflow_hub as hub\n",
    "import matplotlib.pyplot as plt # 시각화 도구\n",
    "%matplotlib inline\n",
    "import numpy as np\n",
    "import PIL.Image as Image"
   ]
  },
  {
   "cell_type": "code",
   "execution_count": null,
   "id": "f52f5e48-1265-49a2-95bf-8d34c81f20a9",
   "metadata": {},
   "outputs": [],
   "source": [
    "print(f'Tensorflow 버전을 확인합니다: {tf.__version__}')"
   ]
  },
  {
   "cell_type": "markdown",
   "id": "52dc187e-3523-4726-8b11-adb2c89abfa3",
   "metadata": {},
   "source": [
    "### 2. 학습 데이터 불러오기"
   ]
  },
  {
   "cell_type": "code",
   "execution_count": null,
   "id": "be18dbdc-fa37-4ebd-a757-68b88a709cf0",
   "metadata": {},
   "outputs": [],
   "source": [
    "# prepare dataset\n",
    "dataset_root = os.path.abspath(os.path.expanduser('/tmp/dataset'))\n",
    "print(f'Dataset root: {dataset_root}')\n",
    "\n",
    "IMAGE_SHAPE = (128, 128) # 자신의 데이터 셋에 맞추어서 조정!\n",
    "image_generator = tf.keras.preprocessing.image.ImageDataGenerator(rescale=1/255,\n",
    "                                                                  validation_split=0.2)\n",
    "train_data = image_generator.flow_from_directory(dataset_root, target_size=IMAGE_SHAPE,\n",
    "                                                 subset='training')\n",
    "validation_data = image_generator.flow_from_directory(dataset_root, target_size=IMAGE_SHAPE,\n",
    "                                                 subset='validation')\n",
    "\n",
    "for image_batch, label_batch in validation_data:\n",
    "    print(f'Image batch shape: {image_batch.shape}')\n",
    "    print(f'Label batch shape: {label_batch.shape}')\n",
    "    break"
   ]
  },
  {
   "cell_type": "markdown",
   "id": "38c3faf1-792f-435c-b970-7883a311d5bc",
   "metadata": {},
   "source": [
    "### 3. 학습 데이터 살펴보기"
   ]
  },
  {
   "cell_type": "code",
   "execution_count": null,
   "id": "d0961306-84cb-4c2a-b668-26741aa2d8ae",
   "metadata": {},
   "outputs": [],
   "source": [
    "classifier_url = 'https://tfhub.dev/google/imagenet/inception_v3/classification/4'\n",
    "\n",
    "classifier = tf.keras.Sequential([\n",
    "    hub.KerasLayer(classifier_url, input_shape=IMAGE_SHAPE+(3,)) # Channel 3 RGB\n",
    "])\n",
    "\n",
    "labels_path = tf.keras.utils.get_file('ImageNetLabels.txt', \n",
    "                                      'https://storage.googleapis.com/download.tensorflow.org/data/ImageNetLabels.txt')\n",
    "imagenet_labels = np.array(open(labels_path).read().splitlines())"
   ]
  },
  {
   "cell_type": "code",
   "execution_count": null,
   "id": "c8f6e544-e0b3-46d3-b453-f83e685a7b50",
   "metadata": {},
   "outputs": [],
   "source": [
    "## using original ImangeNet classifier\n",
    "result_batch = classifier.predict(image_batch)\n",
    "print(f'Batch result shape: {result_batch.shape}')\n",
    "\n",
    "predicted_class_names = imagenet_labels[np.argmax(result_batch, axis=-1)]\n",
    "print(f'Batch predicted class names: {predicted_class_names}')\n",
    "\n",
    "fig = plt.figure(figsize=(10, 10.5))\n",
    "for n in range(30):\n",
    "    ax = fig.add_subplot(6, 5, n+1)\n",
    "    ax.imshow(image_batch[n])\n",
    "    ax.set_title(predicted_class_names[n])\n",
    "    ax.axis('off')\n",
    "_ = fig.suptitle('ImageNet predictions')"
   ]
  },
  {
   "cell_type": "markdown",
   "id": "e5bc2741-6a80-4945-a424-5e30067c168f",
   "metadata": {},
   "source": [
    "### 4. Convolution Neural Network"
   ]
  },
  {
   "cell_type": "code",
   "execution_count": null,
   "id": "00da70b8-b2f2-4619-94df-92a494aeacd8",
   "metadata": {},
   "outputs": [],
   "source": [
    "## Log class\n",
    "### https://www.tensorflow.org/api_docs/python/tf/keras/callbacks/Callback\n",
    "class CollectBatchStats(tf.keras.callbacks.Callback):\n",
    "    def __init__(self):\n",
    "        self.batch_losses = []\n",
    "        self.batch_val_losses = []\n",
    "        self.batch_acc = []\n",
    "        self.batch_val_acc = []\n",
    "    \n",
    "    def on_epoch_end(self, epoch, logs=None):\n",
    "        self.batch_losses.append(logs['loss'])\n",
    "        self.batch_acc.append(logs['accuracy'])\n",
    "        self.batch_val_losses.append(logs['val_loss'])\n",
    "        self.batch_val_acc.append(logs['val_accuracy'])\n",
    "        self.model.reset_metrics()"
   ]
  },
  {
   "cell_type": "code",
   "execution_count": null,
   "id": "28e2fc60-5666-445c-8230-312b8b8a5881",
   "metadata": {},
   "outputs": [],
   "source": [
    "cnn_model = tf.keras.Sequential([\n",
    "        tf.keras.layers.Conv2D(32, (3, 3), activation='relu', input_shape=image_batch.shape[1:]),\n",
    "        tf.keras.layers.MaxPooling2D((2, 2)),\n",
    "        tf.keras.layers.Conv2D(64, (3, 3), activation='relu'),\n",
    "        tf.keras.layers.MaxPooling2D((2, 2)),\n",
    "        tf.keras.layers.Conv2D(64, (3, 3), activation='relu'),\n",
    "        tf.keras.layers.Flatten(),\n",
    "        tf.keras.layers.Dense(64, activation='relu'),\n",
    "        tf.keras.layers.Dense(train_data.num_classes)])\n",
    "\n",
    "cnn_model.summary()"
   ]
  },
  {
   "cell_type": "markdown",
   "id": "bcb9f13e-2682-49a5-839f-06b902ff88c4",
   "metadata": {},
   "source": [
    "### 5. Train model"
   ]
  },
  {
   "cell_type": "code",
   "execution_count": null,
   "id": "4e645d80-314b-45b3-ba9f-a8bfaa8d9d40",
   "metadata": {},
   "outputs": [],
   "source": [
    "base_learning_rate = 0.001\n",
    "\n",
    "cnn_model.compile(optimizer=tf.keras.optimizers.Adam(learning_rate=base_learning_rate),\n",
    "                  loss=tf.keras.losses.CategoricalCrossentropy(from_logits=True),\n",
    "                  metrics=['accuracy'])"
   ]
  },
  {
   "cell_type": "code",
   "execution_count": null,
   "id": "f5e7ce23-a2f5-4e14-ba5d-5a157e26dc4e",
   "metadata": {},
   "outputs": [],
   "source": [
    "steps_per_epoch = np.ceil(train_data.samples/train_data.batch_size) # train all dataset per epoch\n",
    "epochs = 25*2\n",
    "cnn_callback = CollectBatchStats()\n",
    "\n",
    "cnn_history = cnn_model.fit(train_data,\n",
    "                            epochs=epochs,\n",
    "                            steps_per_epoch=steps_per_epoch,\n",
    "                            validation_data=validation_data,\n",
    "                            callbacks=[cnn_callback])"
   ]
  },
  {
   "cell_type": "markdown",
   "id": "4af84116-4b19-4b55-84fc-a9064640d7ba",
   "metadata": {},
   "source": [
    "### 6. Visulize results"
   ]
  },
  {
   "cell_type": "code",
   "execution_count": null,
   "id": "270bda71-b00c-44f4-8ae3-5600fe766738",
   "metadata": {},
   "outputs": [],
   "source": [
    "# Draw learning curves chart\n",
    "acc = cnn_callback.batch_acc\n",
    "val_acc = cnn_callback.batch_val_acc\n",
    "loss = cnn_callback.batch_losses\n",
    "val_loss = cnn_callback.batch_val_losses\n",
    "\n",
    "fig = plt.figure(figsize=(8, 8))\n",
    "ax = fig.add_subplot(2, 1, 1)\n",
    "ax.plot(acc, label='Training Accuracy')\n",
    "ax.plot(val_acc, label='Validation Accuracy')\n",
    "ax.legend(loc='lower right')\n",
    "ax.set_ylabel('Accuracy')\n",
    "ax.set_ylim([min(plt.ylim()),1])\n",
    "ax.set_title('Training and Validation Accuracy')\n",
    "\n",
    "ax = fig.add_subplot(2, 1, 2)\n",
    "ax.plot(loss, label='Training Loss')\n",
    "ax.plot(val_loss, label='Validation Loss')\n",
    "ax.legend(loc='upper right')\n",
    "ax.set_ylabel('Cross Entropy')\n",
    "ax.set_ylim([0,1.0])\n",
    "ax.set_title('Training and Validation Loss')\n",
    "ax.set_xlabel('epoch')\n",
    "_ = fig.suptitle('Our Convolution Neural Network')"
   ]
  },
  {
   "cell_type": "code",
   "execution_count": null,
   "id": "49120f90-06f9-46f8-8df0-16a87ed20441",
   "metadata": {},
   "outputs": [],
   "source": [
    "# Plot results\n",
    "class_names = sorted(validation_data.class_indices.items(), key=lambda pair:pair[1])\n",
    "class_names = np.array([key.title() for key, value in class_names])\n",
    "print(f'Classes: {class_names}')\n",
    "\n",
    "## get result labels\n",
    "predicted_batch = cnn_model.predict(image_batch)\n",
    "predicted_id = np.argmax(predicted_batch, axis=-1)\n",
    "predicted_label_batch = class_names[predicted_id]\n",
    "\n",
    "label_id = np.argmax(label_batch, axis=-1)\n",
    "\n",
    "## plot\n",
    "fig = plt.figure(figsize=(10, 10.5))\n",
    "for n in range(30):\n",
    "    ax = fig.add_subplot(6, 5, n+1)\n",
    "    ax.imshow(image_batch[n])\n",
    "    color = 'green' if predicted_id[n] == label_id[n] else 'red'\n",
    "    ax.set_title(predicted_label_batch[n].title(), color=color)\n",
    "    ax.axis('off')\n",
    "_ = fig.suptitle('Model predictions (green: correct, red: incorrect)')"
   ]
  },
  {
   "cell_type": "markdown",
   "id": "ad53411b-72ec-4894-810d-77ec797f7cbd",
   "metadata": {},
   "source": [
    "### 7. Transfer Learning"
   ]
  },
  {
   "cell_type": "code",
   "execution_count": null,
   "id": "ff69b8a2-04f6-41c7-ba6f-7c68f7d74b3a",
   "metadata": {},
   "outputs": [],
   "source": [
    "# Prepare transfer learning\n",
    "feature_extractor_url = 'https://tfhub.dev/google/tf2-preview/inception_v3/feature_vector/4'\n",
    "feature_extractor_layer = hub.KerasLayer(feature_extractor_url,\n",
    "                                         input_shape=IMAGE_SHAPE+(3, ))\n",
    "feature_batch = feature_extractor_layer(image_batch)\n",
    "print(f'Feature vector shape: {feature_batch.shape}')\n",
    "\n",
    "## Frozen feature extraction layer\n",
    "feature_extractor_layer.trainable = False"
   ]
  },
  {
   "cell_type": "code",
   "execution_count": null,
   "id": "d8cad8d6-d14a-4092-8c05-407fe8fdd4bb",
   "metadata": {},
   "outputs": [],
   "source": [
    "## Make a model for classification\n",
    "model = tf.keras.Sequential([\n",
    "    feature_extractor_layer,\n",
    "    tf.keras.layers.Dense(train_data.num_classes, activation='softmax')\n",
    "])\n",
    "\n",
    "model.summary()\n",
    "\n",
    "predictions= model(image_batch)\n",
    "print(f'Prediction shape: {predictions.shape}')"
   ]
  },
  {
   "cell_type": "markdown",
   "id": "52d0d939-f033-452d-88bf-f1bff04b0e0d",
   "metadata": {},
   "source": [
    "### 8. Train transfered model"
   ]
  },
  {
   "cell_type": "code",
   "execution_count": null,
   "id": "12a7c979-bcdf-4bad-8169-edf48ce85bf9",
   "metadata": {},
   "outputs": [],
   "source": [
    "model.compile(\n",
    "    optimizer=tf.keras.optimizers.Adam(learning_rate=base_learning_rate),\n",
    "    loss=tf.keras.losses.CategoricalCrossentropy(from_logits=True),\n",
    "    metrics=['accuracy'])"
   ]
  },
  {
   "cell_type": "code",
   "execution_count": null,
   "id": "74efff33-4a35-444d-9726-e295c1240993",
   "metadata": {},
   "outputs": [],
   "source": [
    "steps_per_epoch = np.ceil(train_data.samples/train_data.batch_size) # train all dataset per epoch\n",
    "initial_epoch = 25\n",
    "batch_stats_callback = CollectBatchStats()\n",
    "\n",
    "history = model.fit(train_data,\n",
    "                    epochs=initial_epoch,\n",
    "                    steps_per_epoch=steps_per_epoch,\n",
    "                    validation_data=validation_data,\n",
    "                    callbacks=[batch_stats_callback])"
   ]
  },
  {
   "cell_type": "markdown",
   "id": "c36cd1f3-4859-4688-9ded-5ac76a7e61e3",
   "metadata": {},
   "source": [
    "### 9. Visualize transfered model result"
   ]
  },
  {
   "cell_type": "code",
   "execution_count": null,
   "id": "9c366865-c452-42c6-87fc-4a1720c1c043",
   "metadata": {},
   "outputs": [],
   "source": [
    "# Draw learning curves chart\n",
    "acc = batch_stats_callback.batch_acc\n",
    "val_acc = batch_stats_callback.batch_val_acc\n",
    "loss = batch_stats_callback.batch_losses\n",
    "val_loss = batch_stats_callback.batch_val_losses\n",
    "\n",
    "fig = plt.figure(figsize=(8, 8))\n",
    "ax = fig.add_subplot(2, 1, 1)\n",
    "ax.plot(acc, label='Training Accuracy')\n",
    "ax.plot(val_acc, label='Validation Accuracy')\n",
    "ax.legend(loc='lower right')\n",
    "ax.set_ylabel('Accuracy')\n",
    "ax.set_ylim([min(plt.ylim()),1])\n",
    "ax.set_title('Training and Validation Accuracy')\n",
    "\n",
    "ax = fig.add_subplot(2, 1, 2)\n",
    "ax.plot(loss, label='Training Loss')\n",
    "ax.plot(val_loss, label='Validation Loss')\n",
    "ax.legend(loc='upper right')\n",
    "ax.set_ylabel('Cross Entropy')\n",
    "ax.set_ylim([0,1.0])\n",
    "ax.set_title('Training and Validation Loss')\n",
    "ax.set_xlabel('epoch')\n",
    "_ = fig.suptitle('Transfer Learning: Convolution Neural Network')"
   ]
  },
  {
   "cell_type": "code",
   "execution_count": null,
   "id": "f17f85c4-7ba5-426c-82ed-c9d944688b9d",
   "metadata": {},
   "outputs": [],
   "source": [
    "# Plot results\n",
    "class_names = sorted(validation_data.class_indices.items(), key=lambda pair:pair[1])\n",
    "class_names = np.array([key.title() for key, value in class_names])\n",
    "print(f'Classes: {class_names}')\n",
    "\n",
    "## get result labels\n",
    "predicted_batch = model.predict(image_batch)\n",
    "predicted_id = np.argmax(predicted_batch, axis=-1)\n",
    "predicted_label_batch = class_names[predicted_id]\n",
    "\n",
    "label_id = np.argmax(label_batch, axis=-1)\n",
    "\n",
    "## plot\n",
    "fig = plt.figure(figsize=(10, 10.5))\n",
    "for n in range(30):\n",
    "    ax = fig.add_subplot(6, 5, n+1)\n",
    "    ax.imshow(image_batch[n])\n",
    "    color = 'green' if predicted_id[n] == label_id[n] else 'red'\n",
    "    ax.set_title(predicted_label_batch[n].title(), color=color)\n",
    "    ax.axis('off')\n",
    "_ = fig.suptitle('Model predictions (green: correct, red: incorrect)')"
   ]
  },
  {
   "cell_type": "markdown",
   "id": "79b92586-47ef-4eb8-84f7-1cf99c95e961",
   "metadata": {},
   "source": [
    "### 10. Transfer Learning Finetune"
   ]
  },
  {
   "cell_type": "code",
   "execution_count": null,
   "id": "5c52f89f-fe7e-41ce-9223-3a103ec4396f",
   "metadata": {},
   "outputs": [],
   "source": [
    "## Unfrozen feature extraction layer\n",
    "feature_extractor_layer.trainable = True\n",
    "\n",
    "model.compile(\n",
    "    optimizer=tf.keras.optimizers.Adam(learning_rate=base_learning_rate/10),\n",
    "    loss=tf.keras.losses.CategoricalCrossentropy(),\n",
    "    metrics=['accuracy'])\n",
    "\n",
    "model.summary()"
   ]
  },
  {
   "cell_type": "code",
   "execution_count": null,
   "id": "fe2e6040-bddc-48a2-a039-bff40d964d17",
   "metadata": {},
   "outputs": [],
   "source": [
    "finetune_epoch = 25\n",
    "\n",
    "history_fine = model.fit(train_data,\n",
    "                        epochs=initial_epoch+finetune_epoch,\n",
    "                        initial_epoch=initial_epoch,\n",
    "                        steps_per_epoch=steps_per_epoch,\n",
    "                        validation_data=validation_data,\n",
    "                        callbacks = [batch_stats_callback])"
   ]
  },
  {
   "cell_type": "markdown",
   "id": "43d836bd-1ccd-48f1-8f23-f36f3329f924",
   "metadata": {},
   "source": [
    "### 11. Visualize finetune result"
   ]
  },
  {
   "cell_type": "code",
   "execution_count": null,
   "id": "ff2234cf-6d7a-4f3e-9ce1-511fb5a74d8b",
   "metadata": {},
   "outputs": [],
   "source": [
    "# Draw learning curves chart\n",
    "fine_acc = batch_stats_callback.batch_acc\n",
    "fine_val_acc = batch_stats_callback.batch_val_acc\n",
    "fine_loss = batch_stats_callback.batch_losses\n",
    "fine_val_loss = batch_stats_callback.batch_val_losses\n",
    "\n",
    "fig = plt.figure(figsize=(8, 8))\n",
    "ax = fig.add_subplot(2, 1, 1)\n",
    "ax.plot(acc, label='Training Accuracy')\n",
    "ax.plot(val_acc, label='Validation Accuracy')\n",
    "ax.set_ylabel('Accuracy')\n",
    "ax.set_ylim([min(plt.ylim()),1])\n",
    "ax.plot([initial_epoch,initial_epoch],\n",
    "        ax.get_ylim(), label='Start Fine Tuning')\n",
    "ax.legend(loc='lower right')\n",
    "ax.set_title('Training and Validation Accuracy')\n",
    "\n",
    "ax = fig.add_subplot(2, 1, 2)\n",
    "ax.plot(loss, label='Training Loss')\n",
    "ax.plot(val_loss, label='Validation Loss')\n",
    "ax.set_ylabel('Cross Entropy')\n",
    "ax.set_ylim([0,1.0])\n",
    "ax.plot([initial_epoch,initial_epoch],\n",
    "        ax.get_ylim(), label='Start Fine Tuning')\n",
    "ax.legend(loc='upper right')\n",
    "ax.set_title('Training and Validation Loss')\n",
    "ax.set_xlabel('epoch')"
   ]
  },
  {
   "cell_type": "code",
   "execution_count": null,
   "id": "d409c3a5-2b86-4aa6-947d-ced657dea34b",
   "metadata": {},
   "outputs": [],
   "source": [
    "# Plot results\n",
    "class_names = sorted(validation_data.class_indices.items(), key=lambda pair:pair[1])\n",
    "class_names = np.array([key.title() for key, value in class_names])\n",
    "print(f'Classes: {class_names}')\n",
    "\n",
    "## get result labels\n",
    "predicted_batch = model.predict(image_batch)\n",
    "predicted_id = np.argmax(predicted_batch, axis=-1)\n",
    "predicted_label_batch = class_names[predicted_id]\n",
    "\n",
    "label_id = np.argmax(label_batch, axis=-1)\n",
    "\n",
    "## plot\n",
    "fig = plt.figure(figsize=(10, 10.5))\n",
    "for n in range(30):\n",
    "    ax = fig.add_subplot(6, 5, n+1)\n",
    "    ax.imshow(image_batch[n])\n",
    "    color = 'green' if predicted_id[n] == label_id[n] else 'red'\n",
    "    ax.set_title(predicted_label_batch[n].title(), color=color)\n",
    "    ax.axis('off')\n",
    "_ = fig.suptitle('Model predictions (green: correct, red: incorrect)')"
   ]
  },
  {
   "cell_type": "code",
   "execution_count": null,
   "id": "6fa52fd3-1016-44ee-961a-9ff4c6545df8",
   "metadata": {},
   "outputs": [],
   "source": [
    "idx = 0\n",
    "\n",
    "test_data = validation_data[idx//32][0][idx%32]\n",
    "actual_label = class_names[np.argmax(validation_data[idx//32][1][idx%32])]\n",
    "predicted_label = class_names[np.argmax(model.predict(tf.expand_dims(test_data, 0)))]\n",
    "\n",
    "fig = plt.figure(figsize=(6, 6))\n",
    "fig.set_facecolor('white')\n",
    "ax = fig.add_subplot()\n",
    "axm = ax.imshow(test_data)\n",
    "fig.suptitle(f'Test Image [{idx}]', fontsize=14)\n",
    "ax.set_title(f'Label: {predicted_label} (Actual: {actual_label})', fontsize=12)\n",
    "ax.grid(False)"
   ]
  }
 ],
 "metadata": {
  "kernelspec": {
   "display_name": "Python 3 (ipykernel)",
   "language": "python",
   "name": "python3"
  },
  "language_info": {
   "codemirror_mode": {
    "name": "ipython",
    "version": 3
   },
   "file_extension": ".py",
   "mimetype": "text/x-python",
   "name": "python",
   "nbconvert_exporter": "python",
   "pygments_lexer": "ipython3",
   "version": "3.10.12"
  }
 },
 "nbformat": 4,
 "nbformat_minor": 5
}
