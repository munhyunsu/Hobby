{
 "cells": [
  {
   "cell_type": "markdown",
   "id": "a608bcc0-8c0a-4dc2-8c05-ceb625c070b6",
   "metadata": {},
   "source": [
    "# 3차시: 대전광역시 공용자전거 (타슈) 데이터 기초 분석\n",
    "\n",
    "## 2023. 05. 24. 14:10 ~ 16:00 (50분×2)\n",
    "1. 데이터 분석 흐름\n",
    "1. 원본 데이터 수집\n",
    "1. 데이터 전처리\n",
    "1. 데이터 분석\n",
    "\n",
    "### 참고자료\n",
    "- [파이썬 3 표준 문서](https://docs.python.org/3/index.html)\n",
    "- [대전광역시 시설관리공단](https://www.djsiseol.or.kr/)\n",
    "- [공공데이터포털](https://www.data.go.kr/)\n",
    "- [기상청 기상자료개발포털](https://data.kma.go.kr/)"
   ]
  },
  {
   "cell_type": "code",
   "execution_count": null,
   "id": "8e13324f-6aca-48ae-a3fb-3ea08e4c949f",
   "metadata": {},
   "outputs": [],
   "source": []
  }
 ],
 "metadata": {
  "kernelspec": {
   "display_name": "Python 3 (ipykernel)",
   "language": "python",
   "name": "python3"
  },
  "language_info": {
   "codemirror_mode": {
    "name": "ipython",
    "version": 3
   },
   "file_extension": ".py",
   "mimetype": "text/x-python",
   "name": "python",
   "nbconvert_exporter": "python",
   "pygments_lexer": "ipython3",
   "version": "3.10.9"
  }
 },
 "nbformat": 4,
 "nbformat_minor": 5
}
