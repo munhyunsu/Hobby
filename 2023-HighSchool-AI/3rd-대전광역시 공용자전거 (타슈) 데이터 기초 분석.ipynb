{
 "cells": [
  {
   "cell_type": "markdown",
   "id": "a608bcc0-8c0a-4dc2-8c05-ceb625c070b6",
   "metadata": {},
   "source": [
    "# 3차시: 대전광역시 공용자전거 (타슈) 데이터 기초 분석\n",
    "\n",
    "## 2023. 05. 24. 14:10 ~ 16:00 (50분×2)\n",
    "1. 데이터 분석 흐름\n",
    "1. 원본 데이터 수집\n",
    "1. 데이터 전처리\n",
    "1. 데이터 분석\n",
    "\n",
    "### 참고자료\n",
    "- [파이썬 3 표준 문서](https://docs.python.org/3/index.html)\n",
    "- [대전광역시 시설관리공단](https://www.djsiseol.or.kr/)\n",
    "- [공공데이터포털](https://www.data.go.kr/)\n",
    "- [기상청 기상자료개발포털](https://data.kma.go.kr/)"
   ]
  },
  {
   "cell_type": "code",
   "execution_count": null,
   "id": "8e13324f-6aca-48ae-a3fb-3ea08e4c949f",
   "metadata": {},
   "outputs": [],
   "source": [
    "import datetime\n",
    "\n",
    "import numpy as np\n",
    "import pandas as pd\n",
    "\n",
    "import matplotlib as mpl\n",
    "import matplotlib.pyplot as plt\n",
    "%matplotlib inline"
   ]
  },
  {
   "cell_type": "code",
   "execution_count": null,
   "id": "29b5e661-9ebf-416a-888b-23f9e8605a76",
   "metadata": {},
   "outputs": [],
   "source": [
    "df_rent = pd.read_pickle('tashu_dataset-rental_history_2021.pkl')\n",
    "df_rent['대여일시'] = pd.to_datetime(df_rent['대여일시'], format='%Y%m%d%H%M%S')\n",
    "df_rent['반납일시'] = pd.to_datetime(df_rent['반납일시'], format='%Y%m%d%H%M%S')\n",
    "df_rent"
   ]
  },
  {
   "cell_type": "code",
   "execution_count": null,
   "id": "bfba6aed-44ac-45bb-9830-67d7e809940c",
   "metadata": {},
   "outputs": [],
   "source": [
    "df_rent.dtypes"
   ]
  },
  {
   "cell_type": "code",
   "execution_count": null,
   "id": "d1197af8-acaa-4dd7-aa3b-27fa88d3a161",
   "metadata": {},
   "outputs": [],
   "source": [
    "df_station = pd.read_pickle('tashu_dataset-station_information.pkl')\n",
    "df_station"
   ]
  },
  {
   "cell_type": "code",
   "execution_count": null,
   "id": "15af8527-6e9c-4ba1-b297-4c178963bacc",
   "metadata": {},
   "outputs": [],
   "source": [
    "df_station.dtypes"
   ]
  },
  {
   "cell_type": "markdown",
   "id": "67c8cc59-8c1a-408d-b86f-b968aa968e74",
   "metadata": {},
   "source": [
    "## 대여일시 분석"
   ]
  },
  {
   "cell_type": "code",
   "execution_count": null,
   "id": "529cfc06-d01b-4e62-a13e-e728a34df9cd",
   "metadata": {},
   "outputs": [],
   "source": [
    "rent_index = pd.DatetimeIndex(df_rent['대여일시'])"
   ]
  },
  {
   "cell_type": "code",
   "execution_count": null,
   "id": "fca05541-4cd4-406a-bf48-9f24fb796d16",
   "metadata": {},
   "outputs": [],
   "source": [
    "hourly_df_rent = df_rent['대여일시'].groupby(by=rent_index.hour)\n",
    "hourly_df_rent.count()"
   ]
  },
  {
   "cell_type": "code",
   "execution_count": null,
   "id": "4e896ebf-cd15-4c23-8da6-6bca6b223fc3",
   "metadata": {},
   "outputs": [],
   "source": [
    "fig = plt.figure(figsize= (8, 8))\n",
    "ax = fig.add_subplot()\n",
    "ax.plot(hourly_df_rent.count())"
   ]
  },
  {
   "cell_type": "code",
   "execution_count": null,
   "id": "d8e13a1c-5161-4e30-9797-78c224eefc81",
   "metadata": {},
   "outputs": [],
   "source": [
    "print((f'가장 많이 대여하는 시간: '\n",
    "       f'{hourly_df_rent.count().index[hourly_df_rent.count() == max(hourly_df_rent.count())][0]}'))"
   ]
  },
  {
   "cell_type": "code",
   "execution_count": null,
   "id": "4bc333d0-c85a-426c-9b39-a743d0894482",
   "metadata": {},
   "outputs": [],
   "source": [
    "daily_df_rent = df_rent['대여일시'].groupby(by=rent_index.strftime('%Y-%m-%d'))\n",
    "daily_df_rent.count()"
   ]
  },
  {
   "cell_type": "code",
   "execution_count": null,
   "id": "a8a283b2-851a-49c8-a0cb-325baa1ac815",
   "metadata": {},
   "outputs": [],
   "source": [
    "fig = plt.figure(figsize= (8, 8))\n",
    "ax = fig.add_subplot()\n",
    "ax.plot(daily_df_rent.count())"
   ]
  }
 ],
 "metadata": {
  "kernelspec": {
   "display_name": "Python 3 (ipykernel)",
   "language": "python",
   "name": "python3"
  },
  "language_info": {
   "codemirror_mode": {
    "name": "ipython",
    "version": 3
   },
   "file_extension": ".py",
   "mimetype": "text/x-python",
   "name": "python",
   "nbconvert_exporter": "python",
   "pygments_lexer": "ipython3",
   "version": "3.10.9"
  }
 },
 "nbformat": 4,
 "nbformat_minor": 5
}
