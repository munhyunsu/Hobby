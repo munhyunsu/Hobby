{
 "cells": [
  {
   "cell_type": "markdown",
   "id": "a608bcc0-8c0a-4dc2-8c05-ceb625c070b6",
   "metadata": {},
   "source": [
    "# 3차시: 대전광역시 공용자전거 (타슈) 데이터 기초 분석\n",
    "\n",
    "## 2023. 05. 24. 14:10 ~ 16:00 (50분×2)\n",
    "1. 데이터 분석 흐름\n",
    "1. 원본 데이터 수집\n",
    "1. 데이터 전처리\n",
    "1. 데이터 분석\n",
    "\n",
    "### 참고자료\n",
    "- [파이썬 3 표준 문서](https://docs.python.org/3/index.html)\n",
    "- [대전광역시 시설관리공단](https://www.djsiseol.or.kr/)\n",
    "- [공공데이터포털](https://www.data.go.kr/)\n",
    "- [기상청 기상자료개발포털](https://data.kma.go.kr/)"
   ]
  },
  {
   "cell_type": "code",
   "execution_count": null,
   "id": "8e13324f-6aca-48ae-a3fb-3ea08e4c949f",
   "metadata": {},
   "outputs": [],
   "source": [
    "import datetime\n",
    "\n",
    "import numpy as np\n",
    "import pandas as pd\n",
    "\n",
    "import matplotlib as mpl\n",
    "import matplotlib.pyplot as plt\n",
    "%matplotlib inline"
   ]
  },
  {
   "cell_type": "code",
   "execution_count": null,
   "id": "29b5e661-9ebf-416a-888b-23f9e8605a76",
   "metadata": {},
   "outputs": [],
   "source": [
    "df_rent = pd.read_pickle('tashu_dataset-rental_history_2021.pkl')\n",
    "df_rent['대여일시'] = pd.to_datetime(df_rent['대여일시'], format='%Y%m%d%H%M%S')\n",
    "df_rent['반납일시'] = pd.to_datetime(df_rent['반납일시'], format='%Y%m%d%H%M%S')\n",
    "df_rent"
   ]
  },
  {
   "cell_type": "code",
   "execution_count": null,
   "id": "bfba6aed-44ac-45bb-9830-67d7e809940c",
   "metadata": {},
   "outputs": [],
   "source": [
    "df_rent.dtypes"
   ]
  },
  {
   "cell_type": "code",
   "execution_count": null,
   "id": "d1197af8-acaa-4dd7-aa3b-27fa88d3a161",
   "metadata": {},
   "outputs": [],
   "source": [
    "df_station = pd.read_pickle('tashu_dataset-station_information.pkl')\n",
    "df_station"
   ]
  },
  {
   "cell_type": "code",
   "execution_count": null,
   "id": "15af8527-6e9c-4ba1-b297-4c178963bacc",
   "metadata": {},
   "outputs": [],
   "source": [
    "df_station.dtypes"
   ]
  },
  {
   "cell_type": "markdown",
   "id": "67c8cc59-8c1a-408d-b86f-b968aa968e74",
   "metadata": {},
   "source": [
    "## 대여일시 분석"
   ]
  },
  {
   "cell_type": "code",
   "execution_count": null,
   "id": "529cfc06-d01b-4e62-a13e-e728a34df9cd",
   "metadata": {},
   "outputs": [],
   "source": [
    "rent_index = pd.DatetimeIndex(df_rent['대여일시'])"
   ]
  },
  {
   "cell_type": "code",
   "execution_count": null,
   "id": "fca05541-4cd4-406a-bf48-9f24fb796d16",
   "metadata": {},
   "outputs": [],
   "source": [
    "hourly_df_rent = df_rent['대여일시'].groupby(by=rent_index.hour)\n",
    "hourly_df_rent.count()"
   ]
  },
  {
   "cell_type": "code",
   "execution_count": null,
   "id": "4e896ebf-cd15-4c23-8da6-6bca6b223fc3",
   "metadata": {},
   "outputs": [],
   "source": [
    "fig = plt.figure(figsize= (8, 8))\n",
    "ax = fig.add_subplot()\n",
    "ax.plot(hourly_df_rent.count())"
   ]
  },
  {
   "cell_type": "code",
   "execution_count": null,
   "id": "d8e13a1c-5161-4e30-9797-78c224eefc81",
   "metadata": {},
   "outputs": [],
   "source": [
    "print((f'가장 많이 대여하는 시간: '\n",
    "       f'{hourly_df_rent.count().index[hourly_df_rent.count() == max(hourly_df_rent.count())][0]}'))"
   ]
  },
  {
   "cell_type": "code",
   "execution_count": null,
   "id": "4bc333d0-c85a-426c-9b39-a743d0894482",
   "metadata": {},
   "outputs": [],
   "source": [
    "daily_df_rent = df_rent['대여일시'].groupby(by=rent_index.strftime('%Y-%m-%d'))\n",
    "daily_df_rent.count()"
   ]
  },
  {
   "cell_type": "code",
   "execution_count": null,
   "id": "a8a283b2-851a-49c8-a0cb-325baa1ac815",
   "metadata": {},
   "outputs": [],
   "source": [
    "fig = plt.figure(figsize= (8, 8))\n",
    "ax = fig.add_subplot()\n",
    "ax.plot(daily_df_rent.count())"
   ]
  },
  {
   "cell_type": "code",
   "execution_count": null,
   "id": "bcd92aea-7b8d-4808-88eb-e4badd9c77c0",
   "metadata": {},
   "outputs": [],
   "source": [
    "print((f'가장 많이 대여한 날: '\n",
    "       f'{daily_df_rent.count().index[daily_df_rent.count() == max(daily_df_rent.count())][0]}'))"
   ]
  },
  {
   "cell_type": "code",
   "execution_count": null,
   "id": "93b22f3b-d9b0-4d4e-9510-8d385bd6cad2",
   "metadata": {},
   "outputs": [],
   "source": [
    "monthly_df_rent = df_rent['대여일시'].groupby(by=rent_index.strftime('%Y-%m'))\n",
    "monthly_df_rent.count()"
   ]
  },
  {
   "cell_type": "code",
   "execution_count": null,
   "id": "824cfd18-140d-4e88-b6e7-feb2ac0e8b20",
   "metadata": {},
   "outputs": [],
   "source": [
    "fig = plt.figure(figsize= (8, 8))\n",
    "ax = fig.add_subplot()\n",
    "ax.plot(monthly_df_rent.count())"
   ]
  },
  {
   "cell_type": "code",
   "execution_count": null,
   "id": "288d5fcc-7e37-43ac-a570-8fd8ab1b06ff",
   "metadata": {},
   "outputs": [],
   "source": [
    "print((f'가장 많이 대여한 날: '\n",
    "       f'{monthly_df_rent.count().index[monthly_df_rent.count() == max(monthly_df_rent.count())][0]}'))"
   ]
  },
  {
   "cell_type": "code",
   "execution_count": null,
   "id": "19d67228-b9ca-4716-91cc-0ce39db22da1",
   "metadata": {},
   "outputs": [],
   "source": [
    "# https://pandas.pydata.org/docs/reference/api/pandas.Series.dt.strftime.html\n",
    "# https://docs.python.org/3/library/datetime.html#strftime-and-strptime-behavior\n",
    "weekly_df_rent = df_rent['대여일시'].groupby(by=rent_index.strftime('%w'))\n",
    "weekly_df_rent.count()"
   ]
  },
  {
   "cell_type": "code",
   "execution_count": null,
   "id": "36b6b139-19b6-4c24-8edd-84a58d8768dd",
   "metadata": {},
   "outputs": [],
   "source": [
    "labels = {0: 'Sunday', 1: 'Monday', 2: 'Tuesday', 3: 'Wednesday', 4: 'Thursday', 5: 'Friday', 6: 'Saturday'}\n",
    "colors = ['r', 'g', 'b', 'k', 'y', 'm', 'c']\n",
    "\n",
    "fig = plt.figure(figsize= (6, 6))\n",
    "ax = fig.add_subplot()\n",
    "ax.bar(labels.keys(), weekly_df_rent.count(), \n",
    "       color=colors, tick_label=list(labels.values()))"
   ]
  },
  {
   "cell_type": "code",
   "execution_count": null,
   "id": "2d987e5b-ab9b-4b48-9303-1cd7b8683039",
   "metadata": {},
   "outputs": [],
   "source": [
    "print((f'가장 많이 대여한 날: '\n",
    "       f'{weekly_df_rent.count().index[weekly_df_rent.count() == max(weekly_df_rent.count())][0]}'))"
   ]
  },
  {
   "cell_type": "markdown",
   "id": "1e866317-be42-4f80-b01c-95e2e9e72c70",
   "metadata": {},
   "source": [
    "## 정류장 분석"
   ]
  },
  {
   "cell_type": "code",
   "execution_count": null,
   "id": "a0716e9d-49e5-4924-94ee-ba9c00115b7b",
   "metadata": {},
   "outputs": [],
   "source": [
    "station_df_rent = df_rent['대여스테이션'].groupby(by=df_rent['대여스테이션'])\n",
    "sorted_rent_station = station_df_rent.count().sort_values(ascending=False)\n",
    "sorted_rent_station"
   ]
  },
  {
   "cell_type": "code",
   "execution_count": null,
   "id": "06ddd32c-59f9-4c5d-a8d4-8320a581d9ba",
   "metadata": {},
   "outputs": [],
   "source": [
    "df_station[df_station.index == sorted_rent_station.index[1]]"
   ]
  },
  {
   "cell_type": "code",
   "execution_count": null,
   "id": "ab6d51de-e434-4dbc-afb9-9de8e4a854d0",
   "metadata": {},
   "outputs": [],
   "source": [
    "diff_rent = df_rent[df_rent['대여스테이션'] != df_rent['반납스테이션']]\n",
    "same_rent = df_rent[df_rent['대여스테이션'] == df_rent['반납스테이션']]"
   ]
  },
  {
   "cell_type": "code",
   "execution_count": null,
   "id": "104429d7-e6c4-4fe0-8a4c-c586a4b1b682",
   "metadata": {},
   "outputs": [],
   "source": [
    "t = diff_rent['대여스테이션'].groupby(by=diff_rent['대여스테이션'])\n",
    "sorted_t = t.count().sort_values(ascending=False)\n",
    "sorted_t"
   ]
  },
  {
   "cell_type": "code",
   "execution_count": null,
   "id": "16a3783e-0df6-4964-827f-e3a9f4e5f12a",
   "metadata": {},
   "outputs": [],
   "source": [
    "df_station[df_station.index == sorted_t.index[0]]"
   ]
  },
  {
   "cell_type": "code",
   "execution_count": null,
   "id": "19ae4eb4-9639-4605-b7c4-b642d41bc42a",
   "metadata": {},
   "outputs": [],
   "source": [
    "t = same_rent['대여스테이션'].groupby(by=same_rent['대여스테이션'])\n",
    "sorted_t = t.count().sort_values(ascending=False)\n",
    "sorted_t"
   ]
  },
  {
   "cell_type": "markdown",
   "id": "25c934fe-7e29-408a-a902-da2b8c26688c",
   "metadata": {},
   "source": [
    "# 대여 - 반납 분석"
   ]
  },
  {
   "cell_type": "code",
   "execution_count": null,
   "id": "bbd0a6b8-1c02-4ca2-ac6f-6a7aaa886d5f",
   "metadata": {},
   "outputs": [],
   "source": [
    "df = df_rent['대여일시'].groupby(by=[df_rent['대여스테이션'], df_rent['반납스테이션']])\n",
    "df.count()"
   ]
  },
  {
   "cell_type": "code",
   "execution_count": null,
   "id": "94da8acd-5a1a-4e77-a3ec-d4e550b60d86",
   "metadata": {},
   "outputs": [],
   "source": [
    "df.count().index[df.count() == max(df.count())]"
   ]
  },
  {
   "cell_type": "code",
   "execution_count": null,
   "id": "aaecd5af-4a4b-4bd7-80dc-46810e977a4d",
   "metadata": {},
   "outputs": [],
   "source": [
    "df = diff_rent['대여일시'].groupby(by=[diff_rent['대여스테이션'], diff_rent['반납스테이션']])\n",
    "df.count()"
   ]
  },
  {
   "cell_type": "code",
   "execution_count": null,
   "id": "a2741269-6e07-47fe-81a4-174d2f882a7f",
   "metadata": {},
   "outputs": [],
   "source": [
    "df.count().index[df.count() == max(df.count())]"
   ]
  }
 ],
 "metadata": {
  "kernelspec": {
   "display_name": "Python 3 (ipykernel)",
   "language": "python",
   "name": "python3"
  },
  "language_info": {
   "codemirror_mode": {
    "name": "ipython",
    "version": 3
   },
   "file_extension": ".py",
   "mimetype": "text/x-python",
   "name": "python",
   "nbconvert_exporter": "python",
   "pygments_lexer": "ipython3",
   "version": "3.10.9"
  }
 },
 "nbformat": 4,
 "nbformat_minor": 5
}
