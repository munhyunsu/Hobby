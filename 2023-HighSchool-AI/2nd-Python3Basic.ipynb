{
 "cells": [
  {
   "cell_type": "markdown",
   "id": "0174f68c-fbb1-475d-afaf-3cc9fbf518f6",
   "metadata": {},
   "source": [
    "# 2차시 (Half): 환경 구축 및 Python 3 기초\n",
    "\n",
    "## 2023. 05. 17. 14:10 ~ 15:00 (50분)\n",
    "1. 표준 입력, 표준 출력, 변수\n",
    "1. 흐름 제어: 반복문\n",
    "1. 흐름 제어: 분기문\n",
    "1. 함수\n",
    "1. 필수 자료형: 리스트\n",
    "1. 필수 자료형: 사전\n",
    "1. 시각화\n",
    "\n",
    "### 참고자료\n",
    "- [파이썬 3 표준 문서](https://docs.python.org/3/index.html)"
   ]
  },
  {
   "cell_type": "markdown",
   "id": "d5d2be58-4aaf-432d-a2a6-814e7d802b82",
   "metadata": {},
   "source": [
    "### 1. 표준 입력, 표준 출력, 변수"
   ]
  },
  {
   "cell_type": "code",
   "execution_count": null,
   "id": "533a3ec4-88de-463c-8e43-50320973a7bb",
   "metadata": {},
   "outputs": [],
   "source": [
    "### 파이썬 3 로 인사하기\n",
    "print('안녕하세요')"
   ]
  },
  {
   "cell_type": "code",
   "execution_count": null,
   "id": "a0e722c7-273a-4bfe-972c-22dc93d21556",
   "metadata": {},
   "outputs": [],
   "source": [
    "### 덧셈 뺄셈 곱셈 나눗셈\n",
    "4 - 2"
   ]
  },
  {
   "cell_type": "code",
   "execution_count": null,
   "id": "253c293c-8ede-4e0e-aaa9-b416d046c9bc",
   "metadata": {},
   "outputs": [],
   "source": [
    "### 문자열?\n",
    "'이렇게' + ' ' + '합쳐서' + ' ' + '출력'"
   ]
  },
  {
   "cell_type": "code",
   "execution_count": null,
   "id": "2845f35c-3ebb-4c9f-9834-56f45255f473",
   "metadata": {},
   "outputs": [],
   "source": [
    "### 덧셈기: 자연수\n",
    "x = int(input('첫번째 피연산자를 입력하세요: '))\n",
    "y = int(input('두번째 피연산자를 입력하세요: '))\n",
    "print(f'{x} + {y} = {x+y}')"
   ]
  },
  {
   "cell_type": "code",
   "execution_count": null,
   "id": "a8aa4b73-325b-4360-9146-f7701738ca90",
   "metadata": {},
   "outputs": [],
   "source": [
    "### 연습문제1) 3항 곱셈기: 자연수\n",
    "x = int(input('첫번째 피연산자를 입력하세요: '))\n",
    "y = int(input('두번째 피연산자를 입력하세요: '))\n",
    "z = int(input('세번째 피연산자를 입력하세요: '))\n",
    "print(f'{x} x {y} x {z} = {x*y*z}')"
   ]
  }
 ],
 "metadata": {
  "kernelspec": {
   "display_name": "Python 3 (ipykernel)",
   "language": "python",
   "name": "python3"
  },
  "language_info": {
   "codemirror_mode": {
    "name": "ipython",
    "version": 3
   },
   "file_extension": ".py",
   "mimetype": "text/x-python",
   "name": "python",
   "nbconvert_exporter": "python",
   "pygments_lexer": "ipython3",
   "version": "3.10.9"
  }
 },
 "nbformat": 4,
 "nbformat_minor": 5
}
