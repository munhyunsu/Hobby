{
 "cells": [
  {
   "cell_type": "markdown",
   "id": "0174f68c-fbb1-475d-afaf-3cc9fbf518f6",
   "metadata": {},
   "source": [
    "# 2차시 (Half): 환경 구축 및 Python 3 기초\n",
    "\n",
    "## 2023. 05. 17. 14:10 ~ 15:00 (50분)\n",
    "1. 표준 입력, 표준 출력, 변수\n",
    "1. 흐름 제어: 반복문\n",
    "1. 흐름 제어: 분기문\n",
    "1. 함수\n",
    "1. 필수 자료형: 리스트\n",
    "1. 필수 자료형: 사전\n",
    "1. 시각화\n",
    "\n",
    "### 참고자료\n",
    "- [파이썬 3 표준 문서](https://docs.python.org/3/index.html)"
   ]
  },
  {
   "cell_type": "markdown",
   "id": "d5d2be58-4aaf-432d-a2a6-814e7d802b82",
   "metadata": {},
   "source": [
    "### 1. 표준 입력, 표준 출력, 변수"
   ]
  },
  {
   "cell_type": "code",
   "execution_count": null,
   "id": "533a3ec4-88de-463c-8e43-50320973a7bb",
   "metadata": {},
   "outputs": [],
   "source": [
    "### 파이썬 3 로 인사하기\n",
    "print('안녕하세요')"
   ]
  },
  {
   "cell_type": "code",
   "execution_count": null,
   "id": "a0e722c7-273a-4bfe-972c-22dc93d21556",
   "metadata": {},
   "outputs": [],
   "source": [
    "### 덧셈 뺄셈 곱셈 나눗셈\n",
    "4 - 2"
   ]
  },
  {
   "cell_type": "code",
   "execution_count": null,
   "id": "253c293c-8ede-4e0e-aaa9-b416d046c9bc",
   "metadata": {},
   "outputs": [],
   "source": [
    "### 문자열?\n",
    "'이렇게' + ' ' + '합쳐서' + ' ' + '출력'"
   ]
  },
  {
   "cell_type": "code",
   "execution_count": null,
   "id": "2845f35c-3ebb-4c9f-9834-56f45255f473",
   "metadata": {},
   "outputs": [],
   "source": [
    "### 덧셈기: 자연수\n",
    "x = int(input('첫번째 피연산자를 입력하세요: '))\n",
    "y = int(input('두번째 피연산자를 입력하세요: '))\n",
    "print(f'{x} + {y} = {x+y}')"
   ]
  },
  {
   "cell_type": "code",
   "execution_count": null,
   "id": "a8aa4b73-325b-4360-9146-f7701738ca90",
   "metadata": {},
   "outputs": [],
   "source": [
    "### 연습문제1) 3항 곱셈기: 자연수\n",
    "x = int(input('첫번째 피연산자를 입력하세요: '))\n",
    "y = int(input('두번째 피연산자를 입력하세요: '))\n",
    "z = int(input('세번째 피연산자를 입력하세요: '))\n",
    "print(f'{x} x {y} x {z} = {x*y*z}')"
   ]
  },
  {
   "cell_type": "markdown",
   "id": "d4b89277-575d-4f21-b9a5-6dfe0a2b3aa1",
   "metadata": {},
   "source": [
    "### 2. 흐름 제어: 반복문"
   ]
  },
  {
   "cell_type": "code",
   "execution_count": null,
   "id": "f15363bc-75fd-4a35-adef-515446159af9",
   "metadata": {},
   "outputs": [],
   "source": [
    "### 플로우 컨트롤: for loop\n",
    "import time\n",
    "\n",
    "print('로켓 발사 카운트 다운!')\n",
    "for number in range(10, 0, -1):\n",
    "    print(f'발사 {number}초 전!')\n",
    "    time.sleep(1)\n",
    "print(f'로켓 발사!')"
   ]
  },
  {
   "cell_type": "code",
   "execution_count": null,
   "id": "2c0b769f-fbbf-4b5f-93a2-0fbe7836d43b",
   "metadata": {},
   "outputs": [],
   "source": [
    "### 플로우 컨트롤: while loop\n",
    "print('비행기 이륙합니다!')\n",
    "height = 0\n",
    "while height < 10000:\n",
    "    print(f'고도 {height:05d}km')\n",
    "    height = height + 1000\n",
    "print(f'고도 {height:05d}km 도달!')"
   ]
  },
  {
   "cell_type": "code",
   "execution_count": null,
   "id": "d639d5b6-aee8-44fd-a685-c63bfb187b29",
   "metadata": {},
   "outputs": [],
   "source": [
    "### 연습 문제) 짝수 출력기: 0부터 20까지 짝수만 출력!\n",
    "n = int(input('어디까지~? '))\n",
    "for number in range(0, n+1, 2):\n",
    "    print(number)"
   ]
  },
  {
   "cell_type": "code",
   "execution_count": null,
   "id": "dcfd3d62-66f0-40ff-b493-bae4b55aae33",
   "metadata": {},
   "outputs": [],
   "source": []
  },
  {
   "cell_type": "code",
   "execution_count": null,
   "id": "fb76ea98-6780-4e02-9df0-5b23bf32d4b6",
   "metadata": {},
   "outputs": [],
   "source": []
  },
  {
   "cell_type": "code",
   "execution_count": null,
   "id": "d440297a-df45-47e0-8e15-5339d0b13572",
   "metadata": {},
   "outputs": [],
   "source": []
  }
 ],
 "metadata": {
  "kernelspec": {
   "display_name": "Python 3 (ipykernel)",
   "language": "python",
   "name": "python3"
  },
  "language_info": {
   "codemirror_mode": {
    "name": "ipython",
    "version": 3
   },
   "file_extension": ".py",
   "mimetype": "text/x-python",
   "name": "python",
   "nbconvert_exporter": "python",
   "pygments_lexer": "ipython3",
   "version": "3.10.9"
  }
 },
 "nbformat": 4,
 "nbformat_minor": 5
}
