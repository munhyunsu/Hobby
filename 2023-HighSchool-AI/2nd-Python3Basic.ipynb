{
 "cells": [
  {
   "cell_type": "markdown",
   "id": "0174f68c-fbb1-475d-afaf-3cc9fbf518f6",
   "metadata": {},
   "source": [
    "# 2차시 (Half): 환경 구축 및 Python 3 기초\n",
    "\n",
    "## 2023. 05. 17. 14:10 ~ 15:00 (50분)\n",
    "1. 표준 입력, 표준 출력, 변수\n",
    "1. 흐름 제어: 반복문\n",
    "1. 흐름 제어: 분기문\n",
    "1. 함수\n",
    "1. 필수 자료형: 리스트\n",
    "1. 필수 자료형: 사전\n",
    "1. 시각화\n",
    "\n",
    "### 참고자료\n",
    "- [파이썬 3 표준 문서](https://docs.python.org/3/index.html)"
   ]
  },
  {
   "cell_type": "code",
   "execution_count": null,
   "id": "ff676b02-7990-4fd6-bb49-3c08dc93b6c0",
   "metadata": {},
   "outputs": [],
   "source": []
  }
 ],
 "metadata": {
  "kernelspec": {
   "display_name": "Python 3 (ipykernel)",
   "language": "python",
   "name": "python3"
  },
  "language_info": {
   "codemirror_mode": {
    "name": "ipython",
    "version": 3
   },
   "file_extension": ".py",
   "mimetype": "text/x-python",
   "name": "python",
   "nbconvert_exporter": "python",
   "pygments_lexer": "ipython3",
   "version": "3.10.9"
  }
 },
 "nbformat": 4,
 "nbformat_minor": 5
}
