{
 "cells": [
  {
   "cell_type": "markdown",
   "id": "44f16921",
   "metadata": {},
   "source": [
    "# 타슈 데이터 분석\n",
    "\n",
    "## 공유 자전거 데이터 랜덤포레스트 반납 예측"
   ]
  },
  {
   "cell_type": "code",
   "execution_count": null,
   "id": "90b2abc3",
   "metadata": {},
   "outputs": [],
   "source": [
    "import datetime\n",
    "\n",
    "import numpy as np\n",
    "import pandas as pd\n",
    "\n",
    "from sklearn.model_selection import train_test_split\n",
    "from sklearn import tree\n",
    "from sklearn.tree import DecisionTreeClassifier, export_graphviz\n",
    "from sklearn.ensemble import RandomForestClassifier\n",
    "from sklearn.preprocessing import OneHotEncoder\n",
    "\n",
    "import matplotlib as mpl\n",
    "import matplotlib.pyplot as plt\n",
    "%matplotlib widget"
   ]
  },
  {
   "cell_type": "code",
   "execution_count": null,
   "id": "a4c2a21b-9f66-40ed-8ba1-433c3c61e237",
   "metadata": {},
   "outputs": [],
   "source": [
    "df_rent = pd.read_pickle('tashu_dataset-rental_history.pkl')"
   ]
  },
  {
   "cell_type": "code",
   "execution_count": null,
   "id": "e428fe03-bca6-435e-9f79-50d82b1c0ffa",
   "metadata": {},
   "outputs": [],
   "source": [
    "df_rent.sample(10)"
   ]
  },
  {
   "cell_type": "code",
   "execution_count": null,
   "id": "f990e297",
   "metadata": {},
   "outputs": [],
   "source": [
    "df_rent = pd.read_pickle('tashu_dataset-rental_history.pkl')\n",
    "df_rent['대여일시'] = pd.to_datetime(df_rent['대여일시'], format='%Y%m%d%H%M%S')\n",
    "df_rent['반납일시'] = pd.to_datetime(df_rent['반납일시'], format='%Y%m%d%H%M%S')\n",
    "df_rent"
   ]
  },
  {
   "cell_type": "code",
   "execution_count": null,
   "id": "be5eae1e",
   "metadata": {},
   "outputs": [],
   "source": [
    "df_rent.dtypes"
   ]
  },
  {
   "cell_type": "code",
   "execution_count": null,
   "id": "54644873",
   "metadata": {},
   "outputs": [],
   "source": [
    "df_station = pd.read_pickle('tashu_dataset-station_information.pkl')\n",
    "df_station"
   ]
  },
  {
   "cell_type": "code",
   "execution_count": null,
   "id": "ba6d10c6",
   "metadata": {},
   "outputs": [],
   "source": [
    "df_station.sample(10)"
   ]
  },
  {
   "cell_type": "code",
   "execution_count": null,
   "id": "d962c5f4",
   "metadata": {},
   "outputs": [],
   "source": [
    "df_station.dtypes"
   ]
  },
  {
   "cell_type": "markdown",
   "id": "a091dc95",
   "metadata": {},
   "source": [
    "# 대여 - 반납 분석"
   ]
  },
  {
   "cell_type": "code",
   "execution_count": null,
   "id": "b193efdf",
   "metadata": {},
   "outputs": [],
   "source": [
    "df = df_rent"
   ]
  },
  {
   "cell_type": "code",
   "execution_count": null,
   "id": "f5fdd034",
   "metadata": {},
   "outputs": [],
   "source": [
    "df_rent_by_station_count = df['반납스테이션'].groupby(by=df['대여스테이션']).count()\n",
    "df_rent_by_station_count"
   ]
  },
  {
   "cell_type": "code",
   "execution_count": null,
   "id": "fb4c548b",
   "metadata": {},
   "outputs": [],
   "source": [
    "df_return_count = df.loc[df['대여스테이션'] == df['반납스테이션']]['반납스테이션'].groupby(by=df['대여스테이션']).count()\n",
    "df_return_count"
   ]
  },
  {
   "cell_type": "code",
   "execution_count": null,
   "id": "e9a798b3",
   "metadata": {},
   "outputs": [],
   "source": [
    "df_return_ratio = df_return_count / df_rent_by_station_count\n",
    "df_return_ratio"
   ]
  },
  {
   "cell_type": "code",
   "execution_count": null,
   "id": "899928da",
   "metadata": {},
   "outputs": [],
   "source": [
    "fig = plt.figure(figsize= (8, 6))\n",
    "ax = fig.add_subplot()\n",
    "ax.bar(df_return_ratio.index, df_return_ratio)\n",
    "ax.set_title('Return ratio by station', fontsize='x-large')\n",
    "ax.set_xlabel('Station number', fontsize='large')\n",
    "ax.set_ylabel('Return ratio', fontsize='large')\n",
    "ax.set_ylim((0, 1))"
   ]
  },
  {
   "cell_type": "code",
   "execution_count": null,
   "id": "eaf9e522",
   "metadata": {},
   "outputs": [],
   "source": [
    "print_max = 15\n",
    "count = 0\n",
    "for index, row in df_return_ratio.sort_values(ascending=False).items():\n",
    "    try:\n",
    "        station_name = df_station[df_station.index == index]['대여소명'].values[0]\n",
    "    except IndexError:\n",
    "        station_name = '공개되지 않음'\n",
    "    print(f'정류장 번호: {index}, 정류장 이름: {station_name}, 반납 비율: {row}')\n",
    "    count += 1\n",
    "    if count > print_max:\n",
    "        break"
   ]
  },
  {
   "cell_type": "code",
   "execution_count": null,
   "id": "59c5d8c3",
   "metadata": {},
   "outputs": [],
   "source": [
    "fig = plt.figure(figsize= (8, 6))\n",
    "ax = fig.add_subplot()\n",
    "ax.hist(df_return_ratio)\n",
    "ax.set_title('Return ratio histogram', fontsize='x-large')\n",
    "ax.set_xlabel('Return ratio', fontsize='large')\n",
    "ax.set_ylabel('Count', fontsize='large')"
   ]
  },
  {
   "cell_type": "markdown",
   "id": "1e813291-eeb5-41dc-8d5f-7051cede7b03",
   "metadata": {},
   "source": [
    "# 날씨 데이터 준비"
   ]
  },
  {
   "cell_type": "code",
   "execution_count": null,
   "id": "a624d29a-4757-4788-8b08-ee4bee98d577",
   "metadata": {},
   "outputs": [],
   "source": [
    "df_weather = pd.read_pickle('weather.pkl')\n",
    "df_weather['일시'] = pd.to_datetime(df_weather['일시'], format='%Y-%m-%d')\n",
    "df_weather"
   ]
  },
  {
   "cell_type": "code",
   "execution_count": null,
   "id": "ab0c9d4a-dfb4-4a3e-a0fa-6b171d044612",
   "metadata": {},
   "outputs": [],
   "source": [
    "df_rent['연월일'] = pd.to_datetime(df_rent['대여일시'].dt.strftime('%Y-%m-%d'), format='%Y-%m-%d')\n",
    "df_weather['연월일'] = pd.to_datetime(df_weather['일시'].dt.strftime('%Y-%m-%d'), format='%Y-%m-%d')\n",
    "df = df_rent.merge(df_weather, on=['연월일'])\n",
    "df.rename(columns={'평균기온(°C)': '평균기온', '일강수량(mm)': '일강수량'}, inplace=True)\n",
    "df_rent.drop(columns='연월일', inplace=True)\n",
    "df_weather.drop(columns='연월일', inplace=True)\n",
    "df"
   ]
  },
  {
   "cell_type": "code",
   "execution_count": null,
   "id": "1ee6aa2c-3ebc-47dd-a649-e1a08ad6e58c",
   "metadata": {},
   "outputs": [],
   "source": [
    "rent_index = pd.DatetimeIndex(df_rent['대여일시'])\n",
    "daily_df_rent = df['대여일시'].groupby(by=rent_index.strftime('%Y-%m-%d')).count()\n",
    "daily_df_rent"
   ]
  },
  {
   "cell_type": "code",
   "execution_count": null,
   "id": "29cf157d-835a-4104-a725-052f2a092a89",
   "metadata": {},
   "outputs": [],
   "source": [
    "daily_temperature = df['평균기온'].groupby(by=rent_index.strftime('%Y-%m-%d')).mean()\n",
    "daily_temperature"
   ]
  },
  {
   "cell_type": "code",
   "execution_count": null,
   "id": "1b4cec04-547e-498a-b5e3-365a277e19f7",
   "metadata": {},
   "outputs": [],
   "source": [
    "daily_rain = df['일강수량'].groupby(by=rent_index.strftime('%Y-%m-%d')).mean()\n",
    "daily_rain"
   ]
  },
  {
   "cell_type": "code",
   "execution_count": null,
   "id": "1c8afa56-12c2-43d0-ae69-1bd98f8627d5",
   "metadata": {},
   "outputs": [],
   "source": [
    "fig = plt.figure(figsize= (8, 6))\n",
    "ax1 = fig.add_subplot()\n",
    "ax1.bar(daily_df_rent.index, daily_df_rent, color='black')\n",
    "ax2 = ax1.twinx()\n",
    "ax2.plot(daily_temperature.index, daily_temperature, color='orange')\n",
    "ax2.scatter(daily_rain.index, daily_rain, color='blue', marker='.')"
   ]
  },
  {
   "cell_type": "code",
   "execution_count": null,
   "id": "a9df2cf8-8405-4c66-920a-1dea78d5be7b",
   "metadata": {},
   "outputs": [],
   "source": [
    "fig = plt.figure(figsize= (8, 6))\n",
    "ax1 = fig.add_subplot()\n",
    "ax1.bar(daily_df_rent.index, daily_df_rent, color='black')\n",
    "ax1.set_xlim(('2020-01-01', '2021-12-31'))\n",
    "ax2 = ax1.twinx()\n",
    "ax2.plot(daily_temperature.index, daily_temperature, color='orange')\n",
    "ax2.scatter(daily_rain.index, daily_rain, color='blue', marker='.')"
   ]
  },
  {
   "cell_type": "markdown",
   "id": "2c233890",
   "metadata": {},
   "source": [
    "# 특징 데이터 정리"
   ]
  },
  {
   "cell_type": "code",
   "execution_count": null,
   "id": "9bceabc8-981c-4b0a-9b05-919cb4d77a80",
   "metadata": {},
   "outputs": [],
   "source": [
    "df_feature = pd.DataFrame()\n",
    "df_feature['대여스테이션'] = df['대여스테이션']\n",
    "df_feature['대여시'] = df['대여일시'].dt.hour\n",
    "df_feature['대여요일'] = df['대여일시'].dt.dayofweek\n",
    "df_feature['회원구분'] = df['회원구분']\n",
    "df_feature['평균기온'] = df['평균기온']\n",
    "df_feature['일강수량'] = df['일강수량']\n",
    "df_feature['귀환'] = df['대여스테이션'] == df['반납스테이션']\n",
    "df_feature"
   ]
  },
  {
   "cell_type": "code",
   "execution_count": null,
   "id": "597d33a9-54c5-4d49-bc0c-907f5aae6929",
   "metadata": {},
   "outputs": [],
   "source": [
    "features = ['대여스테이션', '대여시', '대여요일', '평균기온', '일강수량']\n",
    "X = df_feature[features]\n",
    "y = df_feature['귀환']"
   ]
  },
  {
   "cell_type": "code",
   "execution_count": null,
   "id": "981d246c-338c-485d-9021-b52c60ea8d70",
   "metadata": {},
   "outputs": [],
   "source": [
    "test_size = 0.2\n",
    "X_train, X_test, y_train, y_test = train_test_split(X, y, test_size=test_size)\n",
    "print(f'학습에 사용할 피처 크기: {X_train.shape}')\n",
    "print(f'예측에 사용할 피처 크기: {X_test.shape}')"
   ]
  },
  {
   "cell_type": "code",
   "execution_count": null,
   "id": "46cc934a-9ce6-43d2-aea1-6c74e516113d",
   "metadata": {},
   "outputs": [],
   "source": [
    "random_state = 0\n",
    "clf = RandomForestClassifier(random_state=random_state)"
   ]
  },
  {
   "cell_type": "code",
   "execution_count": null,
   "id": "a4946677-4ca8-4c8c-a701-2c13bcb71b78",
   "metadata": {},
   "outputs": [],
   "source": [
    "clf.fit(X_train, y_train)"
   ]
  },
  {
   "cell_type": "code",
   "execution_count": null,
   "id": "d57ea13c-85e7-425e-aa0c-42bf25067691",
   "metadata": {},
   "outputs": [],
   "source": [
    "print(f'학습 평균 정확도: {clf.score(X_train, y_train)}') \n",
    "print(f'예측 평균 정확도: {clf.score(X_test, y_test)}') "
   ]
  },
  {
   "cell_type": "code",
   "execution_count": null,
   "id": "67e1aef3-3af4-4868-a20a-31ecf9ac8ca0",
   "metadata": {},
   "outputs": [],
   "source": [
    "for name, importance in zip (features, clf.feature_importances_):\n",
    "    print(f'{name} = {importance}')"
   ]
  },
  {
   "cell_type": "code",
   "execution_count": null,
   "id": "690bdcb1-834c-44f2-9ad3-f30d2f1a055f",
   "metadata": {},
   "outputs": [],
   "source": [
    "fig = plt.figure(figsize= (8*1, 6*1))\n",
    "ax = fig.add_subplot()\n",
    "annotations = tree.plot_tree(clf.estimators_[5], feature_names=features,\n",
    "               max_depth=2,\n",
    "               ax=ax, fontsize='medium')\n",
    "for ann in annotations:\n",
    "    ann.set_font(\"nanumgothic\")"
   ]
  },
  {
   "cell_type": "markdown",
   "id": "3a8845b8-bffb-4959-9915-5d49f67f3c47",
   "metadata": {},
   "source": [
    "### 이게 최선일까?"
   ]
  },
  {
   "cell_type": "code",
   "execution_count": null,
   "id": "daf8d3a0-0c8a-47d1-9e11-9d6583e0d350",
   "metadata": {},
   "outputs": [],
   "source": []
  }
 ],
 "metadata": {
  "kernelspec": {
   "display_name": "scikit-learn",
   "language": "python",
   "name": "scikit-learn"
  },
  "language_info": {
   "codemirror_mode": {
    "name": "ipython",
    "version": 3
   },
   "file_extension": ".py",
   "mimetype": "text/x-python",
   "name": "python",
   "nbconvert_exporter": "python",
   "pygments_lexer": "ipython3",
   "version": "3.11.4"
  }
 },
 "nbformat": 4,
 "nbformat_minor": 5
}
