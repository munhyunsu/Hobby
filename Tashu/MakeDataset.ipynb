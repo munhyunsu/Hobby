{
 "cells": [
  {
   "cell_type": "code",
   "execution_count": null,
   "metadata": {},
   "outputs": [],
   "source": [
    "import numpy as np\n",
    "import pandas as pd"
   ]
  },
  {
   "cell_type": "markdown",
   "metadata": {},
   "source": [
    "# Rental history"
   ]
  },
  {
   "cell_type": "code",
   "execution_count": null,
   "metadata": {},
   "outputs": [],
   "source": [
    "data_path = ['rawdata/2016.csv',\n",
    "             'rawdata/2017.csv',\n",
    "             'rawdata/2018.csv',\n",
    "             'rawdata/2019.csv',\n",
    "             'rawdata/2020.csv',\n",
    "            ]"
   ]
  },
  {
   "cell_type": "code",
   "execution_count": null,
   "metadata": {},
   "outputs": [],
   "source": [
    "df = pd.DataFrame()\n",
    "for path in data_path:\n",
    "    tdf = pd.read_csv(path)\n",
    "    df = pd.concat([df, tdf], ignore_index=True)\n",
    "df = df.drop(df[df.isnull().any(axis=1)].index)\n",
    "df"
   ]
  },
  {
   "cell_type": "code",
   "execution_count": null,
   "metadata": {},
   "outputs": [],
   "source": [
    "df = df.astype({'대여스테이션': 'int16', '대여일시': 'str', \n",
    "                '반납스테이션': 'int16', '반납일시': 'str', \n",
    "                '이동거리': 'float32', '회원구분': 'int8'})"
   ]
  },
  {
   "cell_type": "code",
   "execution_count": null,
   "metadata": {},
   "outputs": [],
   "source": [
    "df.to_pickle('tashu_dataset-rental_history.pkl')"
   ]
  },
  {
   "cell_type": "markdown",
   "metadata": {},
   "source": [
    "# Station information"
   ]
  },
  {
   "cell_type": "code",
   "execution_count": null,
   "metadata": {},
   "outputs": [],
   "source": [
    "path = 'rawdata/loc_20200801.csv'"
   ]
  },
  {
   "cell_type": "code",
   "execution_count": null,
   "metadata": {},
   "outputs": [],
   "source": [
    "df = pd.read_csv(path, index_col='연번')\n",
    "df"
   ]
  },
  {
   "cell_type": "code",
   "execution_count": null,
   "metadata": {},
   "outputs": [],
   "source": [
    "df = df.astype({'Station 스테이션/성명': 'str', \n",
    "                '위치': 'str', '광역시도코드': 'int8', \n",
    "                '광역시도명': 'str', '시군구코드': 'int32', \n",
    "                '시군구명': 'str', '법정동코드': 'int64', \n",
    "                '법정동명': 'str', '행정동코드': 'int64', \n",
    "                '행정동명': 'str'})\n",
    "df"
   ]
  },
  {
   "cell_type": "code",
   "execution_count": null,
   "metadata": {},
   "outputs": [],
   "source": [
    "df.to_pickle('tashu_dataset-station_information.pkl')"
   ]
  },
  {
   "cell_type": "markdown",
   "metadata": {},
   "source": [
    "# Weather information"
   ]
  },
  {
   "cell_type": "code",
   "execution_count": null,
   "metadata": {},
   "outputs": [],
   "source": [
    "data_path = ['rawdata/weather2016.csv',\n",
    "             'rawdata/weather2017.csv',\n",
    "             'rawdata/weather2018.csv',\n",
    "             'rawdata/weather2019.csv',\n",
    "             'rawdata/weather2020.csv',\n",
    "            ]"
   ]
  },
  {
   "cell_type": "code",
   "execution_count": null,
   "metadata": {},
   "outputs": [],
   "source": [
    "df = pd.DataFrame()\n",
    "for path in data_path:\n",
    "    tdf = pd.read_csv(path)\n",
    "    df = pd.concat([df, tdf], ignore_index=True)\n",
    "df.fillna(0, inplace=True)\n",
    "df"
   ]
  },
  {
   "cell_type": "code",
   "execution_count": null,
   "metadata": {},
   "outputs": [],
   "source": [
    "df = df.astype({'지점': 'int16', '지점명': 'str', '일시': 'str', \n",
    "                '평균기온(°C)': 'float32', '일강수량(mm)': 'float32'})\n",
    "df"
   ]
  },
  {
   "cell_type": "code",
   "execution_count": null,
   "metadata": {},
   "outputs": [],
   "source": [
    "df.to_pickle('weather.pkl')"
   ]
  },
  {
   "cell_type": "code",
   "execution_count": null,
   "metadata": {},
   "outputs": [],
   "source": []
  }
 ],
 "metadata": {
  "kernelspec": {
   "display_name": "TensorFlow",
   "language": "python",
   "name": "tensorflow"
  },
  "language_info": {
   "codemirror_mode": {
    "name": "ipython",
    "version": 3
   },
   "file_extension": ".py",
   "mimetype": "text/x-python",
   "name": "python",
   "nbconvert_exporter": "python",
   "pygments_lexer": "ipython3",
   "version": "3.8.6"
  }
 },
 "nbformat": 4,
 "nbformat_minor": 4
}
