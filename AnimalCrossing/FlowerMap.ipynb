{
 "cells": [
  {
   "cell_type": "code",
   "execution_count": null,
   "metadata": {},
   "outputs": [],
   "source": [
    "import collections\n",
    "import itertools\n",
    "import operator\n",
    "\n",
    "import matplotlib.pyplot as plt\n",
    "%matplotlib inline\n",
    "import networkx as nx"
   ]
  },
  {
   "cell_type": "code",
   "execution_count": null,
   "metadata": {},
   "outputs": [],
   "source": [
    "G = nx.DiGraph()"
   ]
  },
  {
   "cell_type": "code",
   "execution_count": null,
   "metadata": {},
   "outputs": [],
   "source": [
    "# Flower nodes\n",
    "nodes_flower = list()\n",
    "for a in range(0, 3):\n",
    "    for b in range(0, 3):\n",
    "        for c in range(0, 3):\n",
    "            for d in range(0, 3):\n",
    "                nodes_flower.append((a, b, c, d))\n",
    "G.add_nodes_from(nodes_flower)"
   ]
  },
  {
   "cell_type": "code",
   "execution_count": null,
   "metadata": {},
   "outputs": [],
   "source": [
    "# Inheritance nodes\n",
    "edges = list()\n",
    "nodes_inheritance = list()\n",
    "for inheritance in itertools.combinations(nodes_flower, 2):\n",
    "    nodes_inheritance.append(inheritance)\n",
    "    for flower in inheritance:\n",
    "        edges.append((flower, inheritance))\n",
    "G.add_nodes_from(nodes_inheritance)"
   ]
  },
  {
   "cell_type": "code",
   "execution_count": null,
   "metadata": {},
   "outputs": [],
   "source": [
    "for inheritance in nodes_inheritance:\n",
    "    src, dst = inheritance\n",
    "    candidate = list()\n",
    "    for i in range(0, 4):\n",
    "        burket = (src[i], dst[i])\n",
    "        if burket == (0, 0):\n",
    "            child = (0,)\n",
    "        elif burket == (0, 1):\n",
    "            child = (0, 1)\n",
    "        elif burket == (0, 2):\n",
    "            child = (1,)\n",
    "        elif burket == (1, 0):\n",
    "            child = (0, 1)\n",
    "        elif burket == (1, 1):\n",
    "            child = (0, 1, 2)\n",
    "        elif burket == (1, 2):\n",
    "            child = (1, 2)\n",
    "        elif burket == (2, 0):\n",
    "            child = (1,)\n",
    "        elif burket == (2, 1):\n",
    "            child = (1, 2)\n",
    "        elif burket == (2, 2):\n",
    "            child = (2,)\n",
    "        candidate.append(child)\n",
    "    for a in candidate[0]:\n",
    "        for b in candidate[1]:\n",
    "            for c in candidate[2]:\n",
    "                for d in candidate[3]:\n",
    "                    edges.append((inheritance, (a, b, c, d)))"
   ]
  },
  {
   "cell_type": "code",
   "execution_count": null,
   "metadata": {},
   "outputs": [],
   "source": [
    "paths = list()\n",
    "for start in [(0, 0, 1, 0), (0, 2, 0, 0), (2, 0, 0, 1)]:\n",
    "    for path in nx.all_shortest_paths(G, start, (2, 2, 2, 0)):\n",
    "        paths.append(path)\n",
    "print(f'All paths: {len(paths)}')"
   ]
  },
  {
   "cell_type": "code",
   "execution_count": null,
   "metadata": {},
   "outputs": [],
   "source": [
    "nodes_sub = set()\n",
    "for path in paths:\n",
    "    for node in path:\n",
    "        nodes_sub.add(node)\n",
    "print(f'Sub nodes: {len(nodes_sub)}')\n",
    "SG = G.subgraph(nodes_sub)"
   ]
  },
  {
   "cell_type": "code",
   "execution_count": null,
   "metadata": {},
   "outputs": [],
   "source": [
    "sort_path = list()\n",
    "for path in paths:\n",
    "    sort_path.append(tuple(path[1:]))\n",
    "for path in sort_path:\n",
    "    print(path)"
   ]
  },
  {
   "cell_type": "code",
   "execution_count": null,
   "metadata": {},
   "outputs": [],
   "source": [
    "pos = nx.spring_layout(SG)\n",
    "plt.figure(figsize=(12, 12))\n",
    "nx.draw(SG, pos, with_labels=True)"
   ]
  },
  {
   "cell_type": "code",
   "execution_count": null,
   "metadata": {},
   "outputs": [],
   "source": [
    "paths = list()\n",
    "seed = [(0, 0, 1, 0), (0, 2, 0, 0), (2, 0, 0, 1)]\n",
    "for start in seed:\n",
    "    for path in nx.all_simple_paths(G, start, (2, 2, 2, 0)):\n",
    "        if path[1][0] not in seed or path[1][1] not in seed:\n",
    "            continue\n",
    "        paths.append(path)\n",
    "print(f'All paths: {len(paths)}')\n",
    "child_paths = list()\n",
    "for path in paths:\n",
    "    child_paths.append(tuple(path[1:]))\n",
    "print(f'Child paths: {len(set(child_paths))}')\n",
    "child_counter = collections.Counter(child_paths)\n",
    "child_counter.most_common()"
   ]
  },
  {
   "cell_type": "code",
   "execution_count": null,
   "metadata": {},
   "outputs": [],
   "source": []
  }
 ],
 "metadata": {
  "kernelspec": {
   "display_name": "NetworkX",
   "language": "python",
   "name": "networkx"
  },
  "language_info": {
   "codemirror_mode": {
    "name": "ipython",
    "version": 3
   },
   "file_extension": ".py",
   "mimetype": "text/x-python",
   "name": "python",
   "nbconvert_exporter": "python",
   "pygments_lexer": "ipython3",
   "version": "3.8.3"
  }
 },
 "nbformat": 4,
 "nbformat_minor": 4
}
