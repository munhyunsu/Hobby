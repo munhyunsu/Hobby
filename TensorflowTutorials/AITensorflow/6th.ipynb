{
 "cells": [
  {
   "cell_type": "markdown",
   "metadata": {},
   "source": [
    "# 6차시: 텐서플로우 2.x 활용 전이 학습 이미지 분류\n",
    "\n",
    "## AI 맛보기 6주차: 2020. 08. 11. 20:00 ~ 22:00 (120분)\n",
    "1. 도구 불러오기 및 버전 확인\n",
    "1. 학습 데이터 불러오기: From Google Drive\n",
    "1. 학습 완료된 모델 확인\n",
    "1. 학습 데이터 살펴보기\n",
    "1. Convolution Neural Network\n",
    "1. Transfer Learning\n",
    "1. Transfer Learning Finetune\n",
    "\n",
    "#### 참고자료\n",
    "- [파이썬 3 표준 문서](https://docs.python.org/3/index.html)\n",
    "- [텐서플로우 전이학습](https://www.tensorflow.org/tutorials/images/transfer_learning_with_hub)"
   ]
  },
  {
   "cell_type": "markdown",
   "metadata": {},
   "source": [
    "### 1. 도구 불러오기 및 버전 확인"
   ]
  },
  {
   "cell_type": "code",
   "execution_count": null,
   "metadata": {},
   "outputs": [],
   "source": [
    "# 도구 준비\n",
    "import os\n",
    "import random\n",
    "\n",
    "import tensorflow as tf # 텐서플로우\n",
    "import tensorflow_hub as hub\n",
    "import matplotlib.pyplot as plt # 시각화 도구\n",
    "%matplotlib inline\n",
    "import numpy as np\n",
    "\n",
    "import PIL.Image as Image"
   ]
  },
  {
   "cell_type": "code",
   "execution_count": null,
   "metadata": {},
   "outputs": [],
   "source": [
    "print(f'Tensorflow 버전을 확인합니다: {tf.__version__}')"
   ]
  },
  {
   "cell_type": "markdown",
   "metadata": {},
   "source": [
    "### 2. 학습 데이터 불러오기: From Google Drive"
   ]
  },
  {
   "cell_type": "code",
   "execution_count": null,
   "metadata": {},
   "outputs": [],
   "source": [
    "try:\n",
    "    from google.colab import drive\n",
    "    drive.mount('/content/gdrive')\n",
    "except:\n",
    "    print(f'Google colab 환경이 아닙니다.')\n",
    "    pass"
   ]
  },
  {
   "cell_type": "code",
   "execution_count": null,
   "metadata": {},
   "outputs": [],
   "source": [
    "!rm -r '/tmp/dataset'\n",
    "!unzip -d '/tmp/' './dataset.zip' &> /dev/null\n",
    "# !unzip -d '/tmp/' '/content/gdrive/My Drive/Colab Notebooks/dataset.zip' &> /dev/null\n",
    "!ls '/tmp/dataset'"
   ]
  },
  {
   "cell_type": "code",
   "execution_count": null,
   "metadata": {},
   "outputs": [],
   "source": [
    "# prepare dataset\n",
    "dataset_root = os.path.abspath(os.path.expanduser('/tmp/dataset'))\n",
    "print(f'Dataset root: {dataset_root}')\n",
    "\n",
    "IMAGE_SHAPE = (128, 128) # 자신의 데이터 셋에 맞추어서 조정!\n",
    "image_generator = tf.keras.preprocessing.image.ImageDataGenerator(rescale=1/255,\n",
    "                                                                  validation_split=0.2)\n",
    "train_data = image_generator.flow_from_directory(dataset_root, target_size=IMAGE_SHAPE,\n",
    "                                                 subset='training')\n",
    "validation_data = image_generator.flow_from_directory(dataset_root, target_size=IMAGE_SHAPE,\n",
    "                                                 subset='validation')\n",
    "\n",
    "for image_batch, label_batch in validation_data:\n",
    "    print(f'Image batch shape: {image_batch.shape}')\n",
    "    print(f'Label batch shape: {label_batch.shape}')\n",
    "    break"
   ]
  },
  {
   "cell_type": "markdown",
   "metadata": {},
   "source": [
    "### 3. 학습 데이터 살펴보기"
   ]
  },
  {
   "cell_type": "code",
   "execution_count": null,
   "metadata": {},
   "outputs": [],
   "source": [
    "classifier_url = 'https://tfhub.dev/google/imagenet/inception_v3/classification/4'\n",
    "\n",
    "classifier = tf.keras.Sequential([\n",
    "    hub.KerasLayer(classifier_url, input_shape=IMAGE_SHAPE+(3,)) # Channel 3 RGB\n",
    "])\n",
    "\n",
    "labels_path = tf.keras.utils.get_file('ImageNetLabels.txt', \n",
    "                                      'https://storage.googleapis.com/download.tensorflow.org/data/ImageNetLabels.txt')\n",
    "imagenet_labels = np.array(open(labels_path).read().splitlines())"
   ]
  },
  {
   "cell_type": "code",
   "execution_count": null,
   "metadata": {},
   "outputs": [],
   "source": [
    "## using original ImangeNet classifier\n",
    "result_batch = classifier.predict(image_batch)\n",
    "print(f'Batch result shape: {result_batch.shape}')\n",
    "\n",
    "predicted_class_names = imagenet_labels[np.argmax(result_batch, axis=-1)]\n",
    "print(f'Batch predicted class names: {predicted_class_names}')\n",
    "\n",
    "fig = plt.figure(figsize=(10, 10.5))\n",
    "for n in range(30):\n",
    "    ax = fig.add_subplot(6, 5, n+1)\n",
    "    ax.imshow(image_batch[n])\n",
    "    ax.set_title(predicted_class_names[n])\n",
    "    ax.axis('off')\n",
    "_ = fig.suptitle('ImageNet predictions')"
   ]
  },
  {
   "cell_type": "markdown",
   "metadata": {},
   "source": [
    "### 4. Convolution Neural Network"
   ]
  },
  {
   "cell_type": "code",
   "execution_count": null,
   "metadata": {},
   "outputs": [],
   "source": [
    "## Log class\n",
    "### https://www.tensorflow.org/api_docs/python/tf/keras/callbacks/Callback\n",
    "class CollectBatchStats(tf.keras.callbacks.Callback):\n",
    "    def __init__(self):\n",
    "        self.batch_losses = []\n",
    "        self.batch_val_losses = []\n",
    "        self.batch_acc = []\n",
    "        self.batch_val_acc = []\n",
    "    \n",
    "    def on_epoch_end(self, epoch, logs=None):\n",
    "        self.batch_losses.append(logs['loss'])\n",
    "        self.batch_acc.append(logs['accuracy'])\n",
    "        self.batch_val_losses.append(logs['val_loss'])\n",
    "        self.batch_val_acc.append(logs['val_accuracy'])\n",
    "        self.model.reset_metrics()"
   ]
  },
  {
   "cell_type": "code",
   "execution_count": null,
   "metadata": {},
   "outputs": [],
   "source": [
    "cnn_model = tf.keras.Sequential([\n",
    "        tf.keras.layers.Conv2D(32, (3, 3), activation='relu', input_shape=image_batch.shape[1:]),\n",
    "        tf.keras.layers.MaxPooling2D((2, 2)),\n",
    "        tf.keras.layers.Conv2D(64, (3, 3), activation='relu'),\n",
    "        tf.keras.layers.MaxPooling2D((2, 2)),\n",
    "        tf.keras.layers.Conv2D(64, (3, 3), activation='relu'),\n",
    "        tf.keras.layers.Flatten(),\n",
    "        tf.keras.layers.Dense(64, activation='relu'),\n",
    "        tf.keras.layers.Dense(train_data.num_classes)])\n",
    "\n",
    "cnn_model.summary()"
   ]
  },
  {
   "cell_type": "code",
   "execution_count": null,
   "metadata": {},
   "outputs": [],
   "source": [
    "base_learning_rate = 0.001\n",
    "\n",
    "cnn_model.compile(optimizer=tf.keras.optimizers.Adam(learning_rate=base_learning_rate),\n",
    "                  loss=tf.keras.losses.CategoricalCrossentropy(from_logits=True),\n",
    "                  metrics=['accuracy'])"
   ]
  },
  {
   "cell_type": "code",
   "execution_count": null,
   "metadata": {},
   "outputs": [],
   "source": [
    "steps_per_epoch = np.ceil(train_data.samples/train_data.batch_size) # train all dataset per epoch\n",
    "epochs = 25*2\n",
    "cnn_callback = CollectBatchStats()\n",
    "\n",
    "cnn_history = cnn_model.fit(train_data,\n",
    "                            epochs=epochs,\n",
    "                            steps_per_epoch=steps_per_epoch,\n",
    "                            validation_data=validation_data,\n",
    "                            callbacks=[cnn_callback])"
   ]
  },
  {
   "cell_type": "code",
   "execution_count": null,
   "metadata": {},
   "outputs": [],
   "source": [
    "# Draw learning curves chart\n",
    "acc = cnn_callback.batch_acc\n",
    "val_acc = cnn_callback.batch_val_acc\n",
    "loss = cnn_callback.batch_losses\n",
    "val_loss = cnn_callback.batch_val_losses\n",
    "\n",
    "fig = plt.figure(figsize=(8, 8))\n",
    "ax = fig.add_subplot(2, 1, 1)\n",
    "ax.plot(acc, label='Training Accuracy')\n",
    "ax.plot(val_acc, label='Validation Accuracy')\n",
    "ax.legend(loc='lower right')\n",
    "ax.set_ylabel('Accuracy')\n",
    "ax.set_ylim([min(plt.ylim()),1])\n",
    "ax.set_title('Training and Validation Accuracy')\n",
    "\n",
    "ax = fig.add_subplot(2, 1, 2)\n",
    "ax.plot(loss, label='Training Loss')\n",
    "ax.plot(val_loss, label='Validation Loss')\n",
    "ax.legend(loc='upper right')\n",
    "ax.set_ylabel('Cross Entropy')\n",
    "ax.set_ylim([0,1.0])\n",
    "ax.set_title('Training and Validation Loss')\n",
    "ax.set_xlabel('epoch')\n",
    "_ = fig.suptitle('Our Convolution Neural Network')"
   ]
  },
  {
   "cell_type": "code",
   "execution_count": null,
   "metadata": {},
   "outputs": [],
   "source": [
    "# Plot results\n",
    "class_names = sorted(validation_data.class_indices.items(), key=lambda pair:pair[1])\n",
    "class_names = np.array([key.title() for key, value in class_names])\n",
    "print(f'Classes: {class_names}')\n",
    "\n",
    "## get result labels\n",
    "predicted_batch = cnn_model.predict(image_batch)\n",
    "predicted_id = np.argmax(predicted_batch, axis=-1)\n",
    "predicted_label_batch = class_names[predicted_id]\n",
    "\n",
    "label_id = np.argmax(label_batch, axis=-1)\n",
    "\n",
    "## plot\n",
    "fig = plt.figure(figsize=(10, 10.5))\n",
    "for n in range(30):\n",
    "    ax = fig.add_subplot(6, 5, n+1)\n",
    "    ax.imshow(image_batch[n])\n",
    "    color = 'green' if predicted_id[n] == label_id[n] else 'red'\n",
    "    ax.set_title(predicted_label_batch[n].title(), color=color)\n",
    "    ax.axis('off')\n",
    "_ = fig.suptitle('Model predictions (green: correct, red: incorrect)')"
   ]
  },
  {
   "cell_type": "markdown",
   "metadata": {},
   "source": [
    "### 5. Transfer Learning"
   ]
  },
  {
   "cell_type": "code",
   "execution_count": null,
   "metadata": {},
   "outputs": [],
   "source": [
    "# Prepare transfer learning\n",
    "feature_extractor_url = 'https://tfhub.dev/google/tf2-preview/inception_v3/feature_vector/4'\n",
    "feature_extractor_layer = hub.KerasLayer(feature_extractor_url,\n",
    "                                         input_shape=IMAGE_SHAPE+(3, ))\n",
    "feature_batch = feature_extractor_layer(image_batch)\n",
    "print(f'Feature vector shape: {feature_batch.shape}')\n",
    "\n",
    "## Frozen feature extraction layer\n",
    "feature_extractor_layer.trainable = False\n",
    "\n",
    "## Make a model for classification\n",
    "model = tf.keras.Sequential([\n",
    "    feature_extractor_layer,\n",
    "    tf.keras.layers.Dense(train_data.num_classes, activation='softmax')\n",
    "])\n",
    "\n",
    "model.summary()\n",
    "\n",
    "predictions= model(image_batch)\n",
    "print(f'Prediction shape: {predictions.shape}')"
   ]
  },
  {
   "cell_type": "code",
   "execution_count": null,
   "metadata": {},
   "outputs": [],
   "source": [
    "model.compile(\n",
    "    optimizer=tf.keras.optimizers.Adam(learning_rate=base_learning_rate),\n",
    "    loss=tf.keras.losses.CategoricalCrossentropy(from_logits=True),\n",
    "    metrics=['accuracy'])"
   ]
  },
  {
   "cell_type": "code",
   "execution_count": null,
   "metadata": {},
   "outputs": [],
   "source": [
    "steps_per_epoch = np.ceil(train_data.samples/train_data.batch_size) # train all dataset per epoch\n",
    "initial_epoch = 25\n",
    "batch_stats_callback = CollectBatchStats()\n",
    "\n",
    "history = model.fit(train_data,\n",
    "                    epochs=initial_epoch,\n",
    "                    steps_per_epoch=steps_per_epoch,\n",
    "                    validation_data=validation_data,\n",
    "                    callbacks=[batch_stats_callback])"
   ]
  },
  {
   "cell_type": "code",
   "execution_count": null,
   "metadata": {},
   "outputs": [],
   "source": [
    "# Draw learning curves chart\n",
    "acc = batch_stats_callback.batch_acc\n",
    "val_acc = batch_stats_callback.batch_val_acc\n",
    "loss = batch_stats_callback.batch_losses\n",
    "val_loss = batch_stats_callback.batch_val_losses\n",
    "\n",
    "fig = plt.figure(figsize=(8, 8))\n",
    "ax = fig.add_subplot(2, 1, 1)\n",
    "ax.plot(acc, label='Training Accuracy')\n",
    "ax.plot(val_acc, label='Validation Accuracy')\n",
    "ax.legend(loc='lower right')\n",
    "ax.set_ylabel('Accuracy')\n",
    "ax.set_ylim([min(plt.ylim()),1])\n",
    "ax.set_title('Training and Validation Accuracy')\n",
    "\n",
    "ax = fig.add_subplot(2, 1, 2)\n",
    "ax.plot(loss, label='Training Loss')\n",
    "ax.plot(val_loss, label='Validation Loss')\n",
    "ax.legend(loc='upper right')\n",
    "ax.set_ylabel('Cross Entropy')\n",
    "ax.set_ylim([0,1.0])\n",
    "ax.set_title('Training and Validation Loss')\n",
    "ax.set_xlabel('epoch')\n",
    "_ = fig.suptitle('Transfer Learning: Convolution Neural Network')"
   ]
  },
  {
   "cell_type": "code",
   "execution_count": null,
   "metadata": {},
   "outputs": [],
   "source": [
    "# Plot results\n",
    "class_names = sorted(validation_data.class_indices.items(), key=lambda pair:pair[1])\n",
    "class_names = np.array([key.title() for key, value in class_names])\n",
    "print(f'Classes: {class_names}')\n",
    "\n",
    "## get result labels\n",
    "predicted_batch = model.predict(image_batch)\n",
    "predicted_id = np.argmax(predicted_batch, axis=-1)\n",
    "predicted_label_batch = class_names[predicted_id]\n",
    "\n",
    "label_id = np.argmax(label_batch, axis=-1)\n",
    "\n",
    "## plot\n",
    "fig = plt.figure(figsize=(10, 10.5))\n",
    "for n in range(30):\n",
    "    ax = fig.add_subplot(6, 5, n+1)\n",
    "    ax.imshow(image_batch[n])\n",
    "    color = 'green' if predicted_id[n] == label_id[n] else 'red'\n",
    "    ax.set_title(predicted_label_batch[n].title(), color=color)\n",
    "    ax.axis('off')\n",
    "_ = fig.suptitle('Model predictions (green: correct, red: incorrect)')"
   ]
  },
  {
   "cell_type": "markdown",
   "metadata": {},
   "source": [
    "### 6. Transfer Learning Finetune"
   ]
  },
  {
   "cell_type": "code",
   "execution_count": null,
   "metadata": {},
   "outputs": [],
   "source": [
    "## Unfrozen feature extraction layer\n",
    "feature_extractor_layer.trainable = True\n",
    "\n",
    "model.compile(\n",
    "    optimizer=tf.keras.optimizers.Adam(learning_rate=base_learning_rate/10),\n",
    "    loss=tf.keras.losses.CategoricalCrossentropy(),\n",
    "    metrics=['accuracy'])\n",
    "\n",
    "model.summary()"
   ]
  },
  {
   "cell_type": "code",
   "execution_count": null,
   "metadata": {},
   "outputs": [],
   "source": [
    "finetune_epoch = 25\n",
    "\n",
    "history_fine = model.fit(train_data,\n",
    "                        epochs=initial_epoch+finetune_epoch,\n",
    "                        initial_epoch=initial_epoch,\n",
    "                        steps_per_epoch=steps_per_epoch,\n",
    "                        validation_data=validation_data,\n",
    "                        callbacks = [batch_stats_callback])"
   ]
  },
  {
   "cell_type": "code",
   "execution_count": null,
   "metadata": {},
   "outputs": [],
   "source": [
    "# Draw learning curves chart\n",
    "fine_acc = batch_stats_callback.batch_acc\n",
    "fine_val_acc = batch_stats_callback.batch_val_acc\n",
    "fine_loss = batch_stats_callback.batch_losses\n",
    "fine_val_loss = batch_stats_callback.batch_val_losses\n",
    "\n",
    "fig = plt.figure(figsize=(8, 8))\n",
    "ax = fig.add_subplot(2, 1, 1)\n",
    "ax.plot(acc, label='Training Accuracy')\n",
    "ax.plot(val_acc, label='Validation Accuracy')\n",
    "ax.set_ylabel('Accuracy')\n",
    "ax.set_ylim([min(plt.ylim()),1])\n",
    "ax.plot([initial_epoch,initial_epoch],\n",
    "        ax.get_ylim(), label='Start Fine Tuning')\n",
    "ax.legend(loc='lower right')\n",
    "ax.set_title('Training and Validation Accuracy')\n",
    "\n",
    "ax = fig.add_subplot(2, 1, 2)\n",
    "ax.plot(loss, label='Training Loss')\n",
    "ax.plot(val_loss, label='Validation Loss')\n",
    "ax.set_ylabel('Cross Entropy')\n",
    "ax.set_ylim([0,1.0])\n",
    "ax.plot([initial_epoch,initial_epoch],\n",
    "        ax.get_ylim(), label='Start Fine Tuning')\n",
    "ax.legend(loc='upper right')\n",
    "ax.set_title('Training and Validation Loss')\n",
    "ax.set_xlabel('epoch')"
   ]
  },
  {
   "cell_type": "code",
   "execution_count": null,
   "metadata": {},
   "outputs": [],
   "source": [
    "# Plot results\n",
    "class_names = sorted(validation_data.class_indices.items(), key=lambda pair:pair[1])\n",
    "class_names = np.array([key.title() for key, value in class_names])\n",
    "print(f'Classes: {class_names}')\n",
    "\n",
    "## get result labels\n",
    "predicted_batch = model.predict(image_batch)\n",
    "predicted_id = np.argmax(predicted_batch, axis=-1)\n",
    "predicted_label_batch = class_names[predicted_id]\n",
    "\n",
    "label_id = np.argmax(label_batch, axis=-1)\n",
    "\n",
    "## plot\n",
    "fig = plt.figure(figsize=(10, 10.5))\n",
    "for n in range(30):\n",
    "    ax = fig.add_subplot(6, 5, n+1)\n",
    "    ax.imshow(image_batch[n])\n",
    "    color = 'green' if predicted_id[n] == label_id[n] else 'red'\n",
    "    ax.set_title(predicted_label_batch[n].title(), color=color)\n",
    "    ax.axis('off')\n",
    "_ = fig.suptitle('Model predictions (green: correct, red: incorrect)')"
   ]
  },
  {
   "cell_type": "code",
   "execution_count": null,
   "metadata": {},
   "outputs": [],
   "source": [
    "idx = 0\n",
    "\n",
    "test_data = validation_data[idx//32][0][idx%32]\n",
    "actual_label = class_names[np.argmax(validation_data[idx//32][1][idx%32])]\n",
    "predicted_label = class_names[np.argmax(model.predict(tf.expand_dims(test_data, 0)))]\n",
    "\n",
    "fig = plt.figure(figsize=(6, 6))\n",
    "fig.set_facecolor('white')\n",
    "ax = fig.add_subplot()\n",
    "axm = ax.imshow(test_data)\n",
    "fig.suptitle(f'Test Image [{idx}]', fontsize=14)\n",
    "ax.set_title(f'Label: {predicted_label} (Actual: {actual_label})', fontsize=12)\n",
    "ax.grid(False)"
   ]
  },
  {
   "cell_type": "code",
   "execution_count": null,
   "metadata": {},
   "outputs": [],
   "source": []
  }
 ],
 "metadata": {
  "kernelspec": {
   "display_name": "TensorFlow",
   "language": "python",
   "name": "tensorflow"
  },
  "language_info": {
   "codemirror_mode": {
    "name": "ipython",
    "version": 3
   },
   "file_extension": ".py",
   "mimetype": "text/x-python",
   "name": "python",
   "nbconvert_exporter": "python",
   "pygments_lexer": "ipython3",
   "version": "3.8.6"
  }
 },
 "nbformat": 4,
 "nbformat_minor": 4
}
