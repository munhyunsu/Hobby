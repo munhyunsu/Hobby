{
 "cells": [
  {
   "cell_type": "markdown",
   "metadata": {},
   "source": [
    "# 1차시: 텐서플로우 2.x 활용을 위한 Python 3 기초 활용\n",
    "\n",
    "## AI 맛보기 1주차: 2020. 07. 07. 20:00 ~ 22:00 (120분)\n",
    "1. 표준 입력, 표준 출력, 변수\n",
    "1. 흐름 제어: 반복문\n",
    "1. 흐름 제어: 분기문\n",
    "1. 함수\n",
    "1. 필수 자료형: 리스트\n",
    "1. 필수 자료형: 사전\n",
    "1. 시각화\n",
    "\n",
    "### 참고자료\n",
    "- [파이썬 3 표준 문서](https://docs.python.org/3/index.html)"
   ]
  },
  {
   "cell_type": "markdown",
   "metadata": {},
   "source": [
    "### 1. 표준 입력, 표준 출력, 변수"
   ]
  },
  {
   "cell_type": "code",
   "execution_count": null,
   "metadata": {},
   "outputs": [],
   "source": [
    "### 파이썬 3 로 인사하기\n",
    "print('안녕하세요')"
   ]
  },
  {
   "cell_type": "code",
   "execution_count": null,
   "metadata": {},
   "outputs": [],
   "source": [
    "### 덧셈 뺄셈 곱셈 나눗셈\n",
    "4 - 2"
   ]
  },
  {
   "cell_type": "code",
   "execution_count": null,
   "metadata": {},
   "outputs": [],
   "source": [
    "### 문자열?\n",
    "'이렇게' + ' ' + '합쳐서' + ' ' + '출력'"
   ]
  },
  {
   "cell_type": "code",
   "execution_count": null,
   "metadata": {},
   "outputs": [],
   "source": [
    "### 덧셈기: 자연수\n",
    "x = int(input('첫번째 피연산자를 입력하세요: '))\n",
    "y = int(input('두번째 피연산자를 입력하세요: '))\n",
    "print(f'{x} + {y} = {x+y}')"
   ]
  },
  {
   "cell_type": "code",
   "execution_count": null,
   "metadata": {},
   "outputs": [],
   "source": [
    "### 연습문제1) 3항 곱셈기: 자연수\n",
    "x = int(input('첫번째 피연산자를 입력하세요: '))\n",
    "y = int(input('두번째 피연산자를 입력하세요: '))\n",
    "z = int(input('세번째 피연산자를 입력하세요: '))\n",
    "print(f'{x} x {y} x {z} = {x*y*z}')"
   ]
  },
  {
   "cell_type": "markdown",
   "metadata": {},
   "source": [
    "### 2. 흐름 제어: 반복문"
   ]
  },
  {
   "cell_type": "code",
   "execution_count": null,
   "metadata": {},
   "outputs": [],
   "source": [
    "### 플로우 컨트롤: for loop\n",
    "import time\n",
    "\n",
    "print('로켓 발사 카운트 다운!')\n",
    "for number in range(10, 0, -1):\n",
    "    print(f'발사 {number}초 전!')\n",
    "    time.sleep(1)\n",
    "print(f'로켓 발사!')"
   ]
  },
  {
   "cell_type": "code",
   "execution_count": null,
   "metadata": {},
   "outputs": [],
   "source": [
    "### 플로우 컨트롤: while loop\n",
    "print('비행기 이륙합니다!')\n",
    "height = 0\n",
    "while height < 10000:\n",
    "    print(f'고도 {height:05d}km')\n",
    "    height = height + 1000\n",
    "print(f'고도 {height:05d}km 도달!')"
   ]
  },
  {
   "cell_type": "code",
   "execution_count": null,
   "metadata": {},
   "outputs": [],
   "source": [
    "### 연습 문제) 짝수 출력기: 0부터 20까지 짝수만 출력!\n",
    "n = int(input('어디까지~? '))\n",
    "for number in range(0, n+1, 2):\n",
    "    print(number)"
   ]
  },
  {
   "cell_type": "markdown",
   "metadata": {},
   "source": [
    "### 3. 흐름 제어: 분기문"
   ]
  },
  {
   "cell_type": "code",
   "execution_count": null,
   "metadata": {},
   "outputs": [],
   "source": [
    "### 분기문: if\n",
    "x = int(input('입력: '))\n",
    "print(f'{x}를 2로 나누어봅니다.')\n",
    "while True:\n",
    "    x = x // 2\n",
    "    print(f'x = {x}')\n",
    "    if x < 10:\n",
    "        print('x가 10보다 작아졌으므로 종료합니다.')\n",
    "        break\n",
    "    else:\n",
    "        print('x가 아직 10보다 크므로 계속합니다.')"
   ]
  },
  {
   "cell_type": "code",
   "execution_count": null,
   "metadata": {},
   "outputs": [],
   "source": [
    "### 연습 문제) 곱셈 퀴즈 - 정답을 입력하면, 정답입니다! 오답을 입력하면, 오답입니다! 를 출력하세요\n",
    "import random\n",
    "\n",
    "x = random.randint(1, 10)\n",
    "result = x * random.randint(1, 100)\n",
    "print(f'{x} x ? = {result}')\n",
    "y = int(input('정답: '))\n",
    "if y == result//x:\n",
    "    print('정답입니다.')\n",
    "else:\n",
    "    print('오답입니다.')"
   ]
  },
  {
   "cell_type": "markdown",
   "metadata": {},
   "source": [
    "### 4. 함수"
   ]
  },
  {
   "cell_type": "code",
   "execution_count": null,
   "metadata": {},
   "outputs": [],
   "source": [
    "### 함수: 제곱\n",
    "def power2(num):\n",
    "    return num**2\n",
    "\n",
    "x = int(input('입력: '))\n",
    "x2 = power2(x)\n",
    "print(f'{x}의 제곱은 {x2}입니다.')"
   ]
  },
  {
   "cell_type": "code",
   "execution_count": null,
   "metadata": {},
   "outputs": [],
   "source": [
    "### 연습문제) 구구단을 출력 함수 구현\n",
    "def product(x, y):\n",
    "    return x * y\n",
    "\n",
    "dan = int(input('몇 단? '))\n",
    "for i in range(0, 10):\n",
    "    print(f'{dan} x {i} = {product(dan, i)}')"
   ]
  },
  {
   "cell_type": "markdown",
   "metadata": {},
   "source": [
    "### 5. 필수 자료형: 리스트"
   ]
  },
  {
   "cell_type": "code",
   "execution_count": null,
   "metadata": {},
   "outputs": [],
   "source": [
    "### 리스트: 순서와 중복이 가능한 연속된 자료\n",
    "l = [4, 2, 3, 4, 9, 1]\n",
    "for i in l:\n",
    "    print(i)"
   ]
  },
  {
   "cell_type": "code",
   "execution_count": null,
   "metadata": {},
   "outputs": [],
   "source": [
    "### 구구단 리스트 만들기\n",
    "l = list() # []\n",
    "dan = int(input('몇 단? '))\n",
    "for i in range(0, 10):\n",
    "    l.append(product(dan, i))\n",
    "print(f'{dan}단: {l}')"
   ]
  },
  {
   "cell_type": "code",
   "execution_count": null,
   "metadata": {},
   "outputs": [],
   "source": [
    "### 리스트 참조\n",
    "i = 4\n",
    "j = -1\n",
    "print(f'길이 {len(l)}')\n",
    "print(f'{i}번째 원소와 {j}번째 원소의 합: {l[4] + l[-1]}')"
   ]
  },
  {
   "cell_type": "code",
   "execution_count": null,
   "metadata": {},
   "outputs": [],
   "source": [
    "### 연습문제) 구구단 짝수번째 원소들의 합\n",
    "l = list() # []\n",
    "dan = int(input('몇 단? '))\n",
    "for i in range(0, 10):\n",
    "    l.append(product(dan, i))\n",
    "print(f'{dan}단: {l}')\n",
    "\n",
    "s = 0\n",
    "for i in range(0, len(l)):\n",
    "    if i%2 == 0:\n",
    "        s = s + l[i] # s += l[i]\n",
    "print(f'{dan}단 짝수번째 원소들의 합: {s}')"
   ]
  },
  {
   "cell_type": "markdown",
   "metadata": {},
   "source": [
    "### 6. 필수 자료형: 사전"
   ]
  },
  {
   "cell_type": "code",
   "execution_count": null,
   "metadata": {},
   "outputs": [],
   "source": [
    "### 사전형 저장\n",
    "x = {'이름': '문현수',\n",
    "     '소속': '충남대학교',\n",
    "     '나이': 32}\n",
    "print(x)"
   ]
  },
  {
   "cell_type": "code",
   "execution_count": null,
   "metadata": {},
   "outputs": [],
   "source": [
    "### 사전형 참조\n",
    "print(f'이름: {x[\"이름\"]}, 나이: {x[\"나이\"]}')"
   ]
  },
  {
   "cell_type": "code",
   "execution_count": null,
   "metadata": {},
   "outputs": [],
   "source": [
    "### 연습문제) 주소록\n",
    "n = int(input('몇 명 저장? '))\n",
    "address_book = []\n",
    "for _ in range(0, n):\n",
    "    name = input('이름: ')\n",
    "    age = input('나이: ')\n",
    "    address_book.append({'이름': name,\n",
    "                         '나이': age})\n",
    "print(f'주소록에는 {len(address_book)}명이 저장되어 있습니다.')\n",
    "print(f'주소록 내용:')\n",
    "for data in address_book:\n",
    "    print(data)"
   ]
  },
  {
   "cell_type": "markdown",
   "metadata": {},
   "source": [
    "### 7. 시각화"
   ]
  },
  {
   "cell_type": "code",
   "execution_count": null,
   "metadata": {},
   "outputs": [],
   "source": [
    "import random\n",
    "numbers = list()\n",
    "for _ in range(0, 10):\n",
    "    numbers.append(random.randint(0, 10))\n",
    "print(f'무작위 생성: {numbers}')"
   ]
  },
  {
   "cell_type": "code",
   "execution_count": null,
   "metadata": {},
   "outputs": [],
   "source": [
    "import matplotlib.pylab as plt\n",
    "%matplotlib inline\n",
    "\n",
    "fig = plt.figure(figsize= (8, 8))\n",
    "ax = fig.add_subplot()\n",
    "ax.plot(numbers)"
   ]
  },
  {
   "cell_type": "code",
   "execution_count": null,
   "metadata": {},
   "outputs": [],
   "source": [
    "### 연습 문제) 코로나 확진자 선 그래프\n",
    "x = ['06/28', '06/29', '06/30', '07/01', '07/02', '07/03', '07/04']\n",
    "y = [42, 42, 51, 54, 63, 63, 61]\n",
    "\n",
    "fig = plt.figure(figsize=(8, 8))\n",
    "ax = fig.add_subplot()\n",
    "ax.set_ylim((0, 80))\n",
    "ax.set_title('COVID-19')\n",
    "ax.set_xlabel('Date')\n",
    "ax.set_ylabel('Counts')\n",
    "ax.plot(x, y)"
   ]
  },
  {
   "cell_type": "markdown",
   "metadata": {},
   "source": [
    "### 8. 텐서플로우 맛보기"
   ]
  },
  {
   "cell_type": "code",
   "execution_count": null,
   "metadata": {},
   "outputs": [],
   "source": [
    "### 데이터 불러오기\n",
    "import tensorflow as tf\n",
    "mnist = tf.keras.datasets.mnist\n",
    "\n",
    "(x_train, y_train), (x_test, y_test) = mnist.load_data()\n",
    "x_train, x_test = x_train / 255.0, x_test / 255.0\n",
    "print(f'학습용 데이터 {len(x_train)}개 불러오기 완료!')"
   ]
  },
  {
   "cell_type": "code",
   "execution_count": null,
   "metadata": {},
   "outputs": [],
   "source": [
    "### 모델 생성\n",
    "model = tf.keras.models.Sequential([\n",
    "  tf.keras.layers.Flatten(input_shape=(28, 28)),\n",
    "  tf.keras.layers.Dense(128, activation='relu'),\n",
    "  tf.keras.layers.Dropout(0.2),\n",
    "  tf.keras.layers.Dense(10)\n",
    "])\n",
    "loss_fn = tf.keras.losses.SparseCategoricalCrossentropy(from_logits=True)\n",
    "print(f'모델 생성 왼료!')\n",
    "model.summary()"
   ]
  },
  {
   "cell_type": "code",
   "execution_count": null,
   "metadata": {},
   "outputs": [],
   "source": [
    "### 0번 이미지 확인\n",
    "import matplotlib.pylab as plt\n",
    "%matplotlib inline\n",
    "\n",
    "fig = plt.figure(figsize=(4, 4))\n",
    "ax = fig.add_subplot()\n",
    "ax.imshow(x_train[0])"
   ]
  },
  {
   "cell_type": "code",
   "execution_count": null,
   "metadata": {},
   "outputs": [],
   "source": [
    "### 학습 전 예측 결과\n",
    "import numpy as np\n",
    "predictions = model(x_train[:1]).numpy()\n",
    "result = np.argmax(tf.nn.softmax(predictions).numpy())\n",
    "print(f'학습 전 0번 이미지 예측 결과: {result}')"
   ]
  },
  {
   "cell_type": "code",
   "execution_count": null,
   "metadata": {},
   "outputs": [],
   "source": [
    "### 학습 시작!\n",
    "model.compile(optimizer='adam',\n",
    "              loss=loss_fn,\n",
    "              metrics=['accuracy'])\n",
    "model.fit(x_train, y_train, epochs=5)"
   ]
  },
  {
   "cell_type": "code",
   "execution_count": null,
   "metadata": {},
   "outputs": [],
   "source": [
    "### 학습 후 예측 결과\n",
    "import numpy as np\n",
    "predictions = model(x_train[:1]).numpy()\n",
    "result = np.argmax(tf.nn.softmax(predictions).numpy())\n",
    "print(f'학습 후 0번 이미지 예측 결과: {result}')"
   ]
  },
  {
   "cell_type": "code",
   "execution_count": null,
   "metadata": {},
   "outputs": [],
   "source": []
  }
 ],
 "metadata": {
  "kernelspec": {
   "display_name": "TensorFlow",
   "language": "python",
   "name": "tensorflow"
  },
  "language_info": {
   "codemirror_mode": {
    "name": "ipython",
    "version": 3
   },
   "file_extension": ".py",
   "mimetype": "text/x-python",
   "name": "python",
   "nbconvert_exporter": "python",
   "pygments_lexer": "ipython3",
   "version": "3.8.3"
  }
 },
 "nbformat": 4,
 "nbformat_minor": 4
}
