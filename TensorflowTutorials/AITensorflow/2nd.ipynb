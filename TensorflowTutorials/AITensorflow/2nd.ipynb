{
 "cells": [
  {
   "cell_type": "markdown",
   "metadata": {},
   "source": [
    "# 2차시: 텐서플로우 2.x 활용 이미지 분류 기초\n",
    "\n",
    "## AI 맛보기 2주차: 2020. 07. 14. 20:00 ~ 22:00 (120분)\n",
    "1. 도구 불러오기 및 버전 확인\n",
    "1. 학습 데이터 다운로드: MNIST Fashion\n",
    "1. 학습 데이터 살펴보기: 차원, 미리보기\n",
    "1. 학습 데이터 전처리 (정규화)\n",
    "1. 학습 모델 준비\n",
    "1. 학습\n",
    "1. 학습 결과 테스트\n",
    "1. 확률 모델\n",
    "1. 예측이란?\n",
    "1. 모델 개선\n",
    "\n",
    "#### 참고자료\n",
    "- [파이썬 3 표준 문서](https://docs.python.org/3/index.html)\n",
    "- [텐서플로우 이미지 분류](https://www.tensorflow.org/tutorials/keras/classification)"
   ]
  },
  {
   "cell_type": "markdown",
   "metadata": {},
   "source": [
    "### 1. 도구 불러오기 및 버전 확인"
   ]
  },
  {
   "cell_type": "code",
   "execution_count": null,
   "metadata": {},
   "outputs": [],
   "source": [
    "# 도구 준비\n",
    "import os\n",
    "import shutil\n",
    "\n",
    "import tensorflow as tf # 텐서플로우\n",
    "import matplotlib.pyplot as plt # 시각화 도구\n",
    "%matplotlib inline\n",
    "import matplotlib.font_manager as fm\n",
    "import numpy as np"
   ]
  },
  {
   "cell_type": "code",
   "execution_count": null,
   "metadata": {},
   "outputs": [],
   "source": [
    "print(f'Tensorflow 버전을 확인합니다: {tf.__version__}')"
   ]
  },
  {
   "cell_type": "code",
   "execution_count": null,
   "metadata": {},
   "outputs": [],
   "source": [
    "# 시각화 한글 설정\n",
    "fonts = fm.findSystemFonts()\n",
    "nanum_path = None\n",
    "for font in fonts:\n",
    "    if font.endswith('NanumGothic.ttf'):\n",
    "        nanum_path = font\n",
    "        break\n",
    "if nanum_path == None:\n",
    "    print(f'나눔 폰트를 설치해야 합니다!')\n",
    "    print(f'!apt install -qq -y fonts-nanum*')\n",
    "else:\n",
    "    print(f'나눔 폰트 경로: {nanum_path}')\n",
    "    nanum_prop = fm.FontProperties(fname=nanum_path)"
   ]
  },
  {
   "cell_type": "markdown",
   "metadata": {},
   "source": [
    "### 2. 학습 데이터 다운로드: MNIST Fashion"
   ]
  },
  {
   "cell_type": "code",
   "execution_count": null,
   "metadata": {},
   "outputs": [],
   "source": [
    "# 데이터 다운로드\n",
    "# dataset_path = 'C:\\Users\\<your_username>\\.keras\\datasets' # Windows\n",
    "dataset_path = os.path.abspath(os.path.expanduser('~/.keras/datasets/')) # Linux\n",
    "if os.path.exists(dataset_path):\n",
    "    shutil.rmtree(dataset_path)\n",
    "(_train_images, train_labels), (_test_images, test_labels) = tf.keras.datasets.fashion_mnist.load_data()"
   ]
  },
  {
   "cell_type": "code",
   "execution_count": null,
   "metadata": {},
   "outputs": [],
   "source": [
    "print(f'학습에 사용할 이미지는 {len(_train_images)}개 입니다.')\n",
    "print(f'학습한 후 테스트(검증)에 사용할 이미지는 {len(_test_images)}개 입니다.')"
   ]
  },
  {
   "cell_type": "code",
   "execution_count": null,
   "metadata": {},
   "outputs": [],
   "source": [
    "train_labels[:10]"
   ]
  },
  {
   "cell_type": "code",
   "execution_count": null,
   "metadata": {},
   "outputs": [],
   "source": [
    "class_names = ['티셔츠', '바지', '스웨터', '드레스', '코트',\n",
    "               '샌들', '셔츠', '운동화', '가방', '부츠']\n",
    "print(f'데이터의 레이블은 {len(class_names)}개 이며, 데이터셋에 포함되어 있지 않으므로 설명서에서 확인해야 합니다.')\n",
    "print('레이블 번호와 레이블: ')\n",
    "for i in range(0, len(class_names)):\n",
    "    print(f'{i}: {class_names[i]}')"
   ]
  },
  {
   "cell_type": "markdown",
   "metadata": {},
   "source": [
    "### 3. 학습 데이터 살펴보기: 차원, 미리보기"
   ]
  },
  {
   "cell_type": "code",
   "execution_count": null,
   "metadata": {},
   "outputs": [],
   "source": [
    "print(f'학습 이미지 형태: {_train_images.shape}')\n",
    "print(f'학습 레이블 형태: {train_labels.shape}')"
   ]
  },
  {
   "cell_type": "code",
   "execution_count": null,
   "metadata": {},
   "outputs": [],
   "source": [
    "print(f'테스트 이미지 형태: {_test_images.shape}')\n",
    "print(f'테스트 레이블 형태: {test_labels.shape}')"
   ]
  },
  {
   "cell_type": "code",
   "execution_count": null,
   "metadata": {},
   "outputs": [],
   "source": [
    "fig1 = plt.figure(figsize=(6, 6))\n",
    "ax = fig1.add_subplot()\n",
    "axm = ax.imshow(_train_images[0])\n",
    "fig1.colorbar(axm)\n",
    "fig1.suptitle('학습용 예제 이미지', fontproperties=nanum_prop, fontsize=24)\n",
    "ax.set_title(f'레이블: {class_names[train_labels[0]]}', fontproperties=nanum_prop, fontsize=16)\n",
    "ax.grid(False)"
   ]
  },
  {
   "cell_type": "markdown",
   "metadata": {},
   "source": [
    "### 4. 학습 데이터 전처리 (정규화)"
   ]
  },
  {
   "cell_type": "code",
   "execution_count": null,
   "metadata": {},
   "outputs": [],
   "source": [
    "print('인공 신경망은 주로 -1.0 ~ 1.0 사이의 값을 받습니다.')\n",
    "print('따라서 이미지를 255로 나누어줍니다.')\n",
    "train_images = _train_images / 255.0\n",
    "test_images = _test_images / 255.0"
   ]
  },
  {
   "cell_type": "code",
   "execution_count": null,
   "metadata": {},
   "outputs": [],
   "source": [
    "fig2 = plt.figure(figsize=(6, 6))\n",
    "ax = fig2.add_subplot()\n",
    "axm = ax.imshow(train_images[0])\n",
    "fig2.colorbar(axm)\n",
    "fig2.suptitle('학습용 예제 이미지 (정규화)', fontproperties=nanum_prop, fontsize=24)\n",
    "ax.set_title(f'레이블: {class_names[train_labels[0]]}', fontproperties=nanum_prop, fontsize=16)\n",
    "ax.grid(False)"
   ]
  },
  {
   "cell_type": "code",
   "execution_count": null,
   "metadata": {},
   "outputs": [],
   "source": [
    "fig3 = plt.figure(figsize=(12, 12))\n",
    "fig3.set_facecolor('white')\n",
    "for i in range(25):\n",
    "    ax = fig3.add_subplot(5, 5, i+1)\n",
    "    ax.imshow(train_images[i], cmap=plt.cm.binary)\n",
    "    ax.set_xticks([])\n",
    "    ax.set_yticks([])\n",
    "    ax.set_title(class_names[train_labels[i]], fontproperties=nanum_prop)"
   ]
  },
  {
   "cell_type": "code",
   "execution_count": null,
   "metadata": {},
   "outputs": [],
   "source": [
    "fig4 = plt.figure(figsize=(12, 12/5*2))\n",
    "fig4.set_facecolor('white')\n",
    "for i in range(10):\n",
    "    ax = fig4.add_subplot(2, 5, i+1)\n",
    "    for j in range(10000, len(train_images)):\n",
    "        if train_labels[j] == i:\n",
    "            break\n",
    "    ax.imshow(train_images[j], cmap=plt.cm.binary)\n",
    "    ax.set_xticks([])\n",
    "    ax.set_yticks([])\n",
    "    ax.set_title(f'[{train_labels[j]}] {class_names[train_labels[j]]}', \n",
    "                 fontproperties=nanum_prop, fontsize=12)"
   ]
  },
  {
   "cell_type": "markdown",
   "metadata": {},
   "source": [
    "### 5. 학습 모델 준비"
   ]
  },
  {
   "cell_type": "code",
   "execution_count": null,
   "metadata": {},
   "outputs": [],
   "source": [
    "print('모델 생성')\n",
    "model = tf.keras.Sequential([\n",
    "    tf.keras.layers.Flatten(input_shape=(train_images.shape[1:])),\n",
    "    tf.keras.layers.Dense(128, activation='relu'),\n",
    "    tf.keras.layers.Dense(10)\n",
    "])\n",
    "model.summary()"
   ]
  },
  {
   "cell_type": "code",
   "execution_count": null,
   "metadata": {},
   "outputs": [],
   "source": [
    "print('모델 컴파일')\n",
    "model.compile(optimizer=tf.keras.optimizers.Adam(),\n",
    "              loss=tf.keras.losses.SparseCategoricalCrossentropy(from_logits=True),\n",
    "              metrics=['accuracy'])"
   ]
  },
  {
   "cell_type": "markdown",
   "metadata": {},
   "source": [
    "### 6. 학습"
   ]
  },
  {
   "cell_type": "code",
   "execution_count": null,
   "metadata": {},
   "outputs": [],
   "source": [
    "epochs = 10\n",
    "model.fit(train_images, train_labels, \n",
    "          epochs=epochs)"
   ]
  },
  {
   "cell_type": "markdown",
   "metadata": {},
   "source": [
    "### 7. 학습 결과 테스트"
   ]
  },
  {
   "cell_type": "code",
   "execution_count": null,
   "metadata": {},
   "outputs": [],
   "source": [
    "print(f'{len(test_images)}개 이미지로 테스트합니다.')\n",
    "test_loss, test_acc = model.evaluate(test_images,  test_labels, verbose=2)\n",
    "print()\n",
    "print(f'테스트 이미지 정확도: {test_acc}')"
   ]
  },
  {
   "cell_type": "code",
   "execution_count": null,
   "metadata": {},
   "outputs": [],
   "source": [
    "print(f'테스트 이미지 0번 예측:\\n{model.predict(test_images[100:101])}')\n",
    "print(f'실제 레이블: {test_labels[100]}')"
   ]
  },
  {
   "cell_type": "code",
   "execution_count": null,
   "metadata": {},
   "outputs": [],
   "source": [
    "fig5 = plt.figure(figsize=(6, 6))\n",
    "ax = fig5.add_subplot()\n",
    "axm = ax.imshow(test_images[0])\n",
    "fig5.colorbar(axm)\n",
    "fig5.suptitle('테스트 이미지', fontproperties=nanum_prop, fontsize=24)\n",
    "ax.set_title(f'레이블: {class_names[test_labels[0]]}', fontproperties=nanum_prop, fontsize=16)\n",
    "ax.grid(False)"
   ]
  },
  {
   "cell_type": "markdown",
   "metadata": {},
   "source": [
    "### 8. 확률 모델"
   ]
  },
  {
   "cell_type": "code",
   "execution_count": null,
   "metadata": {},
   "outputs": [],
   "source": [
    "print('확률 모델')\n",
    "probability_model = tf.keras.Sequential([model, \n",
    "                                         tf.keras.layers.Softmax()])\n",
    "probability_model.summary()"
   ]
  },
  {
   "cell_type": "code",
   "execution_count": null,
   "metadata": {},
   "outputs": [],
   "source": [
    "predictions = probability_model.predict(test_images)\n",
    "print(f'테스트 이미지 0번 예측:\\n{predictions[0]}')\n",
    "print(f'실제 레이블: {test_labels[0]}')"
   ]
  },
  {
   "cell_type": "code",
   "execution_count": null,
   "metadata": {},
   "outputs": [],
   "source": [
    "print(f'예측 레이블은 확률 중 최대 확률을 선택합니다.')\n",
    "print(f'테스트 이미지 0번의 최대 확률 레이블: {np.argmax(predictions[0])}')"
   ]
  },
  {
   "cell_type": "markdown",
   "metadata": {},
   "source": [
    "### 9. 예측이란?"
   ]
  },
  {
   "cell_type": "code",
   "execution_count": null,
   "metadata": {},
   "outputs": [],
   "source": [
    "# 이미지 함수 정의\n",
    "def draw_image(ax, prob, image, true_label):\n",
    "    ax.grid(False)\n",
    "    axm = ax.imshow(image, cmap=plt.cm.binary)\n",
    "    ax.set_xticks([])\n",
    "    ax.set_yticks([])\n",
    "    predicted_label = np.argmax(prob)\n",
    "    if true_label == predicted_label:\n",
    "        color = 'blue'\n",
    "    else:\n",
    "        color = 'red'\n",
    "    predicted_name = class_names[predicted_label]\n",
    "    true_name = class_names[true_label]\n",
    "    label = f'{predicted_name} {np.max(prob)*100:3.0f}% ({true_name})'\n",
    "    ax.set_title(f'{label}', fontproperties=nanum_prop, color=color)\n",
    "    \n",
    "def draw_bar(ax, prob, true_label):\n",
    "    ax.grid(False)\n",
    "    ax.set_xticks(range(10))\n",
    "    ax.set_yticks(np.arange(0, 1.2, 0.2))\n",
    "    bar = ax.bar(range(10), prob, color='gray')\n",
    "    ax.set_ylim((0, 1))\n",
    "    predicted_label = np.argmax(prob)\n",
    "    bar[predicted_label].set_color('red')\n",
    "    bar[true_label].set_color('blue')"
   ]
  },
  {
   "cell_type": "code",
   "execution_count": null,
   "metadata": {},
   "outputs": [],
   "source": [
    "for i in range(len(test_images)):\n",
    "    if test_labels[i] == np.argmax(predictions[i]):\n",
    "        break\n",
    "fig6 = plt.figure(figsize=(6, 3))\n",
    "ax = fig6.add_subplot(1, 2, 1)\n",
    "draw_image(ax, predictions[i], test_images[i], test_labels[i])\n",
    "ax = fig6.add_subplot(1, 2, 2)\n",
    "draw_bar(ax, predictions[i], test_labels[i])"
   ]
  },
  {
   "cell_type": "code",
   "execution_count": null,
   "metadata": {},
   "outputs": [],
   "source": [
    "for i in range(len(test_images)):\n",
    "    if test_labels[i] != np.argmax(predictions[i]):\n",
    "        break\n",
    "fig7 = plt.figure(figsize=(6, 3))\n",
    "ax = fig7.add_subplot(1, 2, 1)\n",
    "draw_image(ax, predictions[i], test_images[i], test_labels[i])\n",
    "ax = fig7.add_subplot(1, 2, 2)\n",
    "draw_bar(ax, predictions[i], test_labels[i])"
   ]
  },
  {
   "cell_type": "code",
   "execution_count": null,
   "metadata": {},
   "outputs": [],
   "source": [
    "base = 5000\n",
    "rows = 1 * 5\n",
    "cols = 2 * 3\n",
    "fig8 = plt.figure(figsize=(2.5*cols, 2.5*rows))\n",
    "fig8.set_facecolor('white')\n",
    "for i in range(0, rows*cols, 2):\n",
    "    ax = fig8.add_subplot(rows, cols, i+1)\n",
    "    draw_image(ax, predictions[base+i], test_images[base+i], test_labels[base+i])\n",
    "    ax = fig8.add_subplot(rows, cols, i+2)\n",
    "    draw_bar(ax, predictions[base+i], test_labels[base+i])"
   ]
  },
  {
   "cell_type": "markdown",
   "metadata": {},
   "source": [
    "### 10. 모델 개선"
   ]
  },
  {
   "cell_type": "code",
   "execution_count": null,
   "metadata": {},
   "outputs": [],
   "source": [
    "model = tf.keras.Sequential([\n",
    "    tf.keras.layers.Flatten(input_shape=train_images.shape[1:]),\n",
    "    tf.keras.layers.Dense(128, activation='relu'),\n",
    "    tf.keras.layers.Dense(10)\n",
    "])\n",
    "model.summary()"
   ]
  }
 ],
 "metadata": {
  "kernelspec": {
   "display_name": "TensorFlow",
   "language": "python",
   "name": "tensorflow"
  },
  "language_info": {
   "codemirror_mode": {
    "name": "ipython",
    "version": 3
   },
   "file_extension": ".py",
   "mimetype": "text/x-python",
   "name": "python",
   "nbconvert_exporter": "python",
   "pygments_lexer": "ipython3",
   "version": "3.8.3"
  }
 },
 "nbformat": 4,
 "nbformat_minor": 4
}
