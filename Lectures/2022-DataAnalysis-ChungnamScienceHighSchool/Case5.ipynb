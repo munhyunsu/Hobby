{
 "cells": [
  {
   "cell_type": "markdown",
   "id": "15ad42da-9176-42a4-bb46-d1cae9ebf758",
   "metadata": {},
   "source": [
    "# 충남과학고등학교 데이터분석 특강 (3H / 6H)\n",
    "## 예제로 배우는 데이터 분석\n",
    "## 초급: 3H, 중급: 6H (초중급 3H 동일)"
   ]
  },
  {
   "cell_type": "markdown",
   "id": "20dfd0dc-002e-4e06-bbd9-434e96d132b1",
   "metadata": {},
   "source": [
    "## Case 5: COVID-19 국가별 데이터 분석\n",
    "### Question: 국가별 COVID-19 확진자 및 사망자 분석\n",
    "##### 데이터출처1: [Github-JohnsHopkinsUniv.](https://github.com/CSSEGISandData/COVID-19)\n",
    "##### 데이터출처2: [Kaggle-JohnsHopkinsUniv.](https://www.kaggle.com/datasets/antgoldbloom/covid19-data-from-john-hopkins-university)"
   ]
  },
  {
   "cell_type": "markdown",
   "id": "a52356b5-9ea5-4509-97eb-733d1e60dbfa",
   "metadata": {},
   "source": [
    "### Step1. Question - 공개 데이터 살펴보기: Meta-data"
   ]
  },
  {
   "cell_type": "markdown",
   "id": "23075e73-a60c-4770-8d73-cb4fbd4a5ec5",
   "metadata": {},
   "source": [
    "#### 도구 불러오기"
   ]
  },
  {
   "cell_type": "code",
   "execution_count": null,
   "id": "8bd7fcb0-0b34-4e85-a584-15082c668961",
   "metadata": {},
   "outputs": [],
   "source": [
    "import pandas as pd\n",
    "import numpy as np\n",
    "import matplotlib as mpl\n",
    "import matplotlib.pyplot as plt\n",
    "# %matplotlib widget\n",
    "%matplotlib inline"
   ]
  },
  {
   "cell_type": "markdown",
   "id": "384694af-7634-4684-b071-0d9b1d2d0a03",
   "metadata": {},
   "source": [
    "#### 데이터 경로 설정 (data_root)"
   ]
  },
  {
   "cell_type": "code",
   "execution_count": null,
   "id": "a1eed4de-5c18-427b-b80a-b2d879905595",
   "metadata": {},
   "outputs": [],
   "source": [
    "data_root = 'datasets/covid-19/CONVENIENT_global_confirmed_cases.csv'\n",
    "data_root"
   ]
  },
  {
   "cell_type": "markdown",
   "id": "132cb072-e96d-412b-9440-ef974a7a31e6",
   "metadata": {},
   "source": [
    "#### 데이터 읽어오기"
   ]
  },
  {
   "cell_type": "code",
   "execution_count": null,
   "id": "c6f7dedf-d264-4b2e-95ea-1246405ffd1c",
   "metadata": {},
   "outputs": [],
   "source": [
    "df = pd.read_csv(data_root)\n",
    "df"
   ]
  },
  {
   "cell_type": "markdown",
   "id": "5d608244-11dc-456a-88d9-e857e38e603d",
   "metadata": {},
   "source": [
    "#### 누락 데이터 (Missing value, NaN) 처리"
   ]
  },
  {
   "cell_type": "code",
   "execution_count": null,
   "id": "39638a52-c86e-4a09-bb54-f27281f7f359",
   "metadata": {},
   "outputs": [],
   "source": [
    "df.fillna(0, inplace=True)\n",
    "df"
   ]
  },
  {
   "cell_type": "markdown",
   "id": "e1921b5a-47cb-4c03-84b2-1ef438896269",
   "metadata": {},
   "source": [
    "#### 첫 행 (1st row) 제거\n",
    "##### Province/State 는 데이터 설명용 meta data"
   ]
  },
  {
   "cell_type": "code",
   "execution_count": null,
   "id": "c8509f1d-4d1f-4140-8157-6f6c87cbe7ab",
   "metadata": {},
   "outputs": [],
   "source": [
    "df.drop(index=0, inplace=True)\n",
    "df"
   ]
  },
  {
   "cell_type": "markdown",
   "id": "558f9482-2fcc-4fea-b012-44fe7481fdac",
   "metadata": {},
   "source": [
    "#### 열 번호 재배치"
   ]
  },
  {
   "cell_type": "code",
   "execution_count": null,
   "id": "2fecff19-5fcc-47f6-b3a4-a9a512d1b0db",
   "metadata": {},
   "outputs": [],
   "source": [
    "df.reset_index(drop=True, inplace=True)\n",
    "df"
   ]
  },
  {
   "cell_type": "markdown",
   "id": "330ae3f3-02be-4275-af6a-f6042f565b66",
   "metadata": {},
   "source": [
    "### Step 2. Question - 대한민국 확진자 분석"
   ]
  },
  {
   "cell_type": "markdown",
   "id": "6c182649-1532-47cf-b004-ca023a609c86",
   "metadata": {},
   "source": [
    "#### 나라 리스트"
   ]
  },
  {
   "cell_type": "code",
   "execution_count": null,
   "id": "8da2b94b-666e-43e4-bcb7-a13d36a80aea",
   "metadata": {},
   "outputs": [],
   "source": [
    "counter = 0\n",
    "for country in df.columns:\n",
    "    counter = counter + 1\n",
    "    if counter%5 == 0:\n",
    "        print(country)\n",
    "    else:\n",
    "        print(country, end='  ')\n",
    "print()"
   ]
  },
  {
   "cell_type": "markdown",
   "id": "d832f7d7-fa6f-43fd-8746-a624a7cf238e",
   "metadata": {},
   "source": [
    "#### 한국 확진자 현황 그래프 그리기"
   ]
  },
  {
   "cell_type": "code",
   "execution_count": null,
   "id": "35918f62-1345-480b-b85b-0c816178f7fa",
   "metadata": {},
   "outputs": [],
   "source": [
    "df['Country/Region']"
   ]
  },
  {
   "cell_type": "code",
   "execution_count": null,
   "id": "811601cf-5952-4d79-b18f-0c1b22409e57",
   "metadata": {},
   "outputs": [],
   "source": [
    "df['Korea, South']"
   ]
  },
  {
   "cell_type": "code",
   "execution_count": null,
   "id": "56bd855d-2aad-47b0-bc81-03a6b5973308",
   "metadata": {},
   "outputs": [],
   "source": [
    "x = df.index\n",
    "xlab = df['Country/Region']\n",
    "y = df['Korea, South']\n",
    "fig = plt.figure(figsize=(8, 6))\n",
    "ax = fig.add_subplot()\n",
    "ax.plot(x, y)\n",
    "ax.set_xticks(x[::100], xlab[::100], rotation=-30)\n",
    "ax.tick_params(axis='both', labelsize='large')\n",
    "ax.set_xlabel('Date', fontsize='large')\n",
    "ax.set_ylabel('Number of cases', fontsize='large')\n",
    "ax.set_title('COVID-19 cases in South Korea', fontsize='x-large')"
   ]
  },
  {
   "cell_type": "markdown",
   "id": "8f7e762b-3f71-4ee0-8be2-f3bede01cdd8",
   "metadata": {},
   "source": [
    "### Step 3. Question - 대한민국, 일본, 미국, 중국 확진자 비교 분석"
   ]
  },
  {
   "cell_type": "markdown",
   "id": "a057789c-1603-4b8d-acfc-a8ab20c99f20",
   "metadata": {},
   "source": [
    "#### 일본 확진자 현황"
   ]
  },
  {
   "cell_type": "code",
   "execution_count": null,
   "id": "9a3a6b9f-7c55-4c62-be52-39249be02508",
   "metadata": {},
   "outputs": [],
   "source": [
    "df['Country/Region']"
   ]
  },
  {
   "cell_type": "code",
   "execution_count": null,
   "id": "be813866-71d2-4f77-9f8b-99df037de4e5",
   "metadata": {},
   "outputs": [],
   "source": [
    "df['Japan']"
   ]
  },
  {
   "cell_type": "code",
   "execution_count": null,
   "id": "6f62dbba-d488-440c-ab42-fd4aa4722baa",
   "metadata": {},
   "outputs": [],
   "source": [
    "x = df.index\n",
    "xlab = df['Country/Region']\n",
    "y = df['Japan']\n",
    "fig = plt.figure(figsize=(8, 6))\n",
    "ax = fig.add_subplot()\n",
    "ax.plot(x, y)\n",
    "ax.set_xticks(x[::100], xlab[::100], rotation=-30)\n",
    "ax.tick_params(axis='both', labelsize='large')\n",
    "ax.set_xlabel('Date', fontsize='large')\n",
    "ax.set_ylabel('Number of cases', fontsize='large')\n",
    "ax.set_title('COVID-19 cases in Japan', fontsize='x-large')"
   ]
  },
  {
   "cell_type": "markdown",
   "id": "0f9a61c6-5513-4f9b-b4c2-1195f6658dd8",
   "metadata": {},
   "source": [
    "#### 한국, 일본, 미국, 중국 비교"
   ]
  },
  {
   "cell_type": "markdown",
   "id": "1ecc4685-4f12-4103-890e-a7aca9934dd7",
   "metadata": {},
   "source": [
    "#### 데이터 준비"
   ]
  },
  {
   "cell_type": "code",
   "execution_count": null,
   "id": "1bdd7053-1327-4cf7-990c-bc4ad4d37ca7",
   "metadata": {},
   "outputs": [],
   "source": [
    "df['Country/Region']"
   ]
  },
  {
   "cell_type": "code",
   "execution_count": null,
   "id": "853f28d1-e51d-4243-859d-35cc0f458ae6",
   "metadata": {},
   "outputs": [],
   "source": [
    "df['Korea, South']"
   ]
  },
  {
   "cell_type": "code",
   "execution_count": null,
   "id": "e5994f7a-f59d-4b71-8206-277131689c6d",
   "metadata": {},
   "outputs": [],
   "source": [
    "df['Japan']"
   ]
  },
  {
   "cell_type": "code",
   "execution_count": null,
   "id": "4335543f-3409-47c8-a143-12e054f57b57",
   "metadata": {},
   "outputs": [],
   "source": [
    "df['US']"
   ]
  },
  {
   "cell_type": "code",
   "execution_count": null,
   "id": "7550f60d-9220-40b6-9368-4100adc6fb54",
   "metadata": {},
   "outputs": [],
   "source": [
    "df['China']"
   ]
  },
  {
   "cell_type": "code",
   "execution_count": null,
   "id": "ce948ad1-c9d7-489e-b0c5-989d8a4c5e42",
   "metadata": {},
   "outputs": [],
   "source": [
    "df['China'].astype(np.float64)"
   ]
  },
  {
   "cell_type": "code",
   "execution_count": null,
   "id": "954e0458-df0b-49f1-8d41-7ef42cf6e277",
   "metadata": {},
   "outputs": [],
   "source": [
    "x = df.index\n",
    "xlab = df['Country/Region']\n",
    "y1 = df['Korea, South']\n",
    "y2 = df['Japan']\n",
    "y3 = df['US']\n",
    "y4 = df['China'].astype(np.float64)"
   ]
  },
  {
   "cell_type": "code",
   "execution_count": null,
   "id": "582200ce-6d9a-4516-9380-6335fc7db65f",
   "metadata": {},
   "outputs": [],
   "source": [
    "fig = plt.figure(figsize=(8, 6))\n",
    "ax = fig.add_subplot()\n",
    "ax.plot(x, y1, label='South Korea', color='blue')\n",
    "ax.plot(x, y2, label='Japan', color='cyan')\n",
    "ax.plot(x, y3, label='US', color='brown')\n",
    "ax.plot(x, y4, label='China', color='red')\n",
    "ax.set_xticks(x[::100], xlab[::100], rotation=-30)\n",
    "ax.tick_params(axis='both', labelsize='large')\n",
    "ax.set_xlabel('Date', fontsize='large')\n",
    "ax.set_ylabel('The number of cases', fontsize='large')\n",
    "ax.legend(loc='upper left')\n",
    "ax.set_title('COVID-19 cases', fontsize='x-large')"
   ]
  },
  {
   "cell_type": "markdown",
   "id": "d1323596-4734-4c86-adef-1781f87959da",
   "metadata": {},
   "source": [
    "### Step 4. Question - 대한민국 일별 확진자 대비 사망률 분석"
   ]
  },
  {
   "cell_type": "markdown",
   "id": "dab2c7e2-4f85-4b03-9764-27dad7187846",
   "metadata": {},
   "source": [
    "#### 데이터 불러오기"
   ]
  },
  {
   "cell_type": "code",
   "execution_count": null,
   "id": "0de961bc-ddf9-40cf-82e7-98ca9043bf85",
   "metadata": {},
   "outputs": [],
   "source": [
    "data_root2 = 'datasets/covid-19/CONVENIENT_global_deaths.csv'\n",
    "data_root2"
   ]
  },
  {
   "cell_type": "markdown",
   "id": "557ba364-d8af-4619-b17d-732ed9257817",
   "metadata": {},
   "source": [
    "#### 데이터 전처리"
   ]
  },
  {
   "cell_type": "code",
   "execution_count": null,
   "id": "ff1bbd01-3b5f-4eab-8067-c1a920127d25",
   "metadata": {},
   "outputs": [],
   "source": [
    "df2 = pd.read_csv(data_root2)\n",
    "df2.fillna(0, inplace=True)\n",
    "df2.drop(index=0, inplace=True)\n",
    "df2.reset_index(drop=True, inplace=True)\n",
    "df2"
   ]
  },
  {
   "cell_type": "markdown",
   "id": "9d43ca74-e49c-450f-b74c-bf4c0c3da15b",
   "metadata": {},
   "source": [
    "#### 한국 확진자 대비 사망률 그래프 그리기"
   ]
  },
  {
   "cell_type": "code",
   "execution_count": null,
   "id": "76c76778-e442-4e2e-9474-dcdcf0e18494",
   "metadata": {},
   "outputs": [],
   "source": [
    "x = df.index\n",
    "xlab = df['Country/Region']\n",
    "y = df2['Korea, South'] / df['Korea, South']\n",
    "fig = plt.figure(figsize=(8, 6))\n",
    "ax = fig.add_subplot()\n",
    "ax.plot(x, y)\n",
    "ax.set_ylim([-0.05, 1.05])\n",
    "ax.set_xticks(x[::100], xlab[::100], rotation=-30)\n",
    "ax.tick_params(axis='both', labelsize='large')\n",
    "ax.set_xlabel('Date', fontsize='large')\n",
    "ax.set_ylabel('The death ratio', fontsize='large')\n",
    "ax.set_title('COVID-19 death ratio in South Korea', fontsize='x-large')"
   ]
  },
  {
   "cell_type": "markdown",
   "id": "53d616c4-8ca4-4e33-a96e-aa4bc22d56e1",
   "metadata": {},
   "source": [
    "### Step 5. Question - 한국, 일본, 미국, 중국 확진자 대비 사망률 비교"
   ]
  },
  {
   "cell_type": "markdown",
   "id": "9082ea17-a4b4-4c70-8054-1a161e4e4fdb",
   "metadata": {},
   "source": [
    "#### 데이터 준비"
   ]
  },
  {
   "cell_type": "code",
   "execution_count": null,
   "id": "c58af39d-9f5e-48a0-b62c-1bb5d4f304af",
   "metadata": {},
   "outputs": [],
   "source": [
    "df2['Korea, South'] / df['Korea, South']"
   ]
  },
  {
   "cell_type": "code",
   "execution_count": null,
   "id": "75ae0ab7-ad44-4b03-be4d-a95fd91aa771",
   "metadata": {},
   "outputs": [],
   "source": [
    "df2['Japan'] / df['Japan']"
   ]
  },
  {
   "cell_type": "code",
   "execution_count": null,
   "id": "ec5e6ab4-51d0-49dc-afa9-34accb6032fc",
   "metadata": {},
   "outputs": [],
   "source": [
    "df2['US'] / df['US']"
   ]
  },
  {
   "cell_type": "code",
   "execution_count": null,
   "id": "fc5b7d90-ae50-421c-85c7-af78a0c46fa8",
   "metadata": {},
   "outputs": [],
   "source": [
    "df2['China'].astype(np.float64) / df['China'].astype(np.float64)"
   ]
  },
  {
   "cell_type": "code",
   "execution_count": null,
   "id": "c858839d-74b0-4008-b24b-f7a2f51a4be1",
   "metadata": {},
   "outputs": [],
   "source": [
    "x = df.index\n",
    "xlab = df['Country/Region']\n",
    "y1 = df2['Korea, South'] / df['Korea, South']\n",
    "y2 = df2['Japan'] / df['Japan']\n",
    "y3 = df2['US'] / df['US']\n",
    "y4 = df2['China'].astype(np.float64) / df['China'].astype(np.float64)"
   ]
  },
  {
   "cell_type": "markdown",
   "id": "815cb333-1a03-486c-a5a3-4acf47028282",
   "metadata": {},
   "source": [
    "#### 비교 그래프 그리기? 이대로 충분한가?"
   ]
  },
  {
   "cell_type": "code",
   "execution_count": null,
   "id": "cf649d5b-46e4-4156-b8c3-edba3f512cc9",
   "metadata": {},
   "outputs": [],
   "source": [
    "fig = plt.figure(figsize=(8, 6))\n",
    "ax = fig.add_subplot()\n",
    "ax.plot(x, y1, label='South Korea', color='blue')\n",
    "ax.plot(x, y2, label='Japan', color='cyan')\n",
    "ax.plot(x, y3, label='US', color='brown')\n",
    "ax.plot(x, y4, label='China', color='red')\n",
    "ax.set_ylim([-0.05, 1.05])\n",
    "ax.set_xticks(x[::100], xlab[::100], rotation=-30)\n",
    "ax.tick_params(axis='both', labelsize='large')\n",
    "ax.set_xlabel('Date', fontsize='large')\n",
    "ax.set_ylabel('The death ratio', fontsize='large')\n",
    "ax.legend(loc='best', fontsize='x-large')\n",
    "ax.set_title('COVID-19 death ratio', fontsize='x-large')"
   ]
  },
  {
   "cell_type": "markdown",
   "id": "079151be-caff-49af-901a-4b652a6ab287",
   "metadata": {},
   "source": [
    "### Step 6. Question - 좀 더 깊게 파보기!"
   ]
  },
  {
   "cell_type": "markdown",
   "id": "972cf5df-406c-4a9c-a35f-dec95973313b",
   "metadata": {},
   "source": [
    "#### 질문 예제: 중국 발표 데이터 출처를 모두 사용한 국가별 비교\n",
    "#### 질문 예제: 누적 확진자 및 사망 분석\n",
    "#### 질문 예제: COVID-19 첫 대유행은 언제, 그리고 사망률은?\n",
    "#### 질문 예제: COVID-19 유행 wave 주기는?"
   ]
  },
  {
   "cell_type": "code",
   "execution_count": null,
   "id": "1d426758-0b2e-40c1-9cc8-bfc71c58a27c",
   "metadata": {},
   "outputs": [],
   "source": []
  }
 ],
 "metadata": {
  "kernelspec": {
   "display_name": "FLHub",
   "language": "python",
   "name": "flhub"
  },
  "language_info": {
   "codemirror_mode": {
    "name": "ipython",
    "version": 3
   },
   "file_extension": ".py",
   "mimetype": "text/x-python",
   "name": "python",
   "nbconvert_exporter": "python",
   "pygments_lexer": "ipython3",
   "version": "3.10.5"
  }
 },
 "nbformat": 4,
 "nbformat_minor": 5
}
