{
 "cells": [
  {
   "cell_type": "markdown",
   "id": "b325eff5-801a-457c-b806-31052f8aaed8",
   "metadata": {},
   "source": [
    "# 충남과학고등학교 데이터분석 특강 (3H / 6H)\n",
    "## 예제로 배우는 데이터 분석\n",
    "### 초급: 3H, 중급: 6H (초중급 3H 동일)"
   ]
  },
  {
   "cell_type": "markdown",
   "id": "54f9bb50-a066-4033-979f-89e2fd61d332",
   "metadata": {},
   "source": [
    "## Case 4: 기온 및 강수량 데이터 분석\n",
    "### Question: 대한민국 기온 및 강수량 분석\n",
    "##### [기상자료개발포털](https://data.kma.go.kr/climate/RankState/selectRankStatisticsDivisionList.do?pgmNo=179)"
   ]
  },
  {
   "cell_type": "markdown",
   "id": "37768e1b-5640-401f-86e7-55b6392626c1",
   "metadata": {},
   "source": [
    "### Step 1. Question - 충남 3년 기온 데이터 분석"
   ]
  },
  {
   "cell_type": "markdown",
   "id": "3b4f4897-c81b-41e5-96ab-a6603885c262",
   "metadata": {},
   "source": [
    "#### 도구 불러오기"
   ]
  },
  {
   "cell_type": "code",
   "execution_count": null,
   "id": "7ac8b841-96a2-48c3-85ee-7dba9110c0f7",
   "metadata": {},
   "outputs": [],
   "source": [
    "import csv\n",
    "import statistics\n",
    "\n",
    "import numpy as np\n",
    "import pandas as pd\n",
    "import matplotlib as mpl\n",
    "import matplotlib.pyplot as plt\n",
    "%matplotlib inline"
   ]
  },
  {
   "cell_type": "markdown",
   "id": "79ed2638-af55-4281-a773-6afa81e25ec6",
   "metadata": {},
   "source": [
    "#### 2019. 01. 01. ~ 2021. 12. 31. 일일 기온 데이터"
   ]
  },
  {
   "cell_type": "code",
   "execution_count": null,
   "id": "b3122c9e-1eae-4249-871d-955ba6ab994a",
   "metadata": {},
   "outputs": [],
   "source": [
    "df1 = pd.read_csv('datasets/temperature/temperature.csv')\n",
    "df1"
   ]
  },
  {
   "cell_type": "markdown",
   "id": "c61dba8c-6d4a-4040-b13d-2085dca6d9cf",
   "metadata": {},
   "source": [
    "#### 일일 기온 그래프 시각화"
   ]
  },
  {
   "cell_type": "code",
   "execution_count": null,
   "id": "d42dac3d-b29d-4a2a-90d6-05e83b7da466",
   "metadata": {},
   "outputs": [],
   "source": [
    "xlab = df1['일시']\n",
    "xlab"
   ]
  },
  {
   "cell_type": "code",
   "execution_count": null,
   "id": "860ae22c-50aa-4632-8c00-af7873d38448",
   "metadata": {},
   "outputs": [],
   "source": [
    "y = df1['평균기온']\n",
    "y"
   ]
  },
  {
   "cell_type": "code",
   "execution_count": null,
   "id": "bb7a6364-3051-466e-909e-0aa70e1d968a",
   "metadata": {},
   "outputs": [],
   "source": [
    "xlab = xlab[::-1]\n",
    "xlab"
   ]
  },
  {
   "cell_type": "code",
   "execution_count": null,
   "id": "72fb497a-250e-4196-b0b8-dda1a31dc0ec",
   "metadata": {},
   "outputs": [],
   "source": [
    "y = y[::-1]\n",
    "y"
   ]
  },
  {
   "cell_type": "code",
   "execution_count": null,
   "id": "66746dbd-1003-4fcd-bfe5-e3c55eeb843c",
   "metadata": {},
   "outputs": [],
   "source": [
    "x = range(len(y))\n",
    "x"
   ]
  },
  {
   "cell_type": "code",
   "execution_count": null,
   "id": "44e6fcbd-b7f8-450d-88a0-b5525cb06e4b",
   "metadata": {},
   "outputs": [],
   "source": [
    "fig = plt.figure(figsize=(8, 6))\n",
    "ax = fig.add_subplot()\n",
    "ax.plot(x, y)\n",
    "ax.set_xticks(x[::100], xlab[::100], rotation=-30)\n",
    "ax.tick_params(axis='both', labelsize='large')\n",
    "ax.set_xlabel('Date', fontsize='large')\n",
    "ax.set_ylabel('Temperature (C)', fontsize='large')\n",
    "ax.set_title('Daily Temperature', fontsize='x-large')"
   ]
  },
  {
   "cell_type": "markdown",
   "id": "a119593c-4d91-4399-954a-e6de2fdf25d7",
   "metadata": {},
   "source": [
    "### Step 2. Question - 충남 3년 강수량 데이터 분석"
   ]
  },
  {
   "cell_type": "markdown",
   "id": "7d81e921-570f-458c-85f2-9c632b60e8af",
   "metadata": {},
   "source": [
    "#### 2019. 01. 01. ~ 2021. 12. 31. 일일 강수량 데이터"
   ]
  },
  {
   "cell_type": "code",
   "execution_count": null,
   "id": "9ed2681e-764e-4595-9f49-e2a84bdbd78e",
   "metadata": {},
   "outputs": [],
   "source": [
    "df2 = pd.read_csv('datasets/temperature/rainfall.csv')\n",
    "df2"
   ]
  },
  {
   "cell_type": "markdown",
   "id": "bc8f7a91-fd9c-4718-a8f8-7d642e811d2e",
   "metadata": {},
   "source": [
    "#### 일일 강수량 그래프 시각화"
   ]
  },
  {
   "cell_type": "code",
   "execution_count": null,
   "id": "f93de787-4b32-45f9-8b77-1036face710e",
   "metadata": {},
   "outputs": [],
   "source": [
    "xlab = df2['일시']\n",
    "xlab"
   ]
  },
  {
   "cell_type": "code",
   "execution_count": null,
   "id": "7f6bd2ff-72a0-40fd-96d8-d622708cfdfe",
   "metadata": {},
   "outputs": [],
   "source": [
    "y = df2['평균일강수량']\n",
    "y"
   ]
  },
  {
   "cell_type": "code",
   "execution_count": null,
   "id": "0ba50c35-2744-4e77-8562-63e5c788204e",
   "metadata": {},
   "outputs": [],
   "source": [
    "xlab = xlab[::-1]\n",
    "xlab"
   ]
  },
  {
   "cell_type": "code",
   "execution_count": null,
   "id": "b930f82f-0a3d-4384-991c-dc94cb5dd5f1",
   "metadata": {},
   "outputs": [],
   "source": [
    "y = y[::-1]\n",
    "y"
   ]
  },
  {
   "cell_type": "code",
   "execution_count": null,
   "id": "bb6a8690-b4c0-4cfe-be56-2486d206f219",
   "metadata": {},
   "outputs": [],
   "source": [
    "x = range(len(y))\n",
    "x"
   ]
  },
  {
   "cell_type": "code",
   "execution_count": null,
   "id": "69c084d6-e4d5-4b6a-b446-4328e3cb5b12",
   "metadata": {},
   "outputs": [],
   "source": [
    "fig = plt.figure(figsize=(8, 6))\n",
    "ax = fig.add_subplot()\n",
    "ax.plot(x, y)\n",
    "ax.set_xticks(x[::100], xlab[::100], rotation=-30)\n",
    "ax.tick_params(axis='both', labelsize='large')\n",
    "ax.set_xlabel('Date', fontsize='large')\n",
    "ax.set_ylabel('Precipitation (mm)', fontsize='large')\n",
    "ax.set_title('Daily Precipitation', fontsize='x-large')"
   ]
  },
  {
   "cell_type": "markdown",
   "id": "cf0ee227-1e28-4444-bfb6-456e0a94ed26",
   "metadata": {},
   "source": [
    "### Step 3. Question - 충남 3년 기온 및 강수량 데이터 분석"
   ]
  },
  {
   "cell_type": "markdown",
   "id": "89404832-71de-4364-8533-c5532959fd6b",
   "metadata": {},
   "source": [
    "#### 데이터 합치기 on '일시'"
   ]
  },
  {
   "cell_type": "code",
   "execution_count": null,
   "id": "55702118-3132-47c3-ac07-5474b37af186",
   "metadata": {},
   "outputs": [],
   "source": [
    "df = df1.merge(df2, on=['일시'])\n",
    "df"
   ]
  },
  {
   "cell_type": "markdown",
   "id": "0e904b30-e60f-499f-9b84-0e6b0673c1ef",
   "metadata": {},
   "source": [
    "#### 데이터 역순 배열"
   ]
  },
  {
   "cell_type": "code",
   "execution_count": null,
   "id": "c843458d-bfe3-44d9-8c3d-cd7e41248f11",
   "metadata": {},
   "outputs": [],
   "source": [
    "df = df.iloc[::-1]\n",
    "df"
   ]
  },
  {
   "cell_type": "markdown",
   "id": "443d627c-0ab2-4a37-ae8d-6bb0068c2ba2",
   "metadata": {},
   "source": [
    "#### 데이터 재정렬"
   ]
  },
  {
   "cell_type": "code",
   "execution_count": null,
   "id": "bf5877a7-1d14-44b5-b856-a489357f4e34",
   "metadata": {},
   "outputs": [],
   "source": [
    "df.reset_index(drop=True, inplace=True)\n",
    "df"
   ]
  },
  {
   "cell_type": "markdown",
   "id": "ad68b6d9-55df-4998-83dc-573d3ab4e581",
   "metadata": {},
   "source": [
    "#### 시각화 데이터 준비"
   ]
  },
  {
   "cell_type": "code",
   "execution_count": null,
   "id": "574007b9-d327-41a4-8912-4039035bb873",
   "metadata": {},
   "outputs": [],
   "source": [
    "xlab = df['일시']\n",
    "xlab"
   ]
  },
  {
   "cell_type": "code",
   "execution_count": null,
   "id": "6828214e-a2f0-48cf-be1f-dffcb8fac14f",
   "metadata": {},
   "outputs": [],
   "source": [
    "y1 = df['평균기온']\n",
    "y1"
   ]
  },
  {
   "cell_type": "code",
   "execution_count": null,
   "id": "1eba1aca-8dfc-45f2-82df-022366411e48",
   "metadata": {},
   "outputs": [],
   "source": [
    "y2 = df['평균일강수량']\n",
    "y2"
   ]
  },
  {
   "cell_type": "code",
   "execution_count": null,
   "id": "e5cf8dbd-ecaf-474d-8f52-88ced0646ee2",
   "metadata": {},
   "outputs": [],
   "source": [
    "fig = plt.figure(figsize=(8, 6))\n",
    "ax1 = fig.add_subplot()\n",
    "ax2 = ax1.twinx()\n",
    "temp = ax1.plot(x, y1, color='red', label='Temperature')\n",
    "prec = ax2.plot(x, y2, color='blue', label='Precipitation')\n",
    "ax1.set_xticks(x[::100], xlab[::100], rotation=-30)\n",
    "ax1.tick_params(axis='both', labelsize='large')\n",
    "ax1.set_xlabel('Date', fontsize='large')\n",
    "ax1.set_ylabel('Temperature (C)', fontsize='large')\n",
    "ax2.set_ylabel('Precipitation (mm)', fontsize='large')\n",
    "legends = temp + prec\n",
    "legends_label = [l.get_label() for l in legends]\n",
    "ax1.legend(legends, legends_label, loc='upper right')\n",
    "ax1.set_title('Daily Temperature and Precipitation', fontsize='x-large')"
   ]
  }
 ],
 "metadata": {
  "kernelspec": {
   "display_name": "FLHub",
   "language": "python",
   "name": "flhub"
  },
  "language_info": {
   "codemirror_mode": {
    "name": "ipython",
    "version": 3
   },
   "file_extension": ".py",
   "mimetype": "text/x-python",
   "name": "python",
   "nbconvert_exporter": "python",
   "pygments_lexer": "ipython3",
   "version": "3.10.5"
  }
 },
 "nbformat": 4,
 "nbformat_minor": 5
}
