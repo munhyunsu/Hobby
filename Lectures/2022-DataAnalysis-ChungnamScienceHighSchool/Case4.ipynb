{
 "cells": [
  {
   "cell_type": "markdown",
   "id": "b325eff5-801a-457c-b806-31052f8aaed8",
   "metadata": {},
   "source": [
    "# 충남과학고등학교 데이터분석 특강 (3H / 6H)\n",
    "## 예제로 배우는 데이터 분석\n",
    "### 초급: 3H, 중급: 6H (초중급 3H 동일)"
   ]
  },
  {
   "cell_type": "markdown",
   "id": "54f9bb50-a066-4033-979f-89e2fd61d332",
   "metadata": {},
   "source": [
    "## Case 4: 기온 및 강수량 데이터 분석\n",
    "### Question: 대한민국 기온 및 강수량 분석\n",
    "##### [기상자료개발포털](https://data.kma.go.kr/climate/RankState/selectRankStatisticsDivisionList.do?pgmNo=179)"
   ]
  },
  {
   "cell_type": "markdown",
   "id": "37768e1b-5640-401f-86e7-55b6392626c1",
   "metadata": {},
   "source": [
    "### Step 1. Question - 충남 3년 기온 데이터 분석"
   ]
  },
  {
   "cell_type": "markdown",
   "id": "3b4f4897-c81b-41e5-96ab-a6603885c262",
   "metadata": {},
   "source": [
    "#### 도구 불러오기"
   ]
  },
  {
   "cell_type": "code",
   "execution_count": 1,
   "id": "7ac8b841-96a2-48c3-85ee-7dba9110c0f7",
   "metadata": {},
   "outputs": [],
   "source": [
    "import csv\n",
    "import statistics\n",
    "\n",
    "import numpy as np\n",
    "import pandas as pd\n",
    "import matplotlib as mpl\n",
    "import matplotlib.pyplot as plt\n",
    "%matplotlib inline"
   ]
  },
  {
   "cell_type": "markdown",
   "id": "79ed2638-af55-4281-a773-6afa81e25ec6",
   "metadata": {},
   "source": [
    "#### 2019. 01. 01. ~ 2021. 12. 31. 일일 기온 데이터"
   ]
  },
  {
   "cell_type": "code",
   "execution_count": 2,
   "id": "b3122c9e-1eae-4249-871d-955ba6ab994a",
   "metadata": {},
   "outputs": [
    {
     "data": {
      "text/html": [
       "<div>\n",
       "<style scoped>\n",
       "    .dataframe tbody tr th:only-of-type {\n",
       "        vertical-align: middle;\n",
       "    }\n",
       "\n",
       "    .dataframe tbody tr th {\n",
       "        vertical-align: top;\n",
       "    }\n",
       "\n",
       "    .dataframe thead th {\n",
       "        text-align: right;\n",
       "    }\n",
       "</style>\n",
       "<table border=\"1\" class=\"dataframe\">\n",
       "  <thead>\n",
       "    <tr style=\"text-align: right;\">\n",
       "      <th></th>\n",
       "      <th>일시</th>\n",
       "      <th>평균기온</th>\n",
       "    </tr>\n",
       "  </thead>\n",
       "  <tbody>\n",
       "    <tr>\n",
       "      <th>0</th>\n",
       "      <td>2021-12-31</td>\n",
       "      <td>-4.9</td>\n",
       "    </tr>\n",
       "    <tr>\n",
       "      <th>1</th>\n",
       "      <td>2021-12-30</td>\n",
       "      <td>-1.2</td>\n",
       "    </tr>\n",
       "    <tr>\n",
       "      <th>2</th>\n",
       "      <td>2021-12-29</td>\n",
       "      <td>2.4</td>\n",
       "    </tr>\n",
       "    <tr>\n",
       "      <th>3</th>\n",
       "      <td>2021-12-28</td>\n",
       "      <td>-0.7</td>\n",
       "    </tr>\n",
       "    <tr>\n",
       "      <th>4</th>\n",
       "      <td>2021-12-27</td>\n",
       "      <td>-4.9</td>\n",
       "    </tr>\n",
       "    <tr>\n",
       "      <th>...</th>\n",
       "      <td>...</td>\n",
       "      <td>...</td>\n",
       "    </tr>\n",
       "    <tr>\n",
       "      <th>1091</th>\n",
       "      <td>2019-01-05</td>\n",
       "      <td>-2.0</td>\n",
       "    </tr>\n",
       "    <tr>\n",
       "      <th>1092</th>\n",
       "      <td>2019-01-04</td>\n",
       "      <td>-2.9</td>\n",
       "    </tr>\n",
       "    <tr>\n",
       "      <th>1093</th>\n",
       "      <td>2019-01-03</td>\n",
       "      <td>-4.1</td>\n",
       "    </tr>\n",
       "    <tr>\n",
       "      <th>1094</th>\n",
       "      <td>2019-01-02</td>\n",
       "      <td>-4.5</td>\n",
       "    </tr>\n",
       "    <tr>\n",
       "      <th>1095</th>\n",
       "      <td>2019-01-01</td>\n",
       "      <td>-2.8</td>\n",
       "    </tr>\n",
       "  </tbody>\n",
       "</table>\n",
       "<p>1096 rows × 2 columns</p>\n",
       "</div>"
      ],
      "text/plain": [
       "              일시  평균기온\n",
       "0     2021-12-31  -4.9\n",
       "1     2021-12-30  -1.2\n",
       "2     2021-12-29   2.4\n",
       "3     2021-12-28  -0.7\n",
       "4     2021-12-27  -4.9\n",
       "...          ...   ...\n",
       "1091  2019-01-05  -2.0\n",
       "1092  2019-01-04  -2.9\n",
       "1093  2019-01-03  -4.1\n",
       "1094  2019-01-02  -4.5\n",
       "1095  2019-01-01  -2.8\n",
       "\n",
       "[1096 rows x 2 columns]"
      ]
     },
     "execution_count": 2,
     "metadata": {},
     "output_type": "execute_result"
    }
   ],
   "source": [
    "df1 = pd.read_csv('datasets/temperature/temperature.csv')\n",
    "df1"
   ]
  },
  {
   "cell_type": "markdown",
   "id": "c61dba8c-6d4a-4040-b13d-2085dca6d9cf",
   "metadata": {},
   "source": [
    "#### 일일 기온 그래프 시각화"
   ]
  },
  {
   "cell_type": "code",
   "execution_count": 10,
   "id": "d42dac3d-b29d-4a2a-90d6-05e83b7da466",
   "metadata": {},
   "outputs": [
    {
     "data": {
      "text/plain": [
       "0       2021-12-31\n",
       "1       2021-12-30\n",
       "2       2021-12-29\n",
       "3       2021-12-28\n",
       "4       2021-12-27\n",
       "           ...    \n",
       "1091    2019-01-05\n",
       "1092    2019-01-04\n",
       "1093    2019-01-03\n",
       "1094    2019-01-02\n",
       "1095    2019-01-01\n",
       "Name: 일시, Length: 1096, dtype: object"
      ]
     },
     "execution_count": 10,
     "metadata": {},
     "output_type": "execute_result"
    }
   ],
   "source": [
    "xlab = df1['일시']\n",
    "xlab"
   ]
  },
  {
   "cell_type": "code",
   "execution_count": 11,
   "id": "860ae22c-50aa-4632-8c00-af7873d38448",
   "metadata": {},
   "outputs": [
    {
     "data": {
      "text/plain": [
       "0      -4.9\n",
       "1      -1.2\n",
       "2       2.4\n",
       "3      -0.7\n",
       "4      -4.9\n",
       "       ... \n",
       "1091   -2.0\n",
       "1092   -2.9\n",
       "1093   -4.1\n",
       "1094   -4.5\n",
       "1095   -2.8\n",
       "Name: 평균기온, Length: 1096, dtype: float64"
      ]
     },
     "execution_count": 11,
     "metadata": {},
     "output_type": "execute_result"
    }
   ],
   "source": [
    "y = df1['평균기온']\n",
    "y"
   ]
  },
  {
   "cell_type": "code",
   "execution_count": 12,
   "id": "bb7a6364-3051-466e-909e-0aa70e1d968a",
   "metadata": {},
   "outputs": [
    {
     "data": {
      "text/plain": [
       "1095    2019-01-01\n",
       "1094    2019-01-02\n",
       "1093    2019-01-03\n",
       "1092    2019-01-04\n",
       "1091    2019-01-05\n",
       "           ...    \n",
       "4       2021-12-27\n",
       "3       2021-12-28\n",
       "2       2021-12-29\n",
       "1       2021-12-30\n",
       "0       2021-12-31\n",
       "Name: 일시, Length: 1096, dtype: object"
      ]
     },
     "execution_count": 12,
     "metadata": {},
     "output_type": "execute_result"
    }
   ],
   "source": [
    "xlab = xlab[::-1]\n",
    "xlab"
   ]
  },
  {
   "cell_type": "code",
   "execution_count": 13,
   "id": "72fb497a-250e-4196-b0b8-dda1a31dc0ec",
   "metadata": {},
   "outputs": [
    {
     "data": {
      "text/plain": [
       "1095   -2.8\n",
       "1094   -4.5\n",
       "1093   -4.1\n",
       "1092   -2.9\n",
       "1091   -2.0\n",
       "       ... \n",
       "4      -4.9\n",
       "3      -0.7\n",
       "2       2.4\n",
       "1      -1.2\n",
       "0      -4.9\n",
       "Name: 평균기온, Length: 1096, dtype: float64"
      ]
     },
     "execution_count": 13,
     "metadata": {},
     "output_type": "execute_result"
    }
   ],
   "source": [
    "y = y[::-1]\n",
    "y"
   ]
  },
  {
   "cell_type": "code",
   "execution_count": 31,
   "id": "66746dbd-1003-4fcd-bfe5-e3c55eeb843c",
   "metadata": {},
   "outputs": [
    {
     "data": {
      "text/plain": [
       "range(0, 1096)"
      ]
     },
     "execution_count": 31,
     "metadata": {},
     "output_type": "execute_result"
    }
   ],
   "source": [
    "x = range(len(y))\n",
    "x"
   ]
  },
  {
   "cell_type": "code",
   "execution_count": 34,
   "id": "44e6fcbd-b7f8-450d-88a0-b5525cb06e4b",
   "metadata": {},
   "outputs": [
    {
     "data": {
      "text/plain": [
       "Text(0.5, 1.0, 'Daily Temperature')"
      ]
     },
     "execution_count": 34,
     "metadata": {},
     "output_type": "execute_result"
    },
    {
     "data": {
      "image/png": "[encoded data removed]",
      "text/plain": [
       "<Figure size 576x432 with 1 Axes>"
      ]
     },
     "metadata": {
      "needs_background": "light"
     },
     "output_type": "display_data"
    }
   ],
   "source": [
    "fig = plt.figure(figsize=(8, 6))\n",
    "ax = fig.add_subplot()\n",
    "ax.plot(x, y)\n",
    "ax.set_xticks(x[::100], xlab[::100], rotation=-30)\n",
    "ax.tick_params(axis='both', labelsize='large')\n",
    "ax.set_xlabel('Date', fontsize='large')\n",
    "ax.set_ylabel('Temperature (C)', fontsize='large')\n",
    "ax.set_title('Daily Temperature', fontsize='x-large')"
   ]
  },
  {
   "cell_type": "markdown",
   "id": "a119593c-4d91-4399-954a-e6de2fdf25d7",
   "metadata": {},
   "source": [
    "### Step 2. Question - 충남 3년 강수량 데이터 분석"
   ]
  },
  {
   "cell_type": "markdown",
   "id": "7d81e921-570f-458c-85f2-9c632b60e8af",
   "metadata": {},
   "source": [
    "#### 2019. 01. 01. ~ 2021. 12. 31. 일일 강수량 데이터"
   ]
  },
  {
   "cell_type": "code",
   "execution_count": 3,
   "id": "9ed2681e-764e-4595-9f49-e2a84bdbd78e",
   "metadata": {},
   "outputs": [
    {
     "data": {
      "text/html": [
       "<div>\n",
       "<style scoped>\n",
       "    .dataframe tbody tr th:only-of-type {\n",
       "        vertical-align: middle;\n",
       "    }\n",
       "\n",
       "    .dataframe tbody tr th {\n",
       "        vertical-align: top;\n",
       "    }\n",
       "\n",
       "    .dataframe thead th {\n",
       "        text-align: right;\n",
       "    }\n",
       "</style>\n",
       "<table border=\"1\" class=\"dataframe\">\n",
       "  <thead>\n",
       "    <tr style=\"text-align: right;\">\n",
       "      <th></th>\n",
       "      <th>일시</th>\n",
       "      <th>평균일강수량</th>\n",
       "    </tr>\n",
       "  </thead>\n",
       "  <tbody>\n",
       "    <tr>\n",
       "      <th>0</th>\n",
       "      <td>2021-12-31</td>\n",
       "      <td>0.0</td>\n",
       "    </tr>\n",
       "    <tr>\n",
       "      <th>1</th>\n",
       "      <td>2021-12-30</td>\n",
       "      <td>1.2</td>\n",
       "    </tr>\n",
       "    <tr>\n",
       "      <th>2</th>\n",
       "      <td>2021-12-29</td>\n",
       "      <td>0.1</td>\n",
       "    </tr>\n",
       "    <tr>\n",
       "      <th>3</th>\n",
       "      <td>2021-12-28</td>\n",
       "      <td>0.0</td>\n",
       "    </tr>\n",
       "    <tr>\n",
       "      <th>4</th>\n",
       "      <td>2021-12-27</td>\n",
       "      <td>0.7</td>\n",
       "    </tr>\n",
       "    <tr>\n",
       "      <th>...</th>\n",
       "      <td>...</td>\n",
       "      <td>...</td>\n",
       "    </tr>\n",
       "    <tr>\n",
       "      <th>1091</th>\n",
       "      <td>2019-01-05</td>\n",
       "      <td>0.0</td>\n",
       "    </tr>\n",
       "    <tr>\n",
       "      <th>1092</th>\n",
       "      <td>2019-01-04</td>\n",
       "      <td>0.0</td>\n",
       "    </tr>\n",
       "    <tr>\n",
       "      <th>1093</th>\n",
       "      <td>2019-01-03</td>\n",
       "      <td>0.0</td>\n",
       "    </tr>\n",
       "    <tr>\n",
       "      <th>1094</th>\n",
       "      <td>2019-01-02</td>\n",
       "      <td>0.0</td>\n",
       "    </tr>\n",
       "    <tr>\n",
       "      <th>1095</th>\n",
       "      <td>2019-01-01</td>\n",
       "      <td>0.5</td>\n",
       "    </tr>\n",
       "  </tbody>\n",
       "</table>\n",
       "<p>1096 rows × 2 columns</p>\n",
       "</div>"
      ],
      "text/plain": [
       "              일시  평균일강수량\n",
       "0     2021-12-31     0.0\n",
       "1     2021-12-30     1.2\n",
       "2     2021-12-29     0.1\n",
       "3     2021-12-28     0.0\n",
       "4     2021-12-27     0.7\n",
       "...          ...     ...\n",
       "1091  2019-01-05     0.0\n",
       "1092  2019-01-04     0.0\n",
       "1093  2019-01-03     0.0\n",
       "1094  2019-01-02     0.0\n",
       "1095  2019-01-01     0.5\n",
       "\n",
       "[1096 rows x 2 columns]"
      ]
     },
     "execution_count": 3,
     "metadata": {},
     "output_type": "execute_result"
    }
   ],
   "source": [
    "df2 = pd.read_csv('datasets/temperature/rainfall.csv')\n",
    "df2"
   ]
  },
  {
   "cell_type": "markdown",
   "id": "bc8f7a91-fd9c-4718-a8f8-7d642e811d2e",
   "metadata": {},
   "source": [
    "#### 일일 강수량 그래프 시각화"
   ]
  },
  {
   "cell_type": "code",
   "execution_count": 23,
   "id": "f93de787-4b32-45f9-8b77-1036face710e",
   "metadata": {},
   "outputs": [
    {
     "data": {
      "text/plain": [
       "0       2021-12-31\n",
       "1       2021-12-30\n",
       "2       2021-12-29\n",
       "3       2021-12-28\n",
       "4       2021-12-27\n",
       "           ...    \n",
       "1091    2019-01-05\n",
       "1092    2019-01-04\n",
       "1093    2019-01-03\n",
       "1094    2019-01-02\n",
       "1095    2019-01-01\n",
       "Name: 일시, Length: 1096, dtype: object"
      ]
     },
     "execution_count": 23,
     "metadata": {},
     "output_type": "execute_result"
    }
   ],
   "source": [
    "xlab = df2['일시']\n",
    "xlab"
   ]
  },
  {
   "cell_type": "code",
   "execution_count": 24,
   "id": "7f6bd2ff-72a0-40fd-96d8-d622708cfdfe",
   "metadata": {},
   "outputs": [
    {
     "data": {
      "text/plain": [
       "0       0.0\n",
       "1       1.2\n",
       "2       0.1\n",
       "3       0.0\n",
       "4       0.7\n",
       "       ... \n",
       "1091    0.0\n",
       "1092    0.0\n",
       "1093    0.0\n",
       "1094    0.0\n",
       "1095    0.5\n",
       "Name: 평균일강수량, Length: 1096, dtype: float64"
      ]
     },
     "execution_count": 24,
     "metadata": {},
     "output_type": "execute_result"
    }
   ],
   "source": [
    "y = df2['평균일강수량']\n",
    "y"
   ]
  },
  {
   "cell_type": "code",
   "execution_count": 25,
   "id": "0ba50c35-2744-4e77-8562-63e5c788204e",
   "metadata": {},
   "outputs": [
    {
     "data": {
      "text/plain": [
       "1095    2019-01-01\n",
       "1094    2019-01-02\n",
       "1093    2019-01-03\n",
       "1092    2019-01-04\n",
       "1091    2019-01-05\n",
       "           ...    \n",
       "4       2021-12-27\n",
       "3       2021-12-28\n",
       "2       2021-12-29\n",
       "1       2021-12-30\n",
       "0       2021-12-31\n",
       "Name: 일시, Length: 1096, dtype: object"
      ]
     },
     "execution_count": 25,
     "metadata": {},
     "output_type": "execute_result"
    }
   ],
   "source": [
    "xlab = xlab[::-1]\n",
    "xlab"
   ]
  },
  {
   "cell_type": "code",
   "execution_count": 26,
   "id": "b930f82f-0a3d-4384-991c-dc94cb5dd5f1",
   "metadata": {},
   "outputs": [
    {
     "data": {
      "text/plain": [
       "1095    0.5\n",
       "1094    0.0\n",
       "1093    0.0\n",
       "1092    0.0\n",
       "1091    0.0\n",
       "       ... \n",
       "4       0.7\n",
       "3       0.0\n",
       "2       0.1\n",
       "1       1.2\n",
       "0       0.0\n",
       "Name: 평균일강수량, Length: 1096, dtype: float64"
      ]
     },
     "execution_count": 26,
     "metadata": {},
     "output_type": "execute_result"
    }
   ],
   "source": [
    "y = y[::-1]\n",
    "y"
   ]
  },
  {
   "cell_type": "code",
   "execution_count": 32,
   "id": "bb6a8690-b4c0-4cfe-be56-2486d206f219",
   "metadata": {},
   "outputs": [
    {
     "data": {
      "text/plain": [
       "range(0, 1096)"
      ]
     },
     "execution_count": 32,
     "metadata": {},
     "output_type": "execute_result"
    }
   ],
   "source": [
    "x = range(len(y))\n",
    "x"
   ]
  },
  {
   "cell_type": "code",
   "execution_count": 33,
   "id": "69c084d6-e4d5-4b6a-b446-4328e3cb5b12",
   "metadata": {},
   "outputs": [
    {
     "data": {
      "text/plain": [
       "Text(0.5, 1.0, 'Daily Precipitation')"
      ]
     },
     "execution_count": 33,
     "metadata": {},
     "output_type": "execute_result"
    },
    {
     "data": {
      "image/png": "[encoded data removed]",
      "text/plain": [
       "<Figure size 576x432 with 1 Axes>"
      ]
     },
     "metadata": {
      "needs_background": "light"
     },
     "output_type": "display_data"
    }
   ],
   "source": [
    "fig = plt.figure(figsize=(8, 6))\n",
    "ax = fig.add_subplot()\n",
    "ax.plot(x, y)\n",
    "ax.set_xticks(x[::100], xlab[::100], rotation=-30)\n",
    "ax.tick_params(axis='both', labelsize='large')\n",
    "ax.set_xlabel('Date', fontsize='large')\n",
    "ax.set_ylabel('Precipitation (mm)', fontsize='large')\n",
    "ax.set_title('Daily Precipitation', fontsize='x-large')"
   ]
  },
  {
   "cell_type": "code",
   "execution_count": null,
   "id": "2530576e-0353-41fd-bbdb-4030f5f21b69",
   "metadata": {},
   "outputs": [],
   "source": [
    "temperature = [26.6, 28.8, 29.3, 29.3, 29.2, 29.5, 28.2, 25.8, 26.9, 29.2]\n",
    "temperature"
   ]
  },
  {
   "cell_type": "markdown",
   "id": "8eb98ec9-f17a-4ba0-8525-7883f4dd8b4e",
   "metadata": {},
   "source": [
    "#### 시각화 데이터 준비"
   ]
  },
  {
   "cell_type": "code",
   "execution_count": null,
   "id": "87f25ec9-ff7f-4ce1-9699-15f24eeeaea0",
   "metadata": {},
   "outputs": [],
   "source": [
    "x = list(range(0, len(temperature)))\n",
    "x"
   ]
  },
  {
   "cell_type": "code",
   "execution_count": null,
   "id": "0be20d41-fe7e-4c40-8ec0-91b500342b40",
   "metadata": {},
   "outputs": [],
   "source": [
    "y = temperature\n",
    "y"
   ]
  },
  {
   "cell_type": "code",
   "execution_count": null,
   "id": "535e4c34-c0b8-41c5-822e-d07aba4e1619",
   "metadata": {},
   "outputs": [],
   "source": [
    "xlab = ['2022-07-01', '2022-07-02', '2022-07-03', '2022-07-04', '2022-07-05', \n",
    "        '2022-07-06', '2022-07-07', '2022-07-08', '2022-07-09', '2022-07-10']\n",
    "xlab"
   ]
  },
  {
   "cell_type": "markdown",
   "id": "1fbfa352-91ce-45d5-a6d9-8ea697d26703",
   "metadata": {},
   "source": [
    "#### 시각화"
   ]
  },
  {
   "cell_type": "code",
   "execution_count": null,
   "id": "3490bd71-29ec-43f8-8c02-2727df3a004d",
   "metadata": {},
   "outputs": [],
   "source": [
    "fig = plt.figure(figsize=(8, 6))\n",
    "ax = fig.add_subplot()\n",
    "ax.plot(x, y)\n",
    "ax.set_xticks(x, xlab, rotation=-30)\n",
    "ax.tick_params(axis='both', labelsize='large')\n",
    "ax.set_xlabel('Date', fontsize='large')\n",
    "ax.set_ylabel('Temperature', fontsize='large')\n",
    "ax.set_title('Daily Temperature', fontsize='x-large')"
   ]
  },
  {
   "cell_type": "markdown",
   "id": "89da812b-faf7-4b9c-a1e7-05aa03754500",
   "metadata": {},
   "source": [
    "### Step 2. Question - 공주시 고등학교 학생 수 비교 시각화"
   ]
  },
  {
   "cell_type": "markdown",
   "id": "c2f1d4ba-e9ea-442d-b09a-0425b649c13c",
   "metadata": {},
   "source": [
    "#### 도구 불러오기"
   ]
  },
  {
   "cell_type": "code",
   "execution_count": null,
   "id": "83a28c6c-3157-4d21-9a57-689935034925",
   "metadata": {},
   "outputs": [],
   "source": [
    "import statistics\n",
    "\n",
    "import matplotlib as mpl\n",
    "import matplotlib.pyplot as plt\n",
    "%matplotlib inline"
   ]
  },
  {
   "cell_type": "markdown",
   "id": "0d5b5f68-e5a3-4556-bd9c-e2727a99689d",
   "metadata": {},
   "source": [
    "#### 공주시 고등학교 학생 수"
   ]
  },
  {
   "cell_type": "code",
   "execution_count": null,
   "id": "a301300b-5963-4fb1-9d8b-2dc297e74026",
   "metadata": {},
   "outputs": [],
   "source": [
    "student = {'Year 1': [167, 148, 156, 64, 86, 145, 122, 69, 77, 130],\n",
    "           'Year 2': [167, 142, 163, 62, 66, 129, 114, 77, 72, 127],\n",
    "           'Year 3': [166, 146, 161, 74, 96, 149, 130, 60, 47, 130],\n",
    "           'Special': [5, 0, 4, 0, 25, 2, 0, 0, 0, 0]}\n",
    "student"
   ]
  },
  {
   "cell_type": "markdown",
   "id": "1a960a20-0734-4980-9972-d619a7a2a279",
   "metadata": {},
   "source": [
    "#### 시각화 데이터 준비"
   ]
  },
  {
   "cell_type": "code",
   "execution_count": null,
   "id": "44fb4fe2-5b19-4dc9-a259-d09cecdf2225",
   "metadata": {},
   "outputs": [],
   "source": [
    "xlab = []\n",
    "y = []\n",
    "print('공주시 고등학교 1~3학년 및 특수학급 학생 수 평균')\n",
    "for key, value in student.items():\n",
    "    print(f'{key}: {statistics.mean(value)}')\n",
    "    xlab.append(key)\n",
    "    y.append(statistics.mean(value))\n",
    "x = list(range(len(xlab)))\n",
    "color = ['blue', 'green', 'yellow', 'brown']\n",
    "print(f'x: {x}')\n",
    "print(f'xlab: {xlab}')\n",
    "print(f'color: {color}')\n",
    "print(f'y: {y}')"
   ]
  },
  {
   "cell_type": "markdown",
   "id": "a5eff276-05c2-409c-be61-788084c7351a",
   "metadata": {},
   "source": [
    "#### 시각화"
   ]
  },
  {
   "cell_type": "code",
   "execution_count": null,
   "id": "42f91137-e96d-4f4f-9502-5c4ecd9f5aa9",
   "metadata": {},
   "outputs": [],
   "source": [
    "fig = plt.figure(figsize=(8, 6))\n",
    "ax = fig.add_subplot()\n",
    "ax.bar(x, y, color=color, tick_label=xlab)\n",
    "ax.tick_params(axis='both', labelsize='large')\n",
    "ax.set_title('Average number of students per grade level', fontsize='x-large')"
   ]
  }
 ],
 "metadata": {
  "kernelspec": {
   "display_name": "FLHub",
   "language": "python",
   "name": "flhub"
  },
  "language_info": {
   "codemirror_mode": {
    "name": "ipython",
    "version": 3
   },
   "file_extension": ".py",
   "mimetype": "text/x-python",
   "name": "python",
   "nbconvert_exporter": "python",
   "pygments_lexer": "ipython3",
   "version": "3.10.5"
  }
 },
 "nbformat": 4,
 "nbformat_minor": 5
}
