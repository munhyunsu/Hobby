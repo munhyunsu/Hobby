{
 "cells": [
  {
   "cell_type": "markdown",
   "id": "0e4a5f96",
   "metadata": {},
   "source": [
    "# 타슈 데이터 분석\n",
    "\n",
    "## 빅데이터: 공유 자전거 데이터 분석하기\n",
    "\n",
    "### 이영석, 문현수"
   ]
  },
  {
   "cell_type": "code",
   "execution_count": 1,
   "id": "dfff3d67",
   "metadata": {},
   "outputs": [],
   "source": [
    "import datetime\n",
    "\n",
    "import numpy as np\n",
    "import pandas as pd\n",
    "\n",
    "import matplotlib as mpl\n",
    "import matplotlib.pyplot as plt\n",
    "%matplotlib inline"
   ]
  },
  {
   "cell_type": "code",
   "execution_count": 2,
   "id": "df96b273",
   "metadata": {},
   "outputs": [
    {
     "data": {
      "text/html": [
       "<div>\n",
       "<style scoped>\n",
       "    .dataframe tbody tr th:only-of-type {\n",
       "        vertical-align: middle;\n",
       "    }\n",
       "\n",
       "    .dataframe tbody tr th {\n",
       "        vertical-align: top;\n",
       "    }\n",
       "\n",
       "    .dataframe thead th {\n",
       "        text-align: right;\n",
       "    }\n",
       "</style>\n",
       "<table border=\"1\" class=\"dataframe\">\n",
       "  <thead>\n",
       "    <tr style=\"text-align: right;\">\n",
       "      <th></th>\n",
       "      <th>대여스테이션</th>\n",
       "      <th>대여일시</th>\n",
       "      <th>반납스테이션</th>\n",
       "      <th>반납일시</th>\n",
       "      <th>이동거리</th>\n",
       "      <th>회원구분</th>\n",
       "    </tr>\n",
       "  </thead>\n",
       "  <tbody>\n",
       "    <tr>\n",
       "      <th>0</th>\n",
       "      <td>46</td>\n",
       "      <td>2016-01-01 05:00:15</td>\n",
       "      <td>17</td>\n",
       "      <td>2016-01-01 05:04:51</td>\n",
       "      <td>380.0</td>\n",
       "      <td>0</td>\n",
       "    </tr>\n",
       "    <tr>\n",
       "      <th>1</th>\n",
       "      <td>152</td>\n",
       "      <td>2016-01-01 05:06:29</td>\n",
       "      <td>82</td>\n",
       "      <td>2016-01-01 05:37:53</td>\n",
       "      <td>3190.0</td>\n",
       "      <td>2</td>\n",
       "    </tr>\n",
       "    <tr>\n",
       "      <th>2</th>\n",
       "      <td>133</td>\n",
       "      <td>2016-01-01 05:24:16</td>\n",
       "      <td>172</td>\n",
       "      <td>2016-01-01 05:56:47</td>\n",
       "      <td>2070.0</td>\n",
       "      <td>2</td>\n",
       "    </tr>\n",
       "    <tr>\n",
       "      <th>3</th>\n",
       "      <td>133</td>\n",
       "      <td>2016-01-01 05:29:19</td>\n",
       "      <td>172</td>\n",
       "      <td>2016-01-01 05:57:34</td>\n",
       "      <td>2080.0</td>\n",
       "      <td>2</td>\n",
       "    </tr>\n",
       "    <tr>\n",
       "      <th>4</th>\n",
       "      <td>39</td>\n",
       "      <td>2016-01-01 05:32:44</td>\n",
       "      <td>57</td>\n",
       "      <td>2016-01-01 05:40:33</td>\n",
       "      <td>860.0</td>\n",
       "      <td>0</td>\n",
       "    </tr>\n",
       "    <tr>\n",
       "      <th>...</th>\n",
       "      <td>...</td>\n",
       "      <td>...</td>\n",
       "      <td>...</td>\n",
       "      <td>...</td>\n",
       "      <td>...</td>\n",
       "      <td>...</td>\n",
       "    </tr>\n",
       "    <tr>\n",
       "      <th>2791301</th>\n",
       "      <td>87</td>\n",
       "      <td>2020-12-31 23:38:50</td>\n",
       "      <td>118</td>\n",
       "      <td>2021-01-01 00:21:39</td>\n",
       "      <td>0.0</td>\n",
       "      <td>2</td>\n",
       "    </tr>\n",
       "    <tr>\n",
       "      <th>2791302</th>\n",
       "      <td>182</td>\n",
       "      <td>2020-12-31 23:38:56</td>\n",
       "      <td>182</td>\n",
       "      <td>2020-12-31 23:39:37</td>\n",
       "      <td>0.0</td>\n",
       "      <td>2</td>\n",
       "    </tr>\n",
       "    <tr>\n",
       "      <th>2791303</th>\n",
       "      <td>42</td>\n",
       "      <td>2020-12-31 23:45:59</td>\n",
       "      <td>83</td>\n",
       "      <td>2021-01-01 00:12:15</td>\n",
       "      <td>2470.0</td>\n",
       "      <td>0</td>\n",
       "    </tr>\n",
       "    <tr>\n",
       "      <th>2791304</th>\n",
       "      <td>115</td>\n",
       "      <td>2020-12-31 23:51:32</td>\n",
       "      <td>196</td>\n",
       "      <td>2021-01-01 00:15:02</td>\n",
       "      <td>1730.0</td>\n",
       "      <td>0</td>\n",
       "    </tr>\n",
       "    <tr>\n",
       "      <th>2791305</th>\n",
       "      <td>60</td>\n",
       "      <td>2020-12-31 23:56:03</td>\n",
       "      <td>108</td>\n",
       "      <td>2021-01-01 00:12:37</td>\n",
       "      <td>1590.0</td>\n",
       "      <td>2</td>\n",
       "    </tr>\n",
       "  </tbody>\n",
       "</table>\n",
       "<p>2768374 rows × 6 columns</p>\n",
       "</div>"
      ],
      "text/plain": [
       "         대여스테이션                대여일시  반납스테이션                반납일시    이동거리  회원구분\n",
       "0            46 2016-01-01 05:00:15      17 2016-01-01 05:04:51   380.0     0\n",
       "1           152 2016-01-01 05:06:29      82 2016-01-01 05:37:53  3190.0     2\n",
       "2           133 2016-01-01 05:24:16     172 2016-01-01 05:56:47  2070.0     2\n",
       "3           133 2016-01-01 05:29:19     172 2016-01-01 05:57:34  2080.0     2\n",
       "4            39 2016-01-01 05:32:44      57 2016-01-01 05:40:33   860.0     0\n",
       "...         ...                 ...     ...                 ...     ...   ...\n",
       "2791301      87 2020-12-31 23:38:50     118 2021-01-01 00:21:39     0.0     2\n",
       "2791302     182 2020-12-31 23:38:56     182 2020-12-31 23:39:37     0.0     2\n",
       "2791303      42 2020-12-31 23:45:59      83 2021-01-01 00:12:15  2470.0     0\n",
       "2791304     115 2020-12-31 23:51:32     196 2021-01-01 00:15:02  1730.0     0\n",
       "2791305      60 2020-12-31 23:56:03     108 2021-01-01 00:12:37  1590.0     2\n",
       "\n",
       "[2768374 rows x 6 columns]"
      ]
     },
     "execution_count": 2,
     "metadata": {},
     "output_type": "execute_result"
    }
   ],
   "source": [
    "df_rent = pd.read_pickle('datasets/tashu/tashu_dataset-rental_history.pkl')\n",
    "df_rent['대여일시'] = pd.to_datetime(df_rent['대여일시'], format='%Y%m%d%H%M%S')\n",
    "df_rent['반납일시'] = pd.to_datetime(df_rent['반납일시'], format='%Y%m%d%H%M%S')\n",
    "df_rent"
   ]
  },
  {
   "cell_type": "code",
   "execution_count": 3,
   "id": "51602f50",
   "metadata": {},
   "outputs": [
    {
     "data": {
      "text/plain": [
       "대여스테이션             int16\n",
       "대여일시      datetime64[ns]\n",
       "반납스테이션             int16\n",
       "반납일시      datetime64[ns]\n",
       "이동거리             float32\n",
       "회원구분                int8\n",
       "dtype: object"
      ]
     },
     "execution_count": 3,
     "metadata": {},
     "output_type": "execute_result"
    }
   ],
   "source": [
    "df_rent.dtypes"
   ]
  },
  {
   "cell_type": "code",
   "execution_count": 4,
   "id": "35f982b9",
   "metadata": {},
   "outputs": [
    {
     "data": {
      "text/html": [
       "<div>\n",
       "<style scoped>\n",
       "    .dataframe tbody tr th:only-of-type {\n",
       "        vertical-align: middle;\n",
       "    }\n",
       "\n",
       "    .dataframe tbody tr th {\n",
       "        vertical-align: top;\n",
       "    }\n",
       "\n",
       "    .dataframe thead th {\n",
       "        text-align: right;\n",
       "    }\n",
       "</style>\n",
       "<table border=\"1\" class=\"dataframe\">\n",
       "  <thead>\n",
       "    <tr style=\"text-align: right;\">\n",
       "      <th></th>\n",
       "      <th>Station 스테이션/성명</th>\n",
       "      <th>위치</th>\n",
       "      <th>광역시도코드</th>\n",
       "      <th>광역시도명</th>\n",
       "      <th>시군구코드</th>\n",
       "      <th>시군구명</th>\n",
       "      <th>법정동코드</th>\n",
       "      <th>법정동명</th>\n",
       "      <th>행정동코드</th>\n",
       "      <th>행정동명</th>\n",
       "    </tr>\n",
       "    <tr>\n",
       "      <th>연번</th>\n",
       "      <th></th>\n",
       "      <th></th>\n",
       "      <th></th>\n",
       "      <th></th>\n",
       "      <th></th>\n",
       "      <th></th>\n",
       "      <th></th>\n",
       "      <th></th>\n",
       "      <th></th>\n",
       "      <th></th>\n",
       "    </tr>\n",
       "  </thead>\n",
       "  <tbody>\n",
       "    <tr>\n",
       "      <th>1</th>\n",
       "      <td>무역전시관입구(택시승강장)</td>\n",
       "      <td>대전광역시 유성구 도룡동 3-8</td>\n",
       "      <td>30</td>\n",
       "      <td>대전광역시</td>\n",
       "      <td>30200</td>\n",
       "      <td>유성구</td>\n",
       "      <td>3020012700</td>\n",
       "      <td>도룡동</td>\n",
       "      <td>3020055000</td>\n",
       "      <td>신성동</td>\n",
       "    </tr>\n",
       "    <tr>\n",
       "      <th>2</th>\n",
       "      <td>대전컨벤션센터</td>\n",
       "      <td>대전광역시 유성구 도룡동 4-19</td>\n",
       "      <td>30</td>\n",
       "      <td>대전광역시</td>\n",
       "      <td>30200</td>\n",
       "      <td>유성구</td>\n",
       "      <td>3020012700</td>\n",
       "      <td>도룡동</td>\n",
       "      <td>3020055000</td>\n",
       "      <td>신성동</td>\n",
       "    </tr>\n",
       "    <tr>\n",
       "      <th>3</th>\n",
       "      <td>한밭수목원1</td>\n",
       "      <td>대전광역시 서구 만년동 396</td>\n",
       "      <td>30</td>\n",
       "      <td>대전광역시</td>\n",
       "      <td>30170</td>\n",
       "      <td>서구</td>\n",
       "      <td>3017012800</td>\n",
       "      <td>만년동</td>\n",
       "      <td>3017065000</td>\n",
       "      <td>만년동</td>\n",
       "    </tr>\n",
       "    <tr>\n",
       "      <th>4</th>\n",
       "      <td>초원아파트(104동 버스정류장)</td>\n",
       "      <td>대전광역시 서구 만년동 401</td>\n",
       "      <td>30</td>\n",
       "      <td>대전광역시</td>\n",
       "      <td>30170</td>\n",
       "      <td>서구</td>\n",
       "      <td>3017012800</td>\n",
       "      <td>만년동</td>\n",
       "      <td>3017065000</td>\n",
       "      <td>만년동</td>\n",
       "    </tr>\n",
       "    <tr>\n",
       "      <th>5</th>\n",
       "      <td>둔산대공원 입구(버스정류장)</td>\n",
       "      <td>대전광역시 서구 둔산2동 1521-10</td>\n",
       "      <td>30</td>\n",
       "      <td>대전광역시</td>\n",
       "      <td>30170</td>\n",
       "      <td>서구</td>\n",
       "      <td>3017011200</td>\n",
       "      <td>둔산동</td>\n",
       "      <td>3017064000</td>\n",
       "      <td>둔산2동</td>\n",
       "    </tr>\n",
       "    <tr>\n",
       "      <th>...</th>\n",
       "      <td>...</td>\n",
       "      <td>...</td>\n",
       "      <td>...</td>\n",
       "      <td>...</td>\n",
       "      <td>...</td>\n",
       "      <td>...</td>\n",
       "      <td>...</td>\n",
       "      <td>...</td>\n",
       "      <td>...</td>\n",
       "      <td>...</td>\n",
       "    </tr>\n",
       "    <tr>\n",
       "      <th>258</th>\n",
       "      <td>천문대입구</td>\n",
       "      <td>대전광역시 유성구 신성동 458</td>\n",
       "      <td>30</td>\n",
       "      <td>대전광역시</td>\n",
       "      <td>30200</td>\n",
       "      <td>유성구</td>\n",
       "      <td>3020012500</td>\n",
       "      <td>신성동</td>\n",
       "      <td>3020055000</td>\n",
       "      <td>신성동</td>\n",
       "    </tr>\n",
       "    <tr>\n",
       "      <th>259</th>\n",
       "      <td>대덕대학교</td>\n",
       "      <td>대전광역시 유성구 장동 48</td>\n",
       "      <td>30</td>\n",
       "      <td>대전광역시</td>\n",
       "      <td>30200</td>\n",
       "      <td>유성구</td>\n",
       "      <td>3020012800</td>\n",
       "      <td>장동</td>\n",
       "      <td>3020055000</td>\n",
       "      <td>신성동</td>\n",
       "    </tr>\n",
       "    <tr>\n",
       "      <th>260</th>\n",
       "      <td>오정농수산물 도매시장</td>\n",
       "      <td>대전광역시 대덕구 오정동 45-1</td>\n",
       "      <td>30</td>\n",
       "      <td>대전광역시</td>\n",
       "      <td>30230</td>\n",
       "      <td>대덕구</td>\n",
       "      <td>3023010100</td>\n",
       "      <td>오정동</td>\n",
       "      <td>3023051000</td>\n",
       "      <td>오정동</td>\n",
       "    </tr>\n",
       "    <tr>\n",
       "      <th>261</th>\n",
       "      <td>도로교통공단(건너편 라도무스)</td>\n",
       "      <td>대전광역시 유성구 원신흥동 608</td>\n",
       "      <td>30</td>\n",
       "      <td>대전광역시</td>\n",
       "      <td>30200</td>\n",
       "      <td>유성구</td>\n",
       "      <td>3020011400</td>\n",
       "      <td>원신흥동</td>\n",
       "      <td>3020061000</td>\n",
       "      <td>원신흥동</td>\n",
       "    </tr>\n",
       "    <tr>\n",
       "      <th>262</th>\n",
       "      <td>반석 더샵</td>\n",
       "      <td>대전광역시 유성구 반석동 704</td>\n",
       "      <td>30</td>\n",
       "      <td>대전광역시</td>\n",
       "      <td>30200</td>\n",
       "      <td>유성구</td>\n",
       "      <td>3020013900</td>\n",
       "      <td>반석동</td>\n",
       "      <td>3020054800</td>\n",
       "      <td>노은3동</td>\n",
       "    </tr>\n",
       "  </tbody>\n",
       "</table>\n",
       "<p>262 rows × 10 columns</p>\n",
       "</div>"
      ],
      "text/plain": [
       "       Station 스테이션/성명                     위치  광역시도코드  광역시도명  시군구코드 시군구명  \\\n",
       "연번                                                                         \n",
       "1       무역전시관입구(택시승강장)      대전광역시 유성구 도룡동 3-8      30  대전광역시  30200  유성구   \n",
       "2              대전컨벤션센터     대전광역시 유성구 도룡동 4-19      30  대전광역시  30200  유성구   \n",
       "3               한밭수목원1       대전광역시 서구 만년동 396      30  대전광역시  30170   서구   \n",
       "4    초원아파트(104동 버스정류장)       대전광역시 서구 만년동 401      30  대전광역시  30170   서구   \n",
       "5      둔산대공원 입구(버스정류장)  대전광역시 서구 둔산2동 1521-10      30  대전광역시  30170   서구   \n",
       "..                 ...                    ...     ...    ...    ...  ...   \n",
       "258              천문대입구      대전광역시 유성구 신성동 458      30  대전광역시  30200  유성구   \n",
       "259              대덕대학교        대전광역시 유성구 장동 48      30  대전광역시  30200  유성구   \n",
       "260        오정농수산물 도매시장     대전광역시 대덕구 오정동 45-1      30  대전광역시  30230  대덕구   \n",
       "261   도로교통공단(건너편 라도무스)     대전광역시 유성구 원신흥동 608      30  대전광역시  30200  유성구   \n",
       "262              반석 더샵      대전광역시 유성구 반석동 704      30  대전광역시  30200  유성구   \n",
       "\n",
       "          법정동코드  법정동명       행정동코드  행정동명  \n",
       "연번                                       \n",
       "1    3020012700   도룡동  3020055000   신성동  \n",
       "2    3020012700   도룡동  3020055000   신성동  \n",
       "3    3017012800   만년동  3017065000   만년동  \n",
       "4    3017012800   만년동  3017065000   만년동  \n",
       "5    3017011200   둔산동  3017064000  둔산2동  \n",
       "..          ...   ...         ...   ...  \n",
       "258  3020012500   신성동  3020055000   신성동  \n",
       "259  3020012800    장동  3020055000   신성동  \n",
       "260  3023010100   오정동  3023051000   오정동  \n",
       "261  3020011400  원신흥동  3020061000  원신흥동  \n",
       "262  3020013900   반석동  3020054800  노은3동  \n",
       "\n",
       "[262 rows x 10 columns]"
      ]
     },
     "execution_count": 4,
     "metadata": {},
     "output_type": "execute_result"
    }
   ],
   "source": [
    "df_station = pd.read_pickle('datasets/tashu/tashu_dataset-station_information.pkl')\n",
    "df_station"
   ]
  },
  {
   "cell_type": "code",
   "execution_count": 5,
   "id": "a5deae83",
   "metadata": {},
   "outputs": [
    {
     "data": {
      "text/plain": [
       "Station 스테이션/성명    object\n",
       "위치                 object\n",
       "광역시도코드               int8\n",
       "광역시도명              object\n",
       "시군구코드               int32\n",
       "시군구명               object\n",
       "법정동코드               int64\n",
       "법정동명               object\n",
       "행정동코드               int64\n",
       "행정동명               object\n",
       "dtype: object"
      ]
     },
     "execution_count": 5,
     "metadata": {},
     "output_type": "execute_result"
    }
   ],
   "source": [
    "df_station.dtypes"
   ]
  },
  {
   "cell_type": "markdown",
   "id": "0a0ebb55",
   "metadata": {},
   "source": [
    "## 대여일시 분석"
   ]
  },
  {
   "cell_type": "code",
   "execution_count": 6,
   "id": "ac31a937",
   "metadata": {},
   "outputs": [],
   "source": [
    "rent_index = pd.DatetimeIndex(df_rent['대여일시'])"
   ]
  },
  {
   "cell_type": "code",
   "execution_count": 7,
   "id": "7869f829",
   "metadata": {},
   "outputs": [
    {
     "data": {
      "text/plain": [
       "대여일시\n",
       "0       3243\n",
       "5      19561\n",
       "6      26672\n",
       "7      60643\n",
       "8     115847\n",
       "9      79174\n",
       "10     73933\n",
       "11     86116\n",
       "12    108379\n",
       "13    125329\n",
       "14    143496\n",
       "15    164994\n",
       "16    187349\n",
       "17    225928\n",
       "18    293881\n",
       "19    224593\n",
       "20    224989\n",
       "21    221366\n",
       "22    194309\n",
       "23    188572\n",
       "Name: 대여일시, dtype: int64"
      ]
     },
     "execution_count": 7,
     "metadata": {},
     "output_type": "execute_result"
    }
   ],
   "source": [
    "hourly_df_rent = df_rent['대여일시'].groupby(by=rent_index.hour)\n",
    "hourly_df_rent.count()"
   ]
  },
  {
   "cell_type": "code",
   "execution_count": 8,
   "id": "024fc59e",
   "metadata": {},
   "outputs": [
    {
     "data": {
      "text/plain": [
       "[<matplotlib.lines.Line2D at 0x7f707e3264f0>]"
      ]
     },
     "execution_count": 8,
     "metadata": {},
     "output_type": "execute_result"
    },
    {
     "data": {
      "image/png": "[encoded data removed]",
      "text/plain": [
       "<Figure size 576x576 with 1 Axes>"
      ]
     },
     "metadata": {
      "needs_background": "light"
     },
     "output_type": "display_data"
    }
   ],
   "source": [
    "fig = plt.figure(figsize= (8, 8))\n",
    "ax = fig.add_subplot()\n",
    "ax.plot(hourly_df_rent.count())"
   ]
  },
  {
   "cell_type": "code",
   "execution_count": 9,
   "id": "381ffabc",
   "metadata": {},
   "outputs": [
    {
     "name": "stdout",
     "output_type": "stream",
     "text": [
      "가장 많이 대여하는 시간: 18\n"
     ]
    }
   ],
   "source": [
    "print((f'가장 많이 대여하는 시간: '\n",
    "       f'{hourly_df_rent.count().index[hourly_df_rent.count() == max(hourly_df_rent.count())][0]}'))"
   ]
  },
  {
   "cell_type": "code",
   "execution_count": 10,
   "id": "e618499b",
   "metadata": {},
   "outputs": [
    {
     "data": {
      "text/plain": [
       "대여일시\n",
       "2016-01-01     884\n",
       "2016-01-02    1313\n",
       "2016-01-03    1600\n",
       "2016-01-04    1181\n",
       "2016-01-05     924\n",
       "              ... \n",
       "2020-12-27     763\n",
       "2020-12-28     885\n",
       "2020-12-29     430\n",
       "2020-12-30     229\n",
       "2020-12-31     307\n",
       "Name: 대여일시, Length: 1698, dtype: int64"
      ]
     },
     "execution_count": 10,
     "metadata": {},
     "output_type": "execute_result"
    }
   ],
   "source": [
    "daily_df_rent = df_rent['대여일시'].groupby(by=rent_index.strftime('%Y-%m-%d'))\n",
    "daily_df_rent.count()"
   ]
  },
  {
   "cell_type": "code",
   "execution_count": 11,
   "id": "fc12b1e3",
   "metadata": {},
   "outputs": [
    {
     "data": {
      "text/plain": [
       "[<matplotlib.lines.Line2D at 0x7f707365f370>]"
      ]
     },
     "execution_count": 11,
     "metadata": {},
     "output_type": "execute_result"
    },
    {
     "data": {
      "image/png": "[encoded data removed]",
      "text/plain": [
       "<Figure size 576x576 with 1 Axes>"
      ]
     },
     "metadata": {
      "needs_background": "light"
     },
     "output_type": "display_data"
    }
   ],
   "source": [
    "fig = plt.figure(figsize= (8, 8))\n",
    "ax = fig.add_subplot()\n",
    "ax.plot(daily_df_rent.count())"
   ]
  },
  {
   "cell_type": "code",
   "execution_count": 12,
   "id": "a791ce50",
   "metadata": {},
   "outputs": [
    {
     "name": "stdout",
     "output_type": "stream",
     "text": [
      "가장 많이 대여한 날: 2016-05-05\n"
     ]
    }
   ],
   "source": [
    "print((f'가장 많이 대여한 날: '\n",
    "       f'{daily_df_rent.count().index[daily_df_rent.count() == max(daily_df_rent.count())][0]}'))"
   ]
  },
  {
   "cell_type": "code",
   "execution_count": 13,
   "id": "4cf4354a",
   "metadata": {},
   "outputs": [
    {
     "data": {
      "text/plain": [
       "대여일시\n",
       "2016-01    22362\n",
       "2016-02    21490\n",
       "2016-03    57959\n",
       "2016-04    85271\n",
       "2016-05    96355\n",
       "2016-06    89328\n",
       "2016-07    67847\n",
       "2016-08    65611\n",
       "2016-09    72426\n",
       "2016-10    69292\n",
       "2016-11    38784\n",
       "2016-12    24014\n",
       "2017-01    19754\n",
       "2017-02    21026\n",
       "2017-03    47488\n",
       "2017-04    73579\n",
       "2017-05    84640\n",
       "2017-06    75428\n",
       "2017-07    45499\n",
       "2017-08    52135\n",
       "2017-09    81151\n",
       "2017-10    62954\n",
       "2017-11    33112\n",
       "2017-12    14202\n",
       "2018-01    11220\n",
       "2018-02    13345\n",
       "2018-03    40667\n",
       "2018-04    49826\n",
       "2018-05    59144\n",
       "2018-06    64128\n",
       "2018-07    46610\n",
       "2018-08    41570\n",
       "2018-09    63635\n",
       "2018-10    52111\n",
       "2018-11    31156\n",
       "2018-12    14772\n",
       "2019-01    14872\n",
       "2019-02    15761\n",
       "2019-03    30867\n",
       "2019-04    50223\n",
       "2019-05    69444\n",
       "2019-06    63667\n",
       "2019-07    58297\n",
       "2019-08    59574\n",
       "2020-01    19118\n",
       "2020-02    19993\n",
       "2020-03    54236\n",
       "2020-04    75288\n",
       "2020-05    75839\n",
       "2020-06    60215\n",
       "2020-07    49370\n",
       "2020-08    38560\n",
       "2020-09    73365\n",
       "2020-10    73324\n",
       "2020-11    36794\n",
       "2020-12    19676\n",
       "Name: 대여일시, dtype: int64"
      ]
     },
     "execution_count": 13,
     "metadata": {},
     "output_type": "execute_result"
    }
   ],
   "source": [
    "monthly_df_rent = df_rent['대여일시'].groupby(by=rent_index.strftime('%Y-%m'))\n",
    "monthly_df_rent.count()"
   ]
  },
  {
   "cell_type": "code",
   "execution_count": 14,
   "id": "f649e70b",
   "metadata": {},
   "outputs": [
    {
     "data": {
      "text/plain": [
       "[<matplotlib.lines.Line2D at 0x7f7072b1cc40>]"
      ]
     },
     "execution_count": 14,
     "metadata": {},
     "output_type": "execute_result"
    },
    {
     "data": {
      "image/png": "[encoded data removed]",
      "text/plain": [
       "<Figure size 576x576 with 1 Axes>"
      ]
     },
     "metadata": {
      "needs_background": "light"
     },
     "output_type": "display_data"
    }
   ],
   "source": [
    "fig = plt.figure(figsize= (8, 8))\n",
    "ax = fig.add_subplot()\n",
    "ax.plot(monthly_df_rent.count())"
   ]
  },
  {
   "cell_type": "code",
   "execution_count": 15,
   "id": "4c249097",
   "metadata": {},
   "outputs": [
    {
     "name": "stdout",
     "output_type": "stream",
     "text": [
      "가장 많이 대여한 날: 2016-05\n"
     ]
    }
   ],
   "source": [
    "print((f'가장 많이 대여한 날: '\n",
    "       f'{monthly_df_rent.count().index[monthly_df_rent.count() == max(monthly_df_rent.count())][0]}'))"
   ]
  },
  {
   "cell_type": "code",
   "execution_count": 16,
   "id": "e1efa768",
   "metadata": {},
   "outputs": [
    {
     "data": {
      "text/plain": [
       "대여일시\n",
       "0    408358\n",
       "1    370227\n",
       "2    386121\n",
       "3    382247\n",
       "4    393375\n",
       "5    396490\n",
       "6    431556\n",
       "Name: 대여일시, dtype: int64"
      ]
     },
     "execution_count": 16,
     "metadata": {},
     "output_type": "execute_result"
    }
   ],
   "source": [
    "weekly_df_rent = df_rent['대여일시'].groupby(by=rent_index.strftime('%w'))\n",
    "weekly_df_rent.count()"
   ]
  },
  {
   "cell_type": "code",
   "execution_count": 17,
   "id": "8918bd3f",
   "metadata": {},
   "outputs": [
    {
     "data": {
      "text/plain": [
       "<BarContainer object of 7 artists>"
      ]
     },
     "execution_count": 17,
     "metadata": {},
     "output_type": "execute_result"
    },
    {
     "data": {
      "image/png": "[encoded data removed]",
      "text/plain": [
       "<Figure size 576x576 with 1 Axes>"
      ]
     },
     "metadata": {
      "needs_background": "light"
     },
     "output_type": "display_data"
    }
   ],
   "source": [
    "labels = {0: 'Monday', 1: 'Tuesday', 2: 'Wednesday', 3: 'Thursday', 4: 'Friday', 5: 'Saturday', 6: 'Sunday'}\n",
    "colors = ['r', 'g', 'b', 'k', 'y', 'm', 'c']\n",
    "\n",
    "fig = plt.figure(figsize= (8, 8))\n",
    "ax = fig.add_subplot()\n",
    "ax.bar(labels.keys(), weekly_df_rent.count(), \n",
    "       color=colors, tick_label=list(labels.values()))"
   ]
  },
  {
   "cell_type": "code",
   "execution_count": 18,
   "id": "56f095d6",
   "metadata": {},
   "outputs": [
    {
     "name": "stdout",
     "output_type": "stream",
     "text": [
      "가장 많이 대여한 날: 6\n"
     ]
    }
   ],
   "source": [
    "print((f'가장 많이 대여한 날: '\n",
    "       f'{weekly_df_rent.count().index[weekly_df_rent.count() == max(weekly_df_rent.count())][0]}'))"
   ]
  },
  {
   "cell_type": "markdown",
   "id": "6a89f900",
   "metadata": {},
   "source": [
    "## 정류장 분석"
   ]
  },
  {
   "cell_type": "code",
   "execution_count": 19,
   "id": "cb69b32d",
   "metadata": {},
   "outputs": [
    {
     "data": {
      "text/plain": [
       "대여스테이션\n",
       "3      93912\n",
       "186    82008\n",
       "56     51536\n",
       "31     49920\n",
       "17     49214\n",
       "       ...  \n",
       "205      926\n",
       "262      775\n",
       "128      729\n",
       "255      637\n",
       "211      320\n",
       "Name: 대여스테이션, Length: 262, dtype: int64"
      ]
     },
     "execution_count": 19,
     "metadata": {},
     "output_type": "execute_result"
    }
   ],
   "source": [
    "station_df_rent = df_rent['대여스테이션'].groupby(by=df_rent['대여스테이션'])\n",
    "sorted_rent_station = station_df_rent.count().sort_values(ascending=False)\n",
    "sorted_rent_station"
   ]
  },
  {
   "cell_type": "code",
   "execution_count": 20,
   "id": "2f1ec022",
   "metadata": {},
   "outputs": [
    {
     "data": {
      "text/html": [
       "<div>\n",
       "<style scoped>\n",
       "    .dataframe tbody tr th:only-of-type {\n",
       "        vertical-align: middle;\n",
       "    }\n",
       "\n",
       "    .dataframe tbody tr th {\n",
       "        vertical-align: top;\n",
       "    }\n",
       "\n",
       "    .dataframe thead th {\n",
       "        text-align: right;\n",
       "    }\n",
       "</style>\n",
       "<table border=\"1\" class=\"dataframe\">\n",
       "  <thead>\n",
       "    <tr style=\"text-align: right;\">\n",
       "      <th></th>\n",
       "      <th>Station 스테이션/성명</th>\n",
       "      <th>위치</th>\n",
       "      <th>광역시도코드</th>\n",
       "      <th>광역시도명</th>\n",
       "      <th>시군구코드</th>\n",
       "      <th>시군구명</th>\n",
       "      <th>법정동코드</th>\n",
       "      <th>법정동명</th>\n",
       "      <th>행정동코드</th>\n",
       "      <th>행정동명</th>\n",
       "    </tr>\n",
       "    <tr>\n",
       "      <th>연번</th>\n",
       "      <th></th>\n",
       "      <th></th>\n",
       "      <th></th>\n",
       "      <th></th>\n",
       "      <th></th>\n",
       "      <th></th>\n",
       "      <th></th>\n",
       "      <th></th>\n",
       "      <th></th>\n",
       "      <th></th>\n",
       "    </tr>\n",
       "  </thead>\n",
       "  <tbody>\n",
       "    <tr>\n",
       "      <th>3</th>\n",
       "      <td>한밭수목원1</td>\n",
       "      <td>대전광역시 서구 만년동 396</td>\n",
       "      <td>30</td>\n",
       "      <td>대전광역시</td>\n",
       "      <td>30170</td>\n",
       "      <td>서구</td>\n",
       "      <td>3017012800</td>\n",
       "      <td>만년동</td>\n",
       "      <td>3017065000</td>\n",
       "      <td>만년동</td>\n",
       "    </tr>\n",
       "  </tbody>\n",
       "</table>\n",
       "</div>"
      ],
      "text/plain": [
       "   Station 스테이션/성명                위치  광역시도코드  광역시도명  시군구코드 시군구명       법정동코드  \\\n",
       "연번                                                                            \n",
       "3           한밭수목원1  대전광역시 서구 만년동 396      30  대전광역시  30170   서구  3017012800   \n",
       "\n",
       "   법정동명       행정동코드 행정동명  \n",
       "연번                        \n",
       "3   만년동  3017065000  만년동  "
      ]
     },
     "execution_count": 20,
     "metadata": {},
     "output_type": "execute_result"
    }
   ],
   "source": [
    "df_station[df_station.index == sorted_rent_station.index[0]]"
   ]
  },
  {
   "cell_type": "code",
   "execution_count": 21,
   "id": "3efd260d",
   "metadata": {},
   "outputs": [],
   "source": [
    "diff_rent = df_rent[df_rent['대여스테이션'] != df_rent['반납스테이션']]\n",
    "same_rent = df_rent[df_rent['대여스테이션'] == df_rent['반납스테이션']]"
   ]
  },
  {
   "cell_type": "code",
   "execution_count": 22,
   "id": "3d314496",
   "metadata": {},
   "outputs": [
    {
     "data": {
      "text/plain": [
       "대여스테이션\n",
       "186    51132\n",
       "3      48480\n",
       "17     43234\n",
       "56     42157\n",
       "33     38512\n",
       "       ...  \n",
       "205      623\n",
       "262      535\n",
       "255      533\n",
       "128      440\n",
       "211      223\n",
       "Name: 대여스테이션, Length: 262, dtype: int64"
      ]
     },
     "execution_count": 22,
     "metadata": {},
     "output_type": "execute_result"
    }
   ],
   "source": [
    "t = diff_rent['대여스테이션'].groupby(by=diff_rent['대여스테이션'])\n",
    "sorted_t = t.count().sort_values(ascending=False)\n",
    "sorted_t"
   ]
  },
  {
   "cell_type": "code",
   "execution_count": 23,
   "id": "d361db7b",
   "metadata": {},
   "outputs": [
    {
     "data": {
      "text/html": [
       "<div>\n",
       "<style scoped>\n",
       "    .dataframe tbody tr th:only-of-type {\n",
       "        vertical-align: middle;\n",
       "    }\n",
       "\n",
       "    .dataframe tbody tr th {\n",
       "        vertical-align: top;\n",
       "    }\n",
       "\n",
       "    .dataframe thead th {\n",
       "        text-align: right;\n",
       "    }\n",
       "</style>\n",
       "<table border=\"1\" class=\"dataframe\">\n",
       "  <thead>\n",
       "    <tr style=\"text-align: right;\">\n",
       "      <th></th>\n",
       "      <th>Station 스테이션/성명</th>\n",
       "      <th>위치</th>\n",
       "      <th>광역시도코드</th>\n",
       "      <th>광역시도명</th>\n",
       "      <th>시군구코드</th>\n",
       "      <th>시군구명</th>\n",
       "      <th>법정동코드</th>\n",
       "      <th>법정동명</th>\n",
       "      <th>행정동코드</th>\n",
       "      <th>행정동명</th>\n",
       "    </tr>\n",
       "    <tr>\n",
       "      <th>연번</th>\n",
       "      <th></th>\n",
       "      <th></th>\n",
       "      <th></th>\n",
       "      <th></th>\n",
       "      <th></th>\n",
       "      <th></th>\n",
       "      <th></th>\n",
       "      <th></th>\n",
       "      <th></th>\n",
       "      <th></th>\n",
       "    </tr>\n",
       "  </thead>\n",
       "  <tbody>\n",
       "    <tr>\n",
       "      <th>186</th>\n",
       "      <td>한밭수목원2</td>\n",
       "      <td>대전광역시 서구 만년동 396</td>\n",
       "      <td>30</td>\n",
       "      <td>대전광역시</td>\n",
       "      <td>30170</td>\n",
       "      <td>서구</td>\n",
       "      <td>3017012800</td>\n",
       "      <td>만년동</td>\n",
       "      <td>3017065000</td>\n",
       "      <td>만년동</td>\n",
       "    </tr>\n",
       "  </tbody>\n",
       "</table>\n",
       "</div>"
      ],
      "text/plain": [
       "    Station 스테이션/성명                위치  광역시도코드  광역시도명  시군구코드 시군구명       법정동코드  \\\n",
       "연번                                                                             \n",
       "186          한밭수목원2  대전광역시 서구 만년동 396      30  대전광역시  30170   서구  3017012800   \n",
       "\n",
       "    법정동명       행정동코드 행정동명  \n",
       "연번                         \n",
       "186  만년동  3017065000  만년동  "
      ]
     },
     "execution_count": 23,
     "metadata": {},
     "output_type": "execute_result"
    }
   ],
   "source": [
    "df_station[df_station.index == sorted_t.index[0]]"
   ]
  },
  {
   "cell_type": "code",
   "execution_count": 24,
   "id": "77eb9187",
   "metadata": {},
   "outputs": [
    {
     "data": {
      "text/plain": [
       "대여스테이션\n",
       "3      45432\n",
       "186    30876\n",
       "31     13890\n",
       "56      9379\n",
       "33      6866\n",
       "       ...  \n",
       "262      240\n",
       "235      234\n",
       "210      202\n",
       "255      104\n",
       "211       97\n",
       "Name: 대여스테이션, Length: 262, dtype: int64"
      ]
     },
     "execution_count": 24,
     "metadata": {},
     "output_type": "execute_result"
    }
   ],
   "source": [
    "t = same_rent['대여스테이션'].groupby(by=same_rent['대여스테이션'])\n",
    "sorted_t = t.count().sort_values(ascending=False)\n",
    "sorted_t"
   ]
  },
  {
   "cell_type": "markdown",
   "id": "3609ce90",
   "metadata": {},
   "source": [
    "# 대여 - 반납 분석"
   ]
  },
  {
   "cell_type": "code",
   "execution_count": 25,
   "id": "0e4b1bec",
   "metadata": {},
   "outputs": [
    {
     "data": {
      "text/plain": [
       "대여스테이션  반납스테이션\n",
       "1       1         4386\n",
       "        2          261\n",
       "        3         1596\n",
       "        4          143\n",
       "        5          271\n",
       "                  ... \n",
       "262     232          2\n",
       "        250          2\n",
       "        253          2\n",
       "        256          1\n",
       "        262        240\n",
       "Name: 대여일시, Length: 40898, dtype: int64"
      ]
     },
     "execution_count": 25,
     "metadata": {},
     "output_type": "execute_result"
    }
   ],
   "source": [
    "df = df_rent['대여일시'].groupby(by=[df_rent['대여스테이션'], df_rent['반납스테이션']])\n",
    "df.count()"
   ]
  },
  {
   "cell_type": "code",
   "execution_count": 26,
   "id": "3d44b24a",
   "metadata": {},
   "outputs": [
    {
     "data": {
      "text/plain": [
       "MultiIndex([(3, 3)],\n",
       "           names=['대여스테이션', '반납스테이션'])"
      ]
     },
     "execution_count": 26,
     "metadata": {},
     "output_type": "execute_result"
    }
   ],
   "source": [
    "df.count().index[df.count() == max(df.count())]"
   ]
  },
  {
   "cell_type": "code",
   "execution_count": 27,
   "id": "cb061042",
   "metadata": {},
   "outputs": [
    {
     "data": {
      "text/plain": [
       "대여스테이션  반납스테이션\n",
       "1       2          261\n",
       "        3         1596\n",
       "        4          143\n",
       "        5          271\n",
       "        6           79\n",
       "                  ... \n",
       "262     231          1\n",
       "        232          2\n",
       "        250          2\n",
       "        253          2\n",
       "        256          1\n",
       "Name: 대여일시, Length: 40636, dtype: int64"
      ]
     },
     "execution_count": 27,
     "metadata": {},
     "output_type": "execute_result"
    }
   ],
   "source": [
    "df = diff_rent['대여일시'].groupby(by=[diff_rent['대여스테이션'], diff_rent['반납스테이션']])\n",
    "df.count()"
   ]
  },
  {
   "cell_type": "code",
   "execution_count": 28,
   "id": "aa8dbcbc",
   "metadata": {},
   "outputs": [
    {
     "data": {
      "text/plain": [
       "MultiIndex([(186, 3)],\n",
       "           names=['대여스테이션', '반납스테이션'])"
      ]
     },
     "execution_count": 28,
     "metadata": {},
     "output_type": "execute_result"
    }
   ],
   "source": [
    "df.count().index[df.count() == max(df.count())]"
   ]
  },
  {
   "cell_type": "markdown",
   "id": "87fc6a86",
   "metadata": {},
   "source": [
    "# 이동 거리 분석"
   ]
  },
  {
   "cell_type": "code",
   "execution_count": 29,
   "id": "a617378a",
   "metadata": {},
   "outputs": [
    {
     "data": {
      "text/html": [
       "<div>\n",
       "<style scoped>\n",
       "    .dataframe tbody tr th:only-of-type {\n",
       "        vertical-align: middle;\n",
       "    }\n",
       "\n",
       "    .dataframe tbody tr th {\n",
       "        vertical-align: top;\n",
       "    }\n",
       "\n",
       "    .dataframe thead th {\n",
       "        text-align: right;\n",
       "    }\n",
       "</style>\n",
       "<table border=\"1\" class=\"dataframe\">\n",
       "  <thead>\n",
       "    <tr style=\"text-align: right;\">\n",
       "      <th></th>\n",
       "      <th></th>\n",
       "      <th>이동거리</th>\n",
       "      <th>회원구분</th>\n",
       "    </tr>\n",
       "    <tr>\n",
       "      <th>대여스테이션</th>\n",
       "      <th>반납스테이션</th>\n",
       "      <th></th>\n",
       "      <th></th>\n",
       "    </tr>\n",
       "  </thead>\n",
       "  <tbody>\n",
       "    <tr>\n",
       "      <th rowspan=\"5\" valign=\"top\">1</th>\n",
       "      <th>1</th>\n",
       "      <td>1372.067993</td>\n",
       "      <td>1.868217</td>\n",
       "    </tr>\n",
       "    <tr>\n",
       "      <th>2</th>\n",
       "      <td>1525.517212</td>\n",
       "      <td>1.517241</td>\n",
       "    </tr>\n",
       "    <tr>\n",
       "      <th>3</th>\n",
       "      <td>1605.119019</td>\n",
       "      <td>1.909774</td>\n",
       "    </tr>\n",
       "    <tr>\n",
       "      <th>4</th>\n",
       "      <td>1470.839111</td>\n",
       "      <td>1.769231</td>\n",
       "    </tr>\n",
       "    <tr>\n",
       "      <th>5</th>\n",
       "      <td>1674.870850</td>\n",
       "      <td>1.848708</td>\n",
       "    </tr>\n",
       "    <tr>\n",
       "      <th>...</th>\n",
       "      <th>...</th>\n",
       "      <td>...</td>\n",
       "      <td>...</td>\n",
       "    </tr>\n",
       "    <tr>\n",
       "      <th rowspan=\"5\" valign=\"top\">262</th>\n",
       "      <th>232</th>\n",
       "      <td>3460.000000</td>\n",
       "      <td>1.500000</td>\n",
       "    </tr>\n",
       "    <tr>\n",
       "      <th>250</th>\n",
       "      <td>1490.000000</td>\n",
       "      <td>0.000000</td>\n",
       "    </tr>\n",
       "    <tr>\n",
       "      <th>253</th>\n",
       "      <td>3210.000000</td>\n",
       "      <td>1.000000</td>\n",
       "    </tr>\n",
       "    <tr>\n",
       "      <th>256</th>\n",
       "      <td>3700.000000</td>\n",
       "      <td>2.000000</td>\n",
       "    </tr>\n",
       "    <tr>\n",
       "      <th>262</th>\n",
       "      <td>1411.250000</td>\n",
       "      <td>1.612500</td>\n",
       "    </tr>\n",
       "  </tbody>\n",
       "</table>\n",
       "<p>40898 rows × 2 columns</p>\n",
       "</div>"
      ],
      "text/plain": [
       "                      이동거리      회원구분\n",
       "대여스테이션 반납스테이션                       \n",
       "1      1       1372.067993  1.868217\n",
       "       2       1525.517212  1.517241\n",
       "       3       1605.119019  1.909774\n",
       "       4       1470.839111  1.769231\n",
       "       5       1674.870850  1.848708\n",
       "...                    ...       ...\n",
       "262    232     3460.000000  1.500000\n",
       "       250     1490.000000  0.000000\n",
       "       253     3210.000000  1.000000\n",
       "       256     3700.000000  2.000000\n",
       "       262     1411.250000  1.612500\n",
       "\n",
       "[40898 rows x 2 columns]"
      ]
     },
     "execution_count": 29,
     "metadata": {},
     "output_type": "execute_result"
    }
   ],
   "source": [
    "df = df_rent.groupby(by=[df_rent['대여스테이션'], df_rent['반납스테이션']])\n",
    "df = df.mean()\n",
    "df"
   ]
  },
  {
   "cell_type": "code",
   "execution_count": 30,
   "id": "97c916ce",
   "metadata": {},
   "outputs": [
    {
     "data": {
      "text/html": [
       "<div>\n",
       "<style scoped>\n",
       "    .dataframe tbody tr th:only-of-type {\n",
       "        vertical-align: middle;\n",
       "    }\n",
       "\n",
       "    .dataframe tbody tr th {\n",
       "        vertical-align: top;\n",
       "    }\n",
       "\n",
       "    .dataframe thead th {\n",
       "        text-align: right;\n",
       "    }\n",
       "</style>\n",
       "<table border=\"1\" class=\"dataframe\">\n",
       "  <thead>\n",
       "    <tr style=\"text-align: right;\">\n",
       "      <th></th>\n",
       "      <th></th>\n",
       "      <th>이동거리</th>\n",
       "    </tr>\n",
       "    <tr>\n",
       "      <th>대여스테이션</th>\n",
       "      <th>반납스테이션</th>\n",
       "      <th></th>\n",
       "    </tr>\n",
       "  </thead>\n",
       "  <tbody>\n",
       "    <tr>\n",
       "      <th rowspan=\"5\" valign=\"top\">1</th>\n",
       "      <th>1</th>\n",
       "      <td>1372.067993</td>\n",
       "    </tr>\n",
       "    <tr>\n",
       "      <th>2</th>\n",
       "      <td>1525.517212</td>\n",
       "    </tr>\n",
       "    <tr>\n",
       "      <th>3</th>\n",
       "      <td>1605.119019</td>\n",
       "    </tr>\n",
       "    <tr>\n",
       "      <th>4</th>\n",
       "      <td>1470.839111</td>\n",
       "    </tr>\n",
       "    <tr>\n",
       "      <th>5</th>\n",
       "      <td>1674.870850</td>\n",
       "    </tr>\n",
       "    <tr>\n",
       "      <th>...</th>\n",
       "      <th>...</th>\n",
       "      <td>...</td>\n",
       "    </tr>\n",
       "    <tr>\n",
       "      <th rowspan=\"5\" valign=\"top\">262</th>\n",
       "      <th>232</th>\n",
       "      <td>3460.000000</td>\n",
       "    </tr>\n",
       "    <tr>\n",
       "      <th>250</th>\n",
       "      <td>1490.000000</td>\n",
       "    </tr>\n",
       "    <tr>\n",
       "      <th>253</th>\n",
       "      <td>3210.000000</td>\n",
       "    </tr>\n",
       "    <tr>\n",
       "      <th>256</th>\n",
       "      <td>3700.000000</td>\n",
       "    </tr>\n",
       "    <tr>\n",
       "      <th>262</th>\n",
       "      <td>1411.250000</td>\n",
       "    </tr>\n",
       "  </tbody>\n",
       "</table>\n",
       "<p>40898 rows × 1 columns</p>\n",
       "</div>"
      ],
      "text/plain": [
       "                      이동거리\n",
       "대여스테이션 반납스테이션             \n",
       "1      1       1372.067993\n",
       "       2       1525.517212\n",
       "       3       1605.119019\n",
       "       4       1470.839111\n",
       "       5       1674.870850\n",
       "...                    ...\n",
       "262    232     3460.000000\n",
       "       250     1490.000000\n",
       "       253     3210.000000\n",
       "       256     3700.000000\n",
       "       262     1411.250000\n",
       "\n",
       "[40898 rows x 1 columns]"
      ]
     },
     "execution_count": 30,
     "metadata": {},
     "output_type": "execute_result"
    }
   ],
   "source": [
    "df.drop(columns='회원구분', inplace=True)\n",
    "df"
   ]
  },
  {
   "cell_type": "code",
   "execution_count": 31,
   "id": "a059ccfa",
   "metadata": {},
   "outputs": [
    {
     "name": "stdout",
     "output_type": "stream",
     "text": [
      "평균적으로 가장 멀리 이동한 대여-반납 경로: (22, 147)\n"
     ]
    }
   ],
   "source": [
    "print((f'평균적으로 가장 멀리 이동한 대여-반납 경로: '\n",
    "       f'{df.index[df[\"이동거리\"] == max(df[\"이동거리\"])][0]}'))"
   ]
  },
  {
   "cell_type": "code",
   "execution_count": 32,
   "id": "66a56046",
   "metadata": {},
   "outputs": [
    {
     "data": {
      "text/html": [
       "<div>\n",
       "<style scoped>\n",
       "    .dataframe tbody tr th:only-of-type {\n",
       "        vertical-align: middle;\n",
       "    }\n",
       "\n",
       "    .dataframe tbody tr th {\n",
       "        vertical-align: top;\n",
       "    }\n",
       "\n",
       "    .dataframe thead th {\n",
       "        text-align: right;\n",
       "    }\n",
       "</style>\n",
       "<table border=\"1\" class=\"dataframe\">\n",
       "  <thead>\n",
       "    <tr style=\"text-align: right;\">\n",
       "      <th></th>\n",
       "      <th>Station 스테이션/성명</th>\n",
       "      <th>위치</th>\n",
       "      <th>광역시도코드</th>\n",
       "      <th>광역시도명</th>\n",
       "      <th>시군구코드</th>\n",
       "      <th>시군구명</th>\n",
       "      <th>법정동코드</th>\n",
       "      <th>법정동명</th>\n",
       "      <th>행정동코드</th>\n",
       "      <th>행정동명</th>\n",
       "    </tr>\n",
       "    <tr>\n",
       "      <th>연번</th>\n",
       "      <th></th>\n",
       "      <th></th>\n",
       "      <th></th>\n",
       "      <th></th>\n",
       "      <th></th>\n",
       "      <th></th>\n",
       "      <th></th>\n",
       "      <th></th>\n",
       "      <th></th>\n",
       "      <th></th>\n",
       "    </tr>\n",
       "  </thead>\n",
       "  <tbody>\n",
       "    <tr>\n",
       "      <th>22</th>\n",
       "      <td>카이스트 창의학습관</td>\n",
       "      <td>대전광역시 유성구 구성동 23</td>\n",
       "      <td>30</td>\n",
       "      <td>대전광역시</td>\n",
       "      <td>30200</td>\n",
       "      <td>유성구</td>\n",
       "      <td>3020012400</td>\n",
       "      <td>구성동</td>\n",
       "      <td>3020054000</td>\n",
       "      <td>온천2동</td>\n",
       "    </tr>\n",
       "    <tr>\n",
       "      <th>147</th>\n",
       "      <td>도안 계룡리슈빌(1704동)</td>\n",
       "      <td>대전광역시 서구 도안동 1370</td>\n",
       "      <td>30</td>\n",
       "      <td>대전광역시</td>\n",
       "      <td>30170</td>\n",
       "      <td>서구</td>\n",
       "      <td>3017011500</td>\n",
       "      <td>도안동</td>\n",
       "      <td>3017059000</td>\n",
       "      <td>가수원동</td>\n",
       "    </tr>\n",
       "  </tbody>\n",
       "</table>\n",
       "</div>"
      ],
      "text/plain": [
       "     Station 스테이션/성명                 위치  광역시도코드  광역시도명  시군구코드 시군구명  \\\n",
       "연번                                                                   \n",
       "22        카이스트 창의학습관   대전광역시 유성구 구성동 23      30  대전광역시  30200  유성구   \n",
       "147  도안 계룡리슈빌(1704동)  대전광역시 서구 도안동 1370      30  대전광역시  30170   서구   \n",
       "\n",
       "          법정동코드 법정동명       행정동코드  행정동명  \n",
       "연번                                      \n",
       "22   3020012400  구성동  3020054000  온천2동  \n",
       "147  3017011500  도안동  3017059000  가수원동  "
      ]
     },
     "execution_count": 32,
     "metadata": {},
     "output_type": "execute_result"
    }
   ],
   "source": [
    "df_station[df_station.index.isin(df.index[df[\"이동거리\"] == max(df[\"이동거리\"])][0])]"
   ]
  },
  {
   "cell_type": "code",
   "execution_count": null,
   "id": "7360110c",
   "metadata": {},
   "outputs": [],
   "source": []
  }
 ],
 "metadata": {
  "kernelspec": {
   "display_name": "TensorFlow",
   "language": "python",
   "name": "tensorflow"
  },
  "language_info": {
   "codemirror_mode": {
    "name": "ipython",
    "version": 3
   },
   "file_extension": ".py",
   "mimetype": "text/x-python",
   "name": "python",
   "nbconvert_exporter": "python",
   "pygments_lexer": "ipython3",
   "version": "3.8.6"
  }
 },
 "nbformat": 4,
 "nbformat_minor": 5
}
