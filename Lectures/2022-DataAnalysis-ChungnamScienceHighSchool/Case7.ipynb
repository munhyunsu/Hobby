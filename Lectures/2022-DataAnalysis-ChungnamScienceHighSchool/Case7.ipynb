{
 "cells": [
  {
   "cell_type": "markdown",
   "id": "43752b7a-7812-4c5f-83ea-ad56f94699a0",
   "metadata": {},
   "source": [
    "# 충남과학고등학교 데이터분석 특강 (3H / 6H)\n",
    "## 예제로 배우는 데이터 분석\n",
    "### 초급: 3H, 중급: 6H (초중급 3H 동일)"
   ]
  },
  {
   "cell_type": "markdown",
   "id": "41b31170-bba9-4500-ac97-1d6c47e6a8d2",
   "metadata": {},
   "source": [
    "## Case 6: 대전광역시 공공자전거 타슈 데이터 분석 - 공개 데이터 분석\n",
    "### Question: 타슈 이용 경로 및 정류장 분석\n",
    "##### 데이터출처1: [공공데이터포털](https://www.data.go.kr/data/15062798/fileData.do)\n",
    "##### 데이터출처2: [대전광역시시설관리공단](https://www.djsiseol.or.kr/portal/sub050201.asp)\n",
    "##### 원시 데이터 전처리 완료 후 진행: pickle (.pkl)"
   ]
  },
  {
   "cell_type": "markdown",
   "id": "0e4a5f96",
   "metadata": {},
   "source": [
    "### Step 1. Question - 전처리 데이터 불러오기 및 datetime 데이터 다루기"
   ]
  },
  {
   "cell_type": "markdown",
   "id": "09d86bfb-10ea-48f8-bebf-a735b94598f9",
   "metadata": {},
   "source": [
    "#### 도구 불러오기"
   ]
  },
  {
   "cell_type": "code",
   "execution_count": 1,
   "id": "dfff3d67",
   "metadata": {},
   "outputs": [],
   "source": [
    "import datetime\n",
    "\n",
    "import numpy as np\n",
    "import pandas as pd\n",
    "import matplotlib as mpl\n",
    "import matplotlib.pyplot as plt\n",
    "%matplotlib inline"
   ]
  },
  {
   "cell_type": "markdown",
   "id": "b1cf7c3b-7fee-4a39-a07f-a1df5c58e100",
   "metadata": {},
   "source": [
    "#### 타슈 대여 이력 데이터 불러오기 및 datetime 자료형 처리"
   ]
  },
  {
   "cell_type": "code",
   "execution_count": 2,
   "id": "df96b273",
   "metadata": {},
   "outputs": [
    {
     "data": {
      "text/html": [
       "<div>\n",
       "<style scoped>\n",
       "    .dataframe tbody tr th:only-of-type {\n",
       "        vertical-align: middle;\n",
       "    }\n",
       "\n",
       "    .dataframe tbody tr th {\n",
       "        vertical-align: top;\n",
       "    }\n",
       "\n",
       "    .dataframe thead th {\n",
       "        text-align: right;\n",
       "    }\n",
       "</style>\n",
       "<table border=\"1\" class=\"dataframe\">\n",
       "  <thead>\n",
       "    <tr style=\"text-align: right;\">\n",
       "      <th></th>\n",
       "      <th>대여스테이션</th>\n",
       "      <th>대여일시</th>\n",
       "      <th>반납스테이션</th>\n",
       "      <th>반납일시</th>\n",
       "      <th>이동거리</th>\n",
       "      <th>회원구분</th>\n",
       "    </tr>\n",
       "  </thead>\n",
       "  <tbody>\n",
       "    <tr>\n",
       "      <th>0</th>\n",
       "      <td>46</td>\n",
       "      <td>2016-01-01 05:00:15</td>\n",
       "      <td>17</td>\n",
       "      <td>2016-01-01 05:04:51</td>\n",
       "      <td>380.0</td>\n",
       "      <td>0</td>\n",
       "    </tr>\n",
       "    <tr>\n",
       "      <th>1</th>\n",
       "      <td>152</td>\n",
       "      <td>2016-01-01 05:06:29</td>\n",
       "      <td>82</td>\n",
       "      <td>2016-01-01 05:37:53</td>\n",
       "      <td>3190.0</td>\n",
       "      <td>2</td>\n",
       "    </tr>\n",
       "    <tr>\n",
       "      <th>2</th>\n",
       "      <td>133</td>\n",
       "      <td>2016-01-01 05:24:16</td>\n",
       "      <td>172</td>\n",
       "      <td>2016-01-01 05:56:47</td>\n",
       "      <td>2070.0</td>\n",
       "      <td>2</td>\n",
       "    </tr>\n",
       "    <tr>\n",
       "      <th>3</th>\n",
       "      <td>133</td>\n",
       "      <td>2016-01-01 05:29:19</td>\n",
       "      <td>172</td>\n",
       "      <td>2016-01-01 05:57:34</td>\n",
       "      <td>2080.0</td>\n",
       "      <td>2</td>\n",
       "    </tr>\n",
       "    <tr>\n",
       "      <th>4</th>\n",
       "      <td>39</td>\n",
       "      <td>2016-01-01 05:32:44</td>\n",
       "      <td>57</td>\n",
       "      <td>2016-01-01 05:40:33</td>\n",
       "      <td>860.0</td>\n",
       "      <td>0</td>\n",
       "    </tr>\n",
       "    <tr>\n",
       "      <th>...</th>\n",
       "      <td>...</td>\n",
       "      <td>...</td>\n",
       "      <td>...</td>\n",
       "      <td>...</td>\n",
       "      <td>...</td>\n",
       "      <td>...</td>\n",
       "    </tr>\n",
       "    <tr>\n",
       "      <th>2791301</th>\n",
       "      <td>87</td>\n",
       "      <td>2020-12-31 23:38:50</td>\n",
       "      <td>118</td>\n",
       "      <td>2021-01-01 00:21:39</td>\n",
       "      <td>0.0</td>\n",
       "      <td>2</td>\n",
       "    </tr>\n",
       "    <tr>\n",
       "      <th>2791302</th>\n",
       "      <td>182</td>\n",
       "      <td>2020-12-31 23:38:56</td>\n",
       "      <td>182</td>\n",
       "      <td>2020-12-31 23:39:37</td>\n",
       "      <td>0.0</td>\n",
       "      <td>2</td>\n",
       "    </tr>\n",
       "    <tr>\n",
       "      <th>2791303</th>\n",
       "      <td>42</td>\n",
       "      <td>2020-12-31 23:45:59</td>\n",
       "      <td>83</td>\n",
       "      <td>2021-01-01 00:12:15</td>\n",
       "      <td>2470.0</td>\n",
       "      <td>0</td>\n",
       "    </tr>\n",
       "    <tr>\n",
       "      <th>2791304</th>\n",
       "      <td>115</td>\n",
       "      <td>2020-12-31 23:51:32</td>\n",
       "      <td>196</td>\n",
       "      <td>2021-01-01 00:15:02</td>\n",
       "      <td>1730.0</td>\n",
       "      <td>0</td>\n",
       "    </tr>\n",
       "    <tr>\n",
       "      <th>2791305</th>\n",
       "      <td>60</td>\n",
       "      <td>2020-12-31 23:56:03</td>\n",
       "      <td>108</td>\n",
       "      <td>2021-01-01 00:12:37</td>\n",
       "      <td>1590.0</td>\n",
       "      <td>2</td>\n",
       "    </tr>\n",
       "  </tbody>\n",
       "</table>\n",
       "<p>2768374 rows × 6 columns</p>\n",
       "</div>"
      ],
      "text/plain": [
       "         대여스테이션                대여일시  반납스테이션                반납일시    이동거리  회원구분\n",
       "0            46 2016-01-01 05:00:15      17 2016-01-01 05:04:51   380.0     0\n",
       "1           152 2016-01-01 05:06:29      82 2016-01-01 05:37:53  3190.0     2\n",
       "2           133 2016-01-01 05:24:16     172 2016-01-01 05:56:47  2070.0     2\n",
       "3           133 2016-01-01 05:29:19     172 2016-01-01 05:57:34  2080.0     2\n",
       "4            39 2016-01-01 05:32:44      57 2016-01-01 05:40:33   860.0     0\n",
       "...         ...                 ...     ...                 ...     ...   ...\n",
       "2791301      87 2020-12-31 23:38:50     118 2021-01-01 00:21:39     0.0     2\n",
       "2791302     182 2020-12-31 23:38:56     182 2020-12-31 23:39:37     0.0     2\n",
       "2791303      42 2020-12-31 23:45:59      83 2021-01-01 00:12:15  2470.0     0\n",
       "2791304     115 2020-12-31 23:51:32     196 2021-01-01 00:15:02  1730.0     0\n",
       "2791305      60 2020-12-31 23:56:03     108 2021-01-01 00:12:37  1590.0     2\n",
       "\n",
       "[2768374 rows x 6 columns]"
      ]
     },
     "execution_count": 2,
     "metadata": {},
     "output_type": "execute_result"
    }
   ],
   "source": [
    "df_rent = pd.read_pickle('datasets/tashu/tashu_dataset-rental_history.pkl')\n",
    "df_rent['대여일시'] = pd.to_datetime(df_rent['대여일시'], format='%Y%m%d%H%M%S')\n",
    "df_rent['반납일시'] = pd.to_datetime(df_rent['반납일시'], format='%Y%m%d%H%M%S')\n",
    "df_rent"
   ]
  },
  {
   "cell_type": "markdown",
   "id": "235665bc-5ffe-42fe-82a0-1adf7a08d06b",
   "metadata": {},
   "source": [
    "#### 자료형 확인"
   ]
  },
  {
   "cell_type": "code",
   "execution_count": 3,
   "id": "51602f50",
   "metadata": {},
   "outputs": [
    {
     "data": {
      "text/plain": [
       "대여스테이션             int16\n",
       "대여일시      datetime64[ns]\n",
       "반납스테이션             int16\n",
       "반납일시      datetime64[ns]\n",
       "이동거리             float32\n",
       "회원구분                int8\n",
       "dtype: object"
      ]
     },
     "execution_count": 3,
     "metadata": {},
     "output_type": "execute_result"
    }
   ],
   "source": [
    "df_rent.dtypes"
   ]
  },
  {
   "cell_type": "markdown",
   "id": "d7cefa9d-6c9c-41c5-a2f8-86d1a46e4284",
   "metadata": {},
   "source": [
    "#### 타슈 정류장 데이터 불러오기"
   ]
  },
  {
   "cell_type": "code",
   "execution_count": 4,
   "id": "35f982b9",
   "metadata": {},
   "outputs": [
    {
     "data": {
      "text/html": [
       "<div>\n",
       "<style scoped>\n",
       "    .dataframe tbody tr th:only-of-type {\n",
       "        vertical-align: middle;\n",
       "    }\n",
       "\n",
       "    .dataframe tbody tr th {\n",
       "        vertical-align: top;\n",
       "    }\n",
       "\n",
       "    .dataframe thead th {\n",
       "        text-align: right;\n",
       "    }\n",
       "</style>\n",
       "<table border=\"1\" class=\"dataframe\">\n",
       "  <thead>\n",
       "    <tr style=\"text-align: right;\">\n",
       "      <th></th>\n",
       "      <th>Station 스테이션/성명</th>\n",
       "      <th>위치</th>\n",
       "      <th>광역시도코드</th>\n",
       "      <th>광역시도명</th>\n",
       "      <th>시군구코드</th>\n",
       "      <th>시군구명</th>\n",
       "      <th>법정동코드</th>\n",
       "      <th>법정동명</th>\n",
       "      <th>행정동코드</th>\n",
       "      <th>행정동명</th>\n",
       "    </tr>\n",
       "    <tr>\n",
       "      <th>연번</th>\n",
       "      <th></th>\n",
       "      <th></th>\n",
       "      <th></th>\n",
       "      <th></th>\n",
       "      <th></th>\n",
       "      <th></th>\n",
       "      <th></th>\n",
       "      <th></th>\n",
       "      <th></th>\n",
       "      <th></th>\n",
       "    </tr>\n",
       "  </thead>\n",
       "  <tbody>\n",
       "    <tr>\n",
       "      <th>1</th>\n",
       "      <td>무역전시관입구(택시승강장)</td>\n",
       "      <td>대전광역시 유성구 도룡동 3-8</td>\n",
       "      <td>30</td>\n",
       "      <td>대전광역시</td>\n",
       "      <td>30200</td>\n",
       "      <td>유성구</td>\n",
       "      <td>3020012700</td>\n",
       "      <td>도룡동</td>\n",
       "      <td>3020055000</td>\n",
       "      <td>신성동</td>\n",
       "    </tr>\n",
       "    <tr>\n",
       "      <th>2</th>\n",
       "      <td>대전컨벤션센터</td>\n",
       "      <td>대전광역시 유성구 도룡동 4-19</td>\n",
       "      <td>30</td>\n",
       "      <td>대전광역시</td>\n",
       "      <td>30200</td>\n",
       "      <td>유성구</td>\n",
       "      <td>3020012700</td>\n",
       "      <td>도룡동</td>\n",
       "      <td>3020055000</td>\n",
       "      <td>신성동</td>\n",
       "    </tr>\n",
       "    <tr>\n",
       "      <th>3</th>\n",
       "      <td>한밭수목원1</td>\n",
       "      <td>대전광역시 서구 만년동 396</td>\n",
       "      <td>30</td>\n",
       "      <td>대전광역시</td>\n",
       "      <td>30170</td>\n",
       "      <td>서구</td>\n",
       "      <td>3017012800</td>\n",
       "      <td>만년동</td>\n",
       "      <td>3017065000</td>\n",
       "      <td>만년동</td>\n",
       "    </tr>\n",
       "    <tr>\n",
       "      <th>4</th>\n",
       "      <td>초원아파트(104동 버스정류장)</td>\n",
       "      <td>대전광역시 서구 만년동 401</td>\n",
       "      <td>30</td>\n",
       "      <td>대전광역시</td>\n",
       "      <td>30170</td>\n",
       "      <td>서구</td>\n",
       "      <td>3017012800</td>\n",
       "      <td>만년동</td>\n",
       "      <td>3017065000</td>\n",
       "      <td>만년동</td>\n",
       "    </tr>\n",
       "    <tr>\n",
       "      <th>5</th>\n",
       "      <td>둔산대공원 입구(버스정류장)</td>\n",
       "      <td>대전광역시 서구 둔산2동 1521-10</td>\n",
       "      <td>30</td>\n",
       "      <td>대전광역시</td>\n",
       "      <td>30170</td>\n",
       "      <td>서구</td>\n",
       "      <td>3017011200</td>\n",
       "      <td>둔산동</td>\n",
       "      <td>3017064000</td>\n",
       "      <td>둔산2동</td>\n",
       "    </tr>\n",
       "    <tr>\n",
       "      <th>...</th>\n",
       "      <td>...</td>\n",
       "      <td>...</td>\n",
       "      <td>...</td>\n",
       "      <td>...</td>\n",
       "      <td>...</td>\n",
       "      <td>...</td>\n",
       "      <td>...</td>\n",
       "      <td>...</td>\n",
       "      <td>...</td>\n",
       "      <td>...</td>\n",
       "    </tr>\n",
       "    <tr>\n",
       "      <th>258</th>\n",
       "      <td>천문대입구</td>\n",
       "      <td>대전광역시 유성구 신성동 458</td>\n",
       "      <td>30</td>\n",
       "      <td>대전광역시</td>\n",
       "      <td>30200</td>\n",
       "      <td>유성구</td>\n",
       "      <td>3020012500</td>\n",
       "      <td>신성동</td>\n",
       "      <td>3020055000</td>\n",
       "      <td>신성동</td>\n",
       "    </tr>\n",
       "    <tr>\n",
       "      <th>259</th>\n",
       "      <td>대덕대학교</td>\n",
       "      <td>대전광역시 유성구 장동 48</td>\n",
       "      <td>30</td>\n",
       "      <td>대전광역시</td>\n",
       "      <td>30200</td>\n",
       "      <td>유성구</td>\n",
       "      <td>3020012800</td>\n",
       "      <td>장동</td>\n",
       "      <td>3020055000</td>\n",
       "      <td>신성동</td>\n",
       "    </tr>\n",
       "    <tr>\n",
       "      <th>260</th>\n",
       "      <td>오정농수산물 도매시장</td>\n",
       "      <td>대전광역시 대덕구 오정동 45-1</td>\n",
       "      <td>30</td>\n",
       "      <td>대전광역시</td>\n",
       "      <td>30230</td>\n",
       "      <td>대덕구</td>\n",
       "      <td>3023010100</td>\n",
       "      <td>오정동</td>\n",
       "      <td>3023051000</td>\n",
       "      <td>오정동</td>\n",
       "    </tr>\n",
       "    <tr>\n",
       "      <th>261</th>\n",
       "      <td>도로교통공단(건너편 라도무스)</td>\n",
       "      <td>대전광역시 유성구 원신흥동 608</td>\n",
       "      <td>30</td>\n",
       "      <td>대전광역시</td>\n",
       "      <td>30200</td>\n",
       "      <td>유성구</td>\n",
       "      <td>3020011400</td>\n",
       "      <td>원신흥동</td>\n",
       "      <td>3020061000</td>\n",
       "      <td>원신흥동</td>\n",
       "    </tr>\n",
       "    <tr>\n",
       "      <th>262</th>\n",
       "      <td>반석 더샵</td>\n",
       "      <td>대전광역시 유성구 반석동 704</td>\n",
       "      <td>30</td>\n",
       "      <td>대전광역시</td>\n",
       "      <td>30200</td>\n",
       "      <td>유성구</td>\n",
       "      <td>3020013900</td>\n",
       "      <td>반석동</td>\n",
       "      <td>3020054800</td>\n",
       "      <td>노은3동</td>\n",
       "    </tr>\n",
       "  </tbody>\n",
       "</table>\n",
       "<p>262 rows × 10 columns</p>\n",
       "</div>"
      ],
      "text/plain": [
       "       Station 스테이션/성명                     위치  광역시도코드  광역시도명  시군구코드 시군구명  \\\n",
       "연번                                                                         \n",
       "1       무역전시관입구(택시승강장)      대전광역시 유성구 도룡동 3-8      30  대전광역시  30200  유성구   \n",
       "2              대전컨벤션센터     대전광역시 유성구 도룡동 4-19      30  대전광역시  30200  유성구   \n",
       "3               한밭수목원1       대전광역시 서구 만년동 396      30  대전광역시  30170   서구   \n",
       "4    초원아파트(104동 버스정류장)       대전광역시 서구 만년동 401      30  대전광역시  30170   서구   \n",
       "5      둔산대공원 입구(버스정류장)  대전광역시 서구 둔산2동 1521-10      30  대전광역시  30170   서구   \n",
       "..                 ...                    ...     ...    ...    ...  ...   \n",
       "258              천문대입구      대전광역시 유성구 신성동 458      30  대전광역시  30200  유성구   \n",
       "259              대덕대학교        대전광역시 유성구 장동 48      30  대전광역시  30200  유성구   \n",
       "260        오정농수산물 도매시장     대전광역시 대덕구 오정동 45-1      30  대전광역시  30230  대덕구   \n",
       "261   도로교통공단(건너편 라도무스)     대전광역시 유성구 원신흥동 608      30  대전광역시  30200  유성구   \n",
       "262              반석 더샵      대전광역시 유성구 반석동 704      30  대전광역시  30200  유성구   \n",
       "\n",
       "          법정동코드  법정동명       행정동코드  행정동명  \n",
       "연번                                       \n",
       "1    3020012700   도룡동  3020055000   신성동  \n",
       "2    3020012700   도룡동  3020055000   신성동  \n",
       "3    3017012800   만년동  3017065000   만년동  \n",
       "4    3017012800   만년동  3017065000   만년동  \n",
       "5    3017011200   둔산동  3017064000  둔산2동  \n",
       "..          ...   ...         ...   ...  \n",
       "258  3020012500   신성동  3020055000   신성동  \n",
       "259  3020012800    장동  3020055000   신성동  \n",
       "260  3023010100   오정동  3023051000   오정동  \n",
       "261  3020011400  원신흥동  3020061000  원신흥동  \n",
       "262  3020013900   반석동  3020054800  노은3동  \n",
       "\n",
       "[262 rows x 10 columns]"
      ]
     },
     "execution_count": 4,
     "metadata": {},
     "output_type": "execute_result"
    }
   ],
   "source": [
    "df_station = pd.read_pickle('datasets/tashu/tashu_dataset-station_information.pkl')\n",
    "df_station"
   ]
  },
  {
   "cell_type": "markdown",
   "id": "9613ec3e-9533-4709-9f25-df3f34bea23b",
   "metadata": {},
   "source": [
    "#### 자료형 확인"
   ]
  },
  {
   "cell_type": "code",
   "execution_count": 5,
   "id": "a5deae83",
   "metadata": {},
   "outputs": [
    {
     "data": {
      "text/plain": [
       "Station 스테이션/성명    object\n",
       "위치                 object\n",
       "광역시도코드               int8\n",
       "광역시도명              object\n",
       "시군구코드               int32\n",
       "시군구명               object\n",
       "법정동코드               int64\n",
       "법정동명               object\n",
       "행정동코드               int64\n",
       "행정동명               object\n",
       "dtype: object"
      ]
     },
     "execution_count": 5,
     "metadata": {},
     "output_type": "execute_result"
    }
   ],
   "source": [
    "df_station.dtypes"
   ]
  },
  {
   "cell_type": "markdown",
   "id": "0a0ebb55",
   "metadata": {},
   "source": [
    "### Step 2. Question - 언제 가장 많이 빌릴까?"
   ]
  },
  {
   "cell_type": "code",
   "execution_count": 6,
   "id": "ac31a937",
   "metadata": {},
   "outputs": [
    {
     "data": {
      "text/plain": [
       "DatetimeIndex(['2016-01-01 05:00:15', '2016-01-01 05:06:29',\n",
       "               '2016-01-01 05:24:16', '2016-01-01 05:29:19',\n",
       "               '2016-01-01 05:32:44', '2016-01-01 05:36:21',\n",
       "               '2016-01-01 05:37:33', '2016-01-01 05:52:30',\n",
       "               '2016-01-01 05:59:28', '2016-01-01 06:14:29',\n",
       "               ...\n",
       "               '2020-12-31 23:12:05', '2020-12-31 23:15:13',\n",
       "               '2020-12-31 23:29:45', '2020-12-31 23:35:04',\n",
       "               '2020-12-31 23:36:38', '2020-12-31 23:38:50',\n",
       "               '2020-12-31 23:38:56', '2020-12-31 23:45:59',\n",
       "               '2020-12-31 23:51:32', '2020-12-31 23:56:03'],\n",
       "              dtype='datetime64[ns]', name='대여일시', length=2768374, freq=None)"
      ]
     },
     "execution_count": 6,
     "metadata": {},
     "output_type": "execute_result"
    }
   ],
   "source": [
    "rent_index = pd.DatetimeIndex(df_rent['대여일시'])\n",
    "rent_index"
   ]
  },
  {
   "cell_type": "markdown",
   "id": "ec165ed1-d27c-4d2d-8504-f33f5eb9dc21",
   "metadata": {},
   "source": [
    "#### .groupby 활용 시간 기준 계산"
   ]
  },
  {
   "cell_type": "code",
   "execution_count": 14,
   "id": "7869f829",
   "metadata": {},
   "outputs": [
    {
     "data": {
      "text/plain": [
       "<pandas.core.groupby.generic.SeriesGroupBy object at 0x7f0bb4b7b670>"
      ]
     },
     "execution_count": 14,
     "metadata": {},
     "output_type": "execute_result"
    }
   ],
   "source": [
    "hourly_df_rent = df_rent['대여일시'].groupby(by=rent_index.hour)\n",
    "hourly_df_rent"
   ]
  },
  {
   "cell_type": "code",
   "execution_count": 15,
   "id": "9e43454a-a888-477b-af73-33c6aa3032ba",
   "metadata": {},
   "outputs": [
    {
     "data": {
      "text/plain": [
       "Int64Index([0, 5, 6, 7, 8, 9, 10, 11, 12, 13, 14, 15, 16, 17, 18, 19, 20, 21,\n",
       "            22, 23],\n",
       "           dtype='int64', name='대여일시')"
      ]
     },
     "execution_count": 15,
     "metadata": {},
     "output_type": "execute_result"
    }
   ],
   "source": [
    "hourly_df_rent.count().index"
   ]
  },
  {
   "cell_type": "code",
   "execution_count": 16,
   "id": "23eabc42-1aa9-4928-ac18-481e54e593a3",
   "metadata": {},
   "outputs": [
    {
     "data": {
      "text/plain": [
       "대여일시\n",
       "0       3243\n",
       "5      19561\n",
       "6      26672\n",
       "7      60643\n",
       "8     115847\n",
       "9      79174\n",
       "10     73933\n",
       "11     86116\n",
       "12    108379\n",
       "13    125329\n",
       "14    143496\n",
       "15    164994\n",
       "16    187349\n",
       "17    225928\n",
       "18    293881\n",
       "19    224593\n",
       "20    224989\n",
       "21    221366\n",
       "22    194309\n",
       "23    188572\n",
       "Name: 대여일시, dtype: int64"
      ]
     },
     "execution_count": 16,
     "metadata": {},
     "output_type": "execute_result"
    }
   ],
   "source": [
    "hourly_df_rent.count()"
   ]
  },
  {
   "cell_type": "markdown",
   "id": "a02cf282-3d4f-4c72-bd71-65edf082f9f2",
   "metadata": {},
   "source": [
    "#### 그래프 데이터 준비"
   ]
  },
  {
   "cell_type": "code",
   "execution_count": 17,
   "id": "f2744b00-d5a9-45e0-85b1-daa531f02129",
   "metadata": {},
   "outputs": [],
   "source": [
    "x = hourly_df_rent.count().index\n",
    "y = hourly_df_rent.count()"
   ]
  },
  {
   "cell_type": "markdown",
   "id": "e81d74af-a584-4fe2-8d61-1c24f9be37df",
   "metadata": {},
   "source": [
    "#### 그래프 그리기"
   ]
  },
  {
   "cell_type": "code",
   "execution_count": 18,
   "id": "7cc29d60-478d-4dc0-a15e-25b51da8143d",
   "metadata": {},
   "outputs": [
    {
     "data": {
      "text/plain": [
       "Text(0.5, 1.0, 'Hourly rent count')"
      ]
     },
     "execution_count": 18,
     "metadata": {},
     "output_type": "execute_result"
    },
    {
     "data": {
      "image/png": "[encoded data removed]",
      "text/plain": [
       "<Figure size 576x432 with 1 Axes>"
      ]
     },
     "metadata": {
      "needs_background": "light"
     },
     "output_type": "display_data"
    }
   ],
   "source": [
    "fig = plt.figure(figsize=(8, 6))\n",
    "ax = fig.add_subplot()\n",
    "ax.plot(x, y)\n",
    "ax.tick_params(axis='both', labelsize='large')\n",
    "ax.set_xlabel('Hours', fontsize='large')\n",
    "ax.set_ylabel('Number of rent', fontsize='large')\n",
    "ax.set_title('Hourly rent count', fontsize='x-large')"
   ]
  },
  {
   "cell_type": "markdown",
   "id": "73756bd1-5a06-4afa-90c4-ae4aca4381ea",
   "metadata": {},
   "source": [
    "#### 조건 분석으로 확인"
   ]
  },
  {
   "cell_type": "code",
   "execution_count": 20,
   "id": "d02cc5c3-cd9c-461e-af1a-f164e879ed5c",
   "metadata": {},
   "outputs": [
    {
     "data": {
      "text/plain": [
       "293881"
      ]
     },
     "execution_count": 20,
     "metadata": {},
     "output_type": "execute_result"
    }
   ],
   "source": [
    "max(hourly_df_rent.count())"
   ]
  },
  {
   "cell_type": "code",
   "execution_count": 21,
   "id": "ec80c2c8-50e5-4203-ac39-3d19187101d9",
   "metadata": {},
   "outputs": [
    {
     "data": {
      "text/plain": [
       "대여일시\n",
       "0     False\n",
       "5     False\n",
       "6     False\n",
       "7     False\n",
       "8     False\n",
       "9     False\n",
       "10    False\n",
       "11    False\n",
       "12    False\n",
       "13    False\n",
       "14    False\n",
       "15    False\n",
       "16    False\n",
       "17    False\n",
       "18     True\n",
       "19    False\n",
       "20    False\n",
       "21    False\n",
       "22    False\n",
       "23    False\n",
       "Name: 대여일시, dtype: bool"
      ]
     },
     "execution_count": 21,
     "metadata": {},
     "output_type": "execute_result"
    }
   ],
   "source": [
    "hourly_df_rent.count() == max(hourly_df_rent.count())"
   ]
  },
  {
   "cell_type": "code",
   "execution_count": 22,
   "id": "74b76c3c-3829-41e8-90dc-ce432522c582",
   "metadata": {},
   "outputs": [
    {
     "data": {
      "text/plain": [
       "Int64Index([18], dtype='int64', name='대여일시')"
      ]
     },
     "execution_count": 22,
     "metadata": {},
     "output_type": "execute_result"
    }
   ],
   "source": [
    "hourly_df_rent.count().index[hourly_df_rent.count() == max(hourly_df_rent.count())]"
   ]
  },
  {
   "cell_type": "code",
   "execution_count": 19,
   "id": "381ffabc",
   "metadata": {},
   "outputs": [
    {
     "name": "stdout",
     "output_type": "stream",
     "text": [
      "가장 많이 대여하는 시간: 18\n"
     ]
    }
   ],
   "source": [
    "print((f'가장 많이 대여하는 시간: '\n",
    "       f'{hourly_df_rent.count().index[hourly_df_rent.count() == max(hourly_df_rent.count())][0]}'))"
   ]
  },
  {
   "cell_type": "markdown",
   "id": "e19e01e7-ee61-4e73-bd3e-5cb483233973",
   "metadata": {},
   "source": [
    "### Step 3. Question - 언제 가장 많이 대여했을까?"
   ]
  },
  {
   "cell_type": "markdown",
   "id": "29bd0926-6a10-41a3-b9fc-bbdc4499ca73",
   "metadata": {},
   "source": [
    "#### groupby 활용 그루핑\n",
    "##### [Pandas DatetimeIndex strftime](https://pandas.pydata.org/docs/reference/api/pandas.DatetimeIndex.strftime.html)\n",
    "##### [python 3 strftime format](https://docs.python.org/3/library/datetime.html#strftime-and-strptime-format-codes)"
   ]
  },
  {
   "cell_type": "code",
   "execution_count": 23,
   "id": "652be252-af18-4a18-810e-c6e171a7ed9a",
   "metadata": {},
   "outputs": [
    {
     "data": {
      "text/plain": [
       "<pandas.core.groupby.generic.SeriesGroupBy object at 0x7f0bae617a60>"
      ]
     },
     "execution_count": 23,
     "metadata": {},
     "output_type": "execute_result"
    }
   ],
   "source": [
    "daily_df_rent = df_rent['대여일시'].groupby(by=rent_index.strftime('%Y-%m-%d'))\n",
    "daily_df_rent"
   ]
  },
  {
   "cell_type": "code",
   "execution_count": 24,
   "id": "d3193f63-5fe0-4b40-b1ce-876e3e7bf8e5",
   "metadata": {},
   "outputs": [
    {
     "data": {
      "text/plain": [
       "Index(['2016-01-01', '2016-01-02', '2016-01-03', '2016-01-04', '2016-01-05',\n",
       "       '2016-01-06', '2016-01-07', '2016-01-08', '2016-01-09', '2016-01-10',\n",
       "       ...\n",
       "       '2020-12-22', '2020-12-23', '2020-12-24', '2020-12-25', '2020-12-26',\n",
       "       '2020-12-27', '2020-12-28', '2020-12-29', '2020-12-30', '2020-12-31'],\n",
       "      dtype='object', name='대여일시', length=1698)"
      ]
     },
     "execution_count": 24,
     "metadata": {},
     "output_type": "execute_result"
    }
   ],
   "source": [
    "daily_df_rent.count().index"
   ]
  },
  {
   "cell_type": "code",
   "execution_count": 25,
   "id": "f22c8a65-5701-4a26-b8d5-b7d1809f709b",
   "metadata": {},
   "outputs": [
    {
     "data": {
      "text/plain": [
       "대여일시\n",
       "2016-01-01     884\n",
       "2016-01-02    1313\n",
       "2016-01-03    1600\n",
       "2016-01-04    1181\n",
       "2016-01-05     924\n",
       "              ... \n",
       "2020-12-27     763\n",
       "2020-12-28     885\n",
       "2020-12-29     430\n",
       "2020-12-30     229\n",
       "2020-12-31     307\n",
       "Name: 대여일시, Length: 1698, dtype: int64"
      ]
     },
     "execution_count": 25,
     "metadata": {},
     "output_type": "execute_result"
    }
   ],
   "source": [
    "daily_df_rent.count()"
   ]
  },
  {
   "cell_type": "markdown",
   "id": "e2b0c2c2-7706-483a-a077-c01f05ba40ed",
   "metadata": {},
   "source": [
    "#### 그래프 데이터 준비"
   ]
  },
  {
   "cell_type": "code",
   "execution_count": 26,
   "id": "815619f6-2e87-4164-9b7d-7c5e6d716b5b",
   "metadata": {},
   "outputs": [],
   "source": [
    "x = daily_df_rent.count().index\n",
    "y = daily_df_rent.count()"
   ]
  },
  {
   "cell_type": "markdown",
   "id": "2139497b-35fa-4988-93ea-1a36f45d951c",
   "metadata": {},
   "source": [
    "#### 그래프 그리기"
   ]
  },
  {
   "cell_type": "code",
   "execution_count": 27,
   "id": "9b3dcb79-c8b1-4f14-9b1d-0d78b34689ca",
   "metadata": {},
   "outputs": [
    {
     "data": {
      "text/plain": [
       "Text(0.5, 1.0, 'Rent count')"
      ]
     },
     "execution_count": 27,
     "metadata": {},
     "output_type": "execute_result"
    },
    {
     "data": {
      "image/png": "[encoded data removed]",
      "text/plain": [
       "<Figure size 576x432 with 1 Axes>"
      ]
     },
     "metadata": {
      "needs_background": "light"
     },
     "output_type": "display_data"
    }
   ],
   "source": [
    "fig = plt.figure(figsize=(8, 6))\n",
    "ax = fig.add_subplot()\n",
    "ax.plot(x, y)\n",
    "ax.tick_params(axis='both', labelsize='large')\n",
    "ax.set_xlabel('Date', fontsize='large')\n",
    "ax.set_ylabel('Number of rent', fontsize='large')\n",
    "ax.set_title('Rent count', fontsize='x-large')"
   ]
  },
  {
   "cell_type": "markdown",
   "id": "b1edffed-fa99-46f4-95ec-d37360502d2d",
   "metadata": {},
   "source": [
    "#### 조건문으로 분석"
   ]
  },
  {
   "cell_type": "code",
   "execution_count": 28,
   "id": "c82a2903-d4a5-4874-9ab7-a27d92f70f88",
   "metadata": {},
   "outputs": [
    {
     "data": {
      "text/plain": [
       "4776"
      ]
     },
     "execution_count": 28,
     "metadata": {},
     "output_type": "execute_result"
    }
   ],
   "source": [
    "max(daily_df_rent.count())"
   ]
  },
  {
   "cell_type": "code",
   "execution_count": 29,
   "id": "a4c2fc7b-a477-474b-9c46-18af75dcc4a1",
   "metadata": {},
   "outputs": [
    {
     "data": {
      "text/plain": [
       "대여일시\n",
       "2016-01-01    False\n",
       "2016-01-02    False\n",
       "2016-01-03    False\n",
       "2016-01-04    False\n",
       "2016-01-05    False\n",
       "              ...  \n",
       "2020-12-27    False\n",
       "2020-12-28    False\n",
       "2020-12-29    False\n",
       "2020-12-30    False\n",
       "2020-12-31    False\n",
       "Name: 대여일시, Length: 1698, dtype: bool"
      ]
     },
     "execution_count": 29,
     "metadata": {},
     "output_type": "execute_result"
    }
   ],
   "source": [
    "daily_df_rent.count() == max(daily_df_rent.count())"
   ]
  },
  {
   "cell_type": "code",
   "execution_count": 12,
   "id": "a791ce50",
   "metadata": {},
   "outputs": [
    {
     "name": "stdout",
     "output_type": "stream",
     "text": [
      "가장 많이 대여한 날: 2016-05-05\n"
     ]
    }
   ],
   "source": [
    "print((f'가장 많이 대여한 날: '\n",
    "       f'{daily_df_rent.count().index[daily_df_rent.count() == max(daily_df_rent.count())][0]}'))"
   ]
  },
  {
   "cell_type": "markdown",
   "id": "ee25a16c-f2a5-4724-a45e-169d2d47d552",
   "metadata": {},
   "source": [
    "### Step 4. Question - 몇년 몇월에 가장 많이 대여했을까?"
   ]
  },
  {
   "cell_type": "markdown",
   "id": "5bb59753-866f-429b-a781-e434f81193ec",
   "metadata": {},
   "source": [
    "#### groupby 활용 그루핑"
   ]
  },
  {
   "cell_type": "code",
   "execution_count": 30,
   "id": "9b59a215-19ea-4444-afcb-0bcea64cbb78",
   "metadata": {},
   "outputs": [
    {
     "data": {
      "text/plain": [
       "<pandas.core.groupby.generic.SeriesGroupBy object at 0x7f0baee6c190>"
      ]
     },
     "execution_count": 30,
     "metadata": {},
     "output_type": "execute_result"
    }
   ],
   "source": [
    "monthly_df_rent = df_rent['대여일시'].groupby(by=rent_index.strftime('%Y-%m'))\n",
    "monthly_df_rent"
   ]
  },
  {
   "cell_type": "code",
   "execution_count": 31,
   "id": "06ec3233-16d2-4b13-9b89-8ebb040ef81b",
   "metadata": {},
   "outputs": [
    {
     "data": {
      "text/plain": [
       "Index(['2016-01', '2016-02', '2016-03', '2016-04', '2016-05', '2016-06',\n",
       "       '2016-07', '2016-08', '2016-09', '2016-10', '2016-11', '2016-12',\n",
       "       '2017-01', '2017-02', '2017-03', '2017-04', '2017-05', '2017-06',\n",
       "       '2017-07', '2017-08', '2017-09', '2017-10', '2017-11', '2017-12',\n",
       "       '2018-01', '2018-02', '2018-03', '2018-04', '2018-05', '2018-06',\n",
       "       '2018-07', '2018-08', '2018-09', '2018-10', '2018-11', '2018-12',\n",
       "       '2019-01', '2019-02', '2019-03', '2019-04', '2019-05', '2019-06',\n",
       "       '2019-07', '2019-08', '2020-01', '2020-02', '2020-03', '2020-04',\n",
       "       '2020-05', '2020-06', '2020-07', '2020-08', '2020-09', '2020-10',\n",
       "       '2020-11', '2020-12'],\n",
       "      dtype='object', name='대여일시')"
      ]
     },
     "execution_count": 31,
     "metadata": {},
     "output_type": "execute_result"
    }
   ],
   "source": [
    "monthly_df_rent.count().index"
   ]
  },
  {
   "cell_type": "code",
   "execution_count": 32,
   "id": "eb37a732-7382-4ab8-814c-3df9f61f847e",
   "metadata": {},
   "outputs": [
    {
     "data": {
      "text/plain": [
       "대여일시\n",
       "2016-01    22362\n",
       "2016-02    21490\n",
       "2016-03    57959\n",
       "2016-04    85271\n",
       "2016-05    96355\n",
       "2016-06    89328\n",
       "2016-07    67847\n",
       "2016-08    65611\n",
       "2016-09    72426\n",
       "2016-10    69292\n",
       "2016-11    38784\n",
       "2016-12    24014\n",
       "2017-01    19754\n",
       "2017-02    21026\n",
       "2017-03    47488\n",
       "2017-04    73579\n",
       "2017-05    84640\n",
       "2017-06    75428\n",
       "2017-07    45499\n",
       "2017-08    52135\n",
       "2017-09    81151\n",
       "2017-10    62954\n",
       "2017-11    33112\n",
       "2017-12    14202\n",
       "2018-01    11220\n",
       "2018-02    13345\n",
       "2018-03    40667\n",
       "2018-04    49826\n",
       "2018-05    59144\n",
       "2018-06    64128\n",
       "2018-07    46610\n",
       "2018-08    41570\n",
       "2018-09    63635\n",
       "2018-10    52111\n",
       "2018-11    31156\n",
       "2018-12    14772\n",
       "2019-01    14872\n",
       "2019-02    15761\n",
       "2019-03    30867\n",
       "2019-04    50223\n",
       "2019-05    69444\n",
       "2019-06    63667\n",
       "2019-07    58297\n",
       "2019-08    59574\n",
       "2020-01    19118\n",
       "2020-02    19993\n",
       "2020-03    54236\n",
       "2020-04    75288\n",
       "2020-05    75839\n",
       "2020-06    60215\n",
       "2020-07    49370\n",
       "2020-08    38560\n",
       "2020-09    73365\n",
       "2020-10    73324\n",
       "2020-11    36794\n",
       "2020-12    19676\n",
       "Name: 대여일시, dtype: int64"
      ]
     },
     "execution_count": 32,
     "metadata": {},
     "output_type": "execute_result"
    }
   ],
   "source": [
    "monthly_df_rent.count()"
   ]
  },
  {
   "cell_type": "markdown",
   "id": "7371f036-8e2d-4aa7-9e4a-4e57e897cadc",
   "metadata": {},
   "source": [
    "#### 그래프 데이터 준비"
   ]
  },
  {
   "cell_type": "code",
   "execution_count": 33,
   "id": "8d430b4e-2f64-4a05-a9eb-d5e9fd9f8c99",
   "metadata": {},
   "outputs": [],
   "source": [
    "x = monthly_df_rent.count().index\n",
    "y = monthly_df_rent.count()"
   ]
  },
  {
   "cell_type": "markdown",
   "id": "67552f96-076f-4738-b2d8-da21a91d3f80",
   "metadata": {},
   "source": [
    "#### 그래프 그리기"
   ]
  },
  {
   "cell_type": "code",
   "execution_count": 34,
   "id": "12b0d41e-72ee-4e4b-9496-278e8777ca34",
   "metadata": {},
   "outputs": [
    {
     "data": {
      "text/plain": [
       "Text(0.5, 1.0, 'Rent count')"
      ]
     },
     "execution_count": 34,
     "metadata": {},
     "output_type": "execute_result"
    },
    {
     "data": {
      "image/png": "[encoded data removed]",
      "text/plain": [
       "<Figure size 576x432 with 1 Axes>"
      ]
     },
     "metadata": {
      "needs_background": "light"
     },
     "output_type": "display_data"
    }
   ],
   "source": [
    "fig = plt.figure(figsize=(8, 6))\n",
    "ax = fig.add_subplot()\n",
    "ax.plot(x, y)\n",
    "ax.tick_params(axis='both', labelsize='large')\n",
    "ax.set_xlabel('Date', fontsize='large')\n",
    "ax.set_ylabel('Number of rent', fontsize='large')\n",
    "ax.set_title('Rent count', fontsize='x-large')"
   ]
  },
  {
   "cell_type": "markdown",
   "id": "ef5d5c03-8f1b-4ce1-bc0c-0a6594841426",
   "metadata": {},
   "source": [
    "#### 조건문으로 분석"
   ]
  },
  {
   "cell_type": "code",
   "execution_count": 35,
   "id": "75cde4e9-9ecd-495d-b8a8-3a5a4283d96f",
   "metadata": {},
   "outputs": [
    {
     "data": {
      "text/plain": [
       "96355"
      ]
     },
     "execution_count": 35,
     "metadata": {},
     "output_type": "execute_result"
    }
   ],
   "source": [
    "max(monthly_df_rent.count())"
   ]
  },
  {
   "cell_type": "code",
   "execution_count": 36,
   "id": "bfbdda95-a8c2-4164-819b-c064962f37cf",
   "metadata": {},
   "outputs": [
    {
     "data": {
      "text/plain": [
       "대여일시\n",
       "2016-01    False\n",
       "2016-02    False\n",
       "2016-03    False\n",
       "2016-04    False\n",
       "2016-05     True\n",
       "2016-06    False\n",
       "2016-07    False\n",
       "2016-08    False\n",
       "2016-09    False\n",
       "2016-10    False\n",
       "2016-11    False\n",
       "2016-12    False\n",
       "2017-01    False\n",
       "2017-02    False\n",
       "2017-03    False\n",
       "2017-04    False\n",
       "2017-05    False\n",
       "2017-06    False\n",
       "2017-07    False\n",
       "2017-08    False\n",
       "2017-09    False\n",
       "2017-10    False\n",
       "2017-11    False\n",
       "2017-12    False\n",
       "2018-01    False\n",
       "2018-02    False\n",
       "2018-03    False\n",
       "2018-04    False\n",
       "2018-05    False\n",
       "2018-06    False\n",
       "2018-07    False\n",
       "2018-08    False\n",
       "2018-09    False\n",
       "2018-10    False\n",
       "2018-11    False\n",
       "2018-12    False\n",
       "2019-01    False\n",
       "2019-02    False\n",
       "2019-03    False\n",
       "2019-04    False\n",
       "2019-05    False\n",
       "2019-06    False\n",
       "2019-07    False\n",
       "2019-08    False\n",
       "2020-01    False\n",
       "2020-02    False\n",
       "2020-03    False\n",
       "2020-04    False\n",
       "2020-05    False\n",
       "2020-06    False\n",
       "2020-07    False\n",
       "2020-08    False\n",
       "2020-09    False\n",
       "2020-10    False\n",
       "2020-11    False\n",
       "2020-12    False\n",
       "Name: 대여일시, dtype: bool"
      ]
     },
     "execution_count": 36,
     "metadata": {},
     "output_type": "execute_result"
    }
   ],
   "source": [
    "monthly_df_rent.count() == max(monthly_df_rent.count())"
   ]
  },
  {
   "cell_type": "code",
   "execution_count": 37,
   "id": "e909f24e-5d92-4691-b163-de094b9a3cc1",
   "metadata": {},
   "outputs": [
    {
     "name": "stdout",
     "output_type": "stream",
     "text": [
      "가장 많이 대여한 날: 2016-05\n"
     ]
    }
   ],
   "source": [
    "print((f'가장 많이 대여한 날: '\n",
    "       f'{monthly_df_rent.count().index[monthly_df_rent.count() == max(monthly_df_rent.count())][0]}'))"
   ]
  },
  {
   "cell_type": "markdown",
   "id": "9c8a1a60-06f3-40f3-9853-9f8e97cb2bb4",
   "metadata": {},
   "source": [
    "### Step 5. Question - 가장 많이 대여한 요일은?"
   ]
  },
  {
   "cell_type": "markdown",
   "id": "08d4da94-1093-48bd-9eee-6919df9dd90a",
   "metadata": {},
   "source": [
    "#### groupby 활용 그루핑"
   ]
  },
  {
   "cell_type": "code",
   "execution_count": 38,
   "id": "24290c42-ea13-44ba-9ba4-fb51f8bea6d3",
   "metadata": {},
   "outputs": [
    {
     "data": {
      "text/plain": [
       "<pandas.core.groupby.generic.SeriesGroupBy object at 0x7f0ba03d5f30>"
      ]
     },
     "execution_count": 38,
     "metadata": {},
     "output_type": "execute_result"
    }
   ],
   "source": [
    "weekly_df_rent = df_rent['대여일시'].groupby(by=rent_index.strftime('%w'))\n",
    "weekly_df_rent"
   ]
  },
  {
   "cell_type": "code",
   "execution_count": 39,
   "id": "e28bb735-507a-4950-9095-a51001432802",
   "metadata": {},
   "outputs": [
    {
     "data": {
      "text/plain": [
       "Index(['0', '1', '2', '3', '4', '5', '6'], dtype='object', name='대여일시')"
      ]
     },
     "execution_count": 39,
     "metadata": {},
     "output_type": "execute_result"
    }
   ],
   "source": [
    "weekly_df_rent.count().index"
   ]
  },
  {
   "cell_type": "code",
   "execution_count": 40,
   "id": "71d247ad-a3b1-4e9f-aa60-f9294ad40a41",
   "metadata": {},
   "outputs": [
    {
     "data": {
      "text/plain": [
       "대여일시\n",
       "0    408358\n",
       "1    370227\n",
       "2    386121\n",
       "3    382247\n",
       "4    393375\n",
       "5    396490\n",
       "6    431556\n",
       "Name: 대여일시, dtype: int64"
      ]
     },
     "execution_count": 40,
     "metadata": {},
     "output_type": "execute_result"
    }
   ],
   "source": [
    "weekly_df_rent.count()"
   ]
  },
  {
   "cell_type": "markdown",
   "id": "fafa86e7-763a-46bc-a5c8-f15cd6ff27c5",
   "metadata": {},
   "source": [
    "#### 그래프 데이터 준비"
   ]
  },
  {
   "cell_type": "code",
   "execution_count": 41,
   "id": "e1efa768",
   "metadata": {},
   "outputs": [],
   "source": [
    "x = weekly_df_rent.count().index\n",
    "y = weekly_df_rent.count()\n",
    "labels = {0: 'Monday', 1: 'Tuesday', 2: 'Wednesday', 3: 'Thursday', 4: 'Friday', 5: 'Saturday', 6: 'Sunday'}\n",
    "colors = ['r', 'g', 'b', 'k', 'y', 'm', 'c']"
   ]
  },
  {
   "cell_type": "markdown",
   "id": "76225f3e-5168-407b-ac50-9b287af2df10",
   "metadata": {},
   "source": [
    "#### 그래프 그리기"
   ]
  },
  {
   "cell_type": "code",
   "execution_count": 45,
   "id": "7374cf55-0f58-429d-b02d-6b1eb3a0fd0c",
   "metadata": {},
   "outputs": [
    {
     "data": {
      "text/plain": [
       "Text(0.5, 1.0, 'Rent count')"
      ]
     },
     "execution_count": 45,
     "metadata": {},
     "output_type": "execute_result"
    },
    {
     "data": {
      "image/png": "[encoded data removed]",
      "text/plain": [
       "<Figure size 576x432 with 1 Axes>"
      ]
     },
     "metadata": {
      "needs_background": "light"
     },
     "output_type": "display_data"
    }
   ],
   "source": [
    "fig = plt.figure(figsize=(8, 6))\n",
    "ax = fig.add_subplot()\n",
    "ax.bar(x, y, color=colors, tick_label=list(labels.values()))\n",
    "ax.tick_params(axis='both', labelsize='large')\n",
    "ax.set_xlabel('Date', fontsize='large')\n",
    "ax.set_ylabel('Number of rent', fontsize='large')\n",
    "ax.set_title('Rent count', fontsize='x-large')"
   ]
  },
  {
   "cell_type": "markdown",
   "id": "c081a43e-082d-4ba3-9c0d-8bc9b86f5eec",
   "metadata": {},
   "source": [
    "#### 조건문으로 분석"
   ]
  },
  {
   "cell_type": "code",
   "execution_count": 46,
   "id": "6a6d9d17-7e27-47bc-a697-cc8033f970fe",
   "metadata": {},
   "outputs": [
    {
     "data": {
      "text/plain": [
       "431556"
      ]
     },
     "execution_count": 46,
     "metadata": {},
     "output_type": "execute_result"
    }
   ],
   "source": [
    "max(weekly_df_rent.count())"
   ]
  },
  {
   "cell_type": "code",
   "execution_count": 47,
   "id": "55156b5b-8e9c-4783-a9ca-4c107a3063db",
   "metadata": {},
   "outputs": [
    {
     "data": {
      "text/plain": [
       "대여일시\n",
       "0    False\n",
       "1    False\n",
       "2    False\n",
       "3    False\n",
       "4    False\n",
       "5    False\n",
       "6     True\n",
       "Name: 대여일시, dtype: bool"
      ]
     },
     "execution_count": 47,
     "metadata": {},
     "output_type": "execute_result"
    }
   ],
   "source": [
    "weekly_df_rent.count() == max(weekly_df_rent.count())"
   ]
  },
  {
   "cell_type": "code",
   "execution_count": 48,
   "id": "56f095d6",
   "metadata": {},
   "outputs": [
    {
     "name": "stdout",
     "output_type": "stream",
     "text": [
      "가장 많이 대여한 날: 6\n"
     ]
    }
   ],
   "source": [
    "print((f'가장 많이 대여한 날: '\n",
    "       f'{weekly_df_rent.count().index[weekly_df_rent.count() == max(weekly_df_rent.count())][0]}'))"
   ]
  },
  {
   "cell_type": "markdown",
   "id": "b9affff8-fd19-4e64-98f0-f7378b48e935",
   "metadata": {},
   "source": [
    "### Step 6. Question - 어디서 가장 많이 빌리는가?"
   ]
  },
  {
   "cell_type": "markdown",
   "id": "6a89f900",
   "metadata": {},
   "source": [
    "#### 대여 정류장으로 groupby"
   ]
  },
  {
   "cell_type": "code",
   "execution_count": 49,
   "id": "ecce9942-a304-41b9-b68c-2e7d0aab491d",
   "metadata": {},
   "outputs": [
    {
     "data": {
      "text/plain": [
       "<pandas.core.groupby.generic.SeriesGroupBy object at 0x7f0b94bca440>"
      ]
     },
     "execution_count": 49,
     "metadata": {},
     "output_type": "execute_result"
    }
   ],
   "source": [
    "station_df_rent = df_rent['대여스테이션'].groupby(by=df_rent['대여스테이션'])\n",
    "station_df_rent"
   ]
  },
  {
   "cell_type": "code",
   "execution_count": 50,
   "id": "0dbc7501-6919-498f-9ac2-099c5b857571",
   "metadata": {},
   "outputs": [
    {
     "data": {
      "text/plain": [
       "대여스테이션\n",
       "1      19470\n",
       "2      17898\n",
       "3      93912\n",
       "4      26104\n",
       "5      19544\n",
       "       ...  \n",
       "258     2141\n",
       "259     7555\n",
       "260     3314\n",
       "261     1509\n",
       "262      775\n",
       "Name: 대여스테이션, Length: 262, dtype: int64"
      ]
     },
     "execution_count": 50,
     "metadata": {},
     "output_type": "execute_result"
    }
   ],
   "source": [
    "station_df_rent.count()"
   ]
  },
  {
   "cell_type": "markdown",
   "id": "431150a8-66bd-4491-9d0a-c57819435a9e",
   "metadata": {},
   "source": [
    "#### 대여 정류장 정렬"
   ]
  },
  {
   "cell_type": "code",
   "execution_count": 51,
   "id": "93bc6125-62b5-44be-ae87-94274d96a5e2",
   "metadata": {},
   "outputs": [
    {
     "data": {
      "text/plain": [
       "대여스테이션\n",
       "3      93912\n",
       "186    82008\n",
       "56     51536\n",
       "31     49920\n",
       "17     49214\n",
       "       ...  \n",
       "205      926\n",
       "262      775\n",
       "128      729\n",
       "255      637\n",
       "211      320\n",
       "Name: 대여스테이션, Length: 262, dtype: int64"
      ]
     },
     "execution_count": 51,
     "metadata": {},
     "output_type": "execute_result"
    }
   ],
   "source": [
    "sorted_rent_station = station_df_rent.count().sort_values(ascending=False)\n",
    "sorted_rent_station"
   ]
  },
  {
   "cell_type": "markdown",
   "id": "3e602729-60ae-4770-adf0-a45a4cbcb814",
   "metadata": {},
   "source": [
    "#### 정류장 정보 필터링"
   ]
  },
  {
   "cell_type": "code",
   "execution_count": 52,
   "id": "a0ff1f4b-d069-424e-922d-89c0cfe81d0f",
   "metadata": {},
   "outputs": [
    {
     "data": {
      "text/html": [
       "<div>\n",
       "<style scoped>\n",
       "    .dataframe tbody tr th:only-of-type {\n",
       "        vertical-align: middle;\n",
       "    }\n",
       "\n",
       "    .dataframe tbody tr th {\n",
       "        vertical-align: top;\n",
       "    }\n",
       "\n",
       "    .dataframe thead th {\n",
       "        text-align: right;\n",
       "    }\n",
       "</style>\n",
       "<table border=\"1\" class=\"dataframe\">\n",
       "  <thead>\n",
       "    <tr style=\"text-align: right;\">\n",
       "      <th></th>\n",
       "      <th>Station 스테이션/성명</th>\n",
       "      <th>위치</th>\n",
       "      <th>광역시도코드</th>\n",
       "      <th>광역시도명</th>\n",
       "      <th>시군구코드</th>\n",
       "      <th>시군구명</th>\n",
       "      <th>법정동코드</th>\n",
       "      <th>법정동명</th>\n",
       "      <th>행정동코드</th>\n",
       "      <th>행정동명</th>\n",
       "    </tr>\n",
       "    <tr>\n",
       "      <th>연번</th>\n",
       "      <th></th>\n",
       "      <th></th>\n",
       "      <th></th>\n",
       "      <th></th>\n",
       "      <th></th>\n",
       "      <th></th>\n",
       "      <th></th>\n",
       "      <th></th>\n",
       "      <th></th>\n",
       "      <th></th>\n",
       "    </tr>\n",
       "  </thead>\n",
       "  <tbody>\n",
       "    <tr>\n",
       "      <th>3</th>\n",
       "      <td>한밭수목원1</td>\n",
       "      <td>대전광역시 서구 만년동 396</td>\n",
       "      <td>30</td>\n",
       "      <td>대전광역시</td>\n",
       "      <td>30170</td>\n",
       "      <td>서구</td>\n",
       "      <td>3017012800</td>\n",
       "      <td>만년동</td>\n",
       "      <td>3017065000</td>\n",
       "      <td>만년동</td>\n",
       "    </tr>\n",
       "  </tbody>\n",
       "</table>\n",
       "</div>"
      ],
      "text/plain": [
       "   Station 스테이션/성명                위치  광역시도코드  광역시도명  시군구코드 시군구명       법정동코드  \\\n",
       "연번                                                                            \n",
       "3           한밭수목원1  대전광역시 서구 만년동 396      30  대전광역시  30170   서구  3017012800   \n",
       "\n",
       "   법정동명       행정동코드 행정동명  \n",
       "연번                        \n",
       "3   만년동  3017065000  만년동  "
      ]
     },
     "execution_count": 52,
     "metadata": {},
     "output_type": "execute_result"
    }
   ],
   "source": [
    "df_station[df_station.index == sorted_rent_station.index[0]]"
   ]
  },
  {
   "cell_type": "markdown",
   "id": "4d01e26f-c203-406e-9a91-878c7e0ad593",
   "metadata": {},
   "source": [
    "### Step 7. Question - 이동 목적으로 이용하는가?"
   ]
  },
  {
   "cell_type": "markdown",
   "id": "b8c57f05-0067-48ba-a401-e9d8e1f9331c",
   "metadata": {},
   "source": [
    "#### 이동 목적 대여량"
   ]
  },
  {
   "cell_type": "code",
   "execution_count": 53,
   "id": "4286fc7c-b5bf-4596-b0a0-6f2fce10df19",
   "metadata": {},
   "outputs": [
    {
     "data": {
      "text/html": [
       "<div>\n",
       "<style scoped>\n",
       "    .dataframe tbody tr th:only-of-type {\n",
       "        vertical-align: middle;\n",
       "    }\n",
       "\n",
       "    .dataframe tbody tr th {\n",
       "        vertical-align: top;\n",
       "    }\n",
       "\n",
       "    .dataframe thead th {\n",
       "        text-align: right;\n",
       "    }\n",
       "</style>\n",
       "<table border=\"1\" class=\"dataframe\">\n",
       "  <thead>\n",
       "    <tr style=\"text-align: right;\">\n",
       "      <th></th>\n",
       "      <th>대여스테이션</th>\n",
       "      <th>대여일시</th>\n",
       "      <th>반납스테이션</th>\n",
       "      <th>반납일시</th>\n",
       "      <th>이동거리</th>\n",
       "      <th>회원구분</th>\n",
       "    </tr>\n",
       "  </thead>\n",
       "  <tbody>\n",
       "    <tr>\n",
       "      <th>0</th>\n",
       "      <td>46</td>\n",
       "      <td>2016-01-01 05:00:15</td>\n",
       "      <td>17</td>\n",
       "      <td>2016-01-01 05:04:51</td>\n",
       "      <td>380.0</td>\n",
       "      <td>0</td>\n",
       "    </tr>\n",
       "    <tr>\n",
       "      <th>1</th>\n",
       "      <td>152</td>\n",
       "      <td>2016-01-01 05:06:29</td>\n",
       "      <td>82</td>\n",
       "      <td>2016-01-01 05:37:53</td>\n",
       "      <td>3190.0</td>\n",
       "      <td>2</td>\n",
       "    </tr>\n",
       "    <tr>\n",
       "      <th>2</th>\n",
       "      <td>133</td>\n",
       "      <td>2016-01-01 05:24:16</td>\n",
       "      <td>172</td>\n",
       "      <td>2016-01-01 05:56:47</td>\n",
       "      <td>2070.0</td>\n",
       "      <td>2</td>\n",
       "    </tr>\n",
       "    <tr>\n",
       "      <th>3</th>\n",
       "      <td>133</td>\n",
       "      <td>2016-01-01 05:29:19</td>\n",
       "      <td>172</td>\n",
       "      <td>2016-01-01 05:57:34</td>\n",
       "      <td>2080.0</td>\n",
       "      <td>2</td>\n",
       "    </tr>\n",
       "    <tr>\n",
       "      <th>4</th>\n",
       "      <td>39</td>\n",
       "      <td>2016-01-01 05:32:44</td>\n",
       "      <td>57</td>\n",
       "      <td>2016-01-01 05:40:33</td>\n",
       "      <td>860.0</td>\n",
       "      <td>0</td>\n",
       "    </tr>\n",
       "    <tr>\n",
       "      <th>...</th>\n",
       "      <td>...</td>\n",
       "      <td>...</td>\n",
       "      <td>...</td>\n",
       "      <td>...</td>\n",
       "      <td>...</td>\n",
       "      <td>...</td>\n",
       "    </tr>\n",
       "    <tr>\n",
       "      <th>2791300</th>\n",
       "      <td>56</td>\n",
       "      <td>2020-12-31 23:36:38</td>\n",
       "      <td>148</td>\n",
       "      <td>2020-12-31 23:49:42</td>\n",
       "      <td>0.0</td>\n",
       "      <td>2</td>\n",
       "    </tr>\n",
       "    <tr>\n",
       "      <th>2791301</th>\n",
       "      <td>87</td>\n",
       "      <td>2020-12-31 23:38:50</td>\n",
       "      <td>118</td>\n",
       "      <td>2021-01-01 00:21:39</td>\n",
       "      <td>0.0</td>\n",
       "      <td>2</td>\n",
       "    </tr>\n",
       "    <tr>\n",
       "      <th>2791303</th>\n",
       "      <td>42</td>\n",
       "      <td>2020-12-31 23:45:59</td>\n",
       "      <td>83</td>\n",
       "      <td>2021-01-01 00:12:15</td>\n",
       "      <td>2470.0</td>\n",
       "      <td>0</td>\n",
       "    </tr>\n",
       "    <tr>\n",
       "      <th>2791304</th>\n",
       "      <td>115</td>\n",
       "      <td>2020-12-31 23:51:32</td>\n",
       "      <td>196</td>\n",
       "      <td>2021-01-01 00:15:02</td>\n",
       "      <td>1730.0</td>\n",
       "      <td>0</td>\n",
       "    </tr>\n",
       "    <tr>\n",
       "      <th>2791305</th>\n",
       "      <td>60</td>\n",
       "      <td>2020-12-31 23:56:03</td>\n",
       "      <td>108</td>\n",
       "      <td>2021-01-01 00:12:37</td>\n",
       "      <td>1590.0</td>\n",
       "      <td>2</td>\n",
       "    </tr>\n",
       "  </tbody>\n",
       "</table>\n",
       "<p>2237205 rows × 6 columns</p>\n",
       "</div>"
      ],
      "text/plain": [
       "         대여스테이션                대여일시  반납스테이션                반납일시    이동거리  회원구분\n",
       "0            46 2016-01-01 05:00:15      17 2016-01-01 05:04:51   380.0     0\n",
       "1           152 2016-01-01 05:06:29      82 2016-01-01 05:37:53  3190.0     2\n",
       "2           133 2016-01-01 05:24:16     172 2016-01-01 05:56:47  2070.0     2\n",
       "3           133 2016-01-01 05:29:19     172 2016-01-01 05:57:34  2080.0     2\n",
       "4            39 2016-01-01 05:32:44      57 2016-01-01 05:40:33   860.0     0\n",
       "...         ...                 ...     ...                 ...     ...   ...\n",
       "2791300      56 2020-12-31 23:36:38     148 2020-12-31 23:49:42     0.0     2\n",
       "2791301      87 2020-12-31 23:38:50     118 2021-01-01 00:21:39     0.0     2\n",
       "2791303      42 2020-12-31 23:45:59      83 2021-01-01 00:12:15  2470.0     0\n",
       "2791304     115 2020-12-31 23:51:32     196 2021-01-01 00:15:02  1730.0     0\n",
       "2791305      60 2020-12-31 23:56:03     108 2021-01-01 00:12:37  1590.0     2\n",
       "\n",
       "[2237205 rows x 6 columns]"
      ]
     },
     "execution_count": 53,
     "metadata": {},
     "output_type": "execute_result"
    }
   ],
   "source": [
    "diff_rent = df_rent[df_rent['대여스테이션'] != df_rent['반납스테이션']]\n",
    "diff_rent"
   ]
  },
  {
   "cell_type": "markdown",
   "id": "ed5c51d3-6d4b-497e-936b-1d87fb4893e5",
   "metadata": {},
   "source": [
    "#### 여가 목적 대여량"
   ]
  },
  {
   "cell_type": "code",
   "execution_count": 54,
   "id": "07b5b119-9716-43b9-8305-fb32a81fe67a",
   "metadata": {},
   "outputs": [
    {
     "data": {
      "text/html": [
       "<div>\n",
       "<style scoped>\n",
       "    .dataframe tbody tr th:only-of-type {\n",
       "        vertical-align: middle;\n",
       "    }\n",
       "\n",
       "    .dataframe tbody tr th {\n",
       "        vertical-align: top;\n",
       "    }\n",
       "\n",
       "    .dataframe thead th {\n",
       "        text-align: right;\n",
       "    }\n",
       "</style>\n",
       "<table border=\"1\" class=\"dataframe\">\n",
       "  <thead>\n",
       "    <tr style=\"text-align: right;\">\n",
       "      <th></th>\n",
       "      <th>대여스테이션</th>\n",
       "      <th>대여일시</th>\n",
       "      <th>반납스테이션</th>\n",
       "      <th>반납일시</th>\n",
       "      <th>이동거리</th>\n",
       "      <th>회원구분</th>\n",
       "    </tr>\n",
       "  </thead>\n",
       "  <tbody>\n",
       "    <tr>\n",
       "      <th>13</th>\n",
       "      <td>157</td>\n",
       "      <td>2016-01-01 07:27:38</td>\n",
       "      <td>157</td>\n",
       "      <td>2016-01-01 07:50:22</td>\n",
       "      <td>740.0</td>\n",
       "      <td>0</td>\n",
       "    </tr>\n",
       "    <tr>\n",
       "      <th>27</th>\n",
       "      <td>145</td>\n",
       "      <td>2016-01-01 08:22:15</td>\n",
       "      <td>145</td>\n",
       "      <td>2016-01-01 08:22:35</td>\n",
       "      <td>0.0</td>\n",
       "      <td>2</td>\n",
       "    </tr>\n",
       "    <tr>\n",
       "      <th>83</th>\n",
       "      <td>35</td>\n",
       "      <td>2016-01-01 09:59:29</td>\n",
       "      <td>35</td>\n",
       "      <td>2016-01-01 10:19:09</td>\n",
       "      <td>1480.0</td>\n",
       "      <td>2</td>\n",
       "    </tr>\n",
       "    <tr>\n",
       "      <th>86</th>\n",
       "      <td>14</td>\n",
       "      <td>2016-01-01 10:16:17</td>\n",
       "      <td>14</td>\n",
       "      <td>2016-01-01 10:16:44</td>\n",
       "      <td>0.0</td>\n",
       "      <td>0</td>\n",
       "    </tr>\n",
       "    <tr>\n",
       "      <th>93</th>\n",
       "      <td>80</td>\n",
       "      <td>2016-01-01 10:37:27</td>\n",
       "      <td>80</td>\n",
       "      <td>2016-01-01 11:05:49</td>\n",
       "      <td>2550.0</td>\n",
       "      <td>1</td>\n",
       "    </tr>\n",
       "    <tr>\n",
       "      <th>...</th>\n",
       "      <td>...</td>\n",
       "      <td>...</td>\n",
       "      <td>...</td>\n",
       "      <td>...</td>\n",
       "      <td>...</td>\n",
       "      <td>...</td>\n",
       "    </tr>\n",
       "    <tr>\n",
       "      <th>2791273</th>\n",
       "      <td>206</td>\n",
       "      <td>2020-12-31 21:34:23</td>\n",
       "      <td>206</td>\n",
       "      <td>2020-12-31 22:29:45</td>\n",
       "      <td>650.0</td>\n",
       "      <td>2</td>\n",
       "    </tr>\n",
       "    <tr>\n",
       "      <th>2791280</th>\n",
       "      <td>147</td>\n",
       "      <td>2020-12-31 22:05:11</td>\n",
       "      <td>147</td>\n",
       "      <td>2020-12-31 22:22:12</td>\n",
       "      <td>1170.0</td>\n",
       "      <td>2</td>\n",
       "    </tr>\n",
       "    <tr>\n",
       "      <th>2791290</th>\n",
       "      <td>122</td>\n",
       "      <td>2020-12-31 22:57:25</td>\n",
       "      <td>122</td>\n",
       "      <td>2020-12-31 23:35:23</td>\n",
       "      <td>3050.0</td>\n",
       "      <td>2</td>\n",
       "    </tr>\n",
       "    <tr>\n",
       "      <th>2791291</th>\n",
       "      <td>174</td>\n",
       "      <td>2020-12-31 22:59:31</td>\n",
       "      <td>174</td>\n",
       "      <td>2020-12-31 22:59:49</td>\n",
       "      <td>0.0</td>\n",
       "      <td>2</td>\n",
       "    </tr>\n",
       "    <tr>\n",
       "      <th>2791302</th>\n",
       "      <td>182</td>\n",
       "      <td>2020-12-31 23:38:56</td>\n",
       "      <td>182</td>\n",
       "      <td>2020-12-31 23:39:37</td>\n",
       "      <td>0.0</td>\n",
       "      <td>2</td>\n",
       "    </tr>\n",
       "  </tbody>\n",
       "</table>\n",
       "<p>531169 rows × 6 columns</p>\n",
       "</div>"
      ],
      "text/plain": [
       "         대여스테이션                대여일시  반납스테이션                반납일시    이동거리  회원구분\n",
       "13          157 2016-01-01 07:27:38     157 2016-01-01 07:50:22   740.0     0\n",
       "27          145 2016-01-01 08:22:15     145 2016-01-01 08:22:35     0.0     2\n",
       "83           35 2016-01-01 09:59:29      35 2016-01-01 10:19:09  1480.0     2\n",
       "86           14 2016-01-01 10:16:17      14 2016-01-01 10:16:44     0.0     0\n",
       "93           80 2016-01-01 10:37:27      80 2016-01-01 11:05:49  2550.0     1\n",
       "...         ...                 ...     ...                 ...     ...   ...\n",
       "2791273     206 2020-12-31 21:34:23     206 2020-12-31 22:29:45   650.0     2\n",
       "2791280     147 2020-12-31 22:05:11     147 2020-12-31 22:22:12  1170.0     2\n",
       "2791290     122 2020-12-31 22:57:25     122 2020-12-31 23:35:23  3050.0     2\n",
       "2791291     174 2020-12-31 22:59:31     174 2020-12-31 22:59:49     0.0     2\n",
       "2791302     182 2020-12-31 23:38:56     182 2020-12-31 23:39:37     0.0     2\n",
       "\n",
       "[531169 rows x 6 columns]"
      ]
     },
     "execution_count": 54,
     "metadata": {},
     "output_type": "execute_result"
    }
   ],
   "source": [
    "same_rent = df_rent[df_rent['대여스테이션'] == df_rent['반납스테이션']]\n",
    "same_rent"
   ]
  },
  {
   "cell_type": "markdown",
   "id": "e623915c-1b41-43f8-9fcf-04007785c5d2",
   "metadata": {},
   "source": [
    "#### 이동 목적 대여 최대 정류장"
   ]
  },
  {
   "cell_type": "code",
   "execution_count": 55,
   "id": "3d314496",
   "metadata": {},
   "outputs": [
    {
     "data": {
      "text/plain": [
       "대여스테이션\n",
       "186    51132\n",
       "3      48480\n",
       "17     43234\n",
       "56     42157\n",
       "33     38512\n",
       "       ...  \n",
       "205      623\n",
       "262      535\n",
       "255      533\n",
       "128      440\n",
       "211      223\n",
       "Name: 대여스테이션, Length: 262, dtype: int64"
      ]
     },
     "execution_count": 55,
     "metadata": {},
     "output_type": "execute_result"
    }
   ],
   "source": [
    "t = diff_rent['대여스테이션'].groupby(by=diff_rent['대여스테이션'])\n",
    "sorted_t = t.count().sort_values(ascending=False)\n",
    "sorted_t"
   ]
  },
  {
   "cell_type": "markdown",
   "id": "67454cee-bf59-45c3-9055-da929f06ae5e",
   "metadata": {},
   "source": [
    "#### 이동 목적 대여 최대 정류장 정보"
   ]
  },
  {
   "cell_type": "code",
   "execution_count": 56,
   "id": "d361db7b",
   "metadata": {},
   "outputs": [
    {
     "data": {
      "text/html": [
       "<div>\n",
       "<style scoped>\n",
       "    .dataframe tbody tr th:only-of-type {\n",
       "        vertical-align: middle;\n",
       "    }\n",
       "\n",
       "    .dataframe tbody tr th {\n",
       "        vertical-align: top;\n",
       "    }\n",
       "\n",
       "    .dataframe thead th {\n",
       "        text-align: right;\n",
       "    }\n",
       "</style>\n",
       "<table border=\"1\" class=\"dataframe\">\n",
       "  <thead>\n",
       "    <tr style=\"text-align: right;\">\n",
       "      <th></th>\n",
       "      <th>Station 스테이션/성명</th>\n",
       "      <th>위치</th>\n",
       "      <th>광역시도코드</th>\n",
       "      <th>광역시도명</th>\n",
       "      <th>시군구코드</th>\n",
       "      <th>시군구명</th>\n",
       "      <th>법정동코드</th>\n",
       "      <th>법정동명</th>\n",
       "      <th>행정동코드</th>\n",
       "      <th>행정동명</th>\n",
       "    </tr>\n",
       "    <tr>\n",
       "      <th>연번</th>\n",
       "      <th></th>\n",
       "      <th></th>\n",
       "      <th></th>\n",
       "      <th></th>\n",
       "      <th></th>\n",
       "      <th></th>\n",
       "      <th></th>\n",
       "      <th></th>\n",
       "      <th></th>\n",
       "      <th></th>\n",
       "    </tr>\n",
       "  </thead>\n",
       "  <tbody>\n",
       "    <tr>\n",
       "      <th>186</th>\n",
       "      <td>한밭수목원2</td>\n",
       "      <td>대전광역시 서구 만년동 396</td>\n",
       "      <td>30</td>\n",
       "      <td>대전광역시</td>\n",
       "      <td>30170</td>\n",
       "      <td>서구</td>\n",
       "      <td>3017012800</td>\n",
       "      <td>만년동</td>\n",
       "      <td>3017065000</td>\n",
       "      <td>만년동</td>\n",
       "    </tr>\n",
       "  </tbody>\n",
       "</table>\n",
       "</div>"
      ],
      "text/plain": [
       "    Station 스테이션/성명                위치  광역시도코드  광역시도명  시군구코드 시군구명       법정동코드  \\\n",
       "연번                                                                             \n",
       "186          한밭수목원2  대전광역시 서구 만년동 396      30  대전광역시  30170   서구  3017012800   \n",
       "\n",
       "    법정동명       행정동코드 행정동명  \n",
       "연번                         \n",
       "186  만년동  3017065000  만년동  "
      ]
     },
     "execution_count": 56,
     "metadata": {},
     "output_type": "execute_result"
    }
   ],
   "source": [
    "df_station[df_station.index == sorted_t.index[0]]"
   ]
  },
  {
   "cell_type": "markdown",
   "id": "27b11545-097a-4188-9cd0-a4322f0ea161",
   "metadata": {},
   "source": [
    "#### 여가 목적 대여 최대 정류장"
   ]
  },
  {
   "cell_type": "code",
   "execution_count": 57,
   "id": "77eb9187",
   "metadata": {},
   "outputs": [
    {
     "data": {
      "text/plain": [
       "대여스테이션\n",
       "3      45432\n",
       "186    30876\n",
       "31     13890\n",
       "56      9379\n",
       "33      6866\n",
       "       ...  \n",
       "262      240\n",
       "235      234\n",
       "210      202\n",
       "255      104\n",
       "211       97\n",
       "Name: 대여스테이션, Length: 262, dtype: int64"
      ]
     },
     "execution_count": 57,
     "metadata": {},
     "output_type": "execute_result"
    }
   ],
   "source": [
    "t = same_rent['대여스테이션'].groupby(by=same_rent['대여스테이션'])\n",
    "sorted_t = t.count().sort_values(ascending=False)\n",
    "sorted_t"
   ]
  },
  {
   "cell_type": "markdown",
   "id": "cd91a313-4b8e-47ac-95a3-30e5c49dc838",
   "metadata": {},
   "source": [
    "### Step 8. Question - 정류장 기준 가장 많이 이용하는 경로는?"
   ]
  },
  {
   "cell_type": "markdown",
   "id": "d7976189-432c-4e65-882c-ea98964d2d60",
   "metadata": {},
   "source": [
    "#### groupby 를 순차적으로 적용"
   ]
  },
  {
   "cell_type": "code",
   "execution_count": 58,
   "id": "0e4b1bec",
   "metadata": {},
   "outputs": [
    {
     "data": {
      "text/plain": [
       "대여스테이션  반납스테이션\n",
       "1       1         4386\n",
       "        2          261\n",
       "        3         1596\n",
       "        4          143\n",
       "        5          271\n",
       "                  ... \n",
       "262     232          2\n",
       "        250          2\n",
       "        253          2\n",
       "        256          1\n",
       "        262        240\n",
       "Name: 대여일시, Length: 40898, dtype: int64"
      ]
     },
     "execution_count": 58,
     "metadata": {},
     "output_type": "execute_result"
    }
   ],
   "source": [
    "df = df_rent['대여일시'].groupby(by=[df_rent['대여스테이션'], df_rent['반납스테이션']])\n",
    "df.count()"
   ]
  },
  {
   "cell_type": "markdown",
   "id": "7cb5d0c2-3e4c-42c0-b36f-5889e8d39b24",
   "metadata": {},
   "source": [
    "#### 조건문으로 빠르게 확인!"
   ]
  },
  {
   "cell_type": "code",
   "execution_count": 59,
   "id": "3d44b24a",
   "metadata": {},
   "outputs": [
    {
     "data": {
      "text/plain": [
       "MultiIndex([(3, 3)],\n",
       "           names=['대여스테이션', '반납스테이션'])"
      ]
     },
     "execution_count": 59,
     "metadata": {},
     "output_type": "execute_result"
    }
   ],
   "source": [
    "df.count().index[df.count() == max(df.count())]"
   ]
  },
  {
   "cell_type": "markdown",
   "id": "5eb15d62-1dcb-4142-8606-3ca52a39d33b",
   "metadata": {},
   "source": [
    "#### 이동 목적 데이터에서만 확인"
   ]
  },
  {
   "cell_type": "code",
   "execution_count": 60,
   "id": "cb061042",
   "metadata": {},
   "outputs": [
    {
     "data": {
      "text/plain": [
       "대여스테이션  반납스테이션\n",
       "1       2          261\n",
       "        3         1596\n",
       "        4          143\n",
       "        5          271\n",
       "        6           79\n",
       "                  ... \n",
       "262     231          1\n",
       "        232          2\n",
       "        250          2\n",
       "        253          2\n",
       "        256          1\n",
       "Name: 대여일시, Length: 40636, dtype: int64"
      ]
     },
     "execution_count": 60,
     "metadata": {},
     "output_type": "execute_result"
    }
   ],
   "source": [
    "df = diff_rent['대여일시'].groupby(by=[diff_rent['대여스테이션'], diff_rent['반납스테이션']])\n",
    "df.count()"
   ]
  },
  {
   "cell_type": "markdown",
   "id": "c17d29e7-53f6-4a2c-bbb2-c4f8ab741113",
   "metadata": {},
   "source": [
    "#### 조건문으로 결과 확인"
   ]
  },
  {
   "cell_type": "code",
   "execution_count": 61,
   "id": "aa8dbcbc",
   "metadata": {},
   "outputs": [
    {
     "data": {
      "text/plain": [
       "MultiIndex([(186, 3)],\n",
       "           names=['대여스테이션', '반납스테이션'])"
      ]
     },
     "execution_count": 61,
     "metadata": {},
     "output_type": "execute_result"
    }
   ],
   "source": [
    "df.count().index[df.count() == max(df.count())]"
   ]
  },
  {
   "cell_type": "markdown",
   "id": "87fc6a86",
   "metadata": {},
   "source": [
    "### Step 9. Question - 이동 거리 분석"
   ]
  },
  {
   "cell_type": "markdown",
   "id": "0ddaaeda-73f3-4d85-8d32-e0e0d9b39893",
   "metadata": {},
   "source": [
    "#### groupby 처리"
   ]
  },
  {
   "cell_type": "code",
   "execution_count": 65,
   "id": "a617378a",
   "metadata": {},
   "outputs": [
    {
     "data": {
      "text/html": [
       "<div>\n",
       "<style scoped>\n",
       "    .dataframe tbody tr th:only-of-type {\n",
       "        vertical-align: middle;\n",
       "    }\n",
       "\n",
       "    .dataframe tbody tr th {\n",
       "        vertical-align: top;\n",
       "    }\n",
       "\n",
       "    .dataframe thead th {\n",
       "        text-align: right;\n",
       "    }\n",
       "</style>\n",
       "<table border=\"1\" class=\"dataframe\">\n",
       "  <thead>\n",
       "    <tr style=\"text-align: right;\">\n",
       "      <th></th>\n",
       "      <th></th>\n",
       "      <th>이동거리</th>\n",
       "      <th>회원구분</th>\n",
       "    </tr>\n",
       "    <tr>\n",
       "      <th>대여스테이션</th>\n",
       "      <th>반납스테이션</th>\n",
       "      <th></th>\n",
       "      <th></th>\n",
       "    </tr>\n",
       "  </thead>\n",
       "  <tbody>\n",
       "    <tr>\n",
       "      <th rowspan=\"5\" valign=\"top\">1</th>\n",
       "      <th>1</th>\n",
       "      <td>1372.067993</td>\n",
       "      <td>1.868217</td>\n",
       "    </tr>\n",
       "    <tr>\n",
       "      <th>2</th>\n",
       "      <td>1525.517212</td>\n",
       "      <td>1.517241</td>\n",
       "    </tr>\n",
       "    <tr>\n",
       "      <th>3</th>\n",
       "      <td>1605.119019</td>\n",
       "      <td>1.909774</td>\n",
       "    </tr>\n",
       "    <tr>\n",
       "      <th>4</th>\n",
       "      <td>1470.839111</td>\n",
       "      <td>1.769231</td>\n",
       "    </tr>\n",
       "    <tr>\n",
       "      <th>5</th>\n",
       "      <td>1674.870850</td>\n",
       "      <td>1.848708</td>\n",
       "    </tr>\n",
       "    <tr>\n",
       "      <th>...</th>\n",
       "      <th>...</th>\n",
       "      <td>...</td>\n",
       "      <td>...</td>\n",
       "    </tr>\n",
       "    <tr>\n",
       "      <th rowspan=\"5\" valign=\"top\">262</th>\n",
       "      <th>232</th>\n",
       "      <td>3460.000000</td>\n",
       "      <td>1.500000</td>\n",
       "    </tr>\n",
       "    <tr>\n",
       "      <th>250</th>\n",
       "      <td>1490.000000</td>\n",
       "      <td>0.000000</td>\n",
       "    </tr>\n",
       "    <tr>\n",
       "      <th>253</th>\n",
       "      <td>3210.000000</td>\n",
       "      <td>1.000000</td>\n",
       "    </tr>\n",
       "    <tr>\n",
       "      <th>256</th>\n",
       "      <td>3700.000000</td>\n",
       "      <td>2.000000</td>\n",
       "    </tr>\n",
       "    <tr>\n",
       "      <th>262</th>\n",
       "      <td>1411.250000</td>\n",
       "      <td>1.612500</td>\n",
       "    </tr>\n",
       "  </tbody>\n",
       "</table>\n",
       "<p>40898 rows × 2 columns</p>\n",
       "</div>"
      ],
      "text/plain": [
       "                      이동거리      회원구분\n",
       "대여스테이션 반납스테이션                       \n",
       "1      1       1372.067993  1.868217\n",
       "       2       1525.517212  1.517241\n",
       "       3       1605.119019  1.909774\n",
       "       4       1470.839111  1.769231\n",
       "       5       1674.870850  1.848708\n",
       "...                    ...       ...\n",
       "262    232     3460.000000  1.500000\n",
       "       250     1490.000000  0.000000\n",
       "       253     3210.000000  1.000000\n",
       "       256     3700.000000  2.000000\n",
       "       262     1411.250000  1.612500\n",
       "\n",
       "[40898 rows x 2 columns]"
      ]
     },
     "execution_count": 65,
     "metadata": {},
     "output_type": "execute_result"
    }
   ],
   "source": [
    "df = df_rent.groupby(by=[df_rent['대여스테이션'], df_rent['반납스테이션']])\n",
    "df = df.mean()\n",
    "df"
   ]
  },
  {
   "cell_type": "markdown",
   "id": "bf634512-addd-4c64-a2bf-66830ef84e36",
   "metadata": {},
   "source": [
    "#### 회원 구분 (1 or 0) 은 불필요한 열"
   ]
  },
  {
   "cell_type": "code",
   "execution_count": 66,
   "id": "97c916ce",
   "metadata": {},
   "outputs": [
    {
     "data": {
      "text/html": [
       "<div>\n",
       "<style scoped>\n",
       "    .dataframe tbody tr th:only-of-type {\n",
       "        vertical-align: middle;\n",
       "    }\n",
       "\n",
       "    .dataframe tbody tr th {\n",
       "        vertical-align: top;\n",
       "    }\n",
       "\n",
       "    .dataframe thead th {\n",
       "        text-align: right;\n",
       "    }\n",
       "</style>\n",
       "<table border=\"1\" class=\"dataframe\">\n",
       "  <thead>\n",
       "    <tr style=\"text-align: right;\">\n",
       "      <th></th>\n",
       "      <th></th>\n",
       "      <th>이동거리</th>\n",
       "    </tr>\n",
       "    <tr>\n",
       "      <th>대여스테이션</th>\n",
       "      <th>반납스테이션</th>\n",
       "      <th></th>\n",
       "    </tr>\n",
       "  </thead>\n",
       "  <tbody>\n",
       "    <tr>\n",
       "      <th rowspan=\"5\" valign=\"top\">1</th>\n",
       "      <th>1</th>\n",
       "      <td>1372.067993</td>\n",
       "    </tr>\n",
       "    <tr>\n",
       "      <th>2</th>\n",
       "      <td>1525.517212</td>\n",
       "    </tr>\n",
       "    <tr>\n",
       "      <th>3</th>\n",
       "      <td>1605.119019</td>\n",
       "    </tr>\n",
       "    <tr>\n",
       "      <th>4</th>\n",
       "      <td>1470.839111</td>\n",
       "    </tr>\n",
       "    <tr>\n",
       "      <th>5</th>\n",
       "      <td>1674.870850</td>\n",
       "    </tr>\n",
       "    <tr>\n",
       "      <th>...</th>\n",
       "      <th>...</th>\n",
       "      <td>...</td>\n",
       "    </tr>\n",
       "    <tr>\n",
       "      <th rowspan=\"5\" valign=\"top\">262</th>\n",
       "      <th>232</th>\n",
       "      <td>3460.000000</td>\n",
       "    </tr>\n",
       "    <tr>\n",
       "      <th>250</th>\n",
       "      <td>1490.000000</td>\n",
       "    </tr>\n",
       "    <tr>\n",
       "      <th>253</th>\n",
       "      <td>3210.000000</td>\n",
       "    </tr>\n",
       "    <tr>\n",
       "      <th>256</th>\n",
       "      <td>3700.000000</td>\n",
       "    </tr>\n",
       "    <tr>\n",
       "      <th>262</th>\n",
       "      <td>1411.250000</td>\n",
       "    </tr>\n",
       "  </tbody>\n",
       "</table>\n",
       "<p>40898 rows × 1 columns</p>\n",
       "</div>"
      ],
      "text/plain": [
       "                      이동거리\n",
       "대여스테이션 반납스테이션             \n",
       "1      1       1372.067993\n",
       "       2       1525.517212\n",
       "       3       1605.119019\n",
       "       4       1470.839111\n",
       "       5       1674.870850\n",
       "...                    ...\n",
       "262    232     3460.000000\n",
       "       250     1490.000000\n",
       "       253     3210.000000\n",
       "       256     3700.000000\n",
       "       262     1411.250000\n",
       "\n",
       "[40898 rows x 1 columns]"
      ]
     },
     "execution_count": 66,
     "metadata": {},
     "output_type": "execute_result"
    }
   ],
   "source": [
    "df.drop(columns='회원구분', inplace=True)\n",
    "df"
   ]
  },
  {
   "cell_type": "markdown",
   "id": "1b5d808d-19c2-44e6-a0b1-928fec3c80bc",
   "metadata": {},
   "source": [
    "#### 조건문으로 확인"
   ]
  },
  {
   "cell_type": "code",
   "execution_count": 67,
   "id": "a059ccfa",
   "metadata": {},
   "outputs": [
    {
     "name": "stdout",
     "output_type": "stream",
     "text": [
      "평균적으로 가장 멀리 이동한 대여-반납 경로: (22, 147)\n"
     ]
    }
   ],
   "source": [
    "print((f'평균적으로 가장 멀리 이동한 대여-반납 경로: '\n",
    "       f'{df.index[df[\"이동거리\"] == max(df[\"이동거리\"])][0]}'))"
   ]
  },
  {
   "cell_type": "markdown",
   "id": "8b48189c-df66-4837-93d6-a1b006f580c3",
   "metadata": {},
   "source": [
    "#### isin 으로 빠르게 정보 필터링"
   ]
  },
  {
   "cell_type": "code",
   "execution_count": 68,
   "id": "66a56046",
   "metadata": {},
   "outputs": [
    {
     "data": {
      "text/html": [
       "<div>\n",
       "<style scoped>\n",
       "    .dataframe tbody tr th:only-of-type {\n",
       "        vertical-align: middle;\n",
       "    }\n",
       "\n",
       "    .dataframe tbody tr th {\n",
       "        vertical-align: top;\n",
       "    }\n",
       "\n",
       "    .dataframe thead th {\n",
       "        text-align: right;\n",
       "    }\n",
       "</style>\n",
       "<table border=\"1\" class=\"dataframe\">\n",
       "  <thead>\n",
       "    <tr style=\"text-align: right;\">\n",
       "      <th></th>\n",
       "      <th>Station 스테이션/성명</th>\n",
       "      <th>위치</th>\n",
       "      <th>광역시도코드</th>\n",
       "      <th>광역시도명</th>\n",
       "      <th>시군구코드</th>\n",
       "      <th>시군구명</th>\n",
       "      <th>법정동코드</th>\n",
       "      <th>법정동명</th>\n",
       "      <th>행정동코드</th>\n",
       "      <th>행정동명</th>\n",
       "    </tr>\n",
       "    <tr>\n",
       "      <th>연번</th>\n",
       "      <th></th>\n",
       "      <th></th>\n",
       "      <th></th>\n",
       "      <th></th>\n",
       "      <th></th>\n",
       "      <th></th>\n",
       "      <th></th>\n",
       "      <th></th>\n",
       "      <th></th>\n",
       "      <th></th>\n",
       "    </tr>\n",
       "  </thead>\n",
       "  <tbody>\n",
       "    <tr>\n",
       "      <th>22</th>\n",
       "      <td>카이스트 창의학습관</td>\n",
       "      <td>대전광역시 유성구 구성동 23</td>\n",
       "      <td>30</td>\n",
       "      <td>대전광역시</td>\n",
       "      <td>30200</td>\n",
       "      <td>유성구</td>\n",
       "      <td>3020012400</td>\n",
       "      <td>구성동</td>\n",
       "      <td>3020054000</td>\n",
       "      <td>온천2동</td>\n",
       "    </tr>\n",
       "    <tr>\n",
       "      <th>147</th>\n",
       "      <td>도안 계룡리슈빌(1704동)</td>\n",
       "      <td>대전광역시 서구 도안동 1370</td>\n",
       "      <td>30</td>\n",
       "      <td>대전광역시</td>\n",
       "      <td>30170</td>\n",
       "      <td>서구</td>\n",
       "      <td>3017011500</td>\n",
       "      <td>도안동</td>\n",
       "      <td>3017059000</td>\n",
       "      <td>가수원동</td>\n",
       "    </tr>\n",
       "  </tbody>\n",
       "</table>\n",
       "</div>"
      ],
      "text/plain": [
       "     Station 스테이션/성명                 위치  광역시도코드  광역시도명  시군구코드 시군구명  \\\n",
       "연번                                                                   \n",
       "22        카이스트 창의학습관   대전광역시 유성구 구성동 23      30  대전광역시  30200  유성구   \n",
       "147  도안 계룡리슈빌(1704동)  대전광역시 서구 도안동 1370      30  대전광역시  30170   서구   \n",
       "\n",
       "          법정동코드 법정동명       행정동코드  행정동명  \n",
       "연번                                      \n",
       "22   3020012400  구성동  3020054000  온천2동  \n",
       "147  3017011500  도안동  3017059000  가수원동  "
      ]
     },
     "execution_count": 68,
     "metadata": {},
     "output_type": "execute_result"
    }
   ],
   "source": [
    "df_station[df_station.index.isin(df.index[df[\"이동거리\"] == max(df[\"이동거리\"])][0])]"
   ]
  },
  {
   "cell_type": "code",
   "execution_count": null,
   "id": "7360110c",
   "metadata": {},
   "outputs": [],
   "source": []
  }
 ],
 "metadata": {
  "kernelspec": {
   "display_name": "FLHub",
   "language": "python",
   "name": "flhub"
  },
  "language_info": {
   "codemirror_mode": {
    "name": "ipython",
    "version": 3
   },
   "file_extension": ".py",
   "mimetype": "text/x-python",
   "name": "python",
   "nbconvert_exporter": "python",
   "pygments_lexer": "ipython3",
   "version": "3.10.5"
  }
 },
 "nbformat": 4,
 "nbformat_minor": 5
}
