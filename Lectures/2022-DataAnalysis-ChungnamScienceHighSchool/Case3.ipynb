{
 "cells": [
  {
   "cell_type": "markdown",
   "id": "b325eff5-801a-457c-b806-31052f8aaed8",
   "metadata": {},
   "source": [
    "# 충남과학고등학교 데이터분석 특강 (3H / 6H)\n",
    "## 예제로 배우는 데이터 분석\n",
    "### 초급: 3H, 중급: 6H (초중급 3H 동일)"
   ]
  },
  {
   "cell_type": "markdown",
   "id": "54f9bb50-a066-4033-979f-89e2fd61d332",
   "metadata": {},
   "source": [
    "## Case 3: 시각화를 통한 데이터 분석\n",
    "### Question: 주간 평균 기온 분석, 공주시 고등학교 학생 수 분석\n",
    "##### [기상청](https://www.weather.go.kr/w/obs-climate/land/past-obs/obs-by-day.do)\n",
    "##### [한국교육학술정보원 학교알리미 학교정보](https://www.data.go.kr/data/15014351/fileData.do)"
   ]
  },
  {
   "cell_type": "markdown",
   "id": "37768e1b-5640-401f-86e7-55b6392626c1",
   "metadata": {},
   "source": [
    "### Step 1. Question - 평균 기온 데이터 시각화"
   ]
  },
  {
   "cell_type": "markdown",
   "id": "3b4f4897-c81b-41e5-96ab-a6603885c262",
   "metadata": {},
   "source": [
    "#### 도구 불러오기"
   ]
  },
  {
   "cell_type": "code",
   "execution_count": 3,
   "id": "7ac8b841-96a2-48c3-85ee-7dba9110c0f7",
   "metadata": {},
   "outputs": [],
   "source": [
    "import matplotlib as mpl\n",
    "import matplotlib.pyplot as plt\n",
    "%matplotlib inline"
   ]
  },
  {
   "cell_type": "markdown",
   "id": "79ed2638-af55-4281-a773-6afa81e25ec6",
   "metadata": {},
   "source": [
    "#### 2022. 07. 01. ~ 10. 평균 기온 데이터"
   ]
  },
  {
   "cell_type": "code",
   "execution_count": 5,
   "id": "2530576e-0353-41fd-bbdb-4030f5f21b69",
   "metadata": {},
   "outputs": [
    {
     "data": {
      "text/plain": [
       "[26.6, 28.8, 29.3, 29.3, 29.2, 29.5, 28.2, 25.8, 26.9, 29.2]"
      ]
     },
     "execution_count": 5,
     "metadata": {},
     "output_type": "execute_result"
    }
   ],
   "source": [
    "temperature = [26.6, 28.8, 29.3, 29.3, 29.2, 29.5, 28.2, 25.8, 26.9, 29.2]\n",
    "temperature"
   ]
  },
  {
   "cell_type": "markdown",
   "id": "8eb98ec9-f17a-4ba0-8525-7883f4dd8b4e",
   "metadata": {},
   "source": [
    "#### 시각화 데이터 준비"
   ]
  },
  {
   "cell_type": "code",
   "execution_count": 7,
   "id": "87f25ec9-ff7f-4ce1-9699-15f24eeeaea0",
   "metadata": {},
   "outputs": [
    {
     "data": {
      "text/plain": [
       "[0, 1, 2, 3, 4, 5, 6, 7, 8, 9]"
      ]
     },
     "execution_count": 7,
     "metadata": {},
     "output_type": "execute_result"
    }
   ],
   "source": [
    "x = list(range(0, len(temperature)))\n",
    "x"
   ]
  },
  {
   "cell_type": "code",
   "execution_count": 8,
   "id": "0be20d41-fe7e-4c40-8ec0-91b500342b40",
   "metadata": {},
   "outputs": [
    {
     "data": {
      "text/plain": [
       "[26.6, 28.8, 29.3, 29.3, 29.2, 29.5, 28.2, 25.8, 26.9, 29.2]"
      ]
     },
     "execution_count": 8,
     "metadata": {},
     "output_type": "execute_result"
    }
   ],
   "source": [
    "y = temperature\n",
    "y"
   ]
  },
  {
   "cell_type": "code",
   "execution_count": 9,
   "id": "535e4c34-c0b8-41c5-822e-d07aba4e1619",
   "metadata": {},
   "outputs": [
    {
     "data": {
      "text/plain": [
       "['2022-07-01',\n",
       " '2022-07-02',\n",
       " '2022-07-03',\n",
       " '2022-07-04',\n",
       " '2022-07-05',\n",
       " '2022-07-06',\n",
       " '2022-07-07',\n",
       " '2022-07-08',\n",
       " '2022-07-09',\n",
       " '2022-07-10']"
      ]
     },
     "execution_count": 9,
     "metadata": {},
     "output_type": "execute_result"
    }
   ],
   "source": [
    "xlab = ['2022-07-01', '2022-07-02', '2022-07-03', '2022-07-04', '2022-07-05', \n",
    "        '2022-07-06', '2022-07-07', '2022-07-08', '2022-07-09', '2022-07-10']\n",
    "xlab"
   ]
  },
  {
   "cell_type": "markdown",
   "id": "1fbfa352-91ce-45d5-a6d9-8ea697d26703",
   "metadata": {},
   "source": [
    "#### 시각화"
   ]
  },
  {
   "cell_type": "code",
   "execution_count": 11,
   "id": "3490bd71-29ec-43f8-8c02-2727df3a004d",
   "metadata": {},
   "outputs": [
    {
     "data": {
      "text/plain": [
       "Text(0.5, 1.0, 'Daily Temperature')"
      ]
     },
     "execution_count": 11,
     "metadata": {},
     "output_type": "execute_result"
    },
    {
     "data": {
      "image/png": "[encoded data removed]",
      "text/plain": [
       "<Figure size 576x432 with 1 Axes>"
      ]
     },
     "metadata": {
      "needs_background": "light"
     },
     "output_type": "display_data"
    }
   ],
   "source": [
    "fig = plt.figure(figsize=(8, 6))\n",
    "ax = fig.add_subplot()\n",
    "ax.plot(x, y)\n",
    "ax.set_xticks(x, xlab, rotation=-30)\n",
    "ax.tick_params(axis='both', labelsize='large')\n",
    "ax.set_xlabel('Date', fontsize='large')\n",
    "ax.set_ylabel('Temperature', fontsize='large')\n",
    "ax.set_title('Daily Temperature', fontsize='x-large')"
   ]
  },
  {
   "cell_type": "markdown",
   "id": "89da812b-faf7-4b9c-a1e7-05aa03754500",
   "metadata": {},
   "source": [
    "### Step 2. Question - 공주시 고등학교 학생 수 비교 시각화"
   ]
  },
  {
   "cell_type": "markdown",
   "id": "3b9d63a6-d65d-4166-992d-ee80e41d8ebf",
   "metadata": {},
   "source": [
    "### Step 1. Question - 공주시 고등학교 1학년 학생 수 분석 using 리스트 (List) "
   ]
  },
  {
   "cell_type": "markdown",
   "id": "d81cf259-e6fa-4ef8-9585-ae3d1acb22b5",
   "metadata": {},
   "source": [
    "#### 공주시 고등학교 학교별 1학년 학생 수"
   ]
  },
  {
   "cell_type": "code",
   "execution_count": null,
   "id": "5911ffb9-9dd7-4976-be61-11ea8f12fd06",
   "metadata": {},
   "outputs": [],
   "source": [
    "student1 = [167, 148, 156, 64, 86, 145, 122, 69, 77, 130]\n",
    "print(student1)"
   ]
  },
  {
   "cell_type": "markdown",
   "id": "c3f848e4-0102-4a85-8a7d-ceac4e75677b",
   "metadata": {},
   "source": [
    "#### 리스트 만들기"
   ]
  },
  {
   "cell_type": "code",
   "execution_count": null,
   "id": "d8c5fc16-aa89-4e4b-b463-1b30e13961b9",
   "metadata": {},
   "outputs": [],
   "source": [
    "data = []\n",
    "data.append(167)\n",
    "data.append(148)\n",
    "data.append(156)\n",
    "print(data)"
   ]
  },
  {
   "cell_type": "markdown",
   "id": "d785f0c1-23cd-463d-a23a-9249a642391d",
   "metadata": {},
   "source": [
    "#### 리스트 합치기"
   ]
  },
  {
   "cell_type": "code",
   "execution_count": null,
   "id": "52b646ba-d46a-4538-a11a-e160960247b0",
   "metadata": {},
   "outputs": [],
   "source": [
    "data1 = []\n",
    "data1.append(167)\n",
    "data1.append(148)\n",
    "data1.append(156)\n",
    "print(f'데이터1 {data1}')\n",
    "data2 = []\n",
    "data2.append(64)\n",
    "data2.append(86)\n",
    "data2.append(145)\n",
    "print(f'데이터2 {data2}')\n",
    "data = data1 + data2\n",
    "print(f'데이터 {data}')"
   ]
  },
  {
   "cell_type": "markdown",
   "id": "cadd9c61-d3c7-476b-b77e-6d9f8684135f",
   "metadata": {},
   "source": [
    "#### 리스트 참조하기"
   ]
  },
  {
   "cell_type": "code",
   "execution_count": null,
   "id": "3f7db7ef-1556-4e60-bc0c-ec71806e0991",
   "metadata": {},
   "outputs": [],
   "source": [
    "data3 = []\n",
    "data3.append(122)\n",
    "data3.append(69)\n",
    "data3.append(77)\n",
    "data3.append(130)\n",
    "print(data3[2])"
   ]
  },
  {
   "cell_type": "markdown",
   "id": "fced3b03-93ba-4100-94d5-4a4ba136523f",
   "metadata": {},
   "source": [
    "#### 리스트 순환문으로 참조하기: 순서가 있는 자료형!"
   ]
  },
  {
   "cell_type": "code",
   "execution_count": null,
   "id": "b58f85c0-5296-4916-bbc3-a56cc49d290f",
   "metadata": {},
   "outputs": [],
   "source": [
    "for student in student1:\n",
    "    print(student)"
   ]
  },
  {
   "cell_type": "markdown",
   "id": "b4087e4f-69fc-43ea-a56f-6f1034d1c0ec",
   "metadata": {},
   "source": [
    "#### 도구 불러오기"
   ]
  },
  {
   "cell_type": "code",
   "execution_count": null,
   "id": "1e2c9501-4f23-4e29-ae1a-2c0a2824a470",
   "metadata": {},
   "outputs": [],
   "source": [
    "import statistics"
   ]
  },
  {
   "cell_type": "markdown",
   "id": "e1e8b625-e6f9-41af-b74b-83628cc5d2ff",
   "metadata": {},
   "source": [
    "#### 1학년 학생 수 평균"
   ]
  },
  {
   "cell_type": "code",
   "execution_count": null,
   "id": "20b0435c-aa43-410f-9174-4e1986e9b355",
   "metadata": {},
   "outputs": [],
   "source": [
    "print(f'공주시 고등학교 1학년 학생 수 평균: {statistics.mean(student1)}')"
   ]
  },
  {
   "cell_type": "markdown",
   "id": "ec2681ab-6c3e-41ff-a5bf-47e89e5e4b6c",
   "metadata": {},
   "source": [
    "#### 1학년 학생 수 표준편차"
   ]
  },
  {
   "cell_type": "code",
   "execution_count": null,
   "id": "6ba01730-6c7e-4467-b360-768b097ed7dc",
   "metadata": {},
   "outputs": [],
   "source": [
    "print(f'공주시 고등학교 1학년 학생 수 표준편차: {statistics.stdev(student1)}')"
   ]
  },
  {
   "cell_type": "markdown",
   "id": "fa7abc98-587e-478d-8422-5f7910ffd1d9",
   "metadata": {},
   "source": [
    "#### 1학년 학생 수 최대, 최소"
   ]
  },
  {
   "cell_type": "code",
   "execution_count": null,
   "id": "b6cc8eb8-0e59-4c3c-93e2-7949ba5f1498",
   "metadata": {},
   "outputs": [],
   "source": [
    "print(f'공주시 고등학교 1학년 학생 수 최대: {max(student1)}, 최소: {min(student1)}')"
   ]
  },
  {
   "cell_type": "markdown",
   "id": "5037c7bc-f20b-460b-b2b0-1c60ea1eb2ff",
   "metadata": {},
   "source": [
    "### Step 2. Question - 공주시 고등학교 1학년 학생 수 분석 using 딕셔너리 (Dictionary)"
   ]
  },
  {
   "cell_type": "markdown",
   "id": "0d5b5f68-e5a3-4556-bd9c-e2727a99689d",
   "metadata": {},
   "source": [
    "#### 공주시 고등학교 학생 수"
   ]
  },
  {
   "cell_type": "code",
   "execution_count": null,
   "id": "a301300b-5963-4fb1-9d8b-2dc297e74026",
   "metadata": {},
   "outputs": [],
   "source": [
    "student = {'1학년': [167, 148, 156, 64, 86, 145, 122, 69, 77, 130],\n",
    "           '2학년': [167, 142, 163, 62, 66, 129, 114, 77, 72, 127],\n",
    "           '3학년': [166, 146, 161, 74, 96, 149, 130, 60, 47, 130],\n",
    "           '특수': [5, 0, 4, 0, 25, 2, 0, 0, 0, 0]}\n",
    "student"
   ]
  },
  {
   "cell_type": "markdown",
   "id": "48dad4c1-9d56-47be-bb01-c6c1ca85219c",
   "metadata": {},
   "source": [
    "#### 딕셔너리 참조하기"
   ]
  },
  {
   "cell_type": "code",
   "execution_count": null,
   "id": "302f4b60-8421-49e3-99dc-ac7d70cfd517",
   "metadata": {},
   "outputs": [],
   "source": [
    "print(f'3학년 학생 수 리스트: {student[\"3학년\"]}')"
   ]
  },
  {
   "cell_type": "markdown",
   "id": "a9535816-f7f1-4115-8d00-96ab1acf07e9",
   "metadata": {},
   "source": [
    "#### 딕셔너리 순환문"
   ]
  },
  {
   "cell_type": "code",
   "execution_count": null,
   "id": "2542848a-b35e-4636-83ca-77861243a817",
   "metadata": {},
   "outputs": [],
   "source": [
    "print('공주시 고등학교 1~3학년 및 특수학급 학생 수')\n",
    "for key, value in student.items():\n",
    "    print(f'{key}: {value}')"
   ]
  },
  {
   "cell_type": "markdown",
   "id": "1b5a38cf-13df-42a6-8957-29c809b1cd1c",
   "metadata": {},
   "source": [
    "#### 공주시 고등학교 학년별 평균"
   ]
  },
  {
   "cell_type": "code",
   "execution_count": null,
   "id": "5234d880-9152-44e1-bb10-9ac137bedd12",
   "metadata": {},
   "outputs": [],
   "source": [
    "print('공주시 고등학교 1~3학년 및 특수학급 학생 수 평균')\n",
    "for key, value in student.items():\n",
    "    print(f'{key}: {statistics.mean(value)}')"
   ]
  },
  {
   "cell_type": "markdown",
   "id": "db549b37-3155-4e87-ad6c-08760ea2e7b4",
   "metadata": {},
   "source": [
    "#### 공주시 고등학교 학년별 표준편차"
   ]
  },
  {
   "cell_type": "code",
   "execution_count": null,
   "id": "7999a9a0-0249-4fe7-9222-73743f5704cb",
   "metadata": {},
   "outputs": [],
   "source": [
    "print('공주시 고등학교 1~3학년 및 특수학급 학생 수 표준편차')\n",
    "for key, value in student.items():\n",
    "    print(f'{key}: {statistics.stdev(value)}')"
   ]
  },
  {
   "cell_type": "markdown",
   "id": "db0932d1-2843-4138-b0a4-66940788c950",
   "metadata": {},
   "source": [
    "#### 공주시 고등학교 학년별 최대, 최소"
   ]
  },
  {
   "cell_type": "code",
   "execution_count": null,
   "id": "3ada7f29-1a4b-4827-a6ab-2c5e4e3230cf",
   "metadata": {},
   "outputs": [],
   "source": [
    "print('공주시 고등학교 1~3학년 및 특수학급 학생 수 평균')\n",
    "for key, value in student.items():\n",
    "    print(f'{key}: 최대: {max(value)}, 최소: {min(value)}')"
   ]
  }
 ],
 "metadata": {
  "kernelspec": {
   "display_name": "FLHub",
   "language": "python",
   "name": "flhub"
  },
  "language_info": {
   "codemirror_mode": {
    "name": "ipython",
    "version": 3
   },
   "file_extension": ".py",
   "mimetype": "text/x-python",
   "name": "python",
   "nbconvert_exporter": "python",
   "pygments_lexer": "ipython3",
   "version": "3.10.5"
  }
 },
 "nbformat": 4,
 "nbformat_minor": 5
}
