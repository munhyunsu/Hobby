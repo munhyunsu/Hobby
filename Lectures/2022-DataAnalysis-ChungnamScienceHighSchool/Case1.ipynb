{
 "cells": [
  {
   "cell_type": "markdown",
   "id": "b325eff5-801a-457c-b806-31052f8aaed8",
   "metadata": {},
   "source": [
    "# 충남과학고등학교 데이터분석 특강 (3H / 6H)\n",
    "# 예제로 배우는 데이터 분석\n",
    "## 초급: 3H, 중급: 6H (초중급 3H 동일)"
   ]
  },
  {
   "cell_type": "markdown",
   "id": "54f9bb50-a066-4033-979f-89e2fd61d332",
   "metadata": {},
   "source": [
    "## Case 1: 데이터 분석을 위한 Python 3"
   ]
  },
  {
   "cell_type": "markdown",
   "id": "3b9d63a6-d65d-4166-992d-ee80e41d8ebf",
   "metadata": {},
   "source": [
    "### Step 1. 파이썬 기초 문법\n",
    "#### 표준 출력, 표준 입력, 변수"
   ]
  },
  {
   "cell_type": "markdown",
   "id": "d81cf259-e6fa-4ef8-9585-ae3d1acb22b5",
   "metadata": {},
   "source": [
    "##### 파이썬 3 로 인사하기"
   ]
  },
  {
   "cell_type": "code",
   "execution_count": 9,
   "id": "8a7913f5-f7d7-45f4-b1ee-5d0c870c3f29",
   "metadata": {},
   "outputs": [
    {
     "name": "stdout",
     "output_type": "stream",
     "text": [
      "안녕하세요.\n"
     ]
    }
   ],
   "source": [
    "print('안녕하세요.')"
   ]
  },
  {
   "cell_type": "markdown",
   "id": "8355d570-cfbf-42e3-add0-fd5bdec0f2c4",
   "metadata": {},
   "source": [
    "##### 사칙 연산"
   ]
  },
  {
   "cell_type": "code",
   "execution_count": 10,
   "id": "8b76ee09-4038-4ebf-a10c-a1656ac620b5",
   "metadata": {},
   "outputs": [
    {
     "name": "stdout",
     "output_type": "stream",
     "text": [
      "2\n"
     ]
    }
   ],
   "source": [
    "print(4 - 2)"
   ]
  },
  {
   "cell_type": "markdown",
   "id": "ae9909ab-73c2-4751-b54e-66d86aad099b",
   "metadata": {},
   "source": [
    "##### Google Colab (Jupyter Notebook) 의 셀에서는 마지막 문장은 출력됨"
   ]
  },
  {
   "cell_type": "code",
   "execution_count": 11,
   "id": "d61290aa-7afe-41c5-ba48-5fd07deccee0",
   "metadata": {},
   "outputs": [
    {
     "data": {
      "text/plain": [
       "16"
      ]
     },
     "execution_count": 11,
     "metadata": {},
     "output_type": "execute_result"
    }
   ],
   "source": [
    "8 * 2"
   ]
  },
  {
   "cell_type": "markdown",
   "id": "18754ef8-8849-4102-b299-18a97542dcd3",
   "metadata": {},
   "source": [
    "#### 표준 입력: 변수 및 표준 입력"
   ]
  },
  {
   "cell_type": "markdown",
   "id": "104328e3-a328-499f-a03e-79953829f7ce",
   "metadata": {},
   "source": [
    "##### 변수 덧셈"
   ]
  },
  {
   "cell_type": "code",
   "execution_count": 12,
   "id": "ca7760fa-70a7-487e-be12-a7aef259a110",
   "metadata": {},
   "outputs": [
    {
     "name": "stdin",
     "output_type": "stream",
     "text": [
      "첫번째 피연산자를 입력하세요:  6\n",
      "두번째 피연산자를 입력하세요:  16\n"
     ]
    },
    {
     "name": "stdout",
     "output_type": "stream",
     "text": [
      "6 + 16 = 22\n"
     ]
    }
   ],
   "source": [
    "x = int(input('첫번째 피연산자를 입력하세요: '))\n",
    "y = int(input('두번째 피연산자를 입력하세요: '))\n",
    "print(f'{x} + {y} = {x+y}')"
   ]
  },
  {
   "cell_type": "markdown",
   "id": "8d0d67af-dd92-4f44-a854-375c873b08d4",
   "metadata": {},
   "source": [
    "### Step 1. 데이터 분석\n",
    "##### [한국교육학술정보원 학교알리미 학교정보](https://www.data.go.kr/data/15014351/fileData.do)"
   ]
  },
  {
   "cell_type": "markdown",
   "id": "138e6b9c-7c63-42b4-bff6-60253b98fa61",
   "metadata": {},
   "source": [
    "##### 공주시 고등학교 1학년 학생 수"
   ]
  },
  {
   "cell_type": "code",
   "execution_count": 4,
   "id": "058736cc-1386-484f-9b47-ef522e2342d8",
   "metadata": {},
   "outputs": [
    {
     "name": "stdout",
     "output_type": "stream",
     "text": [
      "[167, 148, 156, 64, 86, 145, 122, 69, 77, 130]\n"
     ]
    }
   ],
   "source": [
    "student1 = [167, 148, 156, 64, 86, 145, 122, 69, 77, 130]\n",
    "print(student1)"
   ]
  },
  {
   "cell_type": "markdown",
   "id": "36847c6e-349e-49b0-9c95-effdcf9625a6",
   "metadata": {},
   "source": [
    "##### 리스트 만들기"
   ]
  },
  {
   "cell_type": "code",
   "execution_count": 6,
   "id": "8f0af76c-d73f-4abb-ba29-7258f1667f7b",
   "metadata": {},
   "outputs": [
    {
     "name": "stdout",
     "output_type": "stream",
     "text": [
      "[167, 148, 156]\n"
     ]
    }
   ],
   "source": [
    "data = []\n",
    "data.append(167)\n",
    "data.append(148)\n",
    "data.append(156)\n",
    "print(data)"
   ]
  },
  {
   "cell_type": "markdown",
   "id": "1018444d-c639-4d23-8b3f-3a5eaa5832b5",
   "metadata": {},
   "source": [
    "##### 리스트 합치기"
   ]
  },
  {
   "cell_type": "code",
   "execution_count": 7,
   "id": "5a27c852-d61e-4ea4-86b3-b14149b09f70",
   "metadata": {},
   "outputs": [
    {
     "name": "stdout",
     "output_type": "stream",
     "text": [
      "데이터1 [167, 148, 156]\n",
      "데이터2 [64, 86, 145]\n",
      "데이터 [167, 148, 156, 64, 86, 145]\n"
     ]
    }
   ],
   "source": [
    "data1 = []\n",
    "data1.append(167)\n",
    "data1.append(148)\n",
    "data1.append(156)\n",
    "print(f'데이터1 {data1}')\n",
    "data2 = []\n",
    "data2.append(64)\n",
    "data2.append(86)\n",
    "data2.append(145)\n",
    "print(f'데이터2 {data2}')\n",
    "data = data1 + data2\n",
    "print(f'데이터 {data}')"
   ]
  },
  {
   "cell_type": "markdown",
   "id": "ce2f6cc0-737e-4594-95d7-c6a3a2670e8c",
   "metadata": {},
   "source": [
    "##### 리스트 참조 하기"
   ]
  },
  {
   "cell_type": "code",
   "execution_count": 8,
   "id": "756786e8-18bd-44ba-87ff-59660e888312",
   "metadata": {},
   "outputs": [
    {
     "name": "stdout",
     "output_type": "stream",
     "text": [
      "77\n"
     ]
    }
   ],
   "source": [
    "data3 = []\n",
    "data3.append(122)\n",
    "data3.append(69)\n",
    "data3.append(77)\n",
    "data3.append(130)\n",
    "print(data3[2])"
   ]
  },
  {
   "cell_type": "markdown",
   "id": "0d5b5f68-e5a3-4556-bd9c-e2727a99689d",
   "metadata": {},
   "source": [
    "##### "
   ]
  }
 ],
 "metadata": {
  "kernelspec": {
   "display_name": "FLHub",
   "language": "python",
   "name": "flhub"
  },
  "language_info": {
   "codemirror_mode": {
    "name": "ipython",
    "version": 3
   },
   "file_extension": ".py",
   "mimetype": "text/x-python",
   "name": "python",
   "nbconvert_exporter": "python",
   "pygments_lexer": "ipython3",
   "version": "3.10.5"
  }
 },
 "nbformat": 4,
 "nbformat_minor": 5
}
