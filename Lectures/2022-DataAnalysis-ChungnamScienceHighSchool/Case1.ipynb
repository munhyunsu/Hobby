{
 "cells": [
  {
   "cell_type": "markdown",
   "id": "b325eff5-801a-457c-b806-31052f8aaed8",
   "metadata": {},
   "source": [
    "# 충남과학고등학교 데이터분석 특강 (3H / 6H)\n",
    "## 예제로 배우는 데이터 분석\n",
    "### 초급: 3H, 중급: 6H (초중급 3H 동일)"
   ]
  },
  {
   "cell_type": "markdown",
   "id": "54f9bb50-a066-4033-979f-89e2fd61d332",
   "metadata": {},
   "source": [
    "## Case 1: 데이터 분석을 위한 Python 3 기초 문법"
   ]
  },
  {
   "cell_type": "markdown",
   "id": "3b9d63a6-d65d-4166-992d-ee80e41d8ebf",
   "metadata": {},
   "source": [
    "### Step 1. 표준 출력, 표준 입력, 변수"
   ]
  },
  {
   "cell_type": "markdown",
   "id": "d81cf259-e6fa-4ef8-9585-ae3d1acb22b5",
   "metadata": {},
   "source": [
    "#### 파이썬 3 로 인사하기"
   ]
  },
  {
   "cell_type": "code",
   "execution_count": null,
   "id": "8a7913f5-f7d7-45f4-b1ee-5d0c870c3f29",
   "metadata": {},
   "outputs": [],
   "source": [
    "print('안녕하세요.')"
   ]
  },
  {
   "cell_type": "markdown",
   "id": "8355d570-cfbf-42e3-add0-fd5bdec0f2c4",
   "metadata": {},
   "source": [
    "#### 사칙 연산"
   ]
  },
  {
   "cell_type": "code",
   "execution_count": null,
   "id": "8b76ee09-4038-4ebf-a10c-a1656ac620b5",
   "metadata": {},
   "outputs": [],
   "source": [
    "print(4 - 2)"
   ]
  },
  {
   "cell_type": "markdown",
   "id": "ae9909ab-73c2-4751-b54e-66d86aad099b",
   "metadata": {},
   "source": [
    "#### Google Colab (Jupyter Notebook) 의 셀에서는 마지막 문장은 출력됨"
   ]
  },
  {
   "cell_type": "code",
   "execution_count": null,
   "id": "d61290aa-7afe-41c5-ba48-5fd07deccee0",
   "metadata": {},
   "outputs": [],
   "source": [
    "8 * 2"
   ]
  },
  {
   "cell_type": "markdown",
   "id": "18754ef8-8849-4102-b299-18a97542dcd3",
   "metadata": {},
   "source": [
    "### Step 2. 표준 입력: 변수 및 표준 입력"
   ]
  },
  {
   "cell_type": "markdown",
   "id": "104328e3-a328-499f-a03e-79953829f7ce",
   "metadata": {},
   "source": [
    "#### 변수 덧셈"
   ]
  },
  {
   "cell_type": "code",
   "execution_count": null,
   "id": "ca7760fa-70a7-487e-be12-a7aef259a110",
   "metadata": {},
   "outputs": [],
   "source": [
    "x = int(input('첫번째 피연산자를 입력하세요: '))\n",
    "y = int(input('두번째 피연산자를 입력하세요: '))\n",
    "print(f'{x} + {y} = {x+y}')"
   ]
  },
  {
   "cell_type": "markdown",
   "id": "11ef322b-526a-4903-a5ce-d2ea25a5873d",
   "metadata": {},
   "source": [
    "### Step 3. 흐름 제어: 반복문"
   ]
  },
  {
   "cell_type": "markdown",
   "id": "1969ccba-acc6-473a-af3e-50f12499d29b",
   "metadata": {},
   "source": [
    "#### range() 살펴보기"
   ]
  },
  {
   "cell_type": "code",
   "execution_count": null,
   "id": "d27c98e2-7899-48d1-8e1f-76925c3e89c2",
   "metadata": {},
   "outputs": [],
   "source": [
    "print(list(range(10)))\n",
    "print(list(range(0, 10, 1)))\n",
    "print(list(range(10, 0, -1)))"
   ]
  },
  {
   "cell_type": "markdown",
   "id": "a5aa45a3-5a7f-4bdd-b189-1a6220a3df86",
   "metadata": {},
   "source": [
    "#### 흐름 제어 using for"
   ]
  },
  {
   "cell_type": "code",
   "execution_count": null,
   "id": "e39713b8-12f0-4155-8203-1e3e31b01bc2",
   "metadata": {},
   "outputs": [],
   "source": [
    "import time\n",
    "\n",
    "print('로켓 발사 카운트 다운!')\n",
    "for number in range(10, 0, -1):\n",
    "    print(f'발사 {number}초 전!')\n",
    "    time.sleep(1)\n",
    "print(f'로켓 발사!')"
   ]
  },
  {
   "cell_type": "markdown",
   "id": "f0afa52e-142c-400d-b457-c3ac4571d4d7",
   "metadata": {},
   "source": [
    "#### 흐름 제어 using while"
   ]
  },
  {
   "cell_type": "code",
   "execution_count": null,
   "id": "c65e1beb-8c81-40e3-a4a6-7ad63dff6c42",
   "metadata": {},
   "outputs": [],
   "source": [
    "print('비행기 이륙합니다!')\n",
    "height = 0\n",
    "while height < 10000:\n",
    "    print(f'고도 {height:05d}km')\n",
    "    height = height + 1000\n",
    "    time.sleep(0.5)\n",
    "print(f'고도 {height:05d}km 도달!')"
   ]
  },
  {
   "cell_type": "markdown",
   "id": "b0a7073a-913e-4ff8-9a46-c38cce16336b",
   "metadata": {},
   "source": [
    "### Step 4. 흐름 제어: 분기문"
   ]
  },
  {
   "cell_type": "markdown",
   "id": "d746b1bb-e199-42c5-be14-a4f786b52092",
   "metadata": {},
   "source": [
    "#### 분기문"
   ]
  },
  {
   "cell_type": "code",
   "execution_count": null,
   "id": "66fb32c1-dc3a-4505-93e3-686532a92e7c",
   "metadata": {},
   "outputs": [],
   "source": [
    "x = int(input('입력: '))\n",
    "print(f'{x}를 2로 나누어봅니다.')\n",
    "while True:\n",
    "    x = x // 2\n",
    "    print(f'x = {x}')\n",
    "    if x < 10:\n",
    "        print('x가 10보다 작아졌으므로 종료합니다.')\n",
    "        break\n",
    "    else:\n",
    "        print('x가 아직 10보다 크므로 계속합니다.')"
   ]
  },
  {
   "cell_type": "markdown",
   "id": "32ec50dd-5444-4571-b5ff-5fbcd3d69d2c",
   "metadata": {},
   "source": [
    "### Step 5. 함수"
   ]
  },
  {
   "cell_type": "markdown",
   "id": "2cdad5dd-4164-483b-8fdd-7f7b0ba2a050",
   "metadata": {},
   "source": [
    "#### 제곱 함수"
   ]
  },
  {
   "cell_type": "code",
   "execution_count": null,
   "id": "c860c538-b9d9-4bf7-bded-e1334b778ad5",
   "metadata": {},
   "outputs": [],
   "source": [
    "def power2(num):\n",
    "    return num**2\n",
    "\n",
    "x = int(input('입력: '))\n",
    "x2 = power2(x)\n",
    "print(f'{x}의 제곱은 {x2}입니다.')"
   ]
  }
 ],
 "metadata": {
  "kernelspec": {
   "display_name": "Python 3 (ipykernel)",
   "language": "python",
   "name": "python3"
  },
  "language_info": {
   "codemirror_mode": {
    "name": "ipython",
    "version": 3
   },
   "file_extension": ".py",
   "mimetype": "text/x-python",
   "name": "python",
   "nbconvert_exporter": "python",
   "pygments_lexer": "ipython3",
   "version": "3.10.5"
  }
 },
 "nbformat": 4,
 "nbformat_minor": 5
}
