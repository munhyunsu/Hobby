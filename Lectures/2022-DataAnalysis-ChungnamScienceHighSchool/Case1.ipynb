{
 "cells": [
  {
   "cell_type": "markdown",
   "id": "15ad42da-9176-42a4-bb46-d1cae9ebf758",
   "metadata": {},
   "source": [
    "# 충남과학고등학교 데이터분석 특강 (3H / 6H)\n",
    "# 예제로 배우는 데이터 분석\n",
    "## 초급: 3H, 중급: 6H (초중급 3H 동일)"
   ]
  },
  {
   "cell_type": "markdown",
   "id": "20dfd0dc-002e-4e06-bbd9-434e96d132b1",
   "metadata": {},
   "source": [
    "# Case 1: 코로나 바이러스 기초 분석\n",
    "##### [데이터출처1](https://github.com/CSSEGISandData/COVID-19)\n",
    "##### [데이터출처2](https://www.kaggle.com/datasets/antgoldbloom/covid19-data-from-john-hopkins-university)"
   ]
  },
  {
   "cell_type": "code",
   "execution_count": null,
   "id": "8bd7fcb0-0b34-4e85-a584-15082c668961",
   "metadata": {},
   "outputs": [],
   "source": []
  }
 ],
 "metadata": {
  "kernelspec": {
   "display_name": "FLHub",
   "language": "python",
   "name": "flhub"
  },
  "language_info": {
   "codemirror_mode": {
    "name": "ipython",
    "version": 3
   },
   "file_extension": ".py",
   "mimetype": "text/x-python",
   "name": "python",
   "nbconvert_exporter": "python",
   "pygments_lexer": "ipython3",
   "version": "3.10.5"
  }
 },
 "nbformat": 4,
 "nbformat_minor": 5
}
